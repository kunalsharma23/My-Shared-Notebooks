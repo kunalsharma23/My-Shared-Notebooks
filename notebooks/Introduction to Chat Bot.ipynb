{
 "cells": [
  {
   "cell_type": "markdown",
   "metadata": {},
   "source": [
    "# Introduction to Chat Bot.."
   ]
  },
  {
   "cell_type": "markdown",
   "metadata": {},
   "source": [
    "## Question and answer chat bot"
   ]
  },
  {
   "cell_type": "markdown",
   "metadata": {},
   "source": [
    "# Loading the data"
   ]
  },
  {
   "cell_type": "code",
   "execution_count": 1,
   "metadata": {},
   "outputs": [],
   "source": [
    "import pickle\n",
    "import numpy as np"
   ]
  },
  {
   "cell_type": "code",
   "execution_count": 2,
   "metadata": {},
   "outputs": [],
   "source": [
    "with open('train_qa.txt' , 'rb') as f:\n",
    "    train_data = pickle.load(f)"
   ]
  },
  {
   "cell_type": "code",
   "execution_count": 3,
   "metadata": {},
   "outputs": [],
   "source": [
    "with open('test_qa.txt' , 'rb') as f:\n",
    "    test_data = pickle.load(f)"
   ]
  },
  {
   "cell_type": "markdown",
   "metadata": {},
   "source": [
    "# exploring the format of the data"
   ]
  },
  {
   "cell_type": "code",
   "execution_count": 4,
   "metadata": {},
   "outputs": [
    {
     "data": {
      "text/plain": [
       "list"
      ]
     },
     "execution_count": 4,
     "metadata": {},
     "output_type": "execute_result"
    }
   ],
   "source": [
    "type(train_data)"
   ]
  },
  {
   "cell_type": "code",
   "execution_count": 5,
   "metadata": {},
   "outputs": [
    {
     "data": {
      "text/plain": [
       "list"
      ]
     },
     "execution_count": 5,
     "metadata": {},
     "output_type": "execute_result"
    }
   ],
   "source": [
    "type(test_data)"
   ]
  },
  {
   "cell_type": "code",
   "execution_count": 6,
   "metadata": {},
   "outputs": [
    {
     "data": {
      "text/plain": [
       "10000"
      ]
     },
     "execution_count": 6,
     "metadata": {},
     "output_type": "execute_result"
    }
   ],
   "source": [
    "len(train_data)"
   ]
  },
  {
   "cell_type": "code",
   "execution_count": 7,
   "metadata": {},
   "outputs": [
    {
     "data": {
      "text/plain": [
       "1000"
      ]
     },
     "execution_count": 7,
     "metadata": {},
     "output_type": "execute_result"
    }
   ],
   "source": [
    "len(test_data)"
   ]
  },
  {
   "cell_type": "code",
   "execution_count": 8,
   "metadata": {},
   "outputs": [
    {
     "data": {
      "text/plain": [
       "(['Mary',\n",
       "  'moved',\n",
       "  'to',\n",
       "  'the',\n",
       "  'bathroom',\n",
       "  '.',\n",
       "  'Sandra',\n",
       "  'journeyed',\n",
       "  'to',\n",
       "  'the',\n",
       "  'bedroom',\n",
       "  '.'],\n",
       " ['Is', 'Sandra', 'in', 'the', 'hallway', '?'],\n",
       " 'no')"
      ]
     },
     "execution_count": 8,
     "metadata": {},
     "output_type": "execute_result"
    }
   ],
   "source": [
    "train_data[0]"
   ]
  },
  {
   "cell_type": "code",
   "execution_count": 9,
   "metadata": {},
   "outputs": [
    {
     "data": {
      "text/plain": [
       "['Is', 'Sandra', 'in', 'the', 'hallway', '?']"
      ]
     },
     "execution_count": 9,
     "metadata": {},
     "output_type": "execute_result"
    }
   ],
   "source": [
    "train_data[0][1]"
   ]
  },
  {
   "cell_type": "code",
   "execution_count": 10,
   "metadata": {},
   "outputs": [
    {
     "data": {
      "text/plain": [
       "'Mary moved to the bathroom . Sandra journeyed to the bedroom .'"
      ]
     },
     "execution_count": 10,
     "metadata": {},
     "output_type": "execute_result"
    }
   ],
   "source": [
    "' '.join(train_data[0][0])"
   ]
  },
  {
   "cell_type": "code",
   "execution_count": 11,
   "metadata": {},
   "outputs": [
    {
     "data": {
      "text/plain": [
       "'Is Sandra in the hallway ?'"
      ]
     },
     "execution_count": 11,
     "metadata": {},
     "output_type": "execute_result"
    }
   ],
   "source": [
    "' '.join(train_data[0][1])"
   ]
  },
  {
   "cell_type": "markdown",
   "metadata": {},
   "source": [
    "# setting up the vocabulary of all words"
   ]
  },
  {
   "cell_type": "code",
   "execution_count": 12,
   "metadata": {},
   "outputs": [],
   "source": [
    "vocab = set()"
   ]
  },
  {
   "cell_type": "code",
   "execution_count": 13,
   "metadata": {},
   "outputs": [],
   "source": [
    "all_data = train_data + test_data"
   ]
  },
  {
   "cell_type": "code",
   "execution_count": 14,
   "metadata": {},
   "outputs": [],
   "source": [
    "for story , question , answer in all_data:\n",
    "    vocab = vocab.union(set(story))\n",
    "    vocab = vocab.union(set(question))"
   ]
  },
  {
   "cell_type": "code",
   "execution_count": 15,
   "metadata": {},
   "outputs": [],
   "source": [
    "vocab.add('no')\n",
    "vocab.add('yes')"
   ]
  },
  {
   "cell_type": "code",
   "execution_count": 16,
   "metadata": {},
   "outputs": [
    {
     "data": {
      "text/plain": [
       "{'.',\n",
       " '?',\n",
       " 'Daniel',\n",
       " 'Is',\n",
       " 'John',\n",
       " 'Mary',\n",
       " 'Sandra',\n",
       " 'apple',\n",
       " 'back',\n",
       " 'bathroom',\n",
       " 'bedroom',\n",
       " 'discarded',\n",
       " 'down',\n",
       " 'dropped',\n",
       " 'football',\n",
       " 'garden',\n",
       " 'got',\n",
       " 'grabbed',\n",
       " 'hallway',\n",
       " 'in',\n",
       " 'journeyed',\n",
       " 'kitchen',\n",
       " 'left',\n",
       " 'milk',\n",
       " 'moved',\n",
       " 'no',\n",
       " 'office',\n",
       " 'picked',\n",
       " 'put',\n",
       " 'the',\n",
       " 'there',\n",
       " 'to',\n",
       " 'took',\n",
       " 'travelled',\n",
       " 'up',\n",
       " 'went',\n",
       " 'yes'}"
      ]
     },
     "execution_count": 16,
     "metadata": {},
     "output_type": "execute_result"
    }
   ],
   "source": [
    "vocab"
   ]
  },
  {
   "cell_type": "code",
   "execution_count": 17,
   "metadata": {},
   "outputs": [],
   "source": [
    "vocab_len = len(vocab) + 1"
   ]
  },
  {
   "cell_type": "code",
   "execution_count": 18,
   "metadata": {},
   "outputs": [],
   "source": [
    "max_story_len = max([len(data[0]) for data in all_data])"
   ]
  },
  {
   "cell_type": "code",
   "execution_count": 19,
   "metadata": {},
   "outputs": [
    {
     "data": {
      "text/plain": [
       "156"
      ]
     },
     "execution_count": 19,
     "metadata": {},
     "output_type": "execute_result"
    }
   ],
   "source": [
    "max_story_len"
   ]
  },
  {
   "cell_type": "code",
   "execution_count": 20,
   "metadata": {},
   "outputs": [],
   "source": [
    "max_question_len = max([len(data[1]) for data in all_data])"
   ]
  },
  {
   "cell_type": "code",
   "execution_count": 21,
   "metadata": {},
   "outputs": [
    {
     "data": {
      "text/plain": [
       "6"
      ]
     },
     "execution_count": 21,
     "metadata": {},
     "output_type": "execute_result"
    }
   ],
   "source": [
    "max_question_len"
   ]
  },
  {
   "cell_type": "markdown",
   "metadata": {},
   "source": [
    "# vectorizing the data"
   ]
  },
  {
   "cell_type": "code",
   "execution_count": 22,
   "metadata": {},
   "outputs": [
    {
     "data": {
      "text/plain": [
       "{'.',\n",
       " '?',\n",
       " 'Daniel',\n",
       " 'Is',\n",
       " 'John',\n",
       " 'Mary',\n",
       " 'Sandra',\n",
       " 'apple',\n",
       " 'back',\n",
       " 'bathroom',\n",
       " 'bedroom',\n",
       " 'discarded',\n",
       " 'down',\n",
       " 'dropped',\n",
       " 'football',\n",
       " 'garden',\n",
       " 'got',\n",
       " 'grabbed',\n",
       " 'hallway',\n",
       " 'in',\n",
       " 'journeyed',\n",
       " 'kitchen',\n",
       " 'left',\n",
       " 'milk',\n",
       " 'moved',\n",
       " 'no',\n",
       " 'office',\n",
       " 'picked',\n",
       " 'put',\n",
       " 'the',\n",
       " 'there',\n",
       " 'to',\n",
       " 'took',\n",
       " 'travelled',\n",
       " 'up',\n",
       " 'went',\n",
       " 'yes'}"
      ]
     },
     "execution_count": 22,
     "metadata": {},
     "output_type": "execute_result"
    }
   ],
   "source": [
    "vocab"
   ]
  },
  {
   "cell_type": "code",
   "execution_count": 23,
   "metadata": {},
   "outputs": [],
   "source": [
    "vocab_size = len(vocab) + 1"
   ]
  },
  {
   "cell_type": "code",
   "execution_count": 24,
   "metadata": {},
   "outputs": [],
   "source": [
    "import tensorflow as tf"
   ]
  },
  {
   "cell_type": "code",
   "execution_count": 25,
   "metadata": {},
   "outputs": [],
   "source": [
    "from tensorflow.keras.preprocessing.sequence import pad_sequences\n",
    "from tensorflow.keras.preprocessing.text import Tokenizer"
   ]
  },
  {
   "cell_type": "code",
   "execution_count": 26,
   "metadata": {},
   "outputs": [],
   "source": [
    "tokenizer = Tokenizer(filters= [])"
   ]
  },
  {
   "cell_type": "code",
   "execution_count": 27,
   "metadata": {},
   "outputs": [],
   "source": [
    "tokenizer.fit_on_texts(vocab)"
   ]
  },
  {
   "cell_type": "code",
   "execution_count": 28,
   "metadata": {},
   "outputs": [
    {
     "data": {
      "text/plain": [
       "{'up': 1,\n",
       " 'there': 2,\n",
       " 'discarded': 3,\n",
       " 'sandra': 4,\n",
       " 'back': 5,\n",
       " 'milk': 6,\n",
       " 'yes': 7,\n",
       " 'apple': 8,\n",
       " 'john': 9,\n",
       " 'got': 10,\n",
       " 'put': 11,\n",
       " 'garden': 12,\n",
       " 'left': 13,\n",
       " 'journeyed': 14,\n",
       " '?': 15,\n",
       " 'no': 16,\n",
       " 'moved': 17,\n",
       " 'dropped': 18,\n",
       " 'to': 19,\n",
       " 'daniel': 20,\n",
       " 'bathroom': 21,\n",
       " 'office': 22,\n",
       " '.': 23,\n",
       " 'is': 24,\n",
       " 'travelled': 25,\n",
       " 'in': 26,\n",
       " 'the': 27,\n",
       " 'went': 28,\n",
       " 'bedroom': 29,\n",
       " 'took': 30,\n",
       " 'football': 31,\n",
       " 'hallway': 32,\n",
       " 'picked': 33,\n",
       " 'kitchen': 34,\n",
       " 'mary': 35,\n",
       " 'down': 36,\n",
       " 'grabbed': 37}"
      ]
     },
     "execution_count": 28,
     "metadata": {},
     "output_type": "execute_result"
    }
   ],
   "source": [
    "tokenizer.word_index"
   ]
  },
  {
   "cell_type": "code",
   "execution_count": 29,
   "metadata": {},
   "outputs": [],
   "source": [
    "train_story_text = []\n",
    "train_question_text = []\n",
    "train_answer_text = []\n",
    "\n",
    "for story , question , answer in train_data:\n",
    "    train_story_text.append(story)\n",
    "    train_question_text.append(question)"
   ]
  },
  {
   "cell_type": "code",
   "execution_count": 30,
   "metadata": {},
   "outputs": [],
   "source": [
    "train_story_seq = tokenizer.texts_to_sequences(train_story_text)"
   ]
  },
  {
   "cell_type": "code",
   "execution_count": 31,
   "metadata": {},
   "outputs": [
    {
     "data": {
      "text/plain": [
       "10000"
      ]
     },
     "execution_count": 31,
     "metadata": {},
     "output_type": "execute_result"
    }
   ],
   "source": [
    "len(train_story_seq)"
   ]
  },
  {
   "cell_type": "code",
   "execution_count": 32,
   "metadata": {},
   "outputs": [
    {
     "data": {
      "text/plain": [
       "10000"
      ]
     },
     "execution_count": 32,
     "metadata": {},
     "output_type": "execute_result"
    }
   ],
   "source": [
    "len(train_story_text)"
   ]
  },
  {
   "cell_type": "markdown",
   "metadata": {},
   "source": [
    "# Functionalize Vectorization"
   ]
  },
  {
   "cell_type": "code",
   "execution_count": 33,
   "metadata": {},
   "outputs": [],
   "source": [
    "def vectorize_stories(data , word_index = tokenizer.word_index , max_story_len = max_story_len , max_question_len = max_question_len):\n",
    "    X = []\n",
    "    Xq = []\n",
    "    Y = []\n",
    "    \n",
    "    for story , query , answer in data:\n",
    "        x = [word_index[word.lower()] for word in story]\n",
    "        xq = [word_index[word.lower()] for word in query]\n",
    "        y = np.zeros(len(word_index) + 1)\n",
    "        \n",
    "        y[word_index[answer]] = 1\n",
    "        \n",
    "        X.append(x)\n",
    "        Xq.append(xq)\n",
    "        Y.append(y)\n",
    "        \n",
    "    return (pad_sequences(X , maxlen = max_story_len) , pad_sequences(Xq , maxlen = max_question_len) , np.array(Y))"
   ]
  },
  {
   "cell_type": "code",
   "execution_count": 34,
   "metadata": {},
   "outputs": [],
   "source": [
    "input_train , queries_train , answer_train = vectorize_stories(train_data)"
   ]
  },
  {
   "cell_type": "code",
   "execution_count": 35,
   "metadata": {},
   "outputs": [],
   "source": [
    "input_test , queries_test , answer_test = vectorize_stories(test_data)"
   ]
  },
  {
   "cell_type": "code",
   "execution_count": 36,
   "metadata": {},
   "outputs": [
    {
     "data": {
      "text/plain": [
       "array([[ 0,  0,  0, ..., 27, 29, 23],\n",
       "       [ 0,  0,  0, ..., 27, 12, 23],\n",
       "       [ 0,  0,  0, ..., 27, 12, 23],\n",
       "       ...,\n",
       "       [ 0,  0,  0, ..., 27,  8, 23],\n",
       "       [ 0,  0,  0, ..., 27, 12, 23],\n",
       "       [ 0,  0,  0, ...,  8,  2, 23]])"
      ]
     },
     "execution_count": 36,
     "metadata": {},
     "output_type": "execute_result"
    }
   ],
   "source": [
    "input_test"
   ]
  },
  {
   "cell_type": "code",
   "execution_count": 37,
   "metadata": {},
   "outputs": [
    {
     "data": {
      "text/plain": [
       "array([[24,  9, 26, 27, 34, 15],\n",
       "       [24,  9, 26, 27, 34, 15],\n",
       "       [24,  9, 26, 27, 12, 15],\n",
       "       ...,\n",
       "       [24, 35, 26, 27, 29, 15],\n",
       "       [24,  4, 26, 27, 12, 15],\n",
       "       [24, 35, 26, 27, 12, 15]])"
      ]
     },
     "execution_count": 37,
     "metadata": {},
     "output_type": "execute_result"
    }
   ],
   "source": [
    "queries_test"
   ]
  },
  {
   "cell_type": "code",
   "execution_count": 38,
   "metadata": {},
   "outputs": [
    {
     "data": {
      "text/plain": [
       "array([[0., 0., 0., ..., 0., 0., 0.],\n",
       "       [0., 0., 0., ..., 0., 0., 0.],\n",
       "       [0., 0., 0., ..., 0., 0., 0.],\n",
       "       ...,\n",
       "       [0., 0., 0., ..., 0., 0., 0.],\n",
       "       [0., 0., 0., ..., 0., 0., 0.],\n",
       "       [0., 0., 0., ..., 0., 0., 0.]])"
      ]
     },
     "execution_count": 38,
     "metadata": {},
     "output_type": "execute_result"
    }
   ],
   "source": [
    "answer_test"
   ]
  },
  {
   "cell_type": "code",
   "execution_count": 39,
   "metadata": {},
   "outputs": [
    {
     "data": {
      "text/plain": [
       "array([  0.,   0.,   0.,   0.,   0.,   0.,   0., 497.,   0.,   0.,   0.,\n",
       "         0.,   0.,   0.,   0.,   0., 503.,   0.,   0.,   0.,   0.,   0.,\n",
       "         0.,   0.,   0.,   0.,   0.,   0.,   0.,   0.,   0.,   0.,   0.,\n",
       "         0.,   0.,   0.,   0.,   0.])"
      ]
     },
     "execution_count": 39,
     "metadata": {},
     "output_type": "execute_result"
    }
   ],
   "source": [
    "sum(answer_test)"
   ]
  },
  {
   "cell_type": "code",
   "execution_count": 40,
   "metadata": {},
   "outputs": [
    {
     "data": {
      "text/plain": [
       "7"
      ]
     },
     "execution_count": 40,
     "metadata": {},
     "output_type": "execute_result"
    }
   ],
   "source": [
    "tokenizer.word_index['yes']"
   ]
  },
  {
   "cell_type": "code",
   "execution_count": 41,
   "metadata": {},
   "outputs": [
    {
     "data": {
      "text/plain": [
       "16"
      ]
     },
     "execution_count": 41,
     "metadata": {},
     "output_type": "execute_result"
    }
   ],
   "source": [
    "tokenizer.word_index['no']"
   ]
  },
  {
   "cell_type": "markdown",
   "metadata": {},
   "source": [
    "# Creating the model"
   ]
  },
  {
   "cell_type": "code",
   "execution_count": 42,
   "metadata": {},
   "outputs": [],
   "source": [
    "from tensorflow.keras.models import Sequential, Model\n",
    "from tensorflow.keras.layers import Embedding\n",
    "from tensorflow.keras.layers import Input, Activation, Dense, Permute, Dropout\n",
    "from tensorflow.keras.layers import add, dot, concatenate\n",
    "from tensorflow.keras.layers import LSTM"
   ]
  },
  {
   "cell_type": "markdown",
   "metadata": {},
   "source": [
    "## Placeholder for inputs"
   ]
  },
  {
   "cell_type": "code",
   "execution_count": 43,
   "metadata": {},
   "outputs": [],
   "source": [
    "input_sequence = Input((max_story_len,))\n",
    "question = Input((max_question_len,))"
   ]
  },
  {
   "cell_type": "markdown",
   "metadata": {},
   "source": [
    "# Building the networks\n",
    "\n",
    "To understand why we chose this setup, make sure to read the paper we are using:\n",
    "\n",
    "Sainbayar Sukhbaatar, Arthur Szlam, Jason Weston, Rob Fergus, \"End-To-End Memory Networks\", http://arxiv.org/abs/1503.08895"
   ]
  },
  {
   "cell_type": "markdown",
   "metadata": {},
   "source": [
    "# Encoders"
   ]
  },
  {
   "cell_type": "markdown",
   "metadata": {},
   "source": [
    "## Input encoder m"
   ]
  },
  {
   "cell_type": "code",
   "execution_count": 44,
   "metadata": {},
   "outputs": [],
   "source": [
    "input_encoder_m = Sequential()\n",
    "input_encoder_m.add(Embedding(input_dim=vocab_size,output_dim=64))\n",
    "input_encoder_m.add(Dropout(0.3))"
   ]
  },
  {
   "cell_type": "markdown",
   "metadata": {},
   "source": [
    "# input encoder c"
   ]
  },
  {
   "cell_type": "code",
   "execution_count": 45,
   "metadata": {},
   "outputs": [],
   "source": [
    "# embed the input into a sequence of vectors of size query_maxlen\n",
    "input_encoder_c = Sequential()\n",
    "input_encoder_c.add(Embedding(input_dim=vocab_size,output_dim=max_question_len))\n",
    "input_encoder_c.add(Dropout(0.3))"
   ]
  },
  {
   "cell_type": "markdown",
   "metadata": {},
   "source": [
    "# question encoder"
   ]
  },
  {
   "cell_type": "code",
   "execution_count": 46,
   "metadata": {},
   "outputs": [],
   "source": [
    "# embed the question into a sequence of vectors\n",
    "question_encoder = Sequential()\n",
    "question_encoder.add(Embedding(input_dim=vocab_size,\n",
    "                               output_dim=64,\n",
    "                               input_length=max_question_len))\n",
    "question_encoder.add(Dropout(0.3))"
   ]
  },
  {
   "cell_type": "markdown",
   "metadata": {},
   "source": [
    "# Encode the sequences"
   ]
  },
  {
   "cell_type": "code",
   "execution_count": 47,
   "metadata": {},
   "outputs": [],
   "source": [
    "# encode input sequence and questions (which are indices)\n",
    "# to sequences of dense vectors\n",
    "input_encoded_m = input_encoder_m(input_sequence)\n",
    "input_encoded_c = input_encoder_c(input_sequence)\n",
    "question_encoded = question_encoder(question)"
   ]
  },
  {
   "cell_type": "markdown",
   "metadata": {},
   "source": [
    "## use dot product to compute the match between first input vector seq and query"
   ]
  },
  {
   "cell_type": "code",
   "execution_count": 48,
   "metadata": {},
   "outputs": [],
   "source": [
    "# shape: `(samples, story_maxlen, query_maxlen)`\n",
    "match = dot([input_encoded_m, question_encoded], axes=(2, 2))\n",
    "match = Activation('softmax')(match)"
   ]
  },
  {
   "cell_type": "markdown",
   "metadata": {},
   "source": [
    "### add this match matrix with the second input vector seq"
   ]
  },
  {
   "cell_type": "code",
   "execution_count": 49,
   "metadata": {},
   "outputs": [],
   "source": [
    "# add the match matrix with the second input vector sequence\n",
    "response = add([match, input_encoded_c])  # (samples, story_maxlen, query_maxlen)\n",
    "response = Permute((2, 1))(response)"
   ]
  },
  {
   "cell_type": "markdown",
   "metadata": {},
   "source": [
    "### concatenate"
   ]
  },
  {
   "cell_type": "code",
   "execution_count": 50,
   "metadata": {},
   "outputs": [],
   "source": [
    "answer = concatenate([response , question_encoded])"
   ]
  },
  {
   "cell_type": "code",
   "execution_count": 51,
   "metadata": {},
   "outputs": [
    {
     "data": {
      "text/plain": [
       "<tf.Tensor 'concatenate/Identity:0' shape=(None, 6, 220) dtype=float32>"
      ]
     },
     "execution_count": 51,
     "metadata": {},
     "output_type": "execute_result"
    }
   ],
   "source": [
    "answer"
   ]
  },
  {
   "cell_type": "code",
   "execution_count": 52,
   "metadata": {},
   "outputs": [],
   "source": [
    "answer = LSTM(32)(answer)"
   ]
  },
  {
   "cell_type": "code",
   "execution_count": 53,
   "metadata": {},
   "outputs": [],
   "source": [
    "answer = Dropout(0.5)(answer)\n",
    "answer = Dense(vocab_size)(answer)"
   ]
  },
  {
   "cell_type": "code",
   "execution_count": 54,
   "metadata": {},
   "outputs": [],
   "source": [
    "answer = Activation('softmax')(answer)\n",
    "\n",
    "model = Model([input_sequence , question] , answer)"
   ]
  },
  {
   "cell_type": "code",
   "execution_count": 55,
   "metadata": {},
   "outputs": [],
   "source": [
    "model.compile(optimizer='rmsprop' , loss='categorical_crossentropy' , metrics=['accuracy'])"
   ]
  },
  {
   "cell_type": "code",
   "execution_count": 56,
   "metadata": {},
   "outputs": [
    {
     "name": "stdout",
     "output_type": "stream",
     "text": [
      "Model: \"model\"\n",
      "__________________________________________________________________________________________________\n",
      "Layer (type)                    Output Shape         Param #     Connected to                     \n",
      "==================================================================================================\n",
      "input_1 (InputLayer)            [(None, 156)]        0                                            \n",
      "__________________________________________________________________________________________________\n",
      "input_2 (InputLayer)            [(None, 6)]          0                                            \n",
      "__________________________________________________________________________________________________\n",
      "sequential (Sequential)         multiple             2432        input_1[0][0]                    \n",
      "__________________________________________________________________________________________________\n",
      "sequential_2 (Sequential)       (None, 6, 64)        2432        input_2[0][0]                    \n",
      "__________________________________________________________________________________________________\n",
      "dot (Dot)                       (None, 156, 6)       0           sequential[1][0]                 \n",
      "                                                                 sequential_2[1][0]               \n",
      "__________________________________________________________________________________________________\n",
      "activation (Activation)         (None, 156, 6)       0           dot[0][0]                        \n",
      "__________________________________________________________________________________________________\n",
      "sequential_1 (Sequential)       multiple             228         input_1[0][0]                    \n",
      "__________________________________________________________________________________________________\n",
      "add (Add)                       (None, 156, 6)       0           activation[0][0]                 \n",
      "                                                                 sequential_1[1][0]               \n",
      "__________________________________________________________________________________________________\n",
      "permute (Permute)               (None, 6, 156)       0           add[0][0]                        \n",
      "__________________________________________________________________________________________________\n",
      "concatenate (Concatenate)       (None, 6, 220)       0           permute[0][0]                    \n",
      "                                                                 sequential_2[1][0]               \n",
      "__________________________________________________________________________________________________\n",
      "lstm (LSTM)                     (None, 32)           32384       concatenate[0][0]                \n",
      "__________________________________________________________________________________________________\n",
      "dropout_3 (Dropout)             (None, 32)           0           lstm[0][0]                       \n",
      "__________________________________________________________________________________________________\n",
      "dense (Dense)                   (None, 38)           1254        dropout_3[0][0]                  \n",
      "__________________________________________________________________________________________________\n",
      "activation_1 (Activation)       (None, 38)           0           dense[0][0]                      \n",
      "==================================================================================================\n",
      "Total params: 38,730\n",
      "Trainable params: 38,730\n",
      "Non-trainable params: 0\n",
      "__________________________________________________________________________________________________\n"
     ]
    }
   ],
   "source": [
    "model.summary()"
   ]
  },
  {
   "cell_type": "code",
   "execution_count": 59,
   "metadata": {},
   "outputs": [
    {
     "name": "stdout",
     "output_type": "stream",
     "text": [
      "Train on 10000 samples, validate on 1000 samples\n",
      "Epoch 1/120\n",
      "10000/10000 [==============================] - 17s 2ms/sample - loss: 0.9699 - accuracy: 0.4967 - val_loss: 0.6955 - val_accuracy: 0.5030\n",
      "Epoch 2/120\n",
      "10000/10000 [==============================] - 10s 983us/sample - loss: 0.7084 - accuracy: 0.5018 - val_loss: 0.6965 - val_accuracy: 0.5030\n",
      "Epoch 3/120\n",
      "10000/10000 [==============================] - 9s 946us/sample - loss: 0.6970 - accuracy: 0.5046 - val_loss: 0.6943 - val_accuracy: 0.4970 loss: 0.6971 - ac\n",
      "Epoch 4/120\n",
      "10000/10000 [==============================] - 10s 968us/sample - loss: 0.6954 - accuracy: 0.4990 - val_loss: 0.6946 - val_accuracy: 0.4970\n",
      "Epoch 5/120\n",
      "10000/10000 [==============================] - 10s 997us/sample - loss: 0.6951 - accuracy: 0.4927 - val_loss: 0.6934 - val_accuracy: 0.5030\n",
      "Epoch 6/120\n",
      "10000/10000 [==============================] - 10s 998us/sample - loss: 0.6946 - accuracy: 0.5031 - val_loss: 0.6933 - val_accuracy: 0.4970\n",
      "Epoch 7/120\n",
      "10000/10000 [==============================] - 10s 1ms/sample - loss: 0.6942 - accuracy: 0.5059 - val_loss: 0.6940 - val_accuracy: 0.5030\n",
      "Epoch 8/120\n",
      "10000/10000 [==============================] - 10s 976us/sample - loss: 0.6936 - accuracy: 0.5113 - val_loss: 0.6939 - val_accuracy: 0.5100\n",
      "Epoch 9/120\n",
      "10000/10000 [==============================] - 10s 971us/sample - loss: 0.6930 - accuracy: 0.5151 - val_loss: 0.6944 - val_accuracy: 0.5260\n",
      "Epoch 10/120\n",
      "10000/10000 [==============================] - 10s 968us/sample - loss: 0.6884 - accuracy: 0.5388 - val_loss: 0.6862 - val_accuracy: 0.5640\n",
      "Epoch 11/120\n",
      "10000/10000 [==============================] - 10s 978us/sample - loss: 0.6702 - accuracy: 0.5708 - val_loss: 0.6685 - val_accuracy: 0.5970- loss: 0.6707 - accuracy: 0.\n",
      "Epoch 12/120\n",
      "10000/10000 [==============================] - 11s 1ms/sample - loss: 0.6457 - accuracy: 0.6287 - val_loss: 0.6296 - val_accuracy: 0.6490\n",
      "Epoch 13/120\n",
      "10000/10000 [==============================] - 12s 1ms/sample - loss: 0.6275 - accuracy: 0.6489 - val_loss: 0.6204 - val_accuracy: 0.6590\n",
      "Epoch 14/120\n",
      "10000/10000 [==============================] - 12s 1ms/sample - loss: 0.6198 - accuracy: 0.6587 - val_loss: 0.6217 - val_accuracy: 0.6620\n",
      "Epoch 15/120\n",
      "10000/10000 [==============================] - 12s 1ms/sample - loss: 0.6160 - accuracy: 0.6672 - val_loss: 0.6100 - val_accuracy: 0.6590\n",
      "Epoch 16/120\n",
      "10000/10000 [==============================] - 12s 1ms/sample - loss: 0.6083 - accuracy: 0.6749 - val_loss: 0.6046 - val_accuracy: 0.6680\n",
      "Epoch 17/120\n",
      "10000/10000 [==============================] - 12s 1ms/sample - loss: 0.5998 - accuracy: 0.6787 - val_loss: 0.6006 - val_accuracy: 0.6710\n",
      "Epoch 18/120\n",
      "10000/10000 [==============================] - 13s 1ms/sample - loss: 0.5997 - accuracy: 0.6788 - val_loss: 0.6072 - val_accuracy: 0.6640\n",
      "Epoch 19/120\n",
      "10000/10000 [==============================] - 12s 1ms/sample - loss: 0.5902 - accuracy: 0.6857 - val_loss: 0.5885 - val_accuracy: 0.6750\n",
      "Epoch 20/120\n",
      "10000/10000 [==============================] - 12s 1ms/sample - loss: 0.5903 - accuracy: 0.6849 - val_loss: 0.5847 - val_accuracy: 0.6840\n",
      "Epoch 21/120\n",
      "10000/10000 [==============================] - 10s 1ms/sample - loss: 0.5844 - accuracy: 0.6911 - val_loss: 0.5761 - val_accuracy: 0.6840\n",
      "Epoch 22/120\n",
      "10000/10000 [==============================] - 9s 943us/sample - loss: 0.5786 - accuracy: 0.6899 - val_loss: 0.5794 - val_accuracy: 0.6820\n",
      "Epoch 23/120\n",
      "10000/10000 [==============================] - 10s 1ms/sample - loss: 0.5674 - accuracy: 0.7026 - val_loss: 0.5911 - val_accuracy: 0.6710\n",
      "Epoch 24/120\n",
      "10000/10000 [==============================] - 10s 1ms/sample - loss: 0.5686 - accuracy: 0.7018 - val_loss: 0.5659 - val_accuracy: 0.6860\n",
      "Epoch 25/120\n",
      "10000/10000 [==============================] - 12s 1ms/sample - loss: 0.5581 - accuracy: 0.7080 - val_loss: 0.5684 - val_accuracy: 0.6950\n",
      "Epoch 26/120\n",
      "10000/10000 [==============================] - 13s 1ms/sample - loss: 0.5520 - accuracy: 0.7146 - val_loss: 0.5677 - val_accuracy: 0.6910\n",
      "Epoch 27/120\n",
      "10000/10000 [==============================] - 12s 1ms/sample - loss: 0.5481 - accuracy: 0.7203 - val_loss: 0.5548 - val_accuracy: 0.7090\n",
      "Epoch 28/120\n",
      "10000/10000 [==============================] - 11s 1ms/sample - loss: 0.5346 - accuracy: 0.7297 - val_loss: 0.5540 - val_accuracy: 0.7180\n",
      "Epoch 29/120\n",
      "10000/10000 [==============================] - 11s 1ms/sample - loss: 0.5336 - accuracy: 0.7335 - val_loss: 0.5469 - val_accuracy: 0.7220\n",
      "Epoch 30/120\n",
      "10000/10000 [==============================] - 10s 1ms/sample - loss: 0.5241 - accuracy: 0.7390 - val_loss: 0.5374 - val_accuracy: 0.7180\n",
      "Epoch 31/120\n",
      "10000/10000 [==============================] - 10s 1ms/sample - loss: 0.5103 - accuracy: 0.7466 - val_loss: 0.5332 - val_accuracy: 0.7280\n",
      "Epoch 32/120\n",
      "10000/10000 [==============================] - 9s 935us/sample - loss: 0.5085 - accuracy: 0.7511 - val_loss: 0.5210 - val_accuracy: 0.7420\n",
      "Epoch 33/120\n",
      "10000/10000 [==============================] - 11s 1ms/sample - loss: 0.5016 - accuracy: 0.7575 - val_loss: 0.5175 - val_accuracy: 0.7390\n",
      "Epoch 34/120\n",
      "10000/10000 [==============================] - 9s 934us/sample - loss: 0.4943 - accuracy: 0.7620 - val_loss: 0.5121 - val_accuracy: 0.7370\n",
      "Epoch 35/120\n",
      "10000/10000 [==============================] - 9s 856us/sample - loss: 0.4853 - accuracy: 0.7666 - val_loss: 0.5054 - val_accuracy: 0.7500\n",
      "Epoch 36/120\n",
      "10000/10000 [==============================] - 8s 842us/sample - loss: 0.4815 - accuracy: 0.7682 - val_loss: 0.5070 - val_accuracy: 0.7510\n",
      "Epoch 37/120\n",
      "10000/10000 [==============================] - 8s 847us/sample - loss: 0.4803 - accuracy: 0.7732 - val_loss: 0.4941 - val_accuracy: 0.7460\n",
      "Epoch 38/120\n",
      "10000/10000 [==============================] - 9s 926us/sample - loss: 0.4728 - accuracy: 0.7752 - val_loss: 0.4939 - val_accuracy: 0.7560\n",
      "Epoch 39/120\n",
      "10000/10000 [==============================] - 10s 968us/sample - loss: 0.4659 - accuracy: 0.7798 - val_loss: 0.4966 - val_accuracy: 0.7650\n",
      "Epoch 40/120\n",
      "10000/10000 [==============================] - 10s 970us/sample - loss: 0.4529 - accuracy: 0.7845 - val_loss: 0.4802 - val_accuracy: 0.7590acy\n",
      "Epoch 41/120\n",
      "10000/10000 [==============================] - 10s 979us/sample - loss: 0.4592 - accuracy: 0.7871 - val_loss: 0.4945 - val_accuracy: 0.7610\n",
      "Epoch 42/120\n",
      "10000/10000 [==============================] - 10s 955us/sample - loss: 0.4517 - accuracy: 0.7907 - val_loss: 0.4747 - val_accuracy: 0.7740\n",
      "Epoch 43/120\n",
      "10000/10000 [==============================] - 9s 947us/sample - loss: 0.4417 - accuracy: 0.7890 - val_loss: 0.4814 - val_accuracy: 0.7740- accuracy: 0.78 - ETA: 0s - loss:\n",
      "Epoch 44/120\n",
      "10000/10000 [==============================] - 10s 972us/sample - loss: 0.4334 - accuracy: 0.7970 - val_loss: 0.4715 - val_accuracy: 0.7750\n",
      "Epoch 45/120\n",
      "10000/10000 [==============================] - 10s 994us/sample - loss: 0.4424 - accuracy: 0.7982 - val_loss: 0.4632 - val_accuracy: 0.7840\n",
      "Epoch 46/120\n",
      "10000/10000 [==============================] - 10s 983us/sample - loss: 0.4308 - accuracy: 0.7990 - val_loss: 0.4738 - val_accuracy: 0.7860\n",
      "Epoch 47/120\n",
      "10000/10000 [==============================] - 10s 989us/sample - loss: 0.4307 - accuracy: 0.8059 - val_loss: 0.5175 - val_accuracy: 0.7640\n",
      "Epoch 48/120\n",
      "10000/10000 [==============================] - 10s 990us/sample - loss: 0.4256 - accuracy: 0.8069 - val_loss: 0.4629 - val_accuracy: 0.7870\n",
      "Epoch 49/120\n",
      "10000/10000 [==============================] - 10s 954us/sample - loss: 0.4193 - accuracy: 0.8117 - val_loss: 0.4609 - val_accuracy: 0.7900\n",
      "Epoch 50/120\n",
      "10000/10000 [==============================] - 10s 961us/sample - loss: 0.4167 - accuracy: 0.8092 - val_loss: 0.4635 - val_accuracy: 0.7880\n",
      "Epoch 51/120\n",
      "10000/10000 [==============================] - 10s 976us/sample - loss: 0.4160 - accuracy: 0.8123 - val_loss: 0.4829 - val_accuracy: 0.7870\n",
      "Epoch 52/120\n",
      "10000/10000 [==============================] - 11s 1ms/sample - loss: 0.4134 - accuracy: 0.8132 - val_loss: 0.4560 - val_accuracy: 0.7930\n",
      "Epoch 53/120\n",
      "10000/10000 [==============================] - 11s 1ms/sample - loss: 0.4060 - accuracy: 0.8170 - val_loss: 0.4770 - val_accuracy: 0.7900\n",
      "Epoch 54/120\n"
     ]
    },
    {
     "name": "stdout",
     "output_type": "stream",
     "text": [
      "10000/10000 [==============================] - 11s 1ms/sample - loss: 0.4037 - accuracy: 0.8145 - val_loss: 0.4793 - val_accuracy: 0.7900\n",
      "Epoch 55/120\n",
      "10000/10000 [==============================] - 10s 960us/sample - loss: 0.4010 - accuracy: 0.8240 - val_loss: 0.4458 - val_accuracy: 0.7900\n",
      "Epoch 56/120\n",
      "10000/10000 [==============================] - 10s 961us/sample - loss: 0.3960 - accuracy: 0.8213 - val_loss: 0.4888 - val_accuracy: 0.7810\n",
      "Epoch 57/120\n",
      "10000/10000 [==============================] - 10s 990us/sample - loss: 0.3952 - accuracy: 0.8268 - val_loss: 0.4834 - val_accuracy: 0.7950\n",
      "Epoch 58/120\n",
      "10000/10000 [==============================] - 9s 879us/sample - loss: 0.3893 - accuracy: 0.8279 - val_loss: 0.4549 - val_accuracy: 0.7950\n",
      "Epoch 59/120\n",
      "10000/10000 [==============================] - 8s 826us/sample - loss: 0.3875 - accuracy: 0.8251 - val_loss: 0.4656 - val_accuracy: 0.8000\n",
      "Epoch 60/120\n",
      "10000/10000 [==============================] - 8s 826us/sample - loss: 0.3813 - accuracy: 0.8329 - val_loss: 0.4565 - val_accuracy: 0.7960\n",
      "Epoch 61/120\n",
      "10000/10000 [==============================] - 8s 825us/sample - loss: 0.3862 - accuracy: 0.8277 - val_loss: 0.4610 - val_accuracy: 0.8010\n",
      "Epoch 62/120\n",
      "10000/10000 [==============================] - 9s 854us/sample - loss: 0.3793 - accuracy: 0.8317 - val_loss: 0.4413 - val_accuracy: 0.8050\n",
      "Epoch 63/120\n",
      "10000/10000 [==============================] - 10s 1ms/sample - loss: 0.3687 - accuracy: 0.8375 - val_loss: 0.4656 - val_accuracy: 0.8030s - loss: 0.367\n",
      "Epoch 64/120\n",
      "10000/10000 [==============================] - 10s 1ms/sample - loss: 0.3682 - accuracy: 0.8369 - val_loss: 0.4556 - val_accuracy: 0.7990\n",
      "Epoch 65/120\n",
      "10000/10000 [==============================] - 10s 1ms/sample - loss: 0.3667 - accuracy: 0.8360 - val_loss: 0.4544 - val_accuracy: 0.8000\n",
      "Epoch 66/120\n",
      "10000/10000 [==============================] - 10s 993us/sample - loss: 0.3547 - accuracy: 0.8452 - val_loss: 0.4415 - val_accuracy: 0.8000\n",
      "Epoch 67/120\n",
      "10000/10000 [==============================] - 8s 840us/sample - loss: 0.3602 - accuracy: 0.8433 - val_loss: 0.4638 - val_accuracy: 0.7990\n",
      "Epoch 68/120\n",
      "10000/10000 [==============================] - 8s 841us/sample - loss: 0.3523 - accuracy: 0.8454 - val_loss: 0.4525 - val_accuracy: 0.8000\n",
      "Epoch 69/120\n",
      "10000/10000 [==============================] - 8s 835us/sample - loss: 0.3571 - accuracy: 0.8458 - val_loss: 0.4646 - val_accuracy: 0.7990\n",
      "Epoch 70/120\n",
      "10000/10000 [==============================] - 8s 842us/sample - loss: 0.3521 - accuracy: 0.8493 - val_loss: 0.4633 - val_accuracy: 0.7950\n",
      "Epoch 71/120\n",
      "10000/10000 [==============================] - 9s 858us/sample - loss: 0.3455 - accuracy: 0.8489 - val_loss: 0.4715 - val_accuracy: 0.8020\n",
      "Epoch 72/120\n",
      "10000/10000 [==============================] - 8s 826us/sample - loss: 0.3490 - accuracy: 0.8476 - val_loss: 0.4639 - val_accuracy: 0.8030\n",
      "Epoch 73/120\n",
      "10000/10000 [==============================] - 8s 833us/sample - loss: 0.3438 - accuracy: 0.8518 - val_loss: 0.4453 - val_accuracy: 0.8060\n",
      "Epoch 74/120\n",
      "10000/10000 [==============================] - 8s 835us/sample - loss: 0.3433 - accuracy: 0.8497 - val_loss: 0.4636 - val_accuracy: 0.8060\n",
      "Epoch 75/120\n",
      "10000/10000 [==============================] - 8s 828us/sample - loss: 0.3339 - accuracy: 0.8575 - val_loss: 0.4552 - val_accuracy: 0.8080\n",
      "Epoch 76/120\n",
      "10000/10000 [==============================] - 8s 843us/sample - loss: 0.3318 - accuracy: 0.8601 - val_loss: 0.4566 - val_accuracy: 0.7990\n",
      "Epoch 77/120\n",
      "10000/10000 [==============================] - 8s 829us/sample - loss: 0.3267 - accuracy: 0.8576 - val_loss: 0.4669 - val_accuracy: 0.8020\n",
      "Epoch 78/120\n",
      "10000/10000 [==============================] - 8s 840us/sample - loss: 0.3246 - accuracy: 0.8615 - val_loss: 0.4861 - val_accuracy: 0.8020\n",
      "Epoch 79/120\n",
      "10000/10000 [==============================] - 8s 832us/sample - loss: 0.3248 - accuracy: 0.8618 - val_loss: 0.4872 - val_accuracy: 0.8020\n",
      "Epoch 80/120\n",
      "10000/10000 [==============================] - 8s 829us/sample - loss: 0.3290 - accuracy: 0.8605 - val_loss: 0.4746 - val_accuracy: 0.8040\n",
      "Epoch 81/120\n",
      "10000/10000 [==============================] - 8s 828us/sample - loss: 0.3217 - accuracy: 0.8627 - val_loss: 0.5007 - val_accuracy: 0.8000\n",
      "Epoch 82/120\n",
      "10000/10000 [==============================] - 8s 829us/sample - loss: 0.3200 - accuracy: 0.8644 - val_loss: 0.4769 - val_accuracy: 0.8070\n",
      "Epoch 83/120\n",
      "10000/10000 [==============================] - 8s 834us/sample - loss: 0.3173 - accuracy: 0.8676 - val_loss: 0.5038 - val_accuracy: 0.8030\n",
      "Epoch 84/120\n",
      "10000/10000 [==============================] - 8s 838us/sample - loss: 0.3187 - accuracy: 0.8680 - val_loss: 0.4976 - val_accuracy: 0.8010\n",
      "Epoch 85/120\n",
      "10000/10000 [==============================] - 8s 839us/sample - loss: 0.3088 - accuracy: 0.8688 - val_loss: 0.4903 - val_accuracy: 0.8010\n",
      "Epoch 86/120\n",
      "10000/10000 [==============================] - 8s 839us/sample - loss: 0.3071 - accuracy: 0.8704 - val_loss: 0.4721 - val_accuracy: 0.8100\n",
      "Epoch 87/120\n",
      "10000/10000 [==============================] - 8s 833us/sample - loss: 0.3150 - accuracy: 0.8646 - val_loss: 0.5083 - val_accuracy: 0.7980\n",
      "Epoch 88/120\n",
      "10000/10000 [==============================] - 8s 837us/sample - loss: 0.3062 - accuracy: 0.8735 - val_loss: 0.5188 - val_accuracy: 0.7980\n",
      "Epoch 89/120\n",
      "10000/10000 [==============================] - 8s 840us/sample - loss: 0.3089 - accuracy: 0.8712 - val_loss: 0.4857 - val_accuracy: 0.8030\n",
      "Epoch 90/120\n",
      "10000/10000 [==============================] - 8s 844us/sample - loss: 0.3041 - accuracy: 0.8724 - val_loss: 0.5062 - val_accuracy: 0.7950\n",
      "Epoch 91/120\n",
      "10000/10000 [==============================] - 10s 982us/sample - loss: 0.3057 - accuracy: 0.8689 - val_loss: 0.5206 - val_accuracy: 0.7990\n",
      "Epoch 92/120\n",
      "10000/10000 [==============================] - 10s 983us/sample - loss: 0.3065 - accuracy: 0.8705 - val_loss: 0.4948 - val_accuracy: 0.7990\n",
      "Epoch 93/120\n",
      "10000/10000 [==============================] - 10s 976us/sample - loss: 0.2956 - accuracy: 0.8766 - val_loss: 0.5419 - val_accuracy: 0.7930: 0.2961 \n",
      "Epoch 94/120\n",
      "10000/10000 [==============================] - 11s 1ms/sample - loss: 0.2970 - accuracy: 0.8745 - val_loss: 0.5274 - val_accuracy: 0.7970\n",
      "Epoch 95/120\n",
      "10000/10000 [==============================] - 12s 1ms/sample - loss: 0.2999 - accuracy: 0.8756 - val_loss: 0.5394 - val_accuracy: 0.7970\n",
      "Epoch 96/120\n",
      "10000/10000 [==============================] - 11s 1ms/sample - loss: 0.2992 - accuracy: 0.8733 - val_loss: 0.5051 - val_accuracy: 0.8040\n",
      "Epoch 97/120\n",
      "10000/10000 [==============================] - 15s 1ms/sample - loss: 0.2988 - accuracy: 0.8723 - val_loss: 0.4841 - val_accuracy: 0.7930\n",
      "Epoch 98/120\n",
      "10000/10000 [==============================] - 10s 1ms/sample - loss: 0.2950 - accuracy: 0.8753 - val_loss: 0.5345 - val_accuracy: 0.8020\n",
      "Epoch 99/120\n",
      "10000/10000 [==============================] - 9s 899us/sample - loss: 0.2931 - accuracy: 0.8769 - val_loss: 0.5058 - val_accuracy: 0.7850\n",
      "Epoch 100/120\n",
      "10000/10000 [==============================] - 11s 1ms/sample - loss: 0.2985 - accuracy: 0.8733 - val_loss: 0.5231 - val_accuracy: 0.8000\n",
      "Epoch 101/120\n",
      "10000/10000 [==============================] - 12s 1ms/sample - loss: 0.2929 - accuracy: 0.8783 - val_loss: 0.5950 - val_accuracy: 0.7960\n",
      "Epoch 102/120\n",
      "10000/10000 [==============================] - 11s 1ms/sample - loss: 0.2860 - accuracy: 0.8786 - val_loss: 0.5379 - val_accuracy: 0.7930\n",
      "Epoch 103/120\n",
      "10000/10000 [==============================] - 12s 1ms/sample - loss: 0.2848 - accuracy: 0.8781 - val_loss: 0.5627 - val_accuracy: 0.8120\n",
      "Epoch 104/120\n",
      "10000/10000 [==============================] - 11s 1ms/sample - loss: 0.2834 - accuracy: 0.8832 - val_loss: 0.5225 - val_accuracy: 0.8010\n",
      "Epoch 105/120\n",
      "10000/10000 [==============================] - 11s 1ms/sample - loss: 0.2857 - accuracy: 0.8825 - val_loss: 0.5132 - val_accuracy: 0.7900\n",
      "Epoch 106/120\n",
      "10000/10000 [==============================] - 11s 1ms/sample - loss: 0.2783 - accuracy: 0.8861 - val_loss: 0.5158 - val_accuracy: 0.8040\n",
      "Epoch 107/120\n"
     ]
    },
    {
     "name": "stdout",
     "output_type": "stream",
     "text": [
      "10000/10000 [==============================] - 10s 1ms/sample - loss: 0.2898 - accuracy: 0.8804 - val_loss: 0.5293 - val_accuracy: 0.8000\n",
      "Epoch 108/120\n",
      "10000/10000 [==============================] - 10s 1ms/sample - loss: 0.2833 - accuracy: 0.8831 - val_loss: 0.5343 - val_accuracy: 0.7940\n",
      "Epoch 109/120\n",
      "10000/10000 [==============================] - 10s 990us/sample - loss: 0.2799 - accuracy: 0.8858 - val_loss: 0.5629 - val_accuracy: 0.8130\n",
      "Epoch 110/120\n",
      "10000/10000 [==============================] - 11s 1ms/sample - loss: 0.2824 - accuracy: 0.8789 - val_loss: 0.5506 - val_accuracy: 0.7990\n",
      "Epoch 111/120\n",
      "10000/10000 [==============================] - 12s 1ms/sample - loss: 0.2780 - accuracy: 0.8852 - val_loss: 0.5425 - val_accuracy: 0.7900\n",
      "Epoch 112/120\n",
      "10000/10000 [==============================] - 10s 1ms/sample - loss: 0.2669 - accuracy: 0.8869 - val_loss: 0.5389 - val_accuracy: 0.7880\n",
      "Epoch 113/120\n",
      "10000/10000 [==============================] - 10s 1ms/sample - loss: 0.2861 - accuracy: 0.8812 - val_loss: 0.5577 - val_accuracy: 0.7960\n",
      "Epoch 114/120\n",
      "10000/10000 [==============================] - 10s 1ms/sample - loss: 0.2735 - accuracy: 0.8863 - val_loss: 0.5869 - val_accuracy: 0.7950\n",
      "Epoch 115/120\n",
      "10000/10000 [==============================] - 10s 1ms/sample - loss: 0.2713 - accuracy: 0.8889 - val_loss: 0.5862 - val_accuracy: 0.7980\n",
      "Epoch 116/120\n",
      "10000/10000 [==============================] - 11s 1ms/sample - loss: 0.2713 - accuracy: 0.8913 - val_loss: 0.5494 - val_accuracy: 0.8040\n",
      "Epoch 117/120\n",
      "10000/10000 [==============================] - 10s 1ms/sample - loss: 0.2695 - accuracy: 0.8896 - val_loss: 0.5298 - val_accuracy: 0.7980\n",
      "Epoch 118/120\n",
      "10000/10000 [==============================] - 10s 1ms/sample - loss: 0.2711 - accuracy: 0.8892 - val_loss: 0.6114 - val_accuracy: 0.7960\n",
      "Epoch 119/120\n",
      "10000/10000 [==============================] - 10s 1ms/sample - loss: 0.2635 - accuracy: 0.8889 - val_loss: 0.5589 - val_accuracy: 0.7990\n",
      "Epoch 120/120\n",
      "10000/10000 [==============================] - 11s 1ms/sample - loss: 0.2733 - accuracy: 0.8893 - val_loss: 0.5637 - val_accuracy: 0.8110\n"
     ]
    }
   ],
   "source": [
    "# train\n",
    "history = model.fit([input_train , queries_train] , answer_train , batch_size=32 , epochs= 120 , \n",
    "                    validation_data= ([input_test , queries_test] , answer_test))"
   ]
  },
  {
   "cell_type": "markdown",
   "metadata": {},
   "source": [
    "# saving the model"
   ]
  },
  {
   "cell_type": "code",
   "execution_count": 60,
   "metadata": {},
   "outputs": [],
   "source": [
    "filename = 'chatbot_120_epochs_test1.h5'\n",
    "model.save(filename)"
   ]
  },
  {
   "cell_type": "markdown",
   "metadata": {},
   "source": [
    "# evaluating the model"
   ]
  },
  {
   "cell_type": "code",
   "execution_count": 78,
   "metadata": {},
   "outputs": [
    {
     "name": "stdout",
     "output_type": "stream",
     "text": [
      "dict_keys(['loss', 'accuracy', 'val_loss', 'val_accuracy'])\n"
     ]
    },
    {
     "data": {
      "image/png": "[encoded data removed]",
      "text/plain": [
       "<Figure size 432x288 with 1 Axes>"
      ]
     },
     "metadata": {
      "needs_background": "light"
     },
     "output_type": "display_data"
    }
   ],
   "source": [
    "import matplotlib.pyplot as plt\n",
    "%matplotlib inline\n",
    "print(history.history.keys())\n",
    "# summarize history for accuracy\n",
    "plt.plot(history.history['accuracy'])\n",
    "plt.plot(history.history['val_accuracy'])\n",
    "plt.title('model accuracy')\n",
    "plt.ylabel('accuracy')\n",
    "plt.xlabel('epoch')\n",
    "plt.legend(['train', 'test'], loc='upper left')\n",
    "plt.show()"
   ]
  },
  {
   "cell_type": "code",
   "execution_count": 68,
   "metadata": {},
   "outputs": [],
   "source": [
    "import pandas as pd\n",
    "loss = pd.DataFrame(model.history.history)"
   ]
  },
  {
   "cell_type": "code",
   "execution_count": 75,
   "metadata": {},
   "outputs": [
    {
     "data": {
      "image/png": "[encoded data removed]",
      "text/plain": [
       "<Figure size 432x288 with 1 Axes>"
      ]
     },
     "metadata": {
      "needs_background": "light"
     },
     "output_type": "display_data"
    }
   ],
   "source": [
    "plt.plot(loss)\n",
    "plt.xlabel('epochs')\n",
    "plt.ylabel('accuracy')\n",
    "plt.title('model accuracy');"
   ]
  },
  {
   "cell_type": "markdown",
   "metadata": {},
   "source": [
    "# evaluating on givin test set"
   ]
  },
  {
   "cell_type": "code",
   "execution_count": 79,
   "metadata": {},
   "outputs": [],
   "source": [
    "model.load_weights(filename)\n",
    "pred_result = model.predict((input_test , queries_test))"
   ]
  },
  {
   "cell_type": "code",
   "execution_count": 80,
   "metadata": {},
   "outputs": [
    {
     "data": {
      "text/plain": [
       "['Mary',\n",
       " 'got',\n",
       " 'the',\n",
       " 'milk',\n",
       " 'there',\n",
       " '.',\n",
       " 'John',\n",
       " 'moved',\n",
       " 'to',\n",
       " 'the',\n",
       " 'bedroom',\n",
       " '.']"
      ]
     },
     "execution_count": 80,
     "metadata": {},
     "output_type": "execute_result"
    }
   ],
   "source": [
    "test_data[0][0]"
   ]
  },
  {
   "cell_type": "code",
   "execution_count": 81,
   "metadata": {},
   "outputs": [
    {
     "name": "stdout",
     "output_type": "stream",
     "text": [
      "Mary got the milk there . John moved to the bedroom .\n"
     ]
    }
   ],
   "source": [
    "story = ' '.join(word for word in test_data[0][0])\n",
    "print(story)"
   ]
  },
  {
   "cell_type": "code",
   "execution_count": 84,
   "metadata": {},
   "outputs": [
    {
     "data": {
      "text/plain": [
       "'Is John in the kitchen ?'"
      ]
     },
     "execution_count": 84,
     "metadata": {},
     "output_type": "execute_result"
    }
   ],
   "source": [
    "query = ' '.join(word for word in test_data[0][1])\n",
    "query"
   ]
  },
  {
   "cell_type": "code",
   "execution_count": 86,
   "metadata": {},
   "outputs": [
    {
     "name": "stdout",
     "output_type": "stream",
     "text": [
      "true test anwer from the data is: no\n"
     ]
    }
   ],
   "source": [
    "print('true test anwer from the data is:' , test_data[0][2])"
   ]
  },
  {
   "cell_type": "code",
   "execution_count": 87,
   "metadata": {},
   "outputs": [
    {
     "name": "stdout",
     "output_type": "stream",
     "text": [
      "the predicted answer is : no\n",
      "the probability of certaintity was: 0.9985582\n"
     ]
    }
   ],
   "source": [
    "# generate prediction from model\n",
    "val_max = np.argmax(pred_result[0])\n",
    "\n",
    "for key , val in tokenizer.word_index.items():\n",
    "    if val == val_max:\n",
    "        k = key\n",
    "        \n",
    "print('the predicted answer is :' , k)\n",
    "print('the probability of certaintity was:' , pred_result[0][val_max])"
   ]
  },
  {
   "cell_type": "markdown",
   "metadata": {},
   "source": [
    "# write your own stories and questions"
   ]
  },
  {
   "cell_type": "code",
   "execution_count": 88,
   "metadata": {},
   "outputs": [
    {
     "data": {
      "text/plain": [
       "{'.',\n",
       " '?',\n",
       " 'Daniel',\n",
       " 'Is',\n",
       " 'John',\n",
       " 'Mary',\n",
       " 'Sandra',\n",
       " 'apple',\n",
       " 'back',\n",
       " 'bathroom',\n",
       " 'bedroom',\n",
       " 'discarded',\n",
       " 'down',\n",
       " 'dropped',\n",
       " 'football',\n",
       " 'garden',\n",
       " 'got',\n",
       " 'grabbed',\n",
       " 'hallway',\n",
       " 'in',\n",
       " 'journeyed',\n",
       " 'kitchen',\n",
       " 'left',\n",
       " 'milk',\n",
       " 'moved',\n",
       " 'no',\n",
       " 'office',\n",
       " 'picked',\n",
       " 'put',\n",
       " 'the',\n",
       " 'there',\n",
       " 'to',\n",
       " 'took',\n",
       " 'travelled',\n",
       " 'up',\n",
       " 'went',\n",
       " 'yes'}"
      ]
     },
     "execution_count": 88,
     "metadata": {},
     "output_type": "execute_result"
    }
   ],
   "source": [
    "vocab"
   ]
  },
  {
   "cell_type": "code",
   "execution_count": 110,
   "metadata": {},
   "outputs": [
    {
     "data": {
      "text/plain": [
       "['Daniel',\n",
       " 'travelled',\n",
       " 'to',\n",
       " 'hallway',\n",
       " '.',\n",
       " 'Daniel',\n",
       " 'grabbed',\n",
       " 'sandra',\n",
       " 'in',\n",
       " 'the',\n",
       " 'office',\n",
       " '.']"
      ]
     },
     "execution_count": 110,
     "metadata": {},
     "output_type": "execute_result"
    }
   ],
   "source": [
    "my_story = 'Daniel travelled to hallway . Daniel grabbed sandra in the office .'\n",
    "my_story.split()"
   ]
  },
  {
   "cell_type": "code",
   "execution_count": 111,
   "metadata": {},
   "outputs": [
    {
     "data": {
      "text/plain": [
       "['Is', 'sandra', 'in', 'hallway', '?']"
      ]
     },
     "execution_count": 111,
     "metadata": {},
     "output_type": "execute_result"
    }
   ],
   "source": [
    "my_question = 'Is sandra in hallway ?'\n",
    "my_question.split()"
   ]
  },
  {
   "cell_type": "code",
   "execution_count": 112,
   "metadata": {},
   "outputs": [],
   "source": [
    "mydata = [(my_story.split() , my_question.split() , 'no')]"
   ]
  },
  {
   "cell_type": "code",
   "execution_count": 113,
   "metadata": {},
   "outputs": [],
   "source": [
    "my_story , my_ques , my_ans = vectorize_stories(mydata)"
   ]
  },
  {
   "cell_type": "code",
   "execution_count": 114,
   "metadata": {},
   "outputs": [],
   "source": [
    "pred_result = model.predict(([my_story , my_ques]))"
   ]
  },
  {
   "cell_type": "code",
   "execution_count": 115,
   "metadata": {},
   "outputs": [
    {
     "name": "stdout",
     "output_type": "stream",
     "text": [
      "the predicted answer is :  yes\n",
      "probability of certainty is:  0.8669238\n"
     ]
    }
   ],
   "source": [
    "# genrate prediction from the model\n",
    "val_max = np.argmax(pred_result[0])\n",
    "\n",
    "for key , val in tokenizer.word_index.items():\n",
    "    if val == val_max:\n",
    "        k = key\n",
    "        \n",
    "print('the predicted answer is : ' , k)\n",
    "print('probability of certainty is: ' , pred_result[0][val_max])"
   ]
  },
  {
   "cell_type": "markdown",
   "metadata": {},
   "source": [
    "# Thanks"
   ]
  }
 ],
 "metadata": {
  "kernelspec": {
   "display_name": "Python 3",
   "language": "python",
   "name": "python3"
  },
  "language_info": {
   "codemirror_mode": {
    "name": "ipython",
    "version": 3
   },
   "file_extension": ".py",
   "mimetype": "text/x-python",
   "name": "python",
   "nbconvert_exporter": "python",
   "pygments_lexer": "ipython3",
   "version": "3.7.7"
  }
 },
 "nbformat": 4,
 "nbformat_minor": 4
}
