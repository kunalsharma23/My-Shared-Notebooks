{
 "cells": [
  {
   "cell_type": "markdown",
   "metadata": {},
   "source": [
    "# An introduction to Mobile Phone Activity"
   ]
  },
  {
   "cell_type": "markdown",
   "metadata": {},
   "source": [
    "# Introduciton\n",
    "\n",
    "\n",
    "* The Mobile phone activity dataset is composed by one week of Call Details Records (CDRs) from the city of Milan and the Province of Trentino (Italy)."
   ]
  },
  {
   "cell_type": "markdown",
   "metadata": {},
   "source": [
    "# Description of the dataset\n",
    "Every time a user engages a telecommunication interaction, a Radio Base Station (RBS) is assigned by the operator and delivers the communication through the network. Then, a new CDR is created recording the time of the interaction and the RBS which handled it. The following activities are present in the dataset:\n",
    "\n",
    "* received SMS\n",
    "* sent SMS\n",
    "* incoming calls\n",
    "* outgoing calls\n",
    "* Internet activity\n",
    "In particular, Internet activity is generated each time a user starts an Internet connection or ends an Internet connection. Moreover, during the same connection a CDR is generated if the connection lasts for more than 15 min or the user transferred more than 5 MB.\n",
    "\n",
    "The datasets is spatially aggregated in a square cells grid. The area of Milan is composed of a grid overlay of 1,000 (squares with size of about 235×235 meters. This grid is projected with the WGS84 (EPSG:4326) standard. For more details we link the original paper http://go.nature.com/2fcOX5E\n",
    "\n",
    "The data provides CellID, CountryCode and all the aforementioned telecommunication activities aggregated every 60 minutes."
   ]
  },
  {
   "cell_type": "markdown",
   "metadata": {},
   "source": [
    "# import the libraries"
   ]
  },
  {
   "cell_type": "code",
   "execution_count": 4,
   "metadata": {},
   "outputs": [],
   "source": [
    "import pandas as pd\n",
    "import numpy as np\n",
    "import seaborn as sns\n",
    "import tensorflow as tf\n",
    "import matplotlib.pyplot as plt"
   ]
  },
  {
   "cell_type": "markdown",
   "metadata": {},
   "source": [
    "# import the data"
   ]
  },
  {
   "cell_type": "code",
   "execution_count": 7,
   "metadata": {},
   "outputs": [],
   "source": [
    "istat = pd.read_csv('ISTAT_census_variables_2011.csv')\n",
    "mipro1 = pd.read_csv('mi-to-provinces-2013-11-01.csv')\n",
    "mipro2 = pd.read_csv('mi-to-provinces-2013-11-02.csv')\n",
    "mipro3 = pd.read_csv('mi-to-provinces-2013-11-03.csv')\n",
    "mipro4 = pd.read_csv('mi-to-provinces-2013-11-04.csv')\n",
    "mipro5 = pd.read_csv('mi-to-provinces-2013-11-05.csv')\n",
    "mipro6 = pd.read_csv('mi-to-provinces-2013-11-06.csv')\n",
    "mipro7 = pd.read_csv('mi-to-provinces-2013-11-07.csv')\n",
    "smscall1 = pd.read_csv('sms-call-internet-mi-2013-11-01.csv')\n",
    "smscall2 = pd.read_csv('sms-call-internet-mi-2013-11-02.csv')\n",
    "smscall3 = pd.read_csv('sms-call-internet-mi-2013-11-03.csv')\n",
    "smscall4 = pd.read_csv('sms-call-internet-mi-2013-11-04.csv')\n",
    "smscall5 = pd.read_csv('sms-call-internet-mi-2013-11-05.csv')\n",
    "smscall6 = pd.read_csv('sms-call-internet-mi-2013-11-06.csv')\n",
    "smscall7 = pd.read_csv('sms-call-internet-mi-2013-11-07.csv')"
   ]
  },
  {
   "cell_type": "markdown",
   "metadata": {},
   "source": [
    "# Exploratory data Analysis ( EDA )"
   ]
  },
  {
   "cell_type": "markdown",
   "metadata": {},
   "source": [
    "## mi provinces nov 1"
   ]
  },
  {
   "cell_type": "code",
   "execution_count": 14,
   "metadata": {},
   "outputs": [
    {
     "data": {
      "text/html": [
       "<div>\n",
       "<style scoped>\n",
       "    .dataframe tbody tr th:only-of-type {\n",
       "        vertical-align: middle;\n",
       "    }\n",
       "\n",
       "    .dataframe tbody tr th {\n",
       "        vertical-align: top;\n",
       "    }\n",
       "\n",
       "    .dataframe thead th {\n",
       "        text-align: right;\n",
       "    }\n",
       "</style>\n",
       "<table border=\"1\" class=\"dataframe\">\n",
       "  <thead>\n",
       "    <tr style=\"text-align: right;\">\n",
       "      <th></th>\n",
       "      <th>datetime</th>\n",
       "      <th>CellID</th>\n",
       "      <th>provinceName</th>\n",
       "      <th>cell2Province</th>\n",
       "      <th>Province2cell</th>\n",
       "    </tr>\n",
       "  </thead>\n",
       "  <tbody>\n",
       "    <tr>\n",
       "      <th>0</th>\n",
       "      <td>2013-11-01 00:00:00</td>\n",
       "      <td>1</td>\n",
       "      <td>MILANO</td>\n",
       "      <td>0.1894</td>\n",
       "      <td>0.0541</td>\n",
       "    </tr>\n",
       "    <tr>\n",
       "      <th>1</th>\n",
       "      <td>2013-11-01 00:00:00</td>\n",
       "      <td>1</td>\n",
       "      <td>PAVIA</td>\n",
       "      <td>0.0273</td>\n",
       "      <td>NaN</td>\n",
       "    </tr>\n",
       "    <tr>\n",
       "      <th>2</th>\n",
       "      <td>2013-11-01 00:00:00</td>\n",
       "      <td>1</td>\n",
       "      <td>TRENTO</td>\n",
       "      <td>0.0261</td>\n",
       "      <td>NaN</td>\n",
       "    </tr>\n",
       "    <tr>\n",
       "      <th>3</th>\n",
       "      <td>2013-11-01 00:00:00</td>\n",
       "      <td>2</td>\n",
       "      <td>MILANO</td>\n",
       "      <td>0.1922</td>\n",
       "      <td>0.0556</td>\n",
       "    </tr>\n",
       "    <tr>\n",
       "      <th>4</th>\n",
       "      <td>2013-11-01 00:00:00</td>\n",
       "      <td>2</td>\n",
       "      <td>PAVIA</td>\n",
       "      <td>0.0273</td>\n",
       "      <td>NaN</td>\n",
       "    </tr>\n",
       "  </tbody>\n",
       "</table>\n",
       "</div>"
      ],
      "text/plain": [
       "              datetime  CellID provinceName  cell2Province  Province2cell\n",
       "0  2013-11-01 00:00:00       1       MILANO         0.1894         0.0541\n",
       "1  2013-11-01 00:00:00       1        PAVIA         0.0273            NaN\n",
       "2  2013-11-01 00:00:00       1       TRENTO         0.0261            NaN\n",
       "3  2013-11-01 00:00:00       2       MILANO         0.1922         0.0556\n",
       "4  2013-11-01 00:00:00       2        PAVIA         0.0273            NaN"
      ]
     },
     "execution_count": 14,
     "metadata": {},
     "output_type": "execute_result"
    }
   ],
   "source": [
    "mipro1.head()"
   ]
  },
  {
   "cell_type": "code",
   "execution_count": 10,
   "metadata": {},
   "outputs": [
    {
     "data": {
      "text/plain": [
       "2307306"
      ]
     },
     "execution_count": 10,
     "metadata": {},
     "output_type": "execute_result"
    }
   ],
   "source": [
    "len(mipro1)"
   ]
  },
  {
   "cell_type": "code",
   "execution_count": 11,
   "metadata": {},
   "outputs": [
    {
     "name": "stdout",
     "output_type": "stream",
     "text": [
      "<class 'pandas.core.frame.DataFrame'>\n",
      "RangeIndex: 2307306 entries, 0 to 2307305\n",
      "Data columns (total 5 columns):\n",
      " #   Column         Dtype  \n",
      "---  ------         -----  \n",
      " 0   datetime       object \n",
      " 1   CellID         int64  \n",
      " 2   provinceName   object \n",
      " 3   cell2Province  float64\n",
      " 4   Province2cell  float64\n",
      "dtypes: float64(2), int64(1), object(2)\n",
      "memory usage: 88.0+ MB\n"
     ]
    }
   ],
   "source": [
    "mipro1.info()"
   ]
  },
  {
   "cell_type": "code",
   "execution_count": 12,
   "metadata": {},
   "outputs": [
    {
     "data": {
      "text/html": [
       "<div>\n",
       "<style scoped>\n",
       "    .dataframe tbody tr th:only-of-type {\n",
       "        vertical-align: middle;\n",
       "    }\n",
       "\n",
       "    .dataframe tbody tr th {\n",
       "        vertical-align: top;\n",
       "    }\n",
       "\n",
       "    .dataframe thead th {\n",
       "        text-align: right;\n",
       "    }\n",
       "</style>\n",
       "<table border=\"1\" class=\"dataframe\">\n",
       "  <thead>\n",
       "    <tr style=\"text-align: right;\">\n",
       "      <th></th>\n",
       "      <th>CellID</th>\n",
       "      <th>cell2Province</th>\n",
       "      <th>Province2cell</th>\n",
       "    </tr>\n",
       "  </thead>\n",
       "  <tbody>\n",
       "    <tr>\n",
       "      <th>count</th>\n",
       "      <td>2.307306e+06</td>\n",
       "      <td>1.407931e+06</td>\n",
       "      <td>1.447630e+06</td>\n",
       "    </tr>\n",
       "    <tr>\n",
       "      <th>mean</th>\n",
       "      <td>5.142692e+03</td>\n",
       "      <td>6.463123e-01</td>\n",
       "      <td>6.312888e-01</td>\n",
       "    </tr>\n",
       "    <tr>\n",
       "      <th>std</th>\n",
       "      <td>2.782546e+03</td>\n",
       "      <td>2.473941e+00</td>\n",
       "      <td>2.451426e+00</td>\n",
       "    </tr>\n",
       "    <tr>\n",
       "      <th>min</th>\n",
       "      <td>1.000000e+00</td>\n",
       "      <td>0.000000e+00</td>\n",
       "      <td>0.000000e+00</td>\n",
       "    </tr>\n",
       "    <tr>\n",
       "      <th>25%</th>\n",
       "      <td>2.902000e+03</td>\n",
       "      <td>3.390000e-02</td>\n",
       "      <td>3.090000e-02</td>\n",
       "    </tr>\n",
       "    <tr>\n",
       "      <th>50%</th>\n",
       "      <td>5.158000e+03</td>\n",
       "      <td>1.101000e-01</td>\n",
       "      <td>1.050000e-01</td>\n",
       "    </tr>\n",
       "    <tr>\n",
       "      <th>75%</th>\n",
       "      <td>7.483000e+03</td>\n",
       "      <td>3.525000e-01</td>\n",
       "      <td>3.347000e-01</td>\n",
       "    </tr>\n",
       "    <tr>\n",
       "      <th>max</th>\n",
       "      <td>1.000000e+04</td>\n",
       "      <td>2.354432e+02</td>\n",
       "      <td>2.508271e+02</td>\n",
       "    </tr>\n",
       "  </tbody>\n",
       "</table>\n",
       "</div>"
      ],
      "text/plain": [
       "             CellID  cell2Province  Province2cell\n",
       "count  2.307306e+06   1.407931e+06   1.447630e+06\n",
       "mean   5.142692e+03   6.463123e-01   6.312888e-01\n",
       "std    2.782546e+03   2.473941e+00   2.451426e+00\n",
       "min    1.000000e+00   0.000000e+00   0.000000e+00\n",
       "25%    2.902000e+03   3.390000e-02   3.090000e-02\n",
       "50%    5.158000e+03   1.101000e-01   1.050000e-01\n",
       "75%    7.483000e+03   3.525000e-01   3.347000e-01\n",
       "max    1.000000e+04   2.354432e+02   2.508271e+02"
      ]
     },
     "execution_count": 12,
     "metadata": {},
     "output_type": "execute_result"
    }
   ],
   "source": [
    "mipro1.describe()"
   ]
  },
  {
   "cell_type": "code",
   "execution_count": 15,
   "metadata": {},
   "outputs": [
    {
     "data": {
      "text/plain": [
       "6165    923\n",
       "6265    798\n",
       "4554    765\n",
       "6366    763\n",
       "6267    741\n",
       "       ... \n",
       "5192     27\n",
       "5193     27\n",
       "5093     27\n",
       "5092     27\n",
       "8028     23\n",
       "Name: CellID, Length: 10000, dtype: int64"
      ]
     },
     "execution_count": 15,
     "metadata": {},
     "output_type": "execute_result"
    }
   ],
   "source": [
    "mipro1['CellID'].value_counts()"
   ]
  },
  {
   "cell_type": "code",
   "execution_count": 17,
   "metadata": {},
   "outputs": [
    {
     "data": {
      "text/plain": [
       "datetime              0\n",
       "CellID                0\n",
       "provinceName          0\n",
       "cell2Province    899375\n",
       "Province2cell    859676\n",
       "dtype: int64"
      ]
     },
     "execution_count": 17,
     "metadata": {},
     "output_type": "execute_result"
    }
   ],
   "source": [
    "mipro1.isnull().sum()"
   ]
  },
  {
   "cell_type": "code",
   "execution_count": 18,
   "metadata": {},
   "outputs": [
    {
     "data": {
      "text/plain": [
       "MILANO                   226487\n",
       "MONZA E DELLA BRIANZA    108904\n",
       "PAVIA                    107362\n",
       "NAPOLI                    79804\n",
       "BERGAMO                   79295\n",
       "                          ...  \n",
       "ORISTANO                   2103\n",
       "NUORO                      2039\n",
       "CARBONIA-IGLESIAS          1962\n",
       "OGLIASTRA                  1035\n",
       "MEDIO CAMPIDANO             637\n",
       "Name: provinceName, Length: 110, dtype: int64"
      ]
     },
     "execution_count": 18,
     "metadata": {},
     "output_type": "execute_result"
    }
   ],
   "source": [
    "mipro1['provinceName'].value_counts()"
   ]
  },
  {
   "cell_type": "markdown",
   "metadata": {},
   "source": [
    "## mi provinces nov 2"
   ]
  },
  {
   "cell_type": "code",
   "execution_count": 20,
   "metadata": {},
   "outputs": [
    {
     "data": {
      "text/html": [
       "<div>\n",
       "<style scoped>\n",
       "    .dataframe tbody tr th:only-of-type {\n",
       "        vertical-align: middle;\n",
       "    }\n",
       "\n",
       "    .dataframe tbody tr th {\n",
       "        vertical-align: top;\n",
       "    }\n",
       "\n",
       "    .dataframe thead th {\n",
       "        text-align: right;\n",
       "    }\n",
       "</style>\n",
       "<table border=\"1\" class=\"dataframe\">\n",
       "  <thead>\n",
       "    <tr style=\"text-align: right;\">\n",
       "      <th></th>\n",
       "      <th>datetime</th>\n",
       "      <th>CellID</th>\n",
       "      <th>provinceName</th>\n",
       "      <th>cell2Province</th>\n",
       "      <th>Province2cell</th>\n",
       "    </tr>\n",
       "  </thead>\n",
       "  <tbody>\n",
       "    <tr>\n",
       "      <th>0</th>\n",
       "      <td>2013-11-02 00:00:00</td>\n",
       "      <td>1</td>\n",
       "      <td>CREMONA</td>\n",
       "      <td>0.0273</td>\n",
       "      <td>NaN</td>\n",
       "    </tr>\n",
       "    <tr>\n",
       "      <th>1</th>\n",
       "      <td>2013-11-02 00:00:00</td>\n",
       "      <td>1</td>\n",
       "      <td>MILANO</td>\n",
       "      <td>0.0570</td>\n",
       "      <td>0.1087</td>\n",
       "    </tr>\n",
       "    <tr>\n",
       "      <th>2</th>\n",
       "      <td>2013-11-02 00:00:00</td>\n",
       "      <td>1</td>\n",
       "      <td>PAVIA</td>\n",
       "      <td>NaN</td>\n",
       "      <td>0.0546</td>\n",
       "    </tr>\n",
       "    <tr>\n",
       "      <th>3</th>\n",
       "      <td>2013-11-02 00:00:00</td>\n",
       "      <td>2</td>\n",
       "      <td>CREMONA</td>\n",
       "      <td>0.0273</td>\n",
       "      <td>NaN</td>\n",
       "    </tr>\n",
       "    <tr>\n",
       "      <th>4</th>\n",
       "      <td>2013-11-02 00:00:00</td>\n",
       "      <td>2</td>\n",
       "      <td>MILANO</td>\n",
       "      <td>0.0565</td>\n",
       "      <td>0.1102</td>\n",
       "    </tr>\n",
       "  </tbody>\n",
       "</table>\n",
       "</div>"
      ],
      "text/plain": [
       "              datetime  CellID provinceName  cell2Province  Province2cell\n",
       "0  2013-11-02 00:00:00       1      CREMONA         0.0273            NaN\n",
       "1  2013-11-02 00:00:00       1       MILANO         0.0570         0.1087\n",
       "2  2013-11-02 00:00:00       1        PAVIA            NaN         0.0546\n",
       "3  2013-11-02 00:00:00       2      CREMONA         0.0273            NaN\n",
       "4  2013-11-02 00:00:00       2       MILANO         0.0565         0.1102"
      ]
     },
     "execution_count": 20,
     "metadata": {},
     "output_type": "execute_result"
    }
   ],
   "source": [
    "mipro2.head()"
   ]
  },
  {
   "cell_type": "code",
   "execution_count": 21,
   "metadata": {},
   "outputs": [
    {
     "data": {
      "text/plain": [
       "2295314"
      ]
     },
     "execution_count": 21,
     "metadata": {},
     "output_type": "execute_result"
    }
   ],
   "source": [
    "len(mipro2)"
   ]
  },
  {
   "cell_type": "code",
   "execution_count": 22,
   "metadata": {},
   "outputs": [
    {
     "data": {
      "text/html": [
       "<div>\n",
       "<style scoped>\n",
       "    .dataframe tbody tr th:only-of-type {\n",
       "        vertical-align: middle;\n",
       "    }\n",
       "\n",
       "    .dataframe tbody tr th {\n",
       "        vertical-align: top;\n",
       "    }\n",
       "\n",
       "    .dataframe thead th {\n",
       "        text-align: right;\n",
       "    }\n",
       "</style>\n",
       "<table border=\"1\" class=\"dataframe\">\n",
       "  <thead>\n",
       "    <tr style=\"text-align: right;\">\n",
       "      <th></th>\n",
       "      <th>datetime</th>\n",
       "      <th>CellID</th>\n",
       "      <th>countrycode</th>\n",
       "      <th>smsin</th>\n",
       "      <th>smsout</th>\n",
       "      <th>callin</th>\n",
       "      <th>callout</th>\n",
       "      <th>internet</th>\n",
       "    </tr>\n",
       "  </thead>\n",
       "  <tbody>\n",
       "    <tr>\n",
       "      <th>0</th>\n",
       "      <td>2013-11-01 00:00:00</td>\n",
       "      <td>1</td>\n",
       "      <td>0</td>\n",
       "      <td>0.3521</td>\n",
       "      <td>NaN</td>\n",
       "      <td>NaN</td>\n",
       "      <td>0.0273</td>\n",
       "      <td>NaN</td>\n",
       "    </tr>\n",
       "    <tr>\n",
       "      <th>1</th>\n",
       "      <td>2013-11-01 00:00:00</td>\n",
       "      <td>1</td>\n",
       "      <td>33</td>\n",
       "      <td>NaN</td>\n",
       "      <td>NaN</td>\n",
       "      <td>NaN</td>\n",
       "      <td>NaN</td>\n",
       "      <td>0.0261</td>\n",
       "    </tr>\n",
       "    <tr>\n",
       "      <th>2</th>\n",
       "      <td>2013-11-01 00:00:00</td>\n",
       "      <td>1</td>\n",
       "      <td>39</td>\n",
       "      <td>1.7322</td>\n",
       "      <td>1.1047</td>\n",
       "      <td>0.5919</td>\n",
       "      <td>0.4020</td>\n",
       "      <td>57.7729</td>\n",
       "    </tr>\n",
       "    <tr>\n",
       "      <th>3</th>\n",
       "      <td>2013-11-01 00:00:00</td>\n",
       "      <td>2</td>\n",
       "      <td>0</td>\n",
       "      <td>0.3581</td>\n",
       "      <td>NaN</td>\n",
       "      <td>NaN</td>\n",
       "      <td>0.0273</td>\n",
       "      <td>NaN</td>\n",
       "    </tr>\n",
       "    <tr>\n",
       "      <th>4</th>\n",
       "      <td>2013-11-01 00:00:00</td>\n",
       "      <td>2</td>\n",
       "      <td>33</td>\n",
       "      <td>NaN</td>\n",
       "      <td>NaN</td>\n",
       "      <td>NaN</td>\n",
       "      <td>NaN</td>\n",
       "      <td>0.0274</td>\n",
       "    </tr>\n",
       "  </tbody>\n",
       "</table>\n",
       "</div>"
      ],
      "text/plain": [
       "              datetime  CellID  countrycode   smsin  smsout  callin  callout  \\\n",
       "0  2013-11-01 00:00:00       1            0  0.3521     NaN     NaN   0.0273   \n",
       "1  2013-11-01 00:00:00       1           33     NaN     NaN     NaN      NaN   \n",
       "2  2013-11-01 00:00:00       1           39  1.7322  1.1047  0.5919   0.4020   \n",
       "3  2013-11-01 00:00:00       2            0  0.3581     NaN     NaN   0.0273   \n",
       "4  2013-11-01 00:00:00       2           33     NaN     NaN     NaN      NaN   \n",
       "\n",
       "   internet  \n",
       "0       NaN  \n",
       "1    0.0261  \n",
       "2   57.7729  \n",
       "3       NaN  \n",
       "4    0.0274  "
      ]
     },
     "execution_count": 22,
     "metadata": {},
     "output_type": "execute_result"
    }
   ],
   "source": [
    "smscall1.head()"
   ]
  },
  {
   "cell_type": "code",
   "execution_count": 23,
   "metadata": {},
   "outputs": [
    {
     "data": {
      "text/plain": [
       "1891928"
      ]
     },
     "execution_count": 23,
     "metadata": {},
     "output_type": "execute_result"
    }
   ],
   "source": [
    "len(smscall1)"
   ]
  },
  {
   "cell_type": "code",
   "execution_count": 24,
   "metadata": {},
   "outputs": [
    {
     "data": {
      "text/html": [
       "<div>\n",
       "<style scoped>\n",
       "    .dataframe tbody tr th:only-of-type {\n",
       "        vertical-align: middle;\n",
       "    }\n",
       "\n",
       "    .dataframe tbody tr th {\n",
       "        vertical-align: top;\n",
       "    }\n",
       "\n",
       "    .dataframe thead th {\n",
       "        text-align: right;\n",
       "    }\n",
       "</style>\n",
       "<table border=\"1\" class=\"dataframe\">\n",
       "  <thead>\n",
       "    <tr style=\"text-align: right;\">\n",
       "      <th></th>\n",
       "      <th>datetime</th>\n",
       "      <th>CellID</th>\n",
       "      <th>countrycode</th>\n",
       "      <th>smsin</th>\n",
       "      <th>smsout</th>\n",
       "      <th>callin</th>\n",
       "      <th>callout</th>\n",
       "      <th>internet</th>\n",
       "    </tr>\n",
       "  </thead>\n",
       "  <tbody>\n",
       "    <tr>\n",
       "      <th>0</th>\n",
       "      <td>2013-11-02 00:00:00</td>\n",
       "      <td>1</td>\n",
       "      <td>0</td>\n",
       "      <td>0.2445</td>\n",
       "      <td>NaN</td>\n",
       "      <td>NaN</td>\n",
       "      <td>NaN</td>\n",
       "      <td>NaN</td>\n",
       "    </tr>\n",
       "    <tr>\n",
       "      <th>1</th>\n",
       "      <td>2013-11-02 00:00:00</td>\n",
       "      <td>1</td>\n",
       "      <td>39</td>\n",
       "      <td>1.4952</td>\n",
       "      <td>1.1213</td>\n",
       "      <td>0.2708</td>\n",
       "      <td>0.3004</td>\n",
       "      <td>46.5094</td>\n",
       "    </tr>\n",
       "    <tr>\n",
       "      <th>2</th>\n",
       "      <td>2013-11-02 00:00:00</td>\n",
       "      <td>1</td>\n",
       "      <td>53</td>\n",
       "      <td>0.0018</td>\n",
       "      <td>0.0036</td>\n",
       "      <td>NaN</td>\n",
       "      <td>NaN</td>\n",
       "      <td>NaN</td>\n",
       "    </tr>\n",
       "    <tr>\n",
       "      <th>3</th>\n",
       "      <td>2013-11-02 00:00:00</td>\n",
       "      <td>2</td>\n",
       "      <td>0</td>\n",
       "      <td>0.2458</td>\n",
       "      <td>NaN</td>\n",
       "      <td>NaN</td>\n",
       "      <td>NaN</td>\n",
       "      <td>NaN</td>\n",
       "    </tr>\n",
       "    <tr>\n",
       "      <th>4</th>\n",
       "      <td>2013-11-02 00:00:00</td>\n",
       "      <td>2</td>\n",
       "      <td>39</td>\n",
       "      <td>1.5028</td>\n",
       "      <td>1.1243</td>\n",
       "      <td>0.2751</td>\n",
       "      <td>0.3023</td>\n",
       "      <td>46.6933</td>\n",
       "    </tr>\n",
       "  </tbody>\n",
       "</table>\n",
       "</div>"
      ],
      "text/plain": [
       "              datetime  CellID  countrycode   smsin  smsout  callin  callout  \\\n",
       "0  2013-11-02 00:00:00       1            0  0.2445     NaN     NaN      NaN   \n",
       "1  2013-11-02 00:00:00       1           39  1.4952  1.1213  0.2708   0.3004   \n",
       "2  2013-11-02 00:00:00       1           53  0.0018  0.0036     NaN      NaN   \n",
       "3  2013-11-02 00:00:00       2            0  0.2458     NaN     NaN      NaN   \n",
       "4  2013-11-02 00:00:00       2           39  1.5028  1.1243  0.2751   0.3023   \n",
       "\n",
       "   internet  \n",
       "0       NaN  \n",
       "1   46.5094  \n",
       "2       NaN  \n",
       "3       NaN  \n",
       "4   46.6933  "
      ]
     },
     "execution_count": 24,
     "metadata": {},
     "output_type": "execute_result"
    }
   ],
   "source": [
    "smscall2.head()"
   ]
  },
  {
   "cell_type": "code",
   "execution_count": 25,
   "metadata": {},
   "outputs": [
    {
     "data": {
      "text/html": [
       "<div>\n",
       "<style scoped>\n",
       "    .dataframe tbody tr th:only-of-type {\n",
       "        vertical-align: middle;\n",
       "    }\n",
       "\n",
       "    .dataframe tbody tr th {\n",
       "        vertical-align: top;\n",
       "    }\n",
       "\n",
       "    .dataframe thead th {\n",
       "        text-align: right;\n",
       "    }\n",
       "</style>\n",
       "<table border=\"1\" class=\"dataframe\">\n",
       "  <thead>\n",
       "    <tr style=\"text-align: right;\">\n",
       "      <th></th>\n",
       "      <th>PROVINCIA</th>\n",
       "      <th>P1</th>\n",
       "      <th>P2</th>\n",
       "      <th>P3</th>\n",
       "      <th>P4</th>\n",
       "      <th>P5</th>\n",
       "      <th>P6</th>\n",
       "      <th>P7</th>\n",
       "      <th>P8</th>\n",
       "      <th>P9</th>\n",
       "      <th>...</th>\n",
       "      <th>E18</th>\n",
       "      <th>E19</th>\n",
       "      <th>E20</th>\n",
       "      <th>E21</th>\n",
       "      <th>E22</th>\n",
       "      <th>E23</th>\n",
       "      <th>E24</th>\n",
       "      <th>E25</th>\n",
       "      <th>E26</th>\n",
       "      <th>E27</th>\n",
       "    </tr>\n",
       "  </thead>\n",
       "  <tbody>\n",
       "    <tr>\n",
       "      <th>0</th>\n",
       "      <td>Alessandria</td>\n",
       "      <td>427229</td>\n",
       "      <td>204983</td>\n",
       "      <td>222246</td>\n",
       "      <td>158222</td>\n",
       "      <td>198253</td>\n",
       "      <td>11481</td>\n",
       "      <td>44582</td>\n",
       "      <td>14691</td>\n",
       "      <td>85839</td>\n",
       "      <td>...</td>\n",
       "      <td>82121</td>\n",
       "      <td>27855</td>\n",
       "      <td>7197</td>\n",
       "      <td>84634</td>\n",
       "      <td>23155</td>\n",
       "      <td>10813</td>\n",
       "      <td>5564</td>\n",
       "      <td>2523</td>\n",
       "      <td>1896</td>\n",
       "      <td>280402</td>\n",
       "    </tr>\n",
       "    <tr>\n",
       "      <th>1</th>\n",
       "      <td>Asti</td>\n",
       "      <td>217573</td>\n",
       "      <td>105370</td>\n",
       "      <td>112203</td>\n",
       "      <td>82119</td>\n",
       "      <td>102538</td>\n",
       "      <td>5404</td>\n",
       "      <td>20767</td>\n",
       "      <td>6745</td>\n",
       "      <td>44773</td>\n",
       "      <td>...</td>\n",
       "      <td>49604</td>\n",
       "      <td>11716</td>\n",
       "      <td>3039</td>\n",
       "      <td>48074</td>\n",
       "      <td>12510</td>\n",
       "      <td>4775</td>\n",
       "      <td>2083</td>\n",
       "      <td>1194</td>\n",
       "      <td>786</td>\n",
       "      <td>134452</td>\n",
       "    </tr>\n",
       "    <tr>\n",
       "      <th>2</th>\n",
       "      <td>Biella</td>\n",
       "      <td>182192</td>\n",
       "      <td>86821</td>\n",
       "      <td>95371</td>\n",
       "      <td>69188</td>\n",
       "      <td>82431</td>\n",
       "      <td>5266</td>\n",
       "      <td>18474</td>\n",
       "      <td>6833</td>\n",
       "      <td>37017</td>\n",
       "      <td>...</td>\n",
       "      <td>25523</td>\n",
       "      <td>19595</td>\n",
       "      <td>5795</td>\n",
       "      <td>35030</td>\n",
       "      <td>11310</td>\n",
       "      <td>4776</td>\n",
       "      <td>2066</td>\n",
       "      <td>974</td>\n",
       "      <td>581</td>\n",
       "      <td>112204</td>\n",
       "    </tr>\n",
       "    <tr>\n",
       "      <th>3</th>\n",
       "      <td>Cuneo</td>\n",
       "      <td>586378</td>\n",
       "      <td>287786</td>\n",
       "      <td>298592</td>\n",
       "      <td>231452</td>\n",
       "      <td>276983</td>\n",
       "      <td>12473</td>\n",
       "      <td>49417</td>\n",
       "      <td>16053</td>\n",
       "      <td>127243</td>\n",
       "      <td>...</td>\n",
       "      <td>113200</td>\n",
       "      <td>43780</td>\n",
       "      <td>10393</td>\n",
       "      <td>106446</td>\n",
       "      <td>41341</td>\n",
       "      <td>18356</td>\n",
       "      <td>8181</td>\n",
       "      <td>3449</td>\n",
       "      <td>2278</td>\n",
       "      <td>402507</td>\n",
       "    </tr>\n",
       "    <tr>\n",
       "      <th>4</th>\n",
       "      <td>Novara</td>\n",
       "      <td>365559</td>\n",
       "      <td>176361</td>\n",
       "      <td>189198</td>\n",
       "      <td>143302</td>\n",
       "      <td>170741</td>\n",
       "      <td>9351</td>\n",
       "      <td>31811</td>\n",
       "      <td>10354</td>\n",
       "      <td>76929</td>\n",
       "      <td>...</td>\n",
       "      <td>40028</td>\n",
       "      <td>25384</td>\n",
       "      <td>5773</td>\n",
       "      <td>39561</td>\n",
       "      <td>22413</td>\n",
       "      <td>10224</td>\n",
       "      <td>4404</td>\n",
       "      <td>2272</td>\n",
       "      <td>1148</td>\n",
       "      <td>199727</td>\n",
       "    </tr>\n",
       "  </tbody>\n",
       "</table>\n",
       "<p>5 rows × 135 columns</p>\n",
       "</div>"
      ],
      "text/plain": [
       "     PROVINCIA      P1      P2      P3      P4      P5     P6     P7     P8  \\\n",
       "0  Alessandria  427229  204983  222246  158222  198253  11481  44582  14691   \n",
       "1         Asti  217573  105370  112203   82119  102538   5404  20767   6745   \n",
       "2       Biella  182192   86821   95371   69188   82431   5266  18474   6833   \n",
       "3        Cuneo  586378  287786  298592  231452  276983  12473  49417  16053   \n",
       "4       Novara  365559  176361  189198  143302  170741   9351  31811  10354   \n",
       "\n",
       "       P9  ...     E18    E19    E20     E21    E22    E23   E24   E25   E26  \\\n",
       "0   85839  ...   82121  27855   7197   84634  23155  10813  5564  2523  1896   \n",
       "1   44773  ...   49604  11716   3039   48074  12510   4775  2083  1194   786   \n",
       "2   37017  ...   25523  19595   5795   35030  11310   4776  2066   974   581   \n",
       "3  127243  ...  113200  43780  10393  106446  41341  18356  8181  3449  2278   \n",
       "4   76929  ...   40028  25384   5773   39561  22413  10224  4404  2272  1148   \n",
       "\n",
       "      E27  \n",
       "0  280402  \n",
       "1  134452  \n",
       "2  112204  \n",
       "3  402507  \n",
       "4  199727  \n",
       "\n",
       "[5 rows x 135 columns]"
      ]
     },
     "execution_count": 25,
     "metadata": {},
     "output_type": "execute_result"
    }
   ],
   "source": [
    "istat.head()"
   ]
  },
  {
   "cell_type": "code",
   "execution_count": 26,
   "metadata": {},
   "outputs": [
    {
     "data": {
      "text/plain": [
       "110"
      ]
     },
     "execution_count": 26,
     "metadata": {},
     "output_type": "execute_result"
    }
   ],
   "source": [
    "len(istat)"
   ]
  },
  {
   "cell_type": "code",
   "execution_count": 27,
   "metadata": {},
   "outputs": [
    {
     "data": {
      "text/plain": [
       "Index(['PROVINCIA', 'P1', 'P2', 'P3', 'P4', 'P5', 'P6', 'P7', 'P8', 'P9',\n",
       "       ...\n",
       "       'E18', 'E19', 'E20', 'E21', 'E22', 'E23', 'E24', 'E25', 'E26', 'E27'],\n",
       "      dtype='object', length=135)"
      ]
     },
     "execution_count": 27,
     "metadata": {},
     "output_type": "execute_result"
    }
   ],
   "source": [
    "istat.columns"
   ]
  },
  {
   "cell_type": "code",
   "execution_count": 28,
   "metadata": {},
   "outputs": [
    {
     "name": "stdout",
     "output_type": "stream",
     "text": [
      "<class 'pandas.core.frame.DataFrame'>\n",
      "RangeIndex: 110 entries, 0 to 109\n",
      "Columns: 135 entries, PROVINCIA to E27\n",
      "dtypes: int64(134), object(1)\n",
      "memory usage: 116.1+ KB\n"
     ]
    }
   ],
   "source": [
    "istat.info()"
   ]
  },
  {
   "cell_type": "code",
   "execution_count": 30,
   "metadata": {},
   "outputs": [],
   "source": [
    "istat_cor = istat.corr()"
   ]
  },
  {
   "cell_type": "code",
   "execution_count": 38,
   "metadata": {},
   "outputs": [
    {
     "data": {
      "text/plain": [
       "<matplotlib.axes._subplots.AxesSubplot at 0xff90609408>"
      ]
     },
     "execution_count": 38,
     "metadata": {},
     "output_type": "execute_result"
    },
    {
     "data": {
      "image/png": "[encoded data removed]",
      "text/plain": [
       "<Figure size 1008x576 with 2 Axes>"
      ]
     },
     "metadata": {
      "needs_background": "light"
     },
     "output_type": "display_data"
    }
   ],
   "source": [
    "plt.figure(figsize = (14,8))\n",
    "sns.heatmap(istat_cor , cmap = 'magma')"
   ]
  },
  {
   "cell_type": "code",
   "execution_count": 39,
   "metadata": {},
   "outputs": [
    {
     "data": {
      "text/html": [
       "<div>\n",
       "<style scoped>\n",
       "    .dataframe tbody tr th:only-of-type {\n",
       "        vertical-align: middle;\n",
       "    }\n",
       "\n",
       "    .dataframe tbody tr th {\n",
       "        vertical-align: top;\n",
       "    }\n",
       "\n",
       "    .dataframe thead th {\n",
       "        text-align: right;\n",
       "    }\n",
       "</style>\n",
       "<table border=\"1\" class=\"dataframe\">\n",
       "  <thead>\n",
       "    <tr style=\"text-align: right;\">\n",
       "      <th></th>\n",
       "      <th>PROVINCIA</th>\n",
       "      <th>P1</th>\n",
       "      <th>P2</th>\n",
       "      <th>P3</th>\n",
       "      <th>P4</th>\n",
       "      <th>P5</th>\n",
       "      <th>P6</th>\n",
       "      <th>P7</th>\n",
       "      <th>P8</th>\n",
       "      <th>P9</th>\n",
       "      <th>...</th>\n",
       "      <th>E18</th>\n",
       "      <th>E19</th>\n",
       "      <th>E20</th>\n",
       "      <th>E21</th>\n",
       "      <th>E22</th>\n",
       "      <th>E23</th>\n",
       "      <th>E24</th>\n",
       "      <th>E25</th>\n",
       "      <th>E26</th>\n",
       "      <th>E27</th>\n",
       "    </tr>\n",
       "  </thead>\n",
       "  <tbody>\n",
       "    <tr>\n",
       "      <th>0</th>\n",
       "      <td>Alessandria</td>\n",
       "      <td>427229</td>\n",
       "      <td>204983</td>\n",
       "      <td>222246</td>\n",
       "      <td>158222</td>\n",
       "      <td>198253</td>\n",
       "      <td>11481</td>\n",
       "      <td>44582</td>\n",
       "      <td>14691</td>\n",
       "      <td>85839</td>\n",
       "      <td>...</td>\n",
       "      <td>82121</td>\n",
       "      <td>27855</td>\n",
       "      <td>7197</td>\n",
       "      <td>84634</td>\n",
       "      <td>23155</td>\n",
       "      <td>10813</td>\n",
       "      <td>5564</td>\n",
       "      <td>2523</td>\n",
       "      <td>1896</td>\n",
       "      <td>280402</td>\n",
       "    </tr>\n",
       "    <tr>\n",
       "      <th>1</th>\n",
       "      <td>Asti</td>\n",
       "      <td>217573</td>\n",
       "      <td>105370</td>\n",
       "      <td>112203</td>\n",
       "      <td>82119</td>\n",
       "      <td>102538</td>\n",
       "      <td>5404</td>\n",
       "      <td>20767</td>\n",
       "      <td>6745</td>\n",
       "      <td>44773</td>\n",
       "      <td>...</td>\n",
       "      <td>49604</td>\n",
       "      <td>11716</td>\n",
       "      <td>3039</td>\n",
       "      <td>48074</td>\n",
       "      <td>12510</td>\n",
       "      <td>4775</td>\n",
       "      <td>2083</td>\n",
       "      <td>1194</td>\n",
       "      <td>786</td>\n",
       "      <td>134452</td>\n",
       "    </tr>\n",
       "    <tr>\n",
       "      <th>2</th>\n",
       "      <td>Biella</td>\n",
       "      <td>182192</td>\n",
       "      <td>86821</td>\n",
       "      <td>95371</td>\n",
       "      <td>69188</td>\n",
       "      <td>82431</td>\n",
       "      <td>5266</td>\n",
       "      <td>18474</td>\n",
       "      <td>6833</td>\n",
       "      <td>37017</td>\n",
       "      <td>...</td>\n",
       "      <td>25523</td>\n",
       "      <td>19595</td>\n",
       "      <td>5795</td>\n",
       "      <td>35030</td>\n",
       "      <td>11310</td>\n",
       "      <td>4776</td>\n",
       "      <td>2066</td>\n",
       "      <td>974</td>\n",
       "      <td>581</td>\n",
       "      <td>112204</td>\n",
       "    </tr>\n",
       "    <tr>\n",
       "      <th>3</th>\n",
       "      <td>Cuneo</td>\n",
       "      <td>586378</td>\n",
       "      <td>287786</td>\n",
       "      <td>298592</td>\n",
       "      <td>231452</td>\n",
       "      <td>276983</td>\n",
       "      <td>12473</td>\n",
       "      <td>49417</td>\n",
       "      <td>16053</td>\n",
       "      <td>127243</td>\n",
       "      <td>...</td>\n",
       "      <td>113200</td>\n",
       "      <td>43780</td>\n",
       "      <td>10393</td>\n",
       "      <td>106446</td>\n",
       "      <td>41341</td>\n",
       "      <td>18356</td>\n",
       "      <td>8181</td>\n",
       "      <td>3449</td>\n",
       "      <td>2278</td>\n",
       "      <td>402507</td>\n",
       "    </tr>\n",
       "    <tr>\n",
       "      <th>4</th>\n",
       "      <td>Novara</td>\n",
       "      <td>365559</td>\n",
       "      <td>176361</td>\n",
       "      <td>189198</td>\n",
       "      <td>143302</td>\n",
       "      <td>170741</td>\n",
       "      <td>9351</td>\n",
       "      <td>31811</td>\n",
       "      <td>10354</td>\n",
       "      <td>76929</td>\n",
       "      <td>...</td>\n",
       "      <td>40028</td>\n",
       "      <td>25384</td>\n",
       "      <td>5773</td>\n",
       "      <td>39561</td>\n",
       "      <td>22413</td>\n",
       "      <td>10224</td>\n",
       "      <td>4404</td>\n",
       "      <td>2272</td>\n",
       "      <td>1148</td>\n",
       "      <td>199727</td>\n",
       "    </tr>\n",
       "  </tbody>\n",
       "</table>\n",
       "<p>5 rows × 135 columns</p>\n",
       "</div>"
      ],
      "text/plain": [
       "     PROVINCIA      P1      P2      P3      P4      P5     P6     P7     P8  \\\n",
       "0  Alessandria  427229  204983  222246  158222  198253  11481  44582  14691   \n",
       "1         Asti  217573  105370  112203   82119  102538   5404  20767   6745   \n",
       "2       Biella  182192   86821   95371   69188   82431   5266  18474   6833   \n",
       "3        Cuneo  586378  287786  298592  231452  276983  12473  49417  16053   \n",
       "4       Novara  365559  176361  189198  143302  170741   9351  31811  10354   \n",
       "\n",
       "       P9  ...     E18    E19    E20     E21    E22    E23   E24   E25   E26  \\\n",
       "0   85839  ...   82121  27855   7197   84634  23155  10813  5564  2523  1896   \n",
       "1   44773  ...   49604  11716   3039   48074  12510   4775  2083  1194   786   \n",
       "2   37017  ...   25523  19595   5795   35030  11310   4776  2066   974   581   \n",
       "3  127243  ...  113200  43780  10393  106446  41341  18356  8181  3449  2278   \n",
       "4   76929  ...   40028  25384   5773   39561  22413  10224  4404  2272  1148   \n",
       "\n",
       "      E27  \n",
       "0  280402  \n",
       "1  134452  \n",
       "2  112204  \n",
       "3  402507  \n",
       "4  199727  \n",
       "\n",
       "[5 rows x 135 columns]"
      ]
     },
     "execution_count": 39,
     "metadata": {},
     "output_type": "execute_result"
    }
   ],
   "source": [
    "istat.head()"
   ]
  },
  {
   "cell_type": "code",
   "execution_count": 40,
   "metadata": {},
   "outputs": [
    {
     "data": {
      "text/plain": [
       "Bolzano/Bozen    1\n",
       "Biella           1\n",
       "Salerno          1\n",
       "Varese           1\n",
       "Enna             1\n",
       "                ..\n",
       "Roma             1\n",
       "Imperia          1\n",
       "Macerata         1\n",
       "Vicenza          1\n",
       "Teramo           1\n",
       "Name: PROVINCIA, Length: 110, dtype: int64"
      ]
     },
     "execution_count": 40,
     "metadata": {},
     "output_type": "execute_result"
    }
   ],
   "source": [
    "istat['PROVINCIA'].value_counts()"
   ]
  },
  {
   "cell_type": "code",
   "execution_count": 42,
   "metadata": {},
   "outputs": [
    {
     "data": {
      "text/plain": [
       "110"
      ]
     },
     "execution_count": 42,
     "metadata": {},
     "output_type": "execute_result"
    }
   ],
   "source": [
    "len(istat['PROVINCIA'].value_counts())"
   ]
  },
  {
   "cell_type": "code",
   "execution_count": 43,
   "metadata": {},
   "outputs": [
    {
     "data": {
      "text/plain": [
       "PROVINCIA    0\n",
       "P1           0\n",
       "P2           0\n",
       "P3           0\n",
       "P4           0\n",
       "            ..\n",
       "E23          0\n",
       "E24          0\n",
       "E25          0\n",
       "E26          0\n",
       "E27          0\n",
       "Length: 135, dtype: int64"
      ]
     },
     "execution_count": 43,
     "metadata": {},
     "output_type": "execute_result"
    }
   ],
   "source": [
    "istat.isnull().sum()"
   ]
  },
  {
   "cell_type": "markdown",
   "metadata": {},
   "source": [
    "# Feature Engineering"
   ]
  },
  {
   "cell_type": "code",
   "execution_count": 44,
   "metadata": {},
   "outputs": [
    {
     "data": {
      "text/html": [
       "<div>\n",
       "<style scoped>\n",
       "    .dataframe tbody tr th:only-of-type {\n",
       "        vertical-align: middle;\n",
       "    }\n",
       "\n",
       "    .dataframe tbody tr th {\n",
       "        vertical-align: top;\n",
       "    }\n",
       "\n",
       "    .dataframe thead th {\n",
       "        text-align: right;\n",
       "    }\n",
       "</style>\n",
       "<table border=\"1\" class=\"dataframe\">\n",
       "  <thead>\n",
       "    <tr style=\"text-align: right;\">\n",
       "      <th></th>\n",
       "      <th>datetime</th>\n",
       "      <th>CellID</th>\n",
       "      <th>provinceName</th>\n",
       "      <th>cell2Province</th>\n",
       "      <th>Province2cell</th>\n",
       "    </tr>\n",
       "  </thead>\n",
       "  <tbody>\n",
       "    <tr>\n",
       "      <th>0</th>\n",
       "      <td>2013-11-01 00:00:00</td>\n",
       "      <td>1</td>\n",
       "      <td>MILANO</td>\n",
       "      <td>0.1894</td>\n",
       "      <td>0.0541</td>\n",
       "    </tr>\n",
       "    <tr>\n",
       "      <th>1</th>\n",
       "      <td>2013-11-01 00:00:00</td>\n",
       "      <td>1</td>\n",
       "      <td>PAVIA</td>\n",
       "      <td>0.0273</td>\n",
       "      <td>NaN</td>\n",
       "    </tr>\n",
       "    <tr>\n",
       "      <th>2</th>\n",
       "      <td>2013-11-01 00:00:00</td>\n",
       "      <td>1</td>\n",
       "      <td>TRENTO</td>\n",
       "      <td>0.0261</td>\n",
       "      <td>NaN</td>\n",
       "    </tr>\n",
       "    <tr>\n",
       "      <th>3</th>\n",
       "      <td>2013-11-01 00:00:00</td>\n",
       "      <td>2</td>\n",
       "      <td>MILANO</td>\n",
       "      <td>0.1922</td>\n",
       "      <td>0.0556</td>\n",
       "    </tr>\n",
       "    <tr>\n",
       "      <th>4</th>\n",
       "      <td>2013-11-01 00:00:00</td>\n",
       "      <td>2</td>\n",
       "      <td>PAVIA</td>\n",
       "      <td>0.0273</td>\n",
       "      <td>NaN</td>\n",
       "    </tr>\n",
       "  </tbody>\n",
       "</table>\n",
       "</div>"
      ],
      "text/plain": [
       "              datetime  CellID provinceName  cell2Province  Province2cell\n",
       "0  2013-11-01 00:00:00       1       MILANO         0.1894         0.0541\n",
       "1  2013-11-01 00:00:00       1        PAVIA         0.0273            NaN\n",
       "2  2013-11-01 00:00:00       1       TRENTO         0.0261            NaN\n",
       "3  2013-11-01 00:00:00       2       MILANO         0.1922         0.0556\n",
       "4  2013-11-01 00:00:00       2        PAVIA         0.0273            NaN"
      ]
     },
     "execution_count": 44,
     "metadata": {},
     "output_type": "execute_result"
    }
   ],
   "source": [
    "mipro1.head()"
   ]
  },
  {
   "cell_type": "code",
   "execution_count": 45,
   "metadata": {},
   "outputs": [
    {
     "data": {
      "text/plain": [
       "datetime              0\n",
       "CellID                0\n",
       "provinceName          0\n",
       "cell2Province    899375\n",
       "Province2cell    859676\n",
       "dtype: int64"
      ]
     },
     "execution_count": 45,
     "metadata": {},
     "output_type": "execute_result"
    }
   ],
   "source": [
    "mipro1.isnull().sum()"
   ]
  },
  {
   "cell_type": "code",
   "execution_count": 46,
   "metadata": {},
   "outputs": [
    {
     "data": {
      "text/plain": [
       "0.646312309978259"
      ]
     },
     "execution_count": 46,
     "metadata": {},
     "output_type": "execute_result"
    }
   ],
   "source": [
    "mipro1['cell2Province'].mean()"
   ]
  },
  {
   "cell_type": "code",
   "execution_count": 47,
   "metadata": {},
   "outputs": [
    {
     "data": {
      "text/plain": [
       "0.631288812265565"
      ]
     },
     "execution_count": 47,
     "metadata": {},
     "output_type": "execute_result"
    }
   ],
   "source": [
    "mipro1['Province2cell'].mean()"
   ]
  },
  {
   "cell_type": "code",
   "execution_count": 48,
   "metadata": {},
   "outputs": [],
   "source": [
    "mipro1['cell2Province'] = mipro1['cell2Province'].fillna(mipro1['cell2Province'].mean())"
   ]
  },
  {
   "cell_type": "code",
   "execution_count": 51,
   "metadata": {},
   "outputs": [],
   "source": [
    "mipro1['Province2cell'] = mipro1['Province2cell'].fillna(mipro1['Province2cell'].mean())"
   ]
  },
  {
   "cell_type": "code",
   "execution_count": 52,
   "metadata": {},
   "outputs": [
    {
     "data": {
      "text/plain": [
       "datetime         0\n",
       "CellID           0\n",
       "provinceName     0\n",
       "cell2Province    0\n",
       "Province2cell    0\n",
       "dtype: int64"
      ]
     },
     "execution_count": 52,
     "metadata": {},
     "output_type": "execute_result"
    }
   ],
   "source": [
    "mipro1.isnull().sum()"
   ]
  },
  {
   "cell_type": "code",
   "execution_count": 53,
   "metadata": {},
   "outputs": [
    {
     "data": {
      "text/html": [
       "<div>\n",
       "<style scoped>\n",
       "    .dataframe tbody tr th:only-of-type {\n",
       "        vertical-align: middle;\n",
       "    }\n",
       "\n",
       "    .dataframe tbody tr th {\n",
       "        vertical-align: top;\n",
       "    }\n",
       "\n",
       "    .dataframe thead th {\n",
       "        text-align: right;\n",
       "    }\n",
       "</style>\n",
       "<table border=\"1\" class=\"dataframe\">\n",
       "  <thead>\n",
       "    <tr style=\"text-align: right;\">\n",
       "      <th></th>\n",
       "      <th>datetime</th>\n",
       "      <th>CellID</th>\n",
       "      <th>provinceName</th>\n",
       "      <th>cell2Province</th>\n",
       "      <th>Province2cell</th>\n",
       "    </tr>\n",
       "  </thead>\n",
       "  <tbody>\n",
       "    <tr>\n",
       "      <th>0</th>\n",
       "      <td>2013-11-02 00:00:00</td>\n",
       "      <td>1</td>\n",
       "      <td>CREMONA</td>\n",
       "      <td>0.0273</td>\n",
       "      <td>NaN</td>\n",
       "    </tr>\n",
       "    <tr>\n",
       "      <th>1</th>\n",
       "      <td>2013-11-02 00:00:00</td>\n",
       "      <td>1</td>\n",
       "      <td>MILANO</td>\n",
       "      <td>0.0570</td>\n",
       "      <td>0.1087</td>\n",
       "    </tr>\n",
       "    <tr>\n",
       "      <th>2</th>\n",
       "      <td>2013-11-02 00:00:00</td>\n",
       "      <td>1</td>\n",
       "      <td>PAVIA</td>\n",
       "      <td>NaN</td>\n",
       "      <td>0.0546</td>\n",
       "    </tr>\n",
       "    <tr>\n",
       "      <th>3</th>\n",
       "      <td>2013-11-02 00:00:00</td>\n",
       "      <td>2</td>\n",
       "      <td>CREMONA</td>\n",
       "      <td>0.0273</td>\n",
       "      <td>NaN</td>\n",
       "    </tr>\n",
       "    <tr>\n",
       "      <th>4</th>\n",
       "      <td>2013-11-02 00:00:00</td>\n",
       "      <td>2</td>\n",
       "      <td>MILANO</td>\n",
       "      <td>0.0565</td>\n",
       "      <td>0.1102</td>\n",
       "    </tr>\n",
       "  </tbody>\n",
       "</table>\n",
       "</div>"
      ],
      "text/plain": [
       "              datetime  CellID provinceName  cell2Province  Province2cell\n",
       "0  2013-11-02 00:00:00       1      CREMONA         0.0273            NaN\n",
       "1  2013-11-02 00:00:00       1       MILANO         0.0570         0.1087\n",
       "2  2013-11-02 00:00:00       1        PAVIA            NaN         0.0546\n",
       "3  2013-11-02 00:00:00       2      CREMONA         0.0273            NaN\n",
       "4  2013-11-02 00:00:00       2       MILANO         0.0565         0.1102"
      ]
     },
     "execution_count": 53,
     "metadata": {},
     "output_type": "execute_result"
    }
   ],
   "source": [
    "# for mi provinces nov 2\n",
    "\n",
    "mipro2.head()"
   ]
  },
  {
   "cell_type": "code",
   "execution_count": 56,
   "metadata": {},
   "outputs": [
    {
     "data": {
      "text/plain": [
       "2295314"
      ]
     },
     "execution_count": 56,
     "metadata": {},
     "output_type": "execute_result"
    }
   ],
   "source": [
    "len(mipro2)"
   ]
  },
  {
   "cell_type": "code",
   "execution_count": 58,
   "metadata": {},
   "outputs": [
    {
     "data": {
      "text/plain": [
       "datetime              0\n",
       "CellID                0\n",
       "provinceName          0\n",
       "cell2Province    896877\n",
       "Province2cell    855619\n",
       "dtype: int64"
      ]
     },
     "execution_count": 58,
     "metadata": {},
     "output_type": "execute_result"
    }
   ],
   "source": [
    "mipro2.isnull().sum()"
   ]
  },
  {
   "cell_type": "code",
   "execution_count": 61,
   "metadata": {},
   "outputs": [],
   "source": [
    "mipro2['cell2Province'] = mipro2['cell2Province'].fillna(mipro2['cell2Province'].mean)"
   ]
  },
  {
   "cell_type": "code",
   "execution_count": 62,
   "metadata": {},
   "outputs": [],
   "source": [
    "mipro2['Province2cell'] = mipro2['Province2cell'].fillna(mipro2['Province2cell'].mean)"
   ]
  },
  {
   "cell_type": "code",
   "execution_count": 63,
   "metadata": {},
   "outputs": [
    {
     "data": {
      "text/plain": [
       "datetime         0\n",
       "CellID           0\n",
       "provinceName     0\n",
       "cell2Province    0\n",
       "Province2cell    0\n",
       "dtype: int64"
      ]
     },
     "execution_count": 63,
     "metadata": {},
     "output_type": "execute_result"
    }
   ],
   "source": [
    "mipro2.isnull().sum()"
   ]
  },
  {
   "cell_type": "code",
   "execution_count": 64,
   "metadata": {},
   "outputs": [
    {
     "data": {
      "text/html": [
       "<div>\n",
       "<style scoped>\n",
       "    .dataframe tbody tr th:only-of-type {\n",
       "        vertical-align: middle;\n",
       "    }\n",
       "\n",
       "    .dataframe tbody tr th {\n",
       "        vertical-align: top;\n",
       "    }\n",
       "\n",
       "    .dataframe thead th {\n",
       "        text-align: right;\n",
       "    }\n",
       "</style>\n",
       "<table border=\"1\" class=\"dataframe\">\n",
       "  <thead>\n",
       "    <tr style=\"text-align: right;\">\n",
       "      <th></th>\n",
       "      <th>datetime</th>\n",
       "      <th>CellID</th>\n",
       "      <th>provinceName</th>\n",
       "      <th>cell2Province</th>\n",
       "      <th>Province2cell</th>\n",
       "    </tr>\n",
       "  </thead>\n",
       "  <tbody>\n",
       "    <tr>\n",
       "      <th>0</th>\n",
       "      <td>2013-11-03 00:00:00</td>\n",
       "      <td>1</td>\n",
       "      <td>MILANO</td>\n",
       "      <td>0.0546</td>\n",
       "      <td>0.0784</td>\n",
       "    </tr>\n",
       "    <tr>\n",
       "      <th>1</th>\n",
       "      <td>2013-11-03 00:00:00</td>\n",
       "      <td>1</td>\n",
       "      <td>PISA</td>\n",
       "      <td>0.0018</td>\n",
       "      <td>NaN</td>\n",
       "    </tr>\n",
       "    <tr>\n",
       "      <th>2</th>\n",
       "      <td>2013-11-03 00:00:00</td>\n",
       "      <td>2</td>\n",
       "      <td>MILANO</td>\n",
       "      <td>0.0546</td>\n",
       "      <td>0.0821</td>\n",
       "    </tr>\n",
       "    <tr>\n",
       "      <th>3</th>\n",
       "      <td>2013-11-03 00:00:00</td>\n",
       "      <td>2</td>\n",
       "      <td>PISA</td>\n",
       "      <td>0.0009</td>\n",
       "      <td>NaN</td>\n",
       "    </tr>\n",
       "    <tr>\n",
       "      <th>4</th>\n",
       "      <td>2013-11-03 00:00:00</td>\n",
       "      <td>3</td>\n",
       "      <td>MILANO</td>\n",
       "      <td>0.0546</td>\n",
       "      <td>0.0860</td>\n",
       "    </tr>\n",
       "  </tbody>\n",
       "</table>\n",
       "</div>"
      ],
      "text/plain": [
       "              datetime  CellID provinceName  cell2Province  Province2cell\n",
       "0  2013-11-03 00:00:00       1       MILANO         0.0546         0.0784\n",
       "1  2013-11-03 00:00:00       1         PISA         0.0018            NaN\n",
       "2  2013-11-03 00:00:00       2       MILANO         0.0546         0.0821\n",
       "3  2013-11-03 00:00:00       2         PISA         0.0009            NaN\n",
       "4  2013-11-03 00:00:00       3       MILANO         0.0546         0.0860"
      ]
     },
     "execution_count": 64,
     "metadata": {},
     "output_type": "execute_result"
    }
   ],
   "source": [
    "# for mi provinces nov 3\n",
    "\n",
    "mipro3.head()"
   ]
  },
  {
   "cell_type": "code",
   "execution_count": 65,
   "metadata": {},
   "outputs": [
    {
     "data": {
      "text/plain": [
       "2129008"
      ]
     },
     "execution_count": 65,
     "metadata": {},
     "output_type": "execute_result"
    }
   ],
   "source": [
    "len(mipro3)"
   ]
  },
  {
   "cell_type": "code",
   "execution_count": 66,
   "metadata": {},
   "outputs": [
    {
     "data": {
      "text/plain": [
       "datetime              0\n",
       "CellID                0\n",
       "provinceName          0\n",
       "cell2Province    860597\n",
       "Province2cell    781340\n",
       "dtype: int64"
      ]
     },
     "execution_count": 66,
     "metadata": {},
     "output_type": "execute_result"
    }
   ],
   "source": [
    "mipro3.isnull().sum()"
   ]
  },
  {
   "cell_type": "code",
   "execution_count": 67,
   "metadata": {},
   "outputs": [],
   "source": [
    "mipro3['cell2Province'] = mipro3['cell2Province'].fillna(mipro3['cell2Province'].mean)\n",
    "mipro3['Province2cell'] = mipro3['Province2cell'].fillna(mipro3['Province2cell'].mean)"
   ]
  },
  {
   "cell_type": "code",
   "execution_count": 68,
   "metadata": {},
   "outputs": [
    {
     "data": {
      "text/plain": [
       "datetime         0\n",
       "CellID           0\n",
       "provinceName     0\n",
       "cell2Province    0\n",
       "Province2cell    0\n",
       "dtype: int64"
      ]
     },
     "execution_count": 68,
     "metadata": {},
     "output_type": "execute_result"
    }
   ],
   "source": [
    "mipro3.isnull().sum()"
   ]
  },
  {
   "cell_type": "code",
   "execution_count": 69,
   "metadata": {},
   "outputs": [
    {
     "data": {
      "text/html": [
       "<div>\n",
       "<style scoped>\n",
       "    .dataframe tbody tr th:only-of-type {\n",
       "        vertical-align: middle;\n",
       "    }\n",
       "\n",
       "    .dataframe tbody tr th {\n",
       "        vertical-align: top;\n",
       "    }\n",
       "\n",
       "    .dataframe thead th {\n",
       "        text-align: right;\n",
       "    }\n",
       "</style>\n",
       "<table border=\"1\" class=\"dataframe\">\n",
       "  <thead>\n",
       "    <tr style=\"text-align: right;\">\n",
       "      <th></th>\n",
       "      <th>datetime</th>\n",
       "      <th>CellID</th>\n",
       "      <th>provinceName</th>\n",
       "      <th>cell2Province</th>\n",
       "      <th>Province2cell</th>\n",
       "    </tr>\n",
       "  </thead>\n",
       "  <tbody>\n",
       "    <tr>\n",
       "      <th>0</th>\n",
       "      <td>2013-11-04 00:00:00</td>\n",
       "      <td>1</td>\n",
       "      <td>MILANO</td>\n",
       "      <td>0.0018</td>\n",
       "      <td>NaN</td>\n",
       "    </tr>\n",
       "    <tr>\n",
       "      <th>1</th>\n",
       "      <td>2013-11-04 00:00:00</td>\n",
       "      <td>1</td>\n",
       "      <td>NAPOLI</td>\n",
       "      <td>NaN</td>\n",
       "      <td>0.0261</td>\n",
       "    </tr>\n",
       "    <tr>\n",
       "      <th>2</th>\n",
       "      <td>2013-11-04 00:00:00</td>\n",
       "      <td>2</td>\n",
       "      <td>MILANO</td>\n",
       "      <td>0.0009</td>\n",
       "      <td>NaN</td>\n",
       "    </tr>\n",
       "    <tr>\n",
       "      <th>3</th>\n",
       "      <td>2013-11-04 00:00:00</td>\n",
       "      <td>2</td>\n",
       "      <td>NAPOLI</td>\n",
       "      <td>NaN</td>\n",
       "      <td>0.0274</td>\n",
       "    </tr>\n",
       "    <tr>\n",
       "      <th>4</th>\n",
       "      <td>2013-11-04 00:00:00</td>\n",
       "      <td>3</td>\n",
       "      <td>NAPOLI</td>\n",
       "      <td>NaN</td>\n",
       "      <td>0.0287</td>\n",
       "    </tr>\n",
       "  </tbody>\n",
       "</table>\n",
       "</div>"
      ],
      "text/plain": [
       "              datetime  CellID provinceName  cell2Province  Province2cell\n",
       "0  2013-11-04 00:00:00       1       MILANO         0.0018            NaN\n",
       "1  2013-11-04 00:00:00       1       NAPOLI            NaN         0.0261\n",
       "2  2013-11-04 00:00:00       2       MILANO         0.0009            NaN\n",
       "3  2013-11-04 00:00:00       2       NAPOLI            NaN         0.0274\n",
       "4  2013-11-04 00:00:00       3       NAPOLI            NaN         0.0287"
      ]
     },
     "execution_count": 69,
     "metadata": {},
     "output_type": "execute_result"
    }
   ],
   "source": [
    "# for mi provinces nov 4\n",
    "\n",
    "mipro4.head()"
   ]
  },
  {
   "cell_type": "code",
   "execution_count": 70,
   "metadata": {},
   "outputs": [
    {
     "data": {
      "text/plain": [
       "3254567"
      ]
     },
     "execution_count": 70,
     "metadata": {},
     "output_type": "execute_result"
    }
   ],
   "source": [
    "len(mipro4)"
   ]
  },
  {
   "cell_type": "code",
   "execution_count": 71,
   "metadata": {},
   "outputs": [
    {
     "data": {
      "text/plain": [
       "datetime               0\n",
       "CellID                 0\n",
       "provinceName           0\n",
       "cell2Province    1234024\n",
       "Province2cell    1091225\n",
       "dtype: int64"
      ]
     },
     "execution_count": 71,
     "metadata": {},
     "output_type": "execute_result"
    }
   ],
   "source": [
    "mipro4.isnull().sum()"
   ]
  },
  {
   "cell_type": "code",
   "execution_count": 72,
   "metadata": {},
   "outputs": [],
   "source": [
    "mipro4['cell2Province'] = mipro4['cell2Province'].fillna(mipro4['cell2Province'].mean)\n",
    "mipro4['Province2cell'] = mipro4['Province2cell'].fillna(mipro4['Province2cell'].mean)"
   ]
  },
  {
   "cell_type": "code",
   "execution_count": 73,
   "metadata": {},
   "outputs": [
    {
     "data": {
      "text/plain": [
       "datetime         0\n",
       "CellID           0\n",
       "provinceName     0\n",
       "cell2Province    0\n",
       "Province2cell    0\n",
       "dtype: int64"
      ]
     },
     "execution_count": 73,
     "metadata": {},
     "output_type": "execute_result"
    }
   ],
   "source": [
    "mipro4.isnull().sum()"
   ]
  },
  {
   "cell_type": "code",
   "execution_count": 74,
   "metadata": {},
   "outputs": [
    {
     "data": {
      "text/html": [
       "<div>\n",
       "<style scoped>\n",
       "    .dataframe tbody tr th:only-of-type {\n",
       "        vertical-align: middle;\n",
       "    }\n",
       "\n",
       "    .dataframe tbody tr th {\n",
       "        vertical-align: top;\n",
       "    }\n",
       "\n",
       "    .dataframe thead th {\n",
       "        text-align: right;\n",
       "    }\n",
       "</style>\n",
       "<table border=\"1\" class=\"dataframe\">\n",
       "  <thead>\n",
       "    <tr style=\"text-align: right;\">\n",
       "      <th></th>\n",
       "      <th>datetime</th>\n",
       "      <th>CellID</th>\n",
       "      <th>provinceName</th>\n",
       "      <th>cell2Province</th>\n",
       "      <th>Province2cell</th>\n",
       "    </tr>\n",
       "  </thead>\n",
       "  <tbody>\n",
       "    <tr>\n",
       "      <th>0</th>\n",
       "      <td>2013-11-05 00:00:00</td>\n",
       "      <td>1</td>\n",
       "      <td>MILANO</td>\n",
       "      <td>0.0873</td>\n",
       "      <td>0.1080</td>\n",
       "    </tr>\n",
       "    <tr>\n",
       "      <th>1</th>\n",
       "      <td>2013-11-05 00:00:00</td>\n",
       "      <td>1</td>\n",
       "      <td>NAPOLI</td>\n",
       "      <td>0.0546</td>\n",
       "      <td>0.0819</td>\n",
       "    </tr>\n",
       "    <tr>\n",
       "      <th>2</th>\n",
       "      <td>2013-11-05 00:00:00</td>\n",
       "      <td>2</td>\n",
       "      <td>MILANO</td>\n",
       "      <td>0.0847</td>\n",
       "      <td>0.1093</td>\n",
       "    </tr>\n",
       "    <tr>\n",
       "      <th>3</th>\n",
       "      <td>2013-11-05 00:00:00</td>\n",
       "      <td>2</td>\n",
       "      <td>NAPOLI</td>\n",
       "      <td>0.0546</td>\n",
       "      <td>0.0819</td>\n",
       "    </tr>\n",
       "    <tr>\n",
       "      <th>4</th>\n",
       "      <td>2013-11-05 00:00:00</td>\n",
       "      <td>3</td>\n",
       "      <td>MILANO</td>\n",
       "      <td>0.0819</td>\n",
       "      <td>0.1106</td>\n",
       "    </tr>\n",
       "  </tbody>\n",
       "</table>\n",
       "</div>"
      ],
      "text/plain": [
       "              datetime  CellID provinceName  cell2Province  Province2cell\n",
       "0  2013-11-05 00:00:00       1       MILANO         0.0873         0.1080\n",
       "1  2013-11-05 00:00:00       1       NAPOLI         0.0546         0.0819\n",
       "2  2013-11-05 00:00:00       2       MILANO         0.0847         0.1093\n",
       "3  2013-11-05 00:00:00       2       NAPOLI         0.0546         0.0819\n",
       "4  2013-11-05 00:00:00       3       MILANO         0.0819         0.1106"
      ]
     },
     "execution_count": 74,
     "metadata": {},
     "output_type": "execute_result"
    }
   ],
   "source": [
    "# for mi provinces nov 5\n",
    "\n",
    "mipro5.head()"
   ]
  },
  {
   "cell_type": "code",
   "execution_count": 75,
   "metadata": {},
   "outputs": [
    {
     "data": {
      "text/plain": [
       "3354399"
      ]
     },
     "execution_count": 75,
     "metadata": {},
     "output_type": "execute_result"
    }
   ],
   "source": [
    "len(mipro5)"
   ]
  },
  {
   "cell_type": "code",
   "execution_count": 76,
   "metadata": {},
   "outputs": [
    {
     "data": {
      "text/plain": [
       "datetime               0\n",
       "CellID                 0\n",
       "provinceName           0\n",
       "cell2Province    1276462\n",
       "Province2cell    1110805\n",
       "dtype: int64"
      ]
     },
     "execution_count": 76,
     "metadata": {},
     "output_type": "execute_result"
    }
   ],
   "source": [
    "mipro5.isnull().sum()"
   ]
  },
  {
   "cell_type": "code",
   "execution_count": 77,
   "metadata": {},
   "outputs": [],
   "source": [
    "mipro5['cell2Province'] = mipro5['cell2Province'].fillna(mipro5['cell2Province'].mean)\n",
    "mipro5['Province2cell'] = mipro5['Province2cell'].fillna(mipro5['Province2cell'].mean)"
   ]
  },
  {
   "cell_type": "code",
   "execution_count": 78,
   "metadata": {},
   "outputs": [
    {
     "data": {
      "text/plain": [
       "datetime         0\n",
       "CellID           0\n",
       "provinceName     0\n",
       "cell2Province    0\n",
       "Province2cell    0\n",
       "dtype: int64"
      ]
     },
     "execution_count": 78,
     "metadata": {},
     "output_type": "execute_result"
    }
   ],
   "source": [
    "mipro5.isnull().sum()"
   ]
  },
  {
   "cell_type": "code",
   "execution_count": 79,
   "metadata": {},
   "outputs": [
    {
     "data": {
      "text/html": [
       "<div>\n",
       "<style scoped>\n",
       "    .dataframe tbody tr th:only-of-type {\n",
       "        vertical-align: middle;\n",
       "    }\n",
       "\n",
       "    .dataframe tbody tr th {\n",
       "        vertical-align: top;\n",
       "    }\n",
       "\n",
       "    .dataframe thead th {\n",
       "        text-align: right;\n",
       "    }\n",
       "</style>\n",
       "<table border=\"1\" class=\"dataframe\">\n",
       "  <thead>\n",
       "    <tr style=\"text-align: right;\">\n",
       "      <th></th>\n",
       "      <th>datetime</th>\n",
       "      <th>CellID</th>\n",
       "      <th>provinceName</th>\n",
       "      <th>cell2Province</th>\n",
       "      <th>Province2cell</th>\n",
       "    </tr>\n",
       "  </thead>\n",
       "  <tbody>\n",
       "    <tr>\n",
       "      <th>0</th>\n",
       "      <td>2013-11-06 00:00:00</td>\n",
       "      <td>1</td>\n",
       "      <td>AREZZO</td>\n",
       "      <td>0.0273</td>\n",
       "      <td>NaN</td>\n",
       "    </tr>\n",
       "    <tr>\n",
       "      <th>1</th>\n",
       "      <td>2013-11-06 00:00:00</td>\n",
       "      <td>1</td>\n",
       "      <td>MILANO</td>\n",
       "      <td>0.0273</td>\n",
       "      <td>0.0261</td>\n",
       "    </tr>\n",
       "    <tr>\n",
       "      <th>2</th>\n",
       "      <td>2013-11-06 00:00:00</td>\n",
       "      <td>1</td>\n",
       "      <td>NAPOLI</td>\n",
       "      <td>0.0273</td>\n",
       "      <td>NaN</td>\n",
       "    </tr>\n",
       "    <tr>\n",
       "      <th>3</th>\n",
       "      <td>2013-11-06 00:00:00</td>\n",
       "      <td>2</td>\n",
       "      <td>AREZZO</td>\n",
       "      <td>0.0273</td>\n",
       "      <td>NaN</td>\n",
       "    </tr>\n",
       "    <tr>\n",
       "      <th>4</th>\n",
       "      <td>2013-11-06 00:00:00</td>\n",
       "      <td>2</td>\n",
       "      <td>MILANO</td>\n",
       "      <td>0.0273</td>\n",
       "      <td>0.0274</td>\n",
       "    </tr>\n",
       "  </tbody>\n",
       "</table>\n",
       "</div>"
      ],
      "text/plain": [
       "              datetime  CellID provinceName  cell2Province  Province2cell\n",
       "0  2013-11-06 00:00:00       1       AREZZO         0.0273            NaN\n",
       "1  2013-11-06 00:00:00       1       MILANO         0.0273         0.0261\n",
       "2  2013-11-06 00:00:00       1       NAPOLI         0.0273            NaN\n",
       "3  2013-11-06 00:00:00       2       AREZZO         0.0273            NaN\n",
       "4  2013-11-06 00:00:00       2       MILANO         0.0273         0.0274"
      ]
     },
     "execution_count": 79,
     "metadata": {},
     "output_type": "execute_result"
    }
   ],
   "source": [
    "# for mi provinces nov 6\n",
    "\n",
    "mipro6.head()"
   ]
  },
  {
   "cell_type": "code",
   "execution_count": 80,
   "metadata": {},
   "outputs": [
    {
     "data": {
      "text/plain": [
       "3365786"
      ]
     },
     "execution_count": 80,
     "metadata": {},
     "output_type": "execute_result"
    }
   ],
   "source": [
    "len(mipro6)"
   ]
  },
  {
   "cell_type": "code",
   "execution_count": 81,
   "metadata": {},
   "outputs": [
    {
     "data": {
      "text/plain": [
       "datetime               0\n",
       "CellID                 0\n",
       "provinceName           0\n",
       "cell2Province    1262778\n",
       "Province2cell    1133386\n",
       "dtype: int64"
      ]
     },
     "execution_count": 81,
     "metadata": {},
     "output_type": "execute_result"
    }
   ],
   "source": [
    "mipro6.isnull().sum()"
   ]
  },
  {
   "cell_type": "code",
   "execution_count": 82,
   "metadata": {},
   "outputs": [],
   "source": [
    "mipro6['cell2Province'] = mipro6['cell2Province'].fillna(mipro6['cell2Province'].mean)\n",
    "mipro6['Province2cell'] = mipro6['Province2cell'].fillna(mipro6['Province2cell'].mean)"
   ]
  },
  {
   "cell_type": "code",
   "execution_count": 83,
   "metadata": {},
   "outputs": [
    {
     "data": {
      "text/plain": [
       "datetime         0\n",
       "CellID           0\n",
       "provinceName     0\n",
       "cell2Province    0\n",
       "Province2cell    0\n",
       "dtype: int64"
      ]
     },
     "execution_count": 83,
     "metadata": {},
     "output_type": "execute_result"
    }
   ],
   "source": [
    "mipro6.isnull().sum()"
   ]
  },
  {
   "cell_type": "code",
   "execution_count": 84,
   "metadata": {},
   "outputs": [
    {
     "data": {
      "text/html": [
       "<div>\n",
       "<style scoped>\n",
       "    .dataframe tbody tr th:only-of-type {\n",
       "        vertical-align: middle;\n",
       "    }\n",
       "\n",
       "    .dataframe tbody tr th {\n",
       "        vertical-align: top;\n",
       "    }\n",
       "\n",
       "    .dataframe thead th {\n",
       "        text-align: right;\n",
       "    }\n",
       "</style>\n",
       "<table border=\"1\" class=\"dataframe\">\n",
       "  <thead>\n",
       "    <tr style=\"text-align: right;\">\n",
       "      <th></th>\n",
       "      <th>datetime</th>\n",
       "      <th>CellID</th>\n",
       "      <th>provinceName</th>\n",
       "      <th>cell2Province</th>\n",
       "      <th>Province2cell</th>\n",
       "    </tr>\n",
       "  </thead>\n",
       "  <tbody>\n",
       "    <tr>\n",
       "      <th>0</th>\n",
       "      <td>2013-11-07 00:00:00</td>\n",
       "      <td>1</td>\n",
       "      <td>MILANO</td>\n",
       "      <td>0.0018</td>\n",
       "      <td>NaN</td>\n",
       "    </tr>\n",
       "    <tr>\n",
       "      <th>1</th>\n",
       "      <td>2013-11-07 00:00:00</td>\n",
       "      <td>1</td>\n",
       "      <td>PAVIA</td>\n",
       "      <td>0.0297</td>\n",
       "      <td>0.0018</td>\n",
       "    </tr>\n",
       "    <tr>\n",
       "      <th>2</th>\n",
       "      <td>2013-11-07 00:00:00</td>\n",
       "      <td>2</td>\n",
       "      <td>MILANO</td>\n",
       "      <td>0.0009</td>\n",
       "      <td>NaN</td>\n",
       "    </tr>\n",
       "    <tr>\n",
       "      <th>3</th>\n",
       "      <td>2013-11-07 00:00:00</td>\n",
       "      <td>2</td>\n",
       "      <td>PAVIA</td>\n",
       "      <td>0.0292</td>\n",
       "      <td>0.0009</td>\n",
       "    </tr>\n",
       "    <tr>\n",
       "      <th>4</th>\n",
       "      <td>2013-11-07 00:00:00</td>\n",
       "      <td>3</td>\n",
       "      <td>PAVIA</td>\n",
       "      <td>0.0287</td>\n",
       "      <td>NaN</td>\n",
       "    </tr>\n",
       "  </tbody>\n",
       "</table>\n",
       "</div>"
      ],
      "text/plain": [
       "              datetime  CellID provinceName  cell2Province  Province2cell\n",
       "0  2013-11-07 00:00:00       1       MILANO         0.0018            NaN\n",
       "1  2013-11-07 00:00:00       1        PAVIA         0.0297         0.0018\n",
       "2  2013-11-07 00:00:00       2       MILANO         0.0009            NaN\n",
       "3  2013-11-07 00:00:00       2        PAVIA         0.0292         0.0009\n",
       "4  2013-11-07 00:00:00       3        PAVIA         0.0287            NaN"
      ]
     },
     "execution_count": 84,
     "metadata": {},
     "output_type": "execute_result"
    }
   ],
   "source": [
    "# for mi provinces nov 7\n",
    "\n",
    "mipro7.head()"
   ]
  },
  {
   "cell_type": "code",
   "execution_count": 85,
   "metadata": {},
   "outputs": [
    {
     "data": {
      "text/plain": [
       "3341083"
      ]
     },
     "execution_count": 85,
     "metadata": {},
     "output_type": "execute_result"
    }
   ],
   "source": [
    "len(mipro7)"
   ]
  },
  {
   "cell_type": "code",
   "execution_count": 86,
   "metadata": {},
   "outputs": [
    {
     "data": {
      "text/plain": [
       "datetime               0\n",
       "CellID                 0\n",
       "provinceName           0\n",
       "cell2Province    1254390\n",
       "Province2cell    1121929\n",
       "dtype: int64"
      ]
     },
     "execution_count": 86,
     "metadata": {},
     "output_type": "execute_result"
    }
   ],
   "source": [
    "mipro7.isnull().sum()"
   ]
  },
  {
   "cell_type": "code",
   "execution_count": 87,
   "metadata": {},
   "outputs": [],
   "source": [
    "mipro7['cell2Province'] = mipro7['cell2Province'].fillna(mipro7['cell2Province'].mean)\n",
    "mipro7['Province2cell'] = mipro7['Province2cell'].fillna(mipro7['Province2cell'].mean)"
   ]
  },
  {
   "cell_type": "code",
   "execution_count": 88,
   "metadata": {},
   "outputs": [
    {
     "data": {
      "text/plain": [
       "datetime         0\n",
       "CellID           0\n",
       "provinceName     0\n",
       "cell2Province    0\n",
       "Province2cell    0\n",
       "dtype: int64"
      ]
     },
     "execution_count": 88,
     "metadata": {},
     "output_type": "execute_result"
    }
   ],
   "source": [
    "mipro7.isnull().sum()"
   ]
  },
  {
   "cell_type": "code",
   "execution_count": 90,
   "metadata": {},
   "outputs": [
    {
     "data": {
      "text/html": [
       "<div>\n",
       "<style scoped>\n",
       "    .dataframe tbody tr th:only-of-type {\n",
       "        vertical-align: middle;\n",
       "    }\n",
       "\n",
       "    .dataframe tbody tr th {\n",
       "        vertical-align: top;\n",
       "    }\n",
       "\n",
       "    .dataframe thead th {\n",
       "        text-align: right;\n",
       "    }\n",
       "</style>\n",
       "<table border=\"1\" class=\"dataframe\">\n",
       "  <thead>\n",
       "    <tr style=\"text-align: right;\">\n",
       "      <th></th>\n",
       "      <th>datetime</th>\n",
       "      <th>CellID</th>\n",
       "      <th>countrycode</th>\n",
       "      <th>smsin</th>\n",
       "      <th>smsout</th>\n",
       "      <th>callin</th>\n",
       "      <th>callout</th>\n",
       "      <th>internet</th>\n",
       "    </tr>\n",
       "  </thead>\n",
       "  <tbody>\n",
       "    <tr>\n",
       "      <th>0</th>\n",
       "      <td>2013-11-01 00:00:00</td>\n",
       "      <td>1</td>\n",
       "      <td>0</td>\n",
       "      <td>0.3521</td>\n",
       "      <td>NaN</td>\n",
       "      <td>NaN</td>\n",
       "      <td>0.0273</td>\n",
       "      <td>NaN</td>\n",
       "    </tr>\n",
       "    <tr>\n",
       "      <th>1</th>\n",
       "      <td>2013-11-01 00:00:00</td>\n",
       "      <td>1</td>\n",
       "      <td>33</td>\n",
       "      <td>NaN</td>\n",
       "      <td>NaN</td>\n",
       "      <td>NaN</td>\n",
       "      <td>NaN</td>\n",
       "      <td>0.0261</td>\n",
       "    </tr>\n",
       "    <tr>\n",
       "      <th>2</th>\n",
       "      <td>2013-11-01 00:00:00</td>\n",
       "      <td>1</td>\n",
       "      <td>39</td>\n",
       "      <td>1.7322</td>\n",
       "      <td>1.1047</td>\n",
       "      <td>0.5919</td>\n",
       "      <td>0.4020</td>\n",
       "      <td>57.7729</td>\n",
       "    </tr>\n",
       "    <tr>\n",
       "      <th>3</th>\n",
       "      <td>2013-11-01 00:00:00</td>\n",
       "      <td>2</td>\n",
       "      <td>0</td>\n",
       "      <td>0.3581</td>\n",
       "      <td>NaN</td>\n",
       "      <td>NaN</td>\n",
       "      <td>0.0273</td>\n",
       "      <td>NaN</td>\n",
       "    </tr>\n",
       "    <tr>\n",
       "      <th>4</th>\n",
       "      <td>2013-11-01 00:00:00</td>\n",
       "      <td>2</td>\n",
       "      <td>33</td>\n",
       "      <td>NaN</td>\n",
       "      <td>NaN</td>\n",
       "      <td>NaN</td>\n",
       "      <td>NaN</td>\n",
       "      <td>0.0274</td>\n",
       "    </tr>\n",
       "  </tbody>\n",
       "</table>\n",
       "</div>"
      ],
      "text/plain": [
       "              datetime  CellID  countrycode   smsin  smsout  callin  callout  \\\n",
       "0  2013-11-01 00:00:00       1            0  0.3521     NaN     NaN   0.0273   \n",
       "1  2013-11-01 00:00:00       1           33     NaN     NaN     NaN      NaN   \n",
       "2  2013-11-01 00:00:00       1           39  1.7322  1.1047  0.5919   0.4020   \n",
       "3  2013-11-01 00:00:00       2            0  0.3581     NaN     NaN   0.0273   \n",
       "4  2013-11-01 00:00:00       2           33     NaN     NaN     NaN      NaN   \n",
       "\n",
       "   internet  \n",
       "0       NaN  \n",
       "1    0.0261  \n",
       "2   57.7729  \n",
       "3       NaN  \n",
       "4    0.0274  "
      ]
     },
     "execution_count": 90,
     "metadata": {},
     "output_type": "execute_result"
    }
   ],
   "source": [
    "# sms call internet nov 1\n",
    "smscall1.head()"
   ]
  },
  {
   "cell_type": "code",
   "execution_count": 91,
   "metadata": {},
   "outputs": [
    {
     "data": {
      "text/plain": [
       "1891928"
      ]
     },
     "execution_count": 91,
     "metadata": {},
     "output_type": "execute_result"
    }
   ],
   "source": [
    "len(smscall1)"
   ]
  },
  {
   "cell_type": "code",
   "execution_count": 92,
   "metadata": {},
   "outputs": [
    {
     "data": {
      "text/plain": [
       "datetime             0\n",
       "CellID               0\n",
       "countrycode          0\n",
       "smsin          1086153\n",
       "smsout         1422446\n",
       "callin         1407781\n",
       "callout        1037413\n",
       "internet       1087074\n",
       "dtype: int64"
      ]
     },
     "execution_count": 92,
     "metadata": {},
     "output_type": "execute_result"
    }
   ],
   "source": [
    "smscall1.isnull().sum()"
   ]
  },
  {
   "cell_type": "code",
   "execution_count": 95,
   "metadata": {},
   "outputs": [],
   "source": [
    "smscall1['smsin'] = smscall1['smsin'].fillna(smscall1['smsin'].mean())\n",
    "smscall1['smsout']= smscall1['smsout'].fillna(smscall1['smsout'].mean())\n",
    "smscall1['callin'] = smscall1['callin'].fillna(smscall1['callin'].mean())\n",
    "smscall1['callout'] = smscall1['callout'].fillna(smscall1['callout'].mean())\n",
    "smscall1['internet'] = smscall1['internet'].fillna(smscall1['internet'].mean())"
   ]
  },
  {
   "cell_type": "code",
   "execution_count": 96,
   "metadata": {},
   "outputs": [
    {
     "data": {
      "text/plain": [
       "datetime       0\n",
       "CellID         0\n",
       "countrycode    0\n",
       "smsin          0\n",
       "smsout         0\n",
       "callin         0\n",
       "callout        0\n",
       "internet       0\n",
       "dtype: int64"
      ]
     },
     "execution_count": 96,
     "metadata": {},
     "output_type": "execute_result"
    }
   ],
   "source": [
    "smscall1.isnull().sum()"
   ]
  },
  {
   "cell_type": "code",
   "execution_count": 97,
   "metadata": {},
   "outputs": [
    {
     "data": {
      "text/html": [
       "<div>\n",
       "<style scoped>\n",
       "    .dataframe tbody tr th:only-of-type {\n",
       "        vertical-align: middle;\n",
       "    }\n",
       "\n",
       "    .dataframe tbody tr th {\n",
       "        vertical-align: top;\n",
       "    }\n",
       "\n",
       "    .dataframe thead th {\n",
       "        text-align: right;\n",
       "    }\n",
       "</style>\n",
       "<table border=\"1\" class=\"dataframe\">\n",
       "  <thead>\n",
       "    <tr style=\"text-align: right;\">\n",
       "      <th></th>\n",
       "      <th>datetime</th>\n",
       "      <th>CellID</th>\n",
       "      <th>countrycode</th>\n",
       "      <th>smsin</th>\n",
       "      <th>smsout</th>\n",
       "      <th>callin</th>\n",
       "      <th>callout</th>\n",
       "      <th>internet</th>\n",
       "    </tr>\n",
       "  </thead>\n",
       "  <tbody>\n",
       "    <tr>\n",
       "      <th>0</th>\n",
       "      <td>2013-11-02 00:00:00</td>\n",
       "      <td>1</td>\n",
       "      <td>0</td>\n",
       "      <td>0.2445</td>\n",
       "      <td>NaN</td>\n",
       "      <td>NaN</td>\n",
       "      <td>NaN</td>\n",
       "      <td>NaN</td>\n",
       "    </tr>\n",
       "    <tr>\n",
       "      <th>1</th>\n",
       "      <td>2013-11-02 00:00:00</td>\n",
       "      <td>1</td>\n",
       "      <td>39</td>\n",
       "      <td>1.4952</td>\n",
       "      <td>1.1213</td>\n",
       "      <td>0.2708</td>\n",
       "      <td>0.3004</td>\n",
       "      <td>46.5094</td>\n",
       "    </tr>\n",
       "    <tr>\n",
       "      <th>2</th>\n",
       "      <td>2013-11-02 00:00:00</td>\n",
       "      <td>1</td>\n",
       "      <td>53</td>\n",
       "      <td>0.0018</td>\n",
       "      <td>0.0036</td>\n",
       "      <td>NaN</td>\n",
       "      <td>NaN</td>\n",
       "      <td>NaN</td>\n",
       "    </tr>\n",
       "    <tr>\n",
       "      <th>3</th>\n",
       "      <td>2013-11-02 00:00:00</td>\n",
       "      <td>2</td>\n",
       "      <td>0</td>\n",
       "      <td>0.2458</td>\n",
       "      <td>NaN</td>\n",
       "      <td>NaN</td>\n",
       "      <td>NaN</td>\n",
       "      <td>NaN</td>\n",
       "    </tr>\n",
       "    <tr>\n",
       "      <th>4</th>\n",
       "      <td>2013-11-02 00:00:00</td>\n",
       "      <td>2</td>\n",
       "      <td>39</td>\n",
       "      <td>1.5028</td>\n",
       "      <td>1.1243</td>\n",
       "      <td>0.2751</td>\n",
       "      <td>0.3023</td>\n",
       "      <td>46.6933</td>\n",
       "    </tr>\n",
       "  </tbody>\n",
       "</table>\n",
       "</div>"
      ],
      "text/plain": [
       "              datetime  CellID  countrycode   smsin  smsout  callin  callout  \\\n",
       "0  2013-11-02 00:00:00       1            0  0.2445     NaN     NaN      NaN   \n",
       "1  2013-11-02 00:00:00       1           39  1.4952  1.1213  0.2708   0.3004   \n",
       "2  2013-11-02 00:00:00       1           53  0.0018  0.0036     NaN      NaN   \n",
       "3  2013-11-02 00:00:00       2            0  0.2458     NaN     NaN      NaN   \n",
       "4  2013-11-02 00:00:00       2           39  1.5028  1.1243  0.2751   0.3023   \n",
       "\n",
       "   internet  \n",
       "0       NaN  \n",
       "1   46.5094  \n",
       "2       NaN  \n",
       "3       NaN  \n",
       "4   46.6933  "
      ]
     },
     "execution_count": 97,
     "metadata": {},
     "output_type": "execute_result"
    }
   ],
   "source": [
    "# sms call internet nov 2\n",
    "\n",
    "smscall2.head()"
   ]
  },
  {
   "cell_type": "code",
   "execution_count": 98,
   "metadata": {},
   "outputs": [
    {
     "data": {
      "text/plain": [
       "datetime             0\n",
       "CellID               0\n",
       "countrycode          0\n",
       "smsin          1064004\n",
       "smsout         1385745\n",
       "callin         1376883\n",
       "callout        1015556\n",
       "internet       1043979\n",
       "dtype: int64"
      ]
     },
     "execution_count": 98,
     "metadata": {},
     "output_type": "execute_result"
    }
   ],
   "source": [
    "smscall2.isnull().sum()"
   ]
  },
  {
   "cell_type": "code",
   "execution_count": 99,
   "metadata": {},
   "outputs": [],
   "source": [
    "smscall2['smsin'] = smscall2['smsin'].fillna(smscall2['smsin'].mean())\n",
    "smscall2['smsout']= smscall2['smsout'].fillna(smscall2['smsout'].mean())\n",
    "smscall2['callin'] = smscall2['callin'].fillna(smscall2['callin'].mean())\n",
    "smscall2['callout'] = smscall2['callout'].fillna(smscall2['callout'].mean())\n",
    "smscall2['internet'] = smscall2['internet'].fillna(smscall2['internet'].mean())"
   ]
  },
  {
   "cell_type": "code",
   "execution_count": 100,
   "metadata": {},
   "outputs": [
    {
     "data": {
      "text/plain": [
       "datetime       0\n",
       "CellID         0\n",
       "countrycode    0\n",
       "smsin          0\n",
       "smsout         0\n",
       "callin         0\n",
       "callout        0\n",
       "internet       0\n",
       "dtype: int64"
      ]
     },
     "execution_count": 100,
     "metadata": {},
     "output_type": "execute_result"
    }
   ],
   "source": [
    "smscall2.isnull().sum()"
   ]
  },
  {
   "cell_type": "code",
   "execution_count": 101,
   "metadata": {},
   "outputs": [
    {
     "data": {
      "text/html": [
       "<div>\n",
       "<style scoped>\n",
       "    .dataframe tbody tr th:only-of-type {\n",
       "        vertical-align: middle;\n",
       "    }\n",
       "\n",
       "    .dataframe tbody tr th {\n",
       "        vertical-align: top;\n",
       "    }\n",
       "\n",
       "    .dataframe thead th {\n",
       "        text-align: right;\n",
       "    }\n",
       "</style>\n",
       "<table border=\"1\" class=\"dataframe\">\n",
       "  <thead>\n",
       "    <tr style=\"text-align: right;\">\n",
       "      <th></th>\n",
       "      <th>datetime</th>\n",
       "      <th>CellID</th>\n",
       "      <th>countrycode</th>\n",
       "      <th>smsin</th>\n",
       "      <th>smsout</th>\n",
       "      <th>callin</th>\n",
       "      <th>callout</th>\n",
       "      <th>internet</th>\n",
       "    </tr>\n",
       "  </thead>\n",
       "  <tbody>\n",
       "    <tr>\n",
       "      <th>0</th>\n",
       "      <td>2013-11-03 00:00:00</td>\n",
       "      <td>1</td>\n",
       "      <td>0</td>\n",
       "      <td>0.2221</td>\n",
       "      <td>NaN</td>\n",
       "      <td>NaN</td>\n",
       "      <td>0.0534</td>\n",
       "      <td>NaN</td>\n",
       "    </tr>\n",
       "    <tr>\n",
       "      <th>1</th>\n",
       "      <td>2013-11-03 00:00:00</td>\n",
       "      <td>1</td>\n",
       "      <td>39</td>\n",
       "      <td>0.9891</td>\n",
       "      <td>0.8306</td>\n",
       "      <td>0.2481</td>\n",
       "      <td>0.5635</td>\n",
       "      <td>54.5778</td>\n",
       "    </tr>\n",
       "    <tr>\n",
       "      <th>2</th>\n",
       "      <td>2013-11-03 00:00:00</td>\n",
       "      <td>2</td>\n",
       "      <td>0</td>\n",
       "      <td>0.2223</td>\n",
       "      <td>NaN</td>\n",
       "      <td>NaN</td>\n",
       "      <td>0.0547</td>\n",
       "      <td>NaN</td>\n",
       "    </tr>\n",
       "    <tr>\n",
       "      <th>3</th>\n",
       "      <td>2013-11-03 00:00:00</td>\n",
       "      <td>2</td>\n",
       "      <td>39</td>\n",
       "      <td>0.9946</td>\n",
       "      <td>0.8315</td>\n",
       "      <td>0.2476</td>\n",
       "      <td>0.5748</td>\n",
       "      <td>54.7746</td>\n",
       "    </tr>\n",
       "    <tr>\n",
       "      <th>4</th>\n",
       "      <td>2013-11-03 00:00:00</td>\n",
       "      <td>3</td>\n",
       "      <td>0</td>\n",
       "      <td>0.2225</td>\n",
       "      <td>NaN</td>\n",
       "      <td>NaN</td>\n",
       "      <td>0.0560</td>\n",
       "      <td>NaN</td>\n",
       "    </tr>\n",
       "  </tbody>\n",
       "</table>\n",
       "</div>"
      ],
      "text/plain": [
       "              datetime  CellID  countrycode   smsin  smsout  callin  callout  \\\n",
       "0  2013-11-03 00:00:00       1            0  0.2221     NaN     NaN   0.0534   \n",
       "1  2013-11-03 00:00:00       1           39  0.9891  0.8306  0.2481   0.5635   \n",
       "2  2013-11-03 00:00:00       2            0  0.2223     NaN     NaN   0.0547   \n",
       "3  2013-11-03 00:00:00       2           39  0.9946  0.8315  0.2476   0.5748   \n",
       "4  2013-11-03 00:00:00       3            0  0.2225     NaN     NaN   0.0560   \n",
       "\n",
       "   internet  \n",
       "0       NaN  \n",
       "1   54.5778  \n",
       "2       NaN  \n",
       "3   54.7746  \n",
       "4       NaN  "
      ]
     },
     "execution_count": 101,
     "metadata": {},
     "output_type": "execute_result"
    }
   ],
   "source": [
    "# sms call internet nov 3\n",
    "\n",
    "smscall3.head()"
   ]
  },
  {
   "cell_type": "code",
   "execution_count": 103,
   "metadata": {},
   "outputs": [
    {
     "data": {
      "text/plain": [
       "datetime             0\n",
       "CellID               0\n",
       "countrycode          0\n",
       "smsin          1045136\n",
       "smsout         1372198\n",
       "callin         1362366\n",
       "callout         985747\n",
       "internet       1062048\n",
       "dtype: int64"
      ]
     },
     "execution_count": 103,
     "metadata": {},
     "output_type": "execute_result"
    }
   ],
   "source": [
    "smscall3.isnull().sum()"
   ]
  },
  {
   "cell_type": "code",
   "execution_count": 104,
   "metadata": {},
   "outputs": [],
   "source": [
    "smscall3['smsin'] = smscall3['smsin'].fillna(smscall3['smsin'].mean())\n",
    "smscall3['smsout']= smscall3['smsout'].fillna(smscall3['smsout'].mean())\n",
    "smscall3['callin'] = smscall3['callin'].fillna(smscall3['callin'].mean())\n",
    "smscall3['callout'] = smscall3['callout'].fillna(smscall3['callout'].mean())\n",
    "smscall3['internet'] = smscall3['internet'].fillna(smscall3['internet'].mean())"
   ]
  },
  {
   "cell_type": "code",
   "execution_count": 105,
   "metadata": {},
   "outputs": [
    {
     "data": {
      "text/plain": [
       "datetime       0\n",
       "CellID         0\n",
       "countrycode    0\n",
       "smsin          0\n",
       "smsout         0\n",
       "callin         0\n",
       "callout        0\n",
       "internet       0\n",
       "dtype: int64"
      ]
     },
     "execution_count": 105,
     "metadata": {},
     "output_type": "execute_result"
    }
   ],
   "source": [
    "smscall3.isnull().sum()"
   ]
  },
  {
   "cell_type": "code",
   "execution_count": 106,
   "metadata": {},
   "outputs": [
    {
     "data": {
      "text/html": [
       "<div>\n",
       "<style scoped>\n",
       "    .dataframe tbody tr th:only-of-type {\n",
       "        vertical-align: middle;\n",
       "    }\n",
       "\n",
       "    .dataframe tbody tr th {\n",
       "        vertical-align: top;\n",
       "    }\n",
       "\n",
       "    .dataframe thead th {\n",
       "        text-align: right;\n",
       "    }\n",
       "</style>\n",
       "<table border=\"1\" class=\"dataframe\">\n",
       "  <thead>\n",
       "    <tr style=\"text-align: right;\">\n",
       "      <th></th>\n",
       "      <th>datetime</th>\n",
       "      <th>CellID</th>\n",
       "      <th>countrycode</th>\n",
       "      <th>smsin</th>\n",
       "      <th>smsout</th>\n",
       "      <th>callin</th>\n",
       "      <th>callout</th>\n",
       "      <th>internet</th>\n",
       "    </tr>\n",
       "  </thead>\n",
       "  <tbody>\n",
       "    <tr>\n",
       "      <th>0</th>\n",
       "      <td>2013-11-04 00:00:00</td>\n",
       "      <td>1</td>\n",
       "      <td>0</td>\n",
       "      <td>0.1080</td>\n",
       "      <td>NaN</td>\n",
       "      <td>NaN</td>\n",
       "      <td>NaN</td>\n",
       "      <td>NaN</td>\n",
       "    </tr>\n",
       "    <tr>\n",
       "      <th>1</th>\n",
       "      <td>2013-11-04 00:00:00</td>\n",
       "      <td>1</td>\n",
       "      <td>39</td>\n",
       "      <td>1.0266</td>\n",
       "      <td>0.8069</td>\n",
       "      <td>0.0552</td>\n",
       "      <td>0.2155</td>\n",
       "      <td>50.342</td>\n",
       "    </tr>\n",
       "    <tr>\n",
       "      <th>2</th>\n",
       "      <td>2013-11-04 00:00:00</td>\n",
       "      <td>2</td>\n",
       "      <td>0</td>\n",
       "      <td>0.1093</td>\n",
       "      <td>NaN</td>\n",
       "      <td>NaN</td>\n",
       "      <td>NaN</td>\n",
       "      <td>NaN</td>\n",
       "    </tr>\n",
       "    <tr>\n",
       "      <th>3</th>\n",
       "      <td>2013-11-04 00:00:00</td>\n",
       "      <td>2</td>\n",
       "      <td>39</td>\n",
       "      <td>1.0430</td>\n",
       "      <td>0.8226</td>\n",
       "      <td>0.0556</td>\n",
       "      <td>0.2195</td>\n",
       "      <td>50.432</td>\n",
       "    </tr>\n",
       "    <tr>\n",
       "      <th>4</th>\n",
       "      <td>2013-11-04 00:00:00</td>\n",
       "      <td>3</td>\n",
       "      <td>0</td>\n",
       "      <td>0.1106</td>\n",
       "      <td>NaN</td>\n",
       "      <td>NaN</td>\n",
       "      <td>NaN</td>\n",
       "      <td>NaN</td>\n",
       "    </tr>\n",
       "  </tbody>\n",
       "</table>\n",
       "</div>"
      ],
      "text/plain": [
       "              datetime  CellID  countrycode   smsin  smsout  callin  callout  \\\n",
       "0  2013-11-04 00:00:00       1            0  0.1080     NaN     NaN      NaN   \n",
       "1  2013-11-04 00:00:00       1           39  1.0266  0.8069  0.0552   0.2155   \n",
       "2  2013-11-04 00:00:00       2            0  0.1093     NaN     NaN      NaN   \n",
       "3  2013-11-04 00:00:00       2           39  1.0430  0.8226  0.0556   0.2195   \n",
       "4  2013-11-04 00:00:00       3            0  0.1106     NaN     NaN      NaN   \n",
       "\n",
       "   internet  \n",
       "0       NaN  \n",
       "1    50.342  \n",
       "2       NaN  \n",
       "3    50.432  \n",
       "4       NaN  "
      ]
     },
     "execution_count": 106,
     "metadata": {},
     "output_type": "execute_result"
    }
   ],
   "source": [
    "# sms call internet nov 4\n",
    "\n",
    "smscall4.head()"
   ]
  },
  {
   "cell_type": "code",
   "execution_count": 107,
   "metadata": {},
   "outputs": [
    {
     "data": {
      "text/plain": [
       "datetime             0\n",
       "CellID               0\n",
       "countrycode          0\n",
       "smsin          1404456\n",
       "smsout         1768331\n",
       "callin         1648923\n",
       "callout        1324029\n",
       "internet       1273438\n",
       "dtype: int64"
      ]
     },
     "execution_count": 107,
     "metadata": {},
     "output_type": "execute_result"
    }
   ],
   "source": [
    "smscall4.isnull().sum()"
   ]
  },
  {
   "cell_type": "code",
   "execution_count": 108,
   "metadata": {},
   "outputs": [
    {
     "data": {
      "text/plain": [
       "2299544"
      ]
     },
     "execution_count": 108,
     "metadata": {},
     "output_type": "execute_result"
    }
   ],
   "source": [
    "len(smscall4)"
   ]
  },
  {
   "cell_type": "code",
   "execution_count": 109,
   "metadata": {},
   "outputs": [],
   "source": [
    "smscall4['smsin'] = smscall4['smsin'].fillna(smscall4['smsin'].mean())\n",
    "smscall4['smsout']= smscall4['smsout'].fillna(smscall4['smsout'].mean())\n",
    "smscall4['callin'] = smscall4['callin'].fillna(smscall4['callin'].mean())\n",
    "smscall4['callout'] = smscall4['callout'].fillna(smscall4['callout'].mean())\n",
    "smscall4['internet'] = smscall4['internet'].fillna(smscall4['internet'].mean())"
   ]
  },
  {
   "cell_type": "code",
   "execution_count": 110,
   "metadata": {},
   "outputs": [
    {
     "data": {
      "text/plain": [
       "datetime       0\n",
       "CellID         0\n",
       "countrycode    0\n",
       "smsin          0\n",
       "smsout         0\n",
       "callin         0\n",
       "callout        0\n",
       "internet       0\n",
       "dtype: int64"
      ]
     },
     "execution_count": 110,
     "metadata": {},
     "output_type": "execute_result"
    }
   ],
   "source": [
    "smscall4.isnull().sum()"
   ]
  },
  {
   "cell_type": "code",
   "execution_count": 111,
   "metadata": {},
   "outputs": [
    {
     "data": {
      "text/html": [
       "<div>\n",
       "<style scoped>\n",
       "    .dataframe tbody tr th:only-of-type {\n",
       "        vertical-align: middle;\n",
       "    }\n",
       "\n",
       "    .dataframe tbody tr th {\n",
       "        vertical-align: top;\n",
       "    }\n",
       "\n",
       "    .dataframe thead th {\n",
       "        text-align: right;\n",
       "    }\n",
       "</style>\n",
       "<table border=\"1\" class=\"dataframe\">\n",
       "  <thead>\n",
       "    <tr style=\"text-align: right;\">\n",
       "      <th></th>\n",
       "      <th>datetime</th>\n",
       "      <th>CellID</th>\n",
       "      <th>countrycode</th>\n",
       "      <th>smsin</th>\n",
       "      <th>smsout</th>\n",
       "      <th>callin</th>\n",
       "      <th>callout</th>\n",
       "      <th>internet</th>\n",
       "    </tr>\n",
       "  </thead>\n",
       "  <tbody>\n",
       "    <tr>\n",
       "      <th>0</th>\n",
       "      <td>2013-11-05 00:00:00</td>\n",
       "      <td>1</td>\n",
       "      <td>0</td>\n",
       "      <td>0.1098</td>\n",
       "      <td>NaN</td>\n",
       "      <td>NaN</td>\n",
       "      <td>NaN</td>\n",
       "      <td>NaN</td>\n",
       "    </tr>\n",
       "    <tr>\n",
       "      <th>1</th>\n",
       "      <td>2013-11-05 00:00:00</td>\n",
       "      <td>1</td>\n",
       "      <td>33</td>\n",
       "      <td>NaN</td>\n",
       "      <td>NaN</td>\n",
       "      <td>NaN</td>\n",
       "      <td>NaN</td>\n",
       "      <td>0.0261</td>\n",
       "    </tr>\n",
       "    <tr>\n",
       "      <th>2</th>\n",
       "      <td>2013-11-05 00:00:00</td>\n",
       "      <td>1</td>\n",
       "      <td>39</td>\n",
       "      <td>1.5658</td>\n",
       "      <td>1.2285</td>\n",
       "      <td>0.2505</td>\n",
       "      <td>0.3503</td>\n",
       "      <td>56.4289</td>\n",
       "    </tr>\n",
       "    <tr>\n",
       "      <th>3</th>\n",
       "      <td>2013-11-05 00:00:00</td>\n",
       "      <td>1</td>\n",
       "      <td>44</td>\n",
       "      <td>0.0018</td>\n",
       "      <td>NaN</td>\n",
       "      <td>NaN</td>\n",
       "      <td>NaN</td>\n",
       "      <td>NaN</td>\n",
       "    </tr>\n",
       "    <tr>\n",
       "      <th>4</th>\n",
       "      <td>2013-11-05 00:00:00</td>\n",
       "      <td>1</td>\n",
       "      <td>46</td>\n",
       "      <td>NaN</td>\n",
       "      <td>NaN</td>\n",
       "      <td>NaN</td>\n",
       "      <td>NaN</td>\n",
       "      <td>0.0261</td>\n",
       "    </tr>\n",
       "  </tbody>\n",
       "</table>\n",
       "</div>"
      ],
      "text/plain": [
       "              datetime  CellID  countrycode   smsin  smsout  callin  callout  \\\n",
       "0  2013-11-05 00:00:00       1            0  0.1098     NaN     NaN      NaN   \n",
       "1  2013-11-05 00:00:00       1           33     NaN     NaN     NaN      NaN   \n",
       "2  2013-11-05 00:00:00       1           39  1.5658  1.2285  0.2505   0.3503   \n",
       "3  2013-11-05 00:00:00       1           44  0.0018     NaN     NaN      NaN   \n",
       "4  2013-11-05 00:00:00       1           46     NaN     NaN     NaN      NaN   \n",
       "\n",
       "   internet  \n",
       "0       NaN  \n",
       "1    0.0261  \n",
       "2   56.4289  \n",
       "3       NaN  \n",
       "4    0.0261  "
      ]
     },
     "execution_count": 111,
     "metadata": {},
     "output_type": "execute_result"
    }
   ],
   "source": [
    "# sms call internet nov 5\n",
    "\n",
    "smscall5.head()"
   ]
  },
  {
   "cell_type": "code",
   "execution_count": 112,
   "metadata": {},
   "outputs": [
    {
     "data": {
      "text/plain": [
       "2397759"
      ]
     },
     "execution_count": 112,
     "metadata": {},
     "output_type": "execute_result"
    }
   ],
   "source": [
    "len(smscall5)"
   ]
  },
  {
   "cell_type": "code",
   "execution_count": 113,
   "metadata": {},
   "outputs": [
    {
     "data": {
      "text/plain": [
       "datetime             0\n",
       "CellID               0\n",
       "countrycode          0\n",
       "smsin          1477440\n",
       "smsout         1856349\n",
       "callin         1720381\n",
       "callout        1399786\n",
       "internet       1299692\n",
       "dtype: int64"
      ]
     },
     "execution_count": 113,
     "metadata": {},
     "output_type": "execute_result"
    }
   ],
   "source": [
    "smscall5.isnull().sum()"
   ]
  },
  {
   "cell_type": "code",
   "execution_count": 114,
   "metadata": {},
   "outputs": [],
   "source": [
    "smscall5['smsin'] = smscall5['smsin'].fillna(smscall5['smsin'].mean())\n",
    "smscall5['smsout']= smscall5['smsout'].fillna(smscall5['smsout'].mean())\n",
    "smscall5['callin'] = smscall5['callin'].fillna(smscall5['callin'].mean())\n",
    "smscall5['callout'] = smscall5['callout'].fillna(smscall5['callout'].mean())\n",
    "smscall5['internet'] = smscall5['internet'].fillna(smscall5['internet'].mean())"
   ]
  },
  {
   "cell_type": "code",
   "execution_count": 115,
   "metadata": {},
   "outputs": [
    {
     "data": {
      "text/plain": [
       "datetime       0\n",
       "CellID         0\n",
       "countrycode    0\n",
       "smsin          0\n",
       "smsout         0\n",
       "callin         0\n",
       "callout        0\n",
       "internet       0\n",
       "dtype: int64"
      ]
     },
     "execution_count": 115,
     "metadata": {},
     "output_type": "execute_result"
    }
   ],
   "source": [
    "smscall5.isnull().sum()"
   ]
  },
  {
   "cell_type": "code",
   "execution_count": 116,
   "metadata": {},
   "outputs": [
    {
     "data": {
      "text/html": [
       "<div>\n",
       "<style scoped>\n",
       "    .dataframe tbody tr th:only-of-type {\n",
       "        vertical-align: middle;\n",
       "    }\n",
       "\n",
       "    .dataframe tbody tr th {\n",
       "        vertical-align: top;\n",
       "    }\n",
       "\n",
       "    .dataframe thead th {\n",
       "        text-align: right;\n",
       "    }\n",
       "</style>\n",
       "<table border=\"1\" class=\"dataframe\">\n",
       "  <thead>\n",
       "    <tr style=\"text-align: right;\">\n",
       "      <th></th>\n",
       "      <th>datetime</th>\n",
       "      <th>CellID</th>\n",
       "      <th>countrycode</th>\n",
       "      <th>smsin</th>\n",
       "      <th>smsout</th>\n",
       "      <th>callin</th>\n",
       "      <th>callout</th>\n",
       "      <th>internet</th>\n",
       "    </tr>\n",
       "  </thead>\n",
       "  <tbody>\n",
       "    <tr>\n",
       "      <th>0</th>\n",
       "      <td>2013-11-06 00:00:00</td>\n",
       "      <td>1</td>\n",
       "      <td>0</td>\n",
       "      <td>0.0814</td>\n",
       "      <td>NaN</td>\n",
       "      <td>NaN</td>\n",
       "      <td>NaN</td>\n",
       "      <td>NaN</td>\n",
       "    </tr>\n",
       "    <tr>\n",
       "      <th>1</th>\n",
       "      <td>2013-11-06 00:00:00</td>\n",
       "      <td>1</td>\n",
       "      <td>39</td>\n",
       "      <td>0.7458</td>\n",
       "      <td>0.7204</td>\n",
       "      <td>0.1626</td>\n",
       "      <td>0.1057</td>\n",
       "      <td>52.3219</td>\n",
       "    </tr>\n",
       "    <tr>\n",
       "      <th>2</th>\n",
       "      <td>2013-11-06 00:00:00</td>\n",
       "      <td>2</td>\n",
       "      <td>0</td>\n",
       "      <td>0.0829</td>\n",
       "      <td>NaN</td>\n",
       "      <td>NaN</td>\n",
       "      <td>NaN</td>\n",
       "      <td>NaN</td>\n",
       "    </tr>\n",
       "    <tr>\n",
       "      <th>3</th>\n",
       "      <td>2013-11-06 00:00:00</td>\n",
       "      <td>2</td>\n",
       "      <td>39</td>\n",
       "      <td>0.7653</td>\n",
       "      <td>0.7409</td>\n",
       "      <td>0.1639</td>\n",
       "      <td>0.1094</td>\n",
       "      <td>52.4064</td>\n",
       "    </tr>\n",
       "    <tr>\n",
       "      <th>4</th>\n",
       "      <td>2013-11-06 00:00:00</td>\n",
       "      <td>3</td>\n",
       "      <td>0</td>\n",
       "      <td>0.0846</td>\n",
       "      <td>NaN</td>\n",
       "      <td>NaN</td>\n",
       "      <td>NaN</td>\n",
       "      <td>NaN</td>\n",
       "    </tr>\n",
       "  </tbody>\n",
       "</table>\n",
       "</div>"
      ],
      "text/plain": [
       "              datetime  CellID  countrycode   smsin  smsout  callin  callout  \\\n",
       "0  2013-11-06 00:00:00       1            0  0.0814     NaN     NaN      NaN   \n",
       "1  2013-11-06 00:00:00       1           39  0.7458  0.7204  0.1626   0.1057   \n",
       "2  2013-11-06 00:00:00       2            0  0.0829     NaN     NaN      NaN   \n",
       "3  2013-11-06 00:00:00       2           39  0.7653  0.7409  0.1639   0.1094   \n",
       "4  2013-11-06 00:00:00       3            0  0.0846     NaN     NaN      NaN   \n",
       "\n",
       "   internet  \n",
       "0       NaN  \n",
       "1   52.3219  \n",
       "2       NaN  \n",
       "3   52.4064  \n",
       "4       NaN  "
      ]
     },
     "execution_count": 116,
     "metadata": {},
     "output_type": "execute_result"
    }
   ],
   "source": [
    "# sms call internet nov 6\n",
    "\n",
    "smscall6.head()"
   ]
  },
  {
   "cell_type": "code",
   "execution_count": 117,
   "metadata": {},
   "outputs": [
    {
     "data": {
      "text/plain": [
       "2417156"
      ]
     },
     "execution_count": 117,
     "metadata": {},
     "output_type": "execute_result"
    }
   ],
   "source": [
    "len(smscall6)"
   ]
  },
  {
   "cell_type": "code",
   "execution_count": 118,
   "metadata": {},
   "outputs": [
    {
     "data": {
      "text/plain": [
       "datetime             0\n",
       "CellID               0\n",
       "countrycode          0\n",
       "smsin          1495711\n",
       "smsout         1871662\n",
       "callin         1735879\n",
       "callout        1424899\n",
       "internet       1303700\n",
       "dtype: int64"
      ]
     },
     "execution_count": 118,
     "metadata": {},
     "output_type": "execute_result"
    }
   ],
   "source": [
    "smscall6.isnull().sum()"
   ]
  },
  {
   "cell_type": "code",
   "execution_count": 119,
   "metadata": {},
   "outputs": [],
   "source": [
    "smscall6['smsin'] = smscall6['smsin'].fillna(smscall6['smsin'].mean())\n",
    "smscall6['smsout']= smscall6['smsout'].fillna(smscall6['smsout'].mean())\n",
    "smscall6['callin'] = smscall6['callin'].fillna(smscall6['callin'].mean())\n",
    "smscall6['callout'] = smscall6['callout'].fillna(smscall6['callout'].mean())\n",
    "smscall6['internet'] = smscall6['internet'].fillna(smscall6['internet'].mean())"
   ]
  },
  {
   "cell_type": "code",
   "execution_count": 120,
   "metadata": {},
   "outputs": [
    {
     "data": {
      "text/plain": [
       "datetime       0\n",
       "CellID         0\n",
       "countrycode    0\n",
       "smsin          0\n",
       "smsout         0\n",
       "callin         0\n",
       "callout        0\n",
       "internet       0\n",
       "dtype: int64"
      ]
     },
     "execution_count": 120,
     "metadata": {},
     "output_type": "execute_result"
    }
   ],
   "source": [
    "smscall6.isnull().sum()"
   ]
  },
  {
   "cell_type": "code",
   "execution_count": 121,
   "metadata": {},
   "outputs": [
    {
     "data": {
      "text/html": [
       "<div>\n",
       "<style scoped>\n",
       "    .dataframe tbody tr th:only-of-type {\n",
       "        vertical-align: middle;\n",
       "    }\n",
       "\n",
       "    .dataframe tbody tr th {\n",
       "        vertical-align: top;\n",
       "    }\n",
       "\n",
       "    .dataframe thead th {\n",
       "        text-align: right;\n",
       "    }\n",
       "</style>\n",
       "<table border=\"1\" class=\"dataframe\">\n",
       "  <thead>\n",
       "    <tr style=\"text-align: right;\">\n",
       "      <th></th>\n",
       "      <th>datetime</th>\n",
       "      <th>CellID</th>\n",
       "      <th>countrycode</th>\n",
       "      <th>smsin</th>\n",
       "      <th>smsout</th>\n",
       "      <th>callin</th>\n",
       "      <th>callout</th>\n",
       "      <th>internet</th>\n",
       "    </tr>\n",
       "  </thead>\n",
       "  <tbody>\n",
       "    <tr>\n",
       "      <th>0</th>\n",
       "      <td>2013-11-07 00:00:00</td>\n",
       "      <td>1</td>\n",
       "      <td>0</td>\n",
       "      <td>0.2463</td>\n",
       "      <td>NaN</td>\n",
       "      <td>NaN</td>\n",
       "      <td>NaN</td>\n",
       "      <td>NaN</td>\n",
       "    </tr>\n",
       "    <tr>\n",
       "      <th>1</th>\n",
       "      <td>2013-11-07 00:00:00</td>\n",
       "      <td>1</td>\n",
       "      <td>39</td>\n",
       "      <td>1.4627</td>\n",
       "      <td>1.6610</td>\n",
       "      <td>0.2999</td>\n",
       "      <td>0.1644</td>\n",
       "      <td>55.8591</td>\n",
       "    </tr>\n",
       "    <tr>\n",
       "      <th>2</th>\n",
       "      <td>2013-11-07 00:00:00</td>\n",
       "      <td>2</td>\n",
       "      <td>0</td>\n",
       "      <td>0.2467</td>\n",
       "      <td>NaN</td>\n",
       "      <td>NaN</td>\n",
       "      <td>NaN</td>\n",
       "      <td>NaN</td>\n",
       "    </tr>\n",
       "    <tr>\n",
       "      <th>3</th>\n",
       "      <td>2013-11-07 00:00:00</td>\n",
       "      <td>2</td>\n",
       "      <td>39</td>\n",
       "      <td>1.4768</td>\n",
       "      <td>1.6736</td>\n",
       "      <td>0.3033</td>\n",
       "      <td>0.1648</td>\n",
       "      <td>56.0243</td>\n",
       "    </tr>\n",
       "    <tr>\n",
       "      <th>4</th>\n",
       "      <td>2013-11-07 00:00:00</td>\n",
       "      <td>3</td>\n",
       "      <td>0</td>\n",
       "      <td>0.2471</td>\n",
       "      <td>NaN</td>\n",
       "      <td>NaN</td>\n",
       "      <td>NaN</td>\n",
       "      <td>NaN</td>\n",
       "    </tr>\n",
       "  </tbody>\n",
       "</table>\n",
       "</div>"
      ],
      "text/plain": [
       "              datetime  CellID  countrycode   smsin  smsout  callin  callout  \\\n",
       "0  2013-11-07 00:00:00       1            0  0.2463     NaN     NaN      NaN   \n",
       "1  2013-11-07 00:00:00       1           39  1.4627  1.6610  0.2999   0.1644   \n",
       "2  2013-11-07 00:00:00       2            0  0.2467     NaN     NaN      NaN   \n",
       "3  2013-11-07 00:00:00       2           39  1.4768  1.6736  0.3033   0.1648   \n",
       "4  2013-11-07 00:00:00       3            0  0.2471     NaN     NaN      NaN   \n",
       "\n",
       "   internet  \n",
       "0       NaN  \n",
       "1   55.8591  \n",
       "2       NaN  \n",
       "3   56.0243  \n",
       "4       NaN  "
      ]
     },
     "execution_count": 121,
     "metadata": {},
     "output_type": "execute_result"
    }
   ],
   "source": [
    "# sms call internet nov 7\n",
    "\n",
    "smscall7.head()"
   ]
  },
  {
   "cell_type": "code",
   "execution_count": 122,
   "metadata": {},
   "outputs": [
    {
     "data": {
      "text/plain": [
       "2407384"
      ]
     },
     "execution_count": 122,
     "metadata": {},
     "output_type": "execute_result"
    }
   ],
   "source": [
    "len(smscall7)"
   ]
  },
  {
   "cell_type": "code",
   "execution_count": 123,
   "metadata": {},
   "outputs": [
    {
     "data": {
      "text/plain": [
       "datetime             0\n",
       "CellID               0\n",
       "countrycode          0\n",
       "smsin          1492720\n",
       "smsout         1865924\n",
       "callin         1727643\n",
       "callout        1417432\n",
       "internet       1299270\n",
       "dtype: int64"
      ]
     },
     "execution_count": 123,
     "metadata": {},
     "output_type": "execute_result"
    }
   ],
   "source": [
    "smscall7.isnull().sum()"
   ]
  },
  {
   "cell_type": "code",
   "execution_count": 124,
   "metadata": {},
   "outputs": [],
   "source": [
    "smscall7['smsin'] = smscall7['smsin'].fillna(smscall7['smsin'].mean())\n",
    "smscall7['smsout']= smscall7['smsout'].fillna(smscall7['smsout'].mean())\n",
    "smscall7['callin'] = smscall7['callin'].fillna(smscall7['callin'].mean())\n",
    "smscall7['callout'] = smscall7['callout'].fillna(smscall7['callout'].mean())\n",
    "smscall7['internet'] = smscall7['internet'].fillna(smscall7['internet'].mean())"
   ]
  },
  {
   "cell_type": "code",
   "execution_count": 125,
   "metadata": {},
   "outputs": [
    {
     "data": {
      "text/plain": [
       "datetime       0\n",
       "CellID         0\n",
       "countrycode    0\n",
       "smsin          0\n",
       "smsout         0\n",
       "callin         0\n",
       "callout        0\n",
       "internet       0\n",
       "dtype: int64"
      ]
     },
     "execution_count": 125,
     "metadata": {},
     "output_type": "execute_result"
    }
   ],
   "source": [
    "smscall7.isnull().sum()"
   ]
  },
  {
   "cell_type": "code",
   "execution_count": 127,
   "metadata": {},
   "outputs": [
    {
     "data": {
      "text/html": [
       "<div>\n",
       "<style scoped>\n",
       "    .dataframe tbody tr th:only-of-type {\n",
       "        vertical-align: middle;\n",
       "    }\n",
       "\n",
       "    .dataframe tbody tr th {\n",
       "        vertical-align: top;\n",
       "    }\n",
       "\n",
       "    .dataframe thead th {\n",
       "        text-align: right;\n",
       "    }\n",
       "</style>\n",
       "<table border=\"1\" class=\"dataframe\">\n",
       "  <thead>\n",
       "    <tr style=\"text-align: right;\">\n",
       "      <th></th>\n",
       "      <th>datetime</th>\n",
       "      <th>CellID</th>\n",
       "      <th>countrycode</th>\n",
       "      <th>smsin</th>\n",
       "      <th>smsout</th>\n",
       "      <th>callin</th>\n",
       "      <th>callout</th>\n",
       "      <th>internet</th>\n",
       "    </tr>\n",
       "  </thead>\n",
       "  <tbody>\n",
       "    <tr>\n",
       "      <th>0</th>\n",
       "      <td>2013-11-01 00:00:00</td>\n",
       "      <td>1</td>\n",
       "      <td>0</td>\n",
       "      <td>0.352100</td>\n",
       "      <td>6.011796</td>\n",
       "      <td>5.417363</td>\n",
       "      <td>0.027300</td>\n",
       "      <td>102.477277</td>\n",
       "    </tr>\n",
       "    <tr>\n",
       "      <th>1</th>\n",
       "      <td>2013-11-01 00:00:00</td>\n",
       "      <td>1</td>\n",
       "      <td>33</td>\n",
       "      <td>5.716717</td>\n",
       "      <td>6.011796</td>\n",
       "      <td>5.417363</td>\n",
       "      <td>3.741025</td>\n",
       "      <td>0.026100</td>\n",
       "    </tr>\n",
       "    <tr>\n",
       "      <th>2</th>\n",
       "      <td>2013-11-01 00:00:00</td>\n",
       "      <td>1</td>\n",
       "      <td>39</td>\n",
       "      <td>1.732200</td>\n",
       "      <td>1.104700</td>\n",
       "      <td>0.591900</td>\n",
       "      <td>0.402000</td>\n",
       "      <td>57.772900</td>\n",
       "    </tr>\n",
       "    <tr>\n",
       "      <th>3</th>\n",
       "      <td>2013-11-01 00:00:00</td>\n",
       "      <td>2</td>\n",
       "      <td>0</td>\n",
       "      <td>0.358100</td>\n",
       "      <td>6.011796</td>\n",
       "      <td>5.417363</td>\n",
       "      <td>0.027300</td>\n",
       "      <td>102.477277</td>\n",
       "    </tr>\n",
       "    <tr>\n",
       "      <th>4</th>\n",
       "      <td>2013-11-01 00:00:00</td>\n",
       "      <td>2</td>\n",
       "      <td>33</td>\n",
       "      <td>5.716717</td>\n",
       "      <td>6.011796</td>\n",
       "      <td>5.417363</td>\n",
       "      <td>3.741025</td>\n",
       "      <td>0.027400</td>\n",
       "    </tr>\n",
       "  </tbody>\n",
       "</table>\n",
       "</div>"
      ],
      "text/plain": [
       "              datetime  CellID  countrycode     smsin    smsout    callin  \\\n",
       "0  2013-11-01 00:00:00       1            0  0.352100  6.011796  5.417363   \n",
       "1  2013-11-01 00:00:00       1           33  5.716717  6.011796  5.417363   \n",
       "2  2013-11-01 00:00:00       1           39  1.732200  1.104700  0.591900   \n",
       "3  2013-11-01 00:00:00       2            0  0.358100  6.011796  5.417363   \n",
       "4  2013-11-01 00:00:00       2           33  5.716717  6.011796  5.417363   \n",
       "\n",
       "    callout    internet  \n",
       "0  0.027300  102.477277  \n",
       "1  3.741025    0.026100  \n",
       "2  0.402000   57.772900  \n",
       "3  0.027300  102.477277  \n",
       "4  3.741025    0.027400  "
      ]
     },
     "execution_count": 127,
     "metadata": {},
     "output_type": "execute_result"
    }
   ],
   "source": [
    "smscall1.head()"
   ]
  }
 ],
 "metadata": {
  "kernelspec": {
   "display_name": "Python 3",
   "language": "python",
   "name": "python3"
  },
  "language_info": {
   "codemirror_mode": {
    "name": "ipython",
    "version": 3
   },
   "file_extension": ".py",
   "mimetype": "text/x-python",
   "name": "python",
   "nbconvert_exporter": "python",
   "pygments_lexer": "ipython3",
   "version": "3.7.6"
  }
 },
 "nbformat": 4,
 "nbformat_minor": 4
}
