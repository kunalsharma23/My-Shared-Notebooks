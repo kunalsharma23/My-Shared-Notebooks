{
 "cells": [
  {
   "cell_type": "markdown",
   "metadata": {},
   "source": [
    "# Introduction to Telstra competition\n",
    "\n",
    "\n",
    "This is the dataset that is used in the Telstra Network Disruptions competition that ran between Nov 2015 and Feb 2016\n",
    "This competition provided a very nice and small dataset that allows many aspects of predictive modelling:\n",
    "\n",
    "* relational data between different entities of the disruption data\n",
    "* clean dataset that provides consistent and reliable feedback\n",
    "* ideal for practices for many parts of the predictive modelling pipelin: feature engineering, cross-validation, stacking, etc\n",
    "* Magic Feature! see forum thread for more details :)\n",
    "* This dataset is re-uploaded since the original competition did not feature kernels, and it is made available here give people a chance to practice their data science/predictive modelling skill with this nice little dataset"
   ]
  },
  {
   "cell_type": "markdown",
   "metadata": {},
   "source": [
    "# content\n",
    "\n"
   ]
  },
  {
   "cell_type": "markdown",
   "metadata": {},
   "source": [
    "\n",
    "* The goal of the problem is to predict Telstra network's fault severity at a time at a particular location based on the log data available. Each row in the main dataset (train.csv, test.csv) represents a location and a time point. They are identified by the \"id\" column, which is the key \"id\" used in other data files.\n",
    "\n",
    "* Fault severity has 3 categories: 0,1,2 (0 meaning no fault, 1 meaning only a few, and 2 meaning many).\n",
    "\n",
    "* Different types of features are extracted from log files and other sources: eventtype.csv, logfeature.csv, resourcetype.csv, severitytype.csv.\n",
    "\n",
    "* Note: “severitytype” is a feature extracted from the log files (in severitytype.csv). Often this is a severity type of a warning message coming from the log. \"severitytype\" is categorical. It does not have an ordering. “faultseverity” is a measurement of actual reported faults from users of the network and is the target variable (in train.csv)."
   ]
  },
  {
   "cell_type": "code",
   "execution_count": 1,
   "metadata": {},
   "outputs": [],
   "source": [
    "# Load the libraries\n",
    "\n",
    "import pandas as pd\n",
    "import numpy as np\n",
    "import seaborn as sns\n",
    "import matplotlib.pyplot as plt\n",
    "import tensorflow as tf                      # to allow RNN models\n",
    "%matplotlib inline"
   ]
  },
  {
   "cell_type": "markdown",
   "metadata": {},
   "source": [
    "# Load the data"
   ]
  },
  {
   "cell_type": "code",
   "execution_count": 2,
   "metadata": {},
   "outputs": [],
   "source": [
    "event_type = pd.read_csv('event_type.csv')\n",
    "log_feature = pd.read_csv('log_feature.csv')\n",
    "resource_type = pd.read_csv('resource_type.csv')\n",
    "sample_submission = pd.read_csv('sample_submission.csv')\n",
    "severity_type = pd.read_csv('severity_type.csv')\n",
    "train = pd.read_csv('train.csv')\n",
    "test = pd.read_csv('test.csv')"
   ]
  },
  {
   "cell_type": "code",
   "execution_count": 3,
   "metadata": {},
   "outputs": [
    {
     "data": {
      "text/html": [
       "<div>\n",
       "<style scoped>\n",
       "    .dataframe tbody tr th:only-of-type {\n",
       "        vertical-align: middle;\n",
       "    }\n",
       "\n",
       "    .dataframe tbody tr th {\n",
       "        vertical-align: top;\n",
       "    }\n",
       "\n",
       "    .dataframe thead th {\n",
       "        text-align: right;\n",
       "    }\n",
       "</style>\n",
       "<table border=\"1\" class=\"dataframe\">\n",
       "  <thead>\n",
       "    <tr style=\"text-align: right;\">\n",
       "      <th></th>\n",
       "      <th>id</th>\n",
       "      <th>event_type</th>\n",
       "    </tr>\n",
       "  </thead>\n",
       "  <tbody>\n",
       "    <tr>\n",
       "      <th>0</th>\n",
       "      <td>6597</td>\n",
       "      <td>event_type 11</td>\n",
       "    </tr>\n",
       "    <tr>\n",
       "      <th>1</th>\n",
       "      <td>8011</td>\n",
       "      <td>event_type 15</td>\n",
       "    </tr>\n",
       "    <tr>\n",
       "      <th>2</th>\n",
       "      <td>2597</td>\n",
       "      <td>event_type 15</td>\n",
       "    </tr>\n",
       "    <tr>\n",
       "      <th>3</th>\n",
       "      <td>5022</td>\n",
       "      <td>event_type 15</td>\n",
       "    </tr>\n",
       "    <tr>\n",
       "      <th>4</th>\n",
       "      <td>5022</td>\n",
       "      <td>event_type 11</td>\n",
       "    </tr>\n",
       "  </tbody>\n",
       "</table>\n",
       "</div>"
      ],
      "text/plain": [
       "     id     event_type\n",
       "0  6597  event_type 11\n",
       "1  8011  event_type 15\n",
       "2  2597  event_type 15\n",
       "3  5022  event_type 15\n",
       "4  5022  event_type 11"
      ]
     },
     "execution_count": 3,
     "metadata": {},
     "output_type": "execute_result"
    }
   ],
   "source": [
    "event_type.head()"
   ]
  },
  {
   "cell_type": "code",
   "execution_count": 4,
   "metadata": {},
   "outputs": [
    {
     "data": {
      "text/html": [
       "<div>\n",
       "<style scoped>\n",
       "    .dataframe tbody tr th:only-of-type {\n",
       "        vertical-align: middle;\n",
       "    }\n",
       "\n",
       "    .dataframe tbody tr th {\n",
       "        vertical-align: top;\n",
       "    }\n",
       "\n",
       "    .dataframe thead th {\n",
       "        text-align: right;\n",
       "    }\n",
       "</style>\n",
       "<table border=\"1\" class=\"dataframe\">\n",
       "  <thead>\n",
       "    <tr style=\"text-align: right;\">\n",
       "      <th></th>\n",
       "      <th>id</th>\n",
       "      <th>log_feature</th>\n",
       "      <th>volume</th>\n",
       "    </tr>\n",
       "  </thead>\n",
       "  <tbody>\n",
       "    <tr>\n",
       "      <th>0</th>\n",
       "      <td>6597</td>\n",
       "      <td>feature 68</td>\n",
       "      <td>6</td>\n",
       "    </tr>\n",
       "    <tr>\n",
       "      <th>1</th>\n",
       "      <td>8011</td>\n",
       "      <td>feature 68</td>\n",
       "      <td>7</td>\n",
       "    </tr>\n",
       "    <tr>\n",
       "      <th>2</th>\n",
       "      <td>2597</td>\n",
       "      <td>feature 68</td>\n",
       "      <td>1</td>\n",
       "    </tr>\n",
       "    <tr>\n",
       "      <th>3</th>\n",
       "      <td>5022</td>\n",
       "      <td>feature 172</td>\n",
       "      <td>2</td>\n",
       "    </tr>\n",
       "    <tr>\n",
       "      <th>4</th>\n",
       "      <td>5022</td>\n",
       "      <td>feature 56</td>\n",
       "      <td>1</td>\n",
       "    </tr>\n",
       "  </tbody>\n",
       "</table>\n",
       "</div>"
      ],
      "text/plain": [
       "     id  log_feature  volume\n",
       "0  6597   feature 68       6\n",
       "1  8011   feature 68       7\n",
       "2  2597   feature 68       1\n",
       "3  5022  feature 172       2\n",
       "4  5022   feature 56       1"
      ]
     },
     "execution_count": 4,
     "metadata": {},
     "output_type": "execute_result"
    }
   ],
   "source": [
    "log_feature.head()"
   ]
  },
  {
   "cell_type": "code",
   "execution_count": 5,
   "metadata": {},
   "outputs": [
    {
     "data": {
      "text/html": [
       "<div>\n",
       "<style scoped>\n",
       "    .dataframe tbody tr th:only-of-type {\n",
       "        vertical-align: middle;\n",
       "    }\n",
       "\n",
       "    .dataframe tbody tr th {\n",
       "        vertical-align: top;\n",
       "    }\n",
       "\n",
       "    .dataframe thead th {\n",
       "        text-align: right;\n",
       "    }\n",
       "</style>\n",
       "<table border=\"1\" class=\"dataframe\">\n",
       "  <thead>\n",
       "    <tr style=\"text-align: right;\">\n",
       "      <th></th>\n",
       "      <th>id</th>\n",
       "      <th>resource_type</th>\n",
       "    </tr>\n",
       "  </thead>\n",
       "  <tbody>\n",
       "    <tr>\n",
       "      <th>0</th>\n",
       "      <td>6597</td>\n",
       "      <td>resource_type 8</td>\n",
       "    </tr>\n",
       "    <tr>\n",
       "      <th>1</th>\n",
       "      <td>8011</td>\n",
       "      <td>resource_type 8</td>\n",
       "    </tr>\n",
       "    <tr>\n",
       "      <th>2</th>\n",
       "      <td>2597</td>\n",
       "      <td>resource_type 8</td>\n",
       "    </tr>\n",
       "    <tr>\n",
       "      <th>3</th>\n",
       "      <td>5022</td>\n",
       "      <td>resource_type 8</td>\n",
       "    </tr>\n",
       "    <tr>\n",
       "      <th>4</th>\n",
       "      <td>6852</td>\n",
       "      <td>resource_type 8</td>\n",
       "    </tr>\n",
       "  </tbody>\n",
       "</table>\n",
       "</div>"
      ],
      "text/plain": [
       "     id    resource_type\n",
       "0  6597  resource_type 8\n",
       "1  8011  resource_type 8\n",
       "2  2597  resource_type 8\n",
       "3  5022  resource_type 8\n",
       "4  6852  resource_type 8"
      ]
     },
     "execution_count": 5,
     "metadata": {},
     "output_type": "execute_result"
    }
   ],
   "source": [
    "resource_type.head()"
   ]
  },
  {
   "cell_type": "code",
   "execution_count": 6,
   "metadata": {},
   "outputs": [
    {
     "data": {
      "text/html": [
       "<div>\n",
       "<style scoped>\n",
       "    .dataframe tbody tr th:only-of-type {\n",
       "        vertical-align: middle;\n",
       "    }\n",
       "\n",
       "    .dataframe tbody tr th {\n",
       "        vertical-align: top;\n",
       "    }\n",
       "\n",
       "    .dataframe thead th {\n",
       "        text-align: right;\n",
       "    }\n",
       "</style>\n",
       "<table border=\"1\" class=\"dataframe\">\n",
       "  <thead>\n",
       "    <tr style=\"text-align: right;\">\n",
       "      <th></th>\n",
       "      <th>id</th>\n",
       "      <th>predict_0</th>\n",
       "      <th>predict_1</th>\n",
       "      <th>predict_2</th>\n",
       "    </tr>\n",
       "  </thead>\n",
       "  <tbody>\n",
       "    <tr>\n",
       "      <th>0</th>\n",
       "      <td>11066</td>\n",
       "      <td>0</td>\n",
       "      <td>1</td>\n",
       "      <td>0</td>\n",
       "    </tr>\n",
       "    <tr>\n",
       "      <th>1</th>\n",
       "      <td>18000</td>\n",
       "      <td>0</td>\n",
       "      <td>1</td>\n",
       "      <td>0</td>\n",
       "    </tr>\n",
       "    <tr>\n",
       "      <th>2</th>\n",
       "      <td>16964</td>\n",
       "      <td>0</td>\n",
       "      <td>1</td>\n",
       "      <td>0</td>\n",
       "    </tr>\n",
       "    <tr>\n",
       "      <th>3</th>\n",
       "      <td>4795</td>\n",
       "      <td>0</td>\n",
       "      <td>1</td>\n",
       "      <td>0</td>\n",
       "    </tr>\n",
       "    <tr>\n",
       "      <th>4</th>\n",
       "      <td>3392</td>\n",
       "      <td>0</td>\n",
       "      <td>1</td>\n",
       "      <td>0</td>\n",
       "    </tr>\n",
       "  </tbody>\n",
       "</table>\n",
       "</div>"
      ],
      "text/plain": [
       "      id  predict_0  predict_1  predict_2\n",
       "0  11066          0          1          0\n",
       "1  18000          0          1          0\n",
       "2  16964          0          1          0\n",
       "3   4795          0          1          0\n",
       "4   3392          0          1          0"
      ]
     },
     "execution_count": 6,
     "metadata": {},
     "output_type": "execute_result"
    }
   ],
   "source": [
    "sample_submission.head()"
   ]
  },
  {
   "cell_type": "code",
   "execution_count": 7,
   "metadata": {},
   "outputs": [
    {
     "data": {
      "text/html": [
       "<div>\n",
       "<style scoped>\n",
       "    .dataframe tbody tr th:only-of-type {\n",
       "        vertical-align: middle;\n",
       "    }\n",
       "\n",
       "    .dataframe tbody tr th {\n",
       "        vertical-align: top;\n",
       "    }\n",
       "\n",
       "    .dataframe thead th {\n",
       "        text-align: right;\n",
       "    }\n",
       "</style>\n",
       "<table border=\"1\" class=\"dataframe\">\n",
       "  <thead>\n",
       "    <tr style=\"text-align: right;\">\n",
       "      <th></th>\n",
       "      <th>id</th>\n",
       "      <th>severity_type</th>\n",
       "    </tr>\n",
       "  </thead>\n",
       "  <tbody>\n",
       "    <tr>\n",
       "      <th>0</th>\n",
       "      <td>6597</td>\n",
       "      <td>severity_type 2</td>\n",
       "    </tr>\n",
       "    <tr>\n",
       "      <th>1</th>\n",
       "      <td>8011</td>\n",
       "      <td>severity_type 2</td>\n",
       "    </tr>\n",
       "    <tr>\n",
       "      <th>2</th>\n",
       "      <td>2597</td>\n",
       "      <td>severity_type 2</td>\n",
       "    </tr>\n",
       "    <tr>\n",
       "      <th>3</th>\n",
       "      <td>5022</td>\n",
       "      <td>severity_type 1</td>\n",
       "    </tr>\n",
       "    <tr>\n",
       "      <th>4</th>\n",
       "      <td>6852</td>\n",
       "      <td>severity_type 1</td>\n",
       "    </tr>\n",
       "  </tbody>\n",
       "</table>\n",
       "</div>"
      ],
      "text/plain": [
       "     id    severity_type\n",
       "0  6597  severity_type 2\n",
       "1  8011  severity_type 2\n",
       "2  2597  severity_type 2\n",
       "3  5022  severity_type 1\n",
       "4  6852  severity_type 1"
      ]
     },
     "execution_count": 7,
     "metadata": {},
     "output_type": "execute_result"
    }
   ],
   "source": [
    "severity_type.head()"
   ]
  },
  {
   "cell_type": "markdown",
   "metadata": {},
   "source": [
    "# 1. Lets do Exploratory data analysis ( EDA )"
   ]
  },
  {
   "cell_type": "markdown",
   "metadata": {},
   "source": [
    "## analyse Train set"
   ]
  },
  {
   "cell_type": "code",
   "execution_count": 8,
   "metadata": {},
   "outputs": [
    {
     "name": "stdout",
     "output_type": "stream",
     "text": [
      "<class 'pandas.core.frame.DataFrame'>\n",
      "RangeIndex: 7381 entries, 0 to 7380\n",
      "Data columns (total 3 columns):\n",
      " #   Column          Non-Null Count  Dtype \n",
      "---  ------          --------------  ----- \n",
      " 0   id              7381 non-null   int64 \n",
      " 1   location        7381 non-null   object\n",
      " 2   fault_severity  7381 non-null   int64 \n",
      "dtypes: int64(2), object(1)\n",
      "memory usage: 173.1+ KB\n"
     ]
    }
   ],
   "source": [
    "train.info()"
   ]
  },
  {
   "cell_type": "code",
   "execution_count": 9,
   "metadata": {},
   "outputs": [
    {
     "data": {
      "text/html": [
       "<div>\n",
       "<style scoped>\n",
       "    .dataframe tbody tr th:only-of-type {\n",
       "        vertical-align: middle;\n",
       "    }\n",
       "\n",
       "    .dataframe tbody tr th {\n",
       "        vertical-align: top;\n",
       "    }\n",
       "\n",
       "    .dataframe thead th {\n",
       "        text-align: right;\n",
       "    }\n",
       "</style>\n",
       "<table border=\"1\" class=\"dataframe\">\n",
       "  <thead>\n",
       "    <tr style=\"text-align: right;\">\n",
       "      <th></th>\n",
       "      <th>id</th>\n",
       "      <th>location</th>\n",
       "      <th>fault_severity</th>\n",
       "    </tr>\n",
       "  </thead>\n",
       "  <tbody>\n",
       "    <tr>\n",
       "      <th>0</th>\n",
       "      <td>14121</td>\n",
       "      <td>location 118</td>\n",
       "      <td>1</td>\n",
       "    </tr>\n",
       "    <tr>\n",
       "      <th>1</th>\n",
       "      <td>9320</td>\n",
       "      <td>location 91</td>\n",
       "      <td>0</td>\n",
       "    </tr>\n",
       "    <tr>\n",
       "      <th>2</th>\n",
       "      <td>14394</td>\n",
       "      <td>location 152</td>\n",
       "      <td>1</td>\n",
       "    </tr>\n",
       "    <tr>\n",
       "      <th>3</th>\n",
       "      <td>8218</td>\n",
       "      <td>location 931</td>\n",
       "      <td>1</td>\n",
       "    </tr>\n",
       "    <tr>\n",
       "      <th>4</th>\n",
       "      <td>14804</td>\n",
       "      <td>location 120</td>\n",
       "      <td>0</td>\n",
       "    </tr>\n",
       "  </tbody>\n",
       "</table>\n",
       "</div>"
      ],
      "text/plain": [
       "      id      location  fault_severity\n",
       "0  14121  location 118               1\n",
       "1   9320   location 91               0\n",
       "2  14394  location 152               1\n",
       "3   8218  location 931               1\n",
       "4  14804  location 120               0"
      ]
     },
     "execution_count": 9,
     "metadata": {},
     "output_type": "execute_result"
    }
   ],
   "source": [
    "train.head()"
   ]
  },
  {
   "cell_type": "code",
   "execution_count": 10,
   "metadata": {},
   "outputs": [
    {
     "data": {
      "text/plain": [
       "7381"
      ]
     },
     "execution_count": 10,
     "metadata": {},
     "output_type": "execute_result"
    }
   ],
   "source": [
    "len(train.index)"
   ]
  },
  {
   "cell_type": "code",
   "execution_count": 11,
   "metadata": {},
   "outputs": [
    {
     "data": {
      "text/plain": [
       "7381"
      ]
     },
     "execution_count": 11,
     "metadata": {},
     "output_type": "execute_result"
    }
   ],
   "source": [
    "len(train.id.unique())"
   ]
  },
  {
   "cell_type": "code",
   "execution_count": 12,
   "metadata": {},
   "outputs": [
    {
     "data": {
      "text/plain": [
       "929"
      ]
     },
     "execution_count": 12,
     "metadata": {},
     "output_type": "execute_result"
    }
   ],
   "source": [
    "len(train.location.unique())"
   ]
  },
  {
   "cell_type": "code",
   "execution_count": 13,
   "metadata": {},
   "outputs": [
    {
     "data": {
      "text/plain": [
       "3"
      ]
     },
     "execution_count": 13,
     "metadata": {},
     "output_type": "execute_result"
    }
   ],
   "source": [
    "len(train.fault_severity.unique())"
   ]
  },
  {
   "cell_type": "code",
   "execution_count": 14,
   "metadata": {},
   "outputs": [
    {
     "data": {
      "text/plain": [
       "id                0\n",
       "location          0\n",
       "fault_severity    0\n",
       "dtype: int64"
      ]
     },
     "execution_count": 14,
     "metadata": {},
     "output_type": "execute_result"
    }
   ],
   "source": [
    "train.isnull().sum()"
   ]
  },
  {
   "cell_type": "markdown",
   "metadata": {},
   "source": [
    "## Analysis Test set"
   ]
  },
  {
   "cell_type": "code",
   "execution_count": 15,
   "metadata": {},
   "outputs": [
    {
     "name": "stdout",
     "output_type": "stream",
     "text": [
      "<class 'pandas.core.frame.DataFrame'>\n",
      "RangeIndex: 11171 entries, 0 to 11170\n",
      "Data columns (total 2 columns):\n",
      " #   Column    Non-Null Count  Dtype \n",
      "---  ------    --------------  ----- \n",
      " 0   id        11171 non-null  int64 \n",
      " 1   location  11171 non-null  object\n",
      "dtypes: int64(1), object(1)\n",
      "memory usage: 174.7+ KB\n"
     ]
    }
   ],
   "source": [
    "test.info()"
   ]
  },
  {
   "cell_type": "code",
   "execution_count": 16,
   "metadata": {},
   "outputs": [
    {
     "data": {
      "text/html": [
       "<div>\n",
       "<style scoped>\n",
       "    .dataframe tbody tr th:only-of-type {\n",
       "        vertical-align: middle;\n",
       "    }\n",
       "\n",
       "    .dataframe tbody tr th {\n",
       "        vertical-align: top;\n",
       "    }\n",
       "\n",
       "    .dataframe thead th {\n",
       "        text-align: right;\n",
       "    }\n",
       "</style>\n",
       "<table border=\"1\" class=\"dataframe\">\n",
       "  <thead>\n",
       "    <tr style=\"text-align: right;\">\n",
       "      <th></th>\n",
       "      <th>id</th>\n",
       "      <th>location</th>\n",
       "    </tr>\n",
       "  </thead>\n",
       "  <tbody>\n",
       "    <tr>\n",
       "      <th>0</th>\n",
       "      <td>11066</td>\n",
       "      <td>location 481</td>\n",
       "    </tr>\n",
       "    <tr>\n",
       "      <th>1</th>\n",
       "      <td>18000</td>\n",
       "      <td>location 962</td>\n",
       "    </tr>\n",
       "    <tr>\n",
       "      <th>2</th>\n",
       "      <td>16964</td>\n",
       "      <td>location 491</td>\n",
       "    </tr>\n",
       "    <tr>\n",
       "      <th>3</th>\n",
       "      <td>4795</td>\n",
       "      <td>location 532</td>\n",
       "    </tr>\n",
       "    <tr>\n",
       "      <th>4</th>\n",
       "      <td>3392</td>\n",
       "      <td>location 600</td>\n",
       "    </tr>\n",
       "  </tbody>\n",
       "</table>\n",
       "</div>"
      ],
      "text/plain": [
       "      id      location\n",
       "0  11066  location 481\n",
       "1  18000  location 962\n",
       "2  16964  location 491\n",
       "3   4795  location 532\n",
       "4   3392  location 600"
      ]
     },
     "execution_count": 16,
     "metadata": {},
     "output_type": "execute_result"
    }
   ],
   "source": [
    "test.head()"
   ]
  },
  {
   "cell_type": "code",
   "execution_count": 17,
   "metadata": {},
   "outputs": [
    {
     "data": {
      "text/plain": [
       "11171"
      ]
     },
     "execution_count": 17,
     "metadata": {},
     "output_type": "execute_result"
    }
   ],
   "source": [
    "len(test.index)"
   ]
  },
  {
   "cell_type": "code",
   "execution_count": 18,
   "metadata": {},
   "outputs": [
    {
     "data": {
      "text/plain": [
       "11171"
      ]
     },
     "execution_count": 18,
     "metadata": {},
     "output_type": "execute_result"
    }
   ],
   "source": [
    "len(test.id.unique())"
   ]
  },
  {
   "cell_type": "code",
   "execution_count": 19,
   "metadata": {},
   "outputs": [
    {
     "data": {
      "text/plain": [
       "1039"
      ]
     },
     "execution_count": 19,
     "metadata": {},
     "output_type": "execute_result"
    }
   ],
   "source": [
    "len(test.location.unique())"
   ]
  },
  {
   "cell_type": "code",
   "execution_count": 20,
   "metadata": {},
   "outputs": [
    {
     "data": {
      "text/plain": [
       "id          0\n",
       "location    0\n",
       "dtype: int64"
      ]
     },
     "execution_count": 20,
     "metadata": {},
     "output_type": "execute_result"
    }
   ],
   "source": [
    "test.isnull().sum()"
   ]
  },
  {
   "cell_type": "markdown",
   "metadata": {},
   "source": [
    "# combining training and test data into a single data set"
   ]
  },
  {
   "cell_type": "code",
   "execution_count": 21,
   "metadata": {},
   "outputs": [],
   "source": [
    "# creating a colum of istrain in both train and test data\n",
    "\n",
    "train['istrain'] = 1\n",
    "test['istrain'] = 0\n",
    "\n",
    "data = train.append(test)"
   ]
  },
  {
   "cell_type": "markdown",
   "metadata": {},
   "source": [
    "# analysis data"
   ]
  },
  {
   "cell_type": "code",
   "execution_count": 22,
   "metadata": {},
   "outputs": [
    {
     "name": "stdout",
     "output_type": "stream",
     "text": [
      "<class 'pandas.core.frame.DataFrame'>\n",
      "Int64Index: 18552 entries, 0 to 11170\n",
      "Data columns (total 4 columns):\n",
      " #   Column          Non-Null Count  Dtype  \n",
      "---  ------          --------------  -----  \n",
      " 0   id              18552 non-null  int64  \n",
      " 1   location        18552 non-null  object \n",
      " 2   fault_severity  7381 non-null   float64\n",
      " 3   istrain         18552 non-null  int64  \n",
      "dtypes: float64(1), int64(2), object(1)\n",
      "memory usage: 724.7+ KB\n"
     ]
    }
   ],
   "source": [
    "data.info()"
   ]
  },
  {
   "cell_type": "code",
   "execution_count": 23,
   "metadata": {},
   "outputs": [
    {
     "data": {
      "text/html": [
       "<div>\n",
       "<style scoped>\n",
       "    .dataframe tbody tr th:only-of-type {\n",
       "        vertical-align: middle;\n",
       "    }\n",
       "\n",
       "    .dataframe tbody tr th {\n",
       "        vertical-align: top;\n",
       "    }\n",
       "\n",
       "    .dataframe thead th {\n",
       "        text-align: right;\n",
       "    }\n",
       "</style>\n",
       "<table border=\"1\" class=\"dataframe\">\n",
       "  <thead>\n",
       "    <tr style=\"text-align: right;\">\n",
       "      <th></th>\n",
       "      <th>id</th>\n",
       "      <th>location</th>\n",
       "      <th>fault_severity</th>\n",
       "      <th>istrain</th>\n",
       "    </tr>\n",
       "  </thead>\n",
       "  <tbody>\n",
       "    <tr>\n",
       "      <th>0</th>\n",
       "      <td>14121</td>\n",
       "      <td>location 118</td>\n",
       "      <td>1.0</td>\n",
       "      <td>1</td>\n",
       "    </tr>\n",
       "    <tr>\n",
       "      <th>1</th>\n",
       "      <td>9320</td>\n",
       "      <td>location 91</td>\n",
       "      <td>0.0</td>\n",
       "      <td>1</td>\n",
       "    </tr>\n",
       "    <tr>\n",
       "      <th>2</th>\n",
       "      <td>14394</td>\n",
       "      <td>location 152</td>\n",
       "      <td>1.0</td>\n",
       "      <td>1</td>\n",
       "    </tr>\n",
       "    <tr>\n",
       "      <th>3</th>\n",
       "      <td>8218</td>\n",
       "      <td>location 931</td>\n",
       "      <td>1.0</td>\n",
       "      <td>1</td>\n",
       "    </tr>\n",
       "    <tr>\n",
       "      <th>4</th>\n",
       "      <td>14804</td>\n",
       "      <td>location 120</td>\n",
       "      <td>0.0</td>\n",
       "      <td>1</td>\n",
       "    </tr>\n",
       "  </tbody>\n",
       "</table>\n",
       "</div>"
      ],
      "text/plain": [
       "      id      location  fault_severity  istrain\n",
       "0  14121  location 118             1.0        1\n",
       "1   9320   location 91             0.0        1\n",
       "2  14394  location 152             1.0        1\n",
       "3   8218  location 931             1.0        1\n",
       "4  14804  location 120             0.0        1"
      ]
     },
     "execution_count": 23,
     "metadata": {},
     "output_type": "execute_result"
    }
   ],
   "source": [
    "data.head()"
   ]
  },
  {
   "cell_type": "code",
   "execution_count": 24,
   "metadata": {},
   "outputs": [
    {
     "name": "stdout",
     "output_type": "stream",
     "text": [
      "total number of rows in data:  18552\n",
      "number of unique id : 18552\n",
      "number of unique locations: 1126\n",
      "number of unique fault severity: 4\n"
     ]
    }
   ],
   "source": [
    "print('total number of rows in data: ' , len(data.index))\n",
    "print('number of unique id :' , len(data.id.unique()))\n",
    "print('number of unique locations:' , len(data.location.unique()))\n",
    "print('number of unique fault severity:' , len(data.fault_severity.unique()))"
   ]
  },
  {
   "cell_type": "code",
   "execution_count": 25,
   "metadata": {},
   "outputs": [
    {
     "data": {
      "text/plain": [
       "id                    0\n",
       "location              0\n",
       "fault_severity    11171\n",
       "istrain               0\n",
       "dtype: int64"
      ]
     },
     "execution_count": 25,
     "metadata": {},
     "output_type": "execute_result"
    }
   ],
   "source": [
    "data.isnull().sum()"
   ]
  },
  {
   "cell_type": "markdown",
   "metadata": {},
   "source": [
    "# cleaning the data"
   ]
  },
  {
   "cell_type": "code",
   "execution_count": 26,
   "metadata": {},
   "outputs": [
    {
     "data": {
      "text/html": [
       "<div>\n",
       "<style scoped>\n",
       "    .dataframe tbody tr th:only-of-type {\n",
       "        vertical-align: middle;\n",
       "    }\n",
       "\n",
       "    .dataframe tbody tr th {\n",
       "        vertical-align: top;\n",
       "    }\n",
       "\n",
       "    .dataframe thead th {\n",
       "        text-align: right;\n",
       "    }\n",
       "</style>\n",
       "<table border=\"1\" class=\"dataframe\">\n",
       "  <thead>\n",
       "    <tr style=\"text-align: right;\">\n",
       "      <th></th>\n",
       "      <th>id</th>\n",
       "      <th>location</th>\n",
       "      <th>fault_severity</th>\n",
       "      <th>istrain</th>\n",
       "    </tr>\n",
       "  </thead>\n",
       "  <tbody>\n",
       "    <tr>\n",
       "      <th>0</th>\n",
       "      <td>14121</td>\n",
       "      <td>118</td>\n",
       "      <td>1.0</td>\n",
       "      <td>1</td>\n",
       "    </tr>\n",
       "    <tr>\n",
       "      <th>1</th>\n",
       "      <td>9320</td>\n",
       "      <td>91</td>\n",
       "      <td>0.0</td>\n",
       "      <td>1</td>\n",
       "    </tr>\n",
       "    <tr>\n",
       "      <th>2</th>\n",
       "      <td>14394</td>\n",
       "      <td>152</td>\n",
       "      <td>1.0</td>\n",
       "      <td>1</td>\n",
       "    </tr>\n",
       "    <tr>\n",
       "      <th>3</th>\n",
       "      <td>8218</td>\n",
       "      <td>931</td>\n",
       "      <td>1.0</td>\n",
       "      <td>1</td>\n",
       "    </tr>\n",
       "    <tr>\n",
       "      <th>4</th>\n",
       "      <td>14804</td>\n",
       "      <td>120</td>\n",
       "      <td>0.0</td>\n",
       "      <td>1</td>\n",
       "    </tr>\n",
       "  </tbody>\n",
       "</table>\n",
       "</div>"
      ],
      "text/plain": [
       "      id  location  fault_severity  istrain\n",
       "0  14121       118             1.0        1\n",
       "1   9320        91             0.0        1\n",
       "2  14394       152             1.0        1\n",
       "3   8218       931             1.0        1\n",
       "4  14804       120             0.0        1"
      ]
     },
     "execution_count": 26,
     "metadata": {},
     "output_type": "execute_result"
    }
   ],
   "source": [
    "# we will strip the location attribute and maintain the interger value of location\n",
    "\n",
    "data.location = data.location.str.lstrip('location').astype('int')\n",
    "data.head()"
   ]
  },
  {
   "cell_type": "markdown",
   "metadata": {},
   "source": [
    "# visualizing the data"
   ]
  },
  {
   "cell_type": "code",
   "execution_count": 27,
   "metadata": {},
   "outputs": [
    {
     "data": {
      "text/plain": [
       "<matplotlib.axes._subplots.AxesSubplot at 0x70e60e1208>"
      ]
     },
     "execution_count": 27,
     "metadata": {},
     "output_type": "execute_result"
    },
    {
     "data": {
      "image/png": "[encoded data removed]",
      "text/plain": [
       "<Figure size 1080x432 with 1 Axes>"
      ]
     },
     "metadata": {
      "needs_background": "light"
     },
     "output_type": "display_data"
    }
   ],
   "source": [
    "plt.figure(figsize=(15,6))\n",
    "col = 'location'\n",
    "sns.countplot(x = col , data = data , order=data[col].value_counts().index)"
   ]
  },
  {
   "cell_type": "code",
   "execution_count": 28,
   "metadata": {},
   "outputs": [
    {
     "data": {
      "text/plain": [
       "Text(0, 0.5, 'frequency')"
      ]
     },
     "execution_count": 28,
     "metadata": {},
     "output_type": "execute_result"
    },
    {
     "data": {
      "image/png": "[encoded data removed]",
      "text/plain": [
       "<Figure size 432x288 with 1 Axes>"
      ]
     },
     "metadata": {
      "needs_background": "light"
     },
     "output_type": "display_data"
    }
   ],
   "source": [
    "sns.countplot(x = 'fault_severity' , data = data)\n",
    "plt.ylabel('frequency')"
   ]
  },
  {
   "cell_type": "code",
   "execution_count": 29,
   "metadata": {},
   "outputs": [
    {
     "data": {
      "text/plain": [
       "<matplotlib.axes._subplots.AxesSubplot at 0x70e72f6b48>"
      ]
     },
     "execution_count": 29,
     "metadata": {},
     "output_type": "execute_result"
    },
    {
     "data": {
      "image/png": "[encoded data removed]",
      "text/plain": [
       "<Figure size 432x288 with 1 Axes>"
      ]
     },
     "metadata": {
      "needs_background": "light"
     },
     "output_type": "display_data"
    }
   ],
   "source": [
    "sns.countplot(x = 'istrain' , data = data)"
   ]
  },
  {
   "cell_type": "code",
   "execution_count": 30,
   "metadata": {},
   "outputs": [
    {
     "data": {
      "text/plain": [
       "<matplotlib.axes._subplots.AxesSubplot at 0x70e5f127c8>"
      ]
     },
     "execution_count": 30,
     "metadata": {},
     "output_type": "execute_result"
    },
    {
     "data": {
      "image/png": "[encoded data removed]",
      "text/plain": [
       "<Figure size 864x432 with 1 Axes>"
      ]
     },
     "metadata": {
      "needs_background": "light"
     },
     "output_type": "display_data"
    }
   ],
   "source": [
    "plt.figure(figsize=(12,6))\n",
    "sns.scatterplot(x = 'id' , y='location' , data= data  , cmap = 'virdis')"
   ]
  },
  {
   "cell_type": "markdown",
   "metadata": {},
   "source": [
    "# Analysis event type"
   ]
  },
  {
   "cell_type": "code",
   "execution_count": 31,
   "metadata": {},
   "outputs": [
    {
     "name": "stdout",
     "output_type": "stream",
     "text": [
      "<class 'pandas.core.frame.DataFrame'>\n",
      "RangeIndex: 31170 entries, 0 to 31169\n",
      "Data columns (total 2 columns):\n",
      " #   Column      Non-Null Count  Dtype \n",
      "---  ------      --------------  ----- \n",
      " 0   id          31170 non-null  int64 \n",
      " 1   event_type  31170 non-null  object\n",
      "dtypes: int64(1), object(1)\n",
      "memory usage: 487.2+ KB\n"
     ]
    }
   ],
   "source": [
    "event_type.info()"
   ]
  },
  {
   "cell_type": "code",
   "execution_count": 32,
   "metadata": {},
   "outputs": [
    {
     "data": {
      "text/html": [
       "<div>\n",
       "<style scoped>\n",
       "    .dataframe tbody tr th:only-of-type {\n",
       "        vertical-align: middle;\n",
       "    }\n",
       "\n",
       "    .dataframe tbody tr th {\n",
       "        vertical-align: top;\n",
       "    }\n",
       "\n",
       "    .dataframe thead th {\n",
       "        text-align: right;\n",
       "    }\n",
       "</style>\n",
       "<table border=\"1\" class=\"dataframe\">\n",
       "  <thead>\n",
       "    <tr style=\"text-align: right;\">\n",
       "      <th></th>\n",
       "      <th>id</th>\n",
       "      <th>event_type</th>\n",
       "    </tr>\n",
       "  </thead>\n",
       "  <tbody>\n",
       "    <tr>\n",
       "      <th>0</th>\n",
       "      <td>6597</td>\n",
       "      <td>event_type 11</td>\n",
       "    </tr>\n",
       "    <tr>\n",
       "      <th>1</th>\n",
       "      <td>8011</td>\n",
       "      <td>event_type 15</td>\n",
       "    </tr>\n",
       "    <tr>\n",
       "      <th>2</th>\n",
       "      <td>2597</td>\n",
       "      <td>event_type 15</td>\n",
       "    </tr>\n",
       "    <tr>\n",
       "      <th>3</th>\n",
       "      <td>5022</td>\n",
       "      <td>event_type 15</td>\n",
       "    </tr>\n",
       "    <tr>\n",
       "      <th>4</th>\n",
       "      <td>5022</td>\n",
       "      <td>event_type 11</td>\n",
       "    </tr>\n",
       "  </tbody>\n",
       "</table>\n",
       "</div>"
      ],
      "text/plain": [
       "     id     event_type\n",
       "0  6597  event_type 11\n",
       "1  8011  event_type 15\n",
       "2  2597  event_type 15\n",
       "3  5022  event_type 15\n",
       "4  5022  event_type 11"
      ]
     },
     "execution_count": 32,
     "metadata": {},
     "output_type": "execute_result"
    }
   ],
   "source": [
    "event_type.head()"
   ]
  },
  {
   "cell_type": "code",
   "execution_count": 33,
   "metadata": {},
   "outputs": [
    {
     "data": {
      "text/plain": [
       "31170"
      ]
     },
     "execution_count": 33,
     "metadata": {},
     "output_type": "execute_result"
    }
   ],
   "source": [
    "len(event_type.index)"
   ]
  },
  {
   "cell_type": "code",
   "execution_count": 34,
   "metadata": {},
   "outputs": [
    {
     "data": {
      "text/plain": [
       "18552"
      ]
     },
     "execution_count": 34,
     "metadata": {},
     "output_type": "execute_result"
    }
   ],
   "source": [
    "len(event_type.id.unique())"
   ]
  },
  {
   "cell_type": "code",
   "execution_count": 35,
   "metadata": {},
   "outputs": [
    {
     "data": {
      "text/plain": [
       "53"
      ]
     },
     "execution_count": 35,
     "metadata": {},
     "output_type": "execute_result"
    }
   ],
   "source": [
    "len(event_type.event_type.unique())"
   ]
  },
  {
   "cell_type": "code",
   "execution_count": 36,
   "metadata": {},
   "outputs": [
    {
     "data": {
      "text/plain": [
       "id            0\n",
       "event_type    0\n",
       "dtype: int64"
      ]
     },
     "execution_count": 36,
     "metadata": {},
     "output_type": "execute_result"
    }
   ],
   "source": [
    "event_type.isnull().sum()"
   ]
  },
  {
   "cell_type": "markdown",
   "metadata": {},
   "source": [
    "# cleaning event type"
   ]
  },
  {
   "cell_type": "code",
   "execution_count": 37,
   "metadata": {},
   "outputs": [
    {
     "data": {
      "text/html": [
       "<div>\n",
       "<style scoped>\n",
       "    .dataframe tbody tr th:only-of-type {\n",
       "        vertical-align: middle;\n",
       "    }\n",
       "\n",
       "    .dataframe tbody tr th {\n",
       "        vertical-align: top;\n",
       "    }\n",
       "\n",
       "    .dataframe thead th {\n",
       "        text-align: right;\n",
       "    }\n",
       "</style>\n",
       "<table border=\"1\" class=\"dataframe\">\n",
       "  <thead>\n",
       "    <tr style=\"text-align: right;\">\n",
       "      <th></th>\n",
       "      <th>id</th>\n",
       "      <th>event_type</th>\n",
       "    </tr>\n",
       "  </thead>\n",
       "  <tbody>\n",
       "    <tr>\n",
       "      <th>0</th>\n",
       "      <td>6597</td>\n",
       "      <td>11</td>\n",
       "    </tr>\n",
       "    <tr>\n",
       "      <th>1</th>\n",
       "      <td>8011</td>\n",
       "      <td>15</td>\n",
       "    </tr>\n",
       "    <tr>\n",
       "      <th>2</th>\n",
       "      <td>2597</td>\n",
       "      <td>15</td>\n",
       "    </tr>\n",
       "    <tr>\n",
       "      <th>3</th>\n",
       "      <td>5022</td>\n",
       "      <td>15</td>\n",
       "    </tr>\n",
       "    <tr>\n",
       "      <th>4</th>\n",
       "      <td>5022</td>\n",
       "      <td>11</td>\n",
       "    </tr>\n",
       "  </tbody>\n",
       "</table>\n",
       "</div>"
      ],
      "text/plain": [
       "     id  event_type\n",
       "0  6597          11\n",
       "1  8011          15\n",
       "2  2597          15\n",
       "3  5022          15\n",
       "4  5022          11"
      ]
     },
     "execution_count": 37,
     "metadata": {},
     "output_type": "execute_result"
    }
   ],
   "source": [
    "event_type.event_type = event_type.event_type.str.lstrip('event_type').astype('int')\n",
    "event_type.head()"
   ]
  },
  {
   "cell_type": "code",
   "execution_count": 38,
   "metadata": {},
   "outputs": [
    {
     "data": {
      "text/html": [
       "<div>\n",
       "<style scoped>\n",
       "    .dataframe tbody tr th:only-of-type {\n",
       "        vertical-align: middle;\n",
       "    }\n",
       "\n",
       "    .dataframe tbody tr th {\n",
       "        vertical-align: top;\n",
       "    }\n",
       "\n",
       "    .dataframe thead th {\n",
       "        text-align: right;\n",
       "    }\n",
       "</style>\n",
       "<table border=\"1\" class=\"dataframe\">\n",
       "  <thead>\n",
       "    <tr style=\"text-align: right;\">\n",
       "      <th></th>\n",
       "      <th>id</th>\n",
       "      <th>event_type</th>\n",
       "    </tr>\n",
       "  </thead>\n",
       "  <tbody>\n",
       "    <tr>\n",
       "      <th>0</th>\n",
       "      <td>6597</td>\n",
       "      <td>11</td>\n",
       "    </tr>\n",
       "    <tr>\n",
       "      <th>1</th>\n",
       "      <td>8011</td>\n",
       "      <td>15</td>\n",
       "    </tr>\n",
       "    <tr>\n",
       "      <th>2</th>\n",
       "      <td>2597</td>\n",
       "      <td>15</td>\n",
       "    </tr>\n",
       "    <tr>\n",
       "      <th>3</th>\n",
       "      <td>5022</td>\n",
       "      <td>15</td>\n",
       "    </tr>\n",
       "    <tr>\n",
       "      <th>4</th>\n",
       "      <td>5022</td>\n",
       "      <td>11</td>\n",
       "    </tr>\n",
       "  </tbody>\n",
       "</table>\n",
       "</div>"
      ],
      "text/plain": [
       "     id  event_type\n",
       "0  6597          11\n",
       "1  8011          15\n",
       "2  2597          15\n",
       "3  5022          15\n",
       "4  5022          11"
      ]
     },
     "execution_count": 38,
     "metadata": {},
     "output_type": "execute_result"
    }
   ],
   "source": [
    "# one hot encoding using pandas\n",
    "\n",
    "event_type = pd.get_dummies(event_type)\n",
    "event_type.head()"
   ]
  },
  {
   "cell_type": "markdown",
   "metadata": {},
   "source": [
    "# analysis Log features"
   ]
  },
  {
   "cell_type": "code",
   "execution_count": 39,
   "metadata": {},
   "outputs": [
    {
     "name": "stdout",
     "output_type": "stream",
     "text": [
      "<class 'pandas.core.frame.DataFrame'>\n",
      "RangeIndex: 58671 entries, 0 to 58670\n",
      "Data columns (total 3 columns):\n",
      " #   Column       Non-Null Count  Dtype \n",
      "---  ------       --------------  ----- \n",
      " 0   id           58671 non-null  int64 \n",
      " 1   log_feature  58671 non-null  object\n",
      " 2   volume       58671 non-null  int64 \n",
      "dtypes: int64(2), object(1)\n",
      "memory usage: 1.3+ MB\n"
     ]
    }
   ],
   "source": [
    "log_feature.info()"
   ]
  },
  {
   "cell_type": "code",
   "execution_count": 40,
   "metadata": {},
   "outputs": [
    {
     "data": {
      "text/html": [
       "<div>\n",
       "<style scoped>\n",
       "    .dataframe tbody tr th:only-of-type {\n",
       "        vertical-align: middle;\n",
       "    }\n",
       "\n",
       "    .dataframe tbody tr th {\n",
       "        vertical-align: top;\n",
       "    }\n",
       "\n",
       "    .dataframe thead th {\n",
       "        text-align: right;\n",
       "    }\n",
       "</style>\n",
       "<table border=\"1\" class=\"dataframe\">\n",
       "  <thead>\n",
       "    <tr style=\"text-align: right;\">\n",
       "      <th></th>\n",
       "      <th>id</th>\n",
       "      <th>log_feature</th>\n",
       "      <th>volume</th>\n",
       "    </tr>\n",
       "  </thead>\n",
       "  <tbody>\n",
       "    <tr>\n",
       "      <th>0</th>\n",
       "      <td>6597</td>\n",
       "      <td>feature 68</td>\n",
       "      <td>6</td>\n",
       "    </tr>\n",
       "    <tr>\n",
       "      <th>1</th>\n",
       "      <td>8011</td>\n",
       "      <td>feature 68</td>\n",
       "      <td>7</td>\n",
       "    </tr>\n",
       "    <tr>\n",
       "      <th>2</th>\n",
       "      <td>2597</td>\n",
       "      <td>feature 68</td>\n",
       "      <td>1</td>\n",
       "    </tr>\n",
       "    <tr>\n",
       "      <th>3</th>\n",
       "      <td>5022</td>\n",
       "      <td>feature 172</td>\n",
       "      <td>2</td>\n",
       "    </tr>\n",
       "    <tr>\n",
       "      <th>4</th>\n",
       "      <td>5022</td>\n",
       "      <td>feature 56</td>\n",
       "      <td>1</td>\n",
       "    </tr>\n",
       "  </tbody>\n",
       "</table>\n",
       "</div>"
      ],
      "text/plain": [
       "     id  log_feature  volume\n",
       "0  6597   feature 68       6\n",
       "1  8011   feature 68       7\n",
       "2  2597   feature 68       1\n",
       "3  5022  feature 172       2\n",
       "4  5022   feature 56       1"
      ]
     },
     "execution_count": 40,
     "metadata": {},
     "output_type": "execute_result"
    }
   ],
   "source": [
    "log_feature.head()"
   ]
  },
  {
   "cell_type": "code",
   "execution_count": 41,
   "metadata": {},
   "outputs": [
    {
     "name": "stdout",
     "output_type": "stream",
     "text": [
      "total number of rows :  58671\n",
      "number of unique ids : 18552\n",
      "number of unique log features: 386\n",
      "number of unique volumes : 341\n"
     ]
    }
   ],
   "source": [
    "print('total number of rows : ' , len(log_feature.index))\n",
    "print('number of unique ids :' , len(log_feature.id.unique()))\n",
    "print('number of unique log features:' , len(log_feature.log_feature.unique()))\n",
    "print('number of unique volumes :' , len(log_feature.volume.unique()))\n"
   ]
  },
  {
   "cell_type": "code",
   "execution_count": 42,
   "metadata": {},
   "outputs": [
    {
     "data": {
      "text/plain": [
       "id             0\n",
       "log_feature    0\n",
       "volume         0\n",
       "dtype: int64"
      ]
     },
     "execution_count": 42,
     "metadata": {},
     "output_type": "execute_result"
    }
   ],
   "source": [
    "log_feature.isnull().sum()"
   ]
  },
  {
   "cell_type": "markdown",
   "metadata": {},
   "source": [
    "# cleaning log features"
   ]
  },
  {
   "cell_type": "code",
   "execution_count": 43,
   "metadata": {},
   "outputs": [
    {
     "data": {
      "text/html": [
       "<div>\n",
       "<style scoped>\n",
       "    .dataframe tbody tr th:only-of-type {\n",
       "        vertical-align: middle;\n",
       "    }\n",
       "\n",
       "    .dataframe tbody tr th {\n",
       "        vertical-align: top;\n",
       "    }\n",
       "\n",
       "    .dataframe thead th {\n",
       "        text-align: right;\n",
       "    }\n",
       "</style>\n",
       "<table border=\"1\" class=\"dataframe\">\n",
       "  <thead>\n",
       "    <tr style=\"text-align: right;\">\n",
       "      <th></th>\n",
       "      <th>id</th>\n",
       "      <th>log_feature</th>\n",
       "      <th>volume</th>\n",
       "    </tr>\n",
       "  </thead>\n",
       "  <tbody>\n",
       "    <tr>\n",
       "      <th>0</th>\n",
       "      <td>6597</td>\n",
       "      <td>68</td>\n",
       "      <td>6</td>\n",
       "    </tr>\n",
       "    <tr>\n",
       "      <th>1</th>\n",
       "      <td>8011</td>\n",
       "      <td>68</td>\n",
       "      <td>7</td>\n",
       "    </tr>\n",
       "    <tr>\n",
       "      <th>2</th>\n",
       "      <td>2597</td>\n",
       "      <td>68</td>\n",
       "      <td>1</td>\n",
       "    </tr>\n",
       "    <tr>\n",
       "      <th>3</th>\n",
       "      <td>5022</td>\n",
       "      <td>172</td>\n",
       "      <td>2</td>\n",
       "    </tr>\n",
       "    <tr>\n",
       "      <th>4</th>\n",
       "      <td>5022</td>\n",
       "      <td>56</td>\n",
       "      <td>1</td>\n",
       "    </tr>\n",
       "  </tbody>\n",
       "</table>\n",
       "</div>"
      ],
      "text/plain": [
       "     id  log_feature  volume\n",
       "0  6597           68       6\n",
       "1  8011           68       7\n",
       "2  2597           68       1\n",
       "3  5022          172       2\n",
       "4  5022           56       1"
      ]
     },
     "execution_count": 43,
     "metadata": {},
     "output_type": "execute_result"
    }
   ],
   "source": [
    "log_feature['log_feature'] = log_feature['log_feature'].str.lstrip('feature').astype('int')\n",
    "log_feature.head()"
   ]
  },
  {
   "cell_type": "code",
   "execution_count": 44,
   "metadata": {},
   "outputs": [
    {
     "data": {
      "text/plain": [
       "<matplotlib.axes._subplots.AxesSubplot at 0x70da314d08>"
      ]
     },
     "execution_count": 44,
     "metadata": {},
     "output_type": "execute_result"
    },
    {
     "data": {
      "image/png": "[encoded data removed]",
      "text/plain": [
       "<Figure size 432x288 with 1 Axes>"
      ]
     },
     "metadata": {
      "needs_background": "light"
     },
     "output_type": "display_data"
    }
   ],
   "source": [
    "sns.countplot(x = 'log_feature' , data = log_feature)"
   ]
  },
  {
   "cell_type": "markdown",
   "metadata": {},
   "source": [
    "# Analysis resourse type"
   ]
  },
  {
   "cell_type": "code",
   "execution_count": 45,
   "metadata": {},
   "outputs": [
    {
     "name": "stdout",
     "output_type": "stream",
     "text": [
      "<class 'pandas.core.frame.DataFrame'>\n",
      "RangeIndex: 21076 entries, 0 to 21075\n",
      "Data columns (total 2 columns):\n",
      " #   Column         Non-Null Count  Dtype \n",
      "---  ------         --------------  ----- \n",
      " 0   id             21076 non-null  int64 \n",
      " 1   resource_type  21076 non-null  object\n",
      "dtypes: int64(1), object(1)\n",
      "memory usage: 329.4+ KB\n"
     ]
    }
   ],
   "source": [
    "resource_type.info()"
   ]
  },
  {
   "cell_type": "code",
   "execution_count": 46,
   "metadata": {},
   "outputs": [
    {
     "data": {
      "text/html": [
       "<div>\n",
       "<style scoped>\n",
       "    .dataframe tbody tr th:only-of-type {\n",
       "        vertical-align: middle;\n",
       "    }\n",
       "\n",
       "    .dataframe tbody tr th {\n",
       "        vertical-align: top;\n",
       "    }\n",
       "\n",
       "    .dataframe thead th {\n",
       "        text-align: right;\n",
       "    }\n",
       "</style>\n",
       "<table border=\"1\" class=\"dataframe\">\n",
       "  <thead>\n",
       "    <tr style=\"text-align: right;\">\n",
       "      <th></th>\n",
       "      <th>id</th>\n",
       "      <th>resource_type</th>\n",
       "    </tr>\n",
       "  </thead>\n",
       "  <tbody>\n",
       "    <tr>\n",
       "      <th>0</th>\n",
       "      <td>6597</td>\n",
       "      <td>resource_type 8</td>\n",
       "    </tr>\n",
       "    <tr>\n",
       "      <th>1</th>\n",
       "      <td>8011</td>\n",
       "      <td>resource_type 8</td>\n",
       "    </tr>\n",
       "    <tr>\n",
       "      <th>2</th>\n",
       "      <td>2597</td>\n",
       "      <td>resource_type 8</td>\n",
       "    </tr>\n",
       "    <tr>\n",
       "      <th>3</th>\n",
       "      <td>5022</td>\n",
       "      <td>resource_type 8</td>\n",
       "    </tr>\n",
       "    <tr>\n",
       "      <th>4</th>\n",
       "      <td>6852</td>\n",
       "      <td>resource_type 8</td>\n",
       "    </tr>\n",
       "  </tbody>\n",
       "</table>\n",
       "</div>"
      ],
      "text/plain": [
       "     id    resource_type\n",
       "0  6597  resource_type 8\n",
       "1  8011  resource_type 8\n",
       "2  2597  resource_type 8\n",
       "3  5022  resource_type 8\n",
       "4  6852  resource_type 8"
      ]
     },
     "execution_count": 46,
     "metadata": {},
     "output_type": "execute_result"
    }
   ],
   "source": [
    "resource_type.head()"
   ]
  },
  {
   "cell_type": "code",
   "execution_count": 47,
   "metadata": {},
   "outputs": [
    {
     "data": {
      "text/html": [
       "<div>\n",
       "<style scoped>\n",
       "    .dataframe tbody tr th:only-of-type {\n",
       "        vertical-align: middle;\n",
       "    }\n",
       "\n",
       "    .dataframe tbody tr th {\n",
       "        vertical-align: top;\n",
       "    }\n",
       "\n",
       "    .dataframe thead th {\n",
       "        text-align: right;\n",
       "    }\n",
       "</style>\n",
       "<table border=\"1\" class=\"dataframe\">\n",
       "  <thead>\n",
       "    <tr style=\"text-align: right;\">\n",
       "      <th></th>\n",
       "      <th>id</th>\n",
       "      <th>resource_type</th>\n",
       "    </tr>\n",
       "  </thead>\n",
       "  <tbody>\n",
       "    <tr>\n",
       "      <th>0</th>\n",
       "      <td>6597</td>\n",
       "      <td>8</td>\n",
       "    </tr>\n",
       "    <tr>\n",
       "      <th>1</th>\n",
       "      <td>8011</td>\n",
       "      <td>8</td>\n",
       "    </tr>\n",
       "    <tr>\n",
       "      <th>2</th>\n",
       "      <td>2597</td>\n",
       "      <td>8</td>\n",
       "    </tr>\n",
       "    <tr>\n",
       "      <th>3</th>\n",
       "      <td>5022</td>\n",
       "      <td>8</td>\n",
       "    </tr>\n",
       "    <tr>\n",
       "      <th>4</th>\n",
       "      <td>6852</td>\n",
       "      <td>8</td>\n",
       "    </tr>\n",
       "  </tbody>\n",
       "</table>\n",
       "</div>"
      ],
      "text/plain": [
       "     id  resource_type\n",
       "0  6597              8\n",
       "1  8011              8\n",
       "2  2597              8\n",
       "3  5022              8\n",
       "4  6852              8"
      ]
     },
     "execution_count": 47,
     "metadata": {},
     "output_type": "execute_result"
    }
   ],
   "source": [
    "# clean the data of resourse type\n",
    "\n",
    "resource_type['resource_type'] = resource_type['resource_type'].str.lstrip('resource_type').astype('int')\n",
    "resource_type.head()"
   ]
  },
  {
   "cell_type": "code",
   "execution_count": 48,
   "metadata": {},
   "outputs": [
    {
     "data": {
      "text/plain": [
       "8     10268\n",
       "2      8918\n",
       "6       582\n",
       "7       498\n",
       "4       330\n",
       "9       190\n",
       "3       145\n",
       "10       73\n",
       "1        58\n",
       "5        14\n",
       "Name: resource_type, dtype: int64"
      ]
     },
     "execution_count": 48,
     "metadata": {},
     "output_type": "execute_result"
    }
   ],
   "source": [
    "resource_type['resource_type'].value_counts()"
   ]
  },
  {
   "cell_type": "code",
   "execution_count": 49,
   "metadata": {},
   "outputs": [
    {
     "data": {
      "text/html": [
       "<div>\n",
       "<style scoped>\n",
       "    .dataframe tbody tr th:only-of-type {\n",
       "        vertical-align: middle;\n",
       "    }\n",
       "\n",
       "    .dataframe tbody tr th {\n",
       "        vertical-align: top;\n",
       "    }\n",
       "\n",
       "    .dataframe thead th {\n",
       "        text-align: right;\n",
       "    }\n",
       "</style>\n",
       "<table border=\"1\" class=\"dataframe\">\n",
       "  <thead>\n",
       "    <tr style=\"text-align: right;\">\n",
       "      <th></th>\n",
       "      <th>id</th>\n",
       "      <th>resource_type_1</th>\n",
       "      <th>resource_type_2</th>\n",
       "      <th>resource_type_3</th>\n",
       "      <th>resource_type_4</th>\n",
       "      <th>resource_type_5</th>\n",
       "      <th>resource_type_6</th>\n",
       "      <th>resource_type_7</th>\n",
       "      <th>resource_type_8</th>\n",
       "      <th>resource_type_9</th>\n",
       "      <th>resource_type_10</th>\n",
       "    </tr>\n",
       "  </thead>\n",
       "  <tbody>\n",
       "    <tr>\n",
       "      <th>0</th>\n",
       "      <td>6597</td>\n",
       "      <td>0</td>\n",
       "      <td>0</td>\n",
       "      <td>0</td>\n",
       "      <td>0</td>\n",
       "      <td>0</td>\n",
       "      <td>0</td>\n",
       "      <td>0</td>\n",
       "      <td>1</td>\n",
       "      <td>0</td>\n",
       "      <td>0</td>\n",
       "    </tr>\n",
       "    <tr>\n",
       "      <th>1</th>\n",
       "      <td>8011</td>\n",
       "      <td>0</td>\n",
       "      <td>0</td>\n",
       "      <td>0</td>\n",
       "      <td>0</td>\n",
       "      <td>0</td>\n",
       "      <td>0</td>\n",
       "      <td>0</td>\n",
       "      <td>1</td>\n",
       "      <td>0</td>\n",
       "      <td>0</td>\n",
       "    </tr>\n",
       "    <tr>\n",
       "      <th>2</th>\n",
       "      <td>2597</td>\n",
       "      <td>0</td>\n",
       "      <td>0</td>\n",
       "      <td>0</td>\n",
       "      <td>0</td>\n",
       "      <td>0</td>\n",
       "      <td>0</td>\n",
       "      <td>0</td>\n",
       "      <td>1</td>\n",
       "      <td>0</td>\n",
       "      <td>0</td>\n",
       "    </tr>\n",
       "    <tr>\n",
       "      <th>3</th>\n",
       "      <td>5022</td>\n",
       "      <td>0</td>\n",
       "      <td>0</td>\n",
       "      <td>0</td>\n",
       "      <td>0</td>\n",
       "      <td>0</td>\n",
       "      <td>0</td>\n",
       "      <td>0</td>\n",
       "      <td>1</td>\n",
       "      <td>0</td>\n",
       "      <td>0</td>\n",
       "    </tr>\n",
       "    <tr>\n",
       "      <th>4</th>\n",
       "      <td>6852</td>\n",
       "      <td>0</td>\n",
       "      <td>0</td>\n",
       "      <td>0</td>\n",
       "      <td>0</td>\n",
       "      <td>0</td>\n",
       "      <td>0</td>\n",
       "      <td>0</td>\n",
       "      <td>1</td>\n",
       "      <td>0</td>\n",
       "      <td>0</td>\n",
       "    </tr>\n",
       "  </tbody>\n",
       "</table>\n",
       "</div>"
      ],
      "text/plain": [
       "     id  resource_type_1  resource_type_2  resource_type_3  resource_type_4  \\\n",
       "0  6597                0                0                0                0   \n",
       "1  8011                0                0                0                0   \n",
       "2  2597                0                0                0                0   \n",
       "3  5022                0                0                0                0   \n",
       "4  6852                0                0                0                0   \n",
       "\n",
       "   resource_type_5  resource_type_6  resource_type_7  resource_type_8  \\\n",
       "0                0                0                0                1   \n",
       "1                0                0                0                1   \n",
       "2                0                0                0                1   \n",
       "3                0                0                0                1   \n",
       "4                0                0                0                1   \n",
       "\n",
       "   resource_type_9  resource_type_10  \n",
       "0                0                 0  \n",
       "1                0                 0  \n",
       "2                0                 0  \n",
       "3                0                 0  \n",
       "4                0                 0  "
      ]
     },
     "execution_count": 49,
     "metadata": {},
     "output_type": "execute_result"
    }
   ],
   "source": [
    "resource_type = pd.get_dummies(resource_type , columns=['resource_type'])\n",
    "resource_type.head()"
   ]
  },
  {
   "cell_type": "markdown",
   "metadata": {},
   "source": [
    "# Analysis severity type"
   ]
  },
  {
   "cell_type": "code",
   "execution_count": 50,
   "metadata": {},
   "outputs": [
    {
     "name": "stdout",
     "output_type": "stream",
     "text": [
      "<class 'pandas.core.frame.DataFrame'>\n",
      "RangeIndex: 18552 entries, 0 to 18551\n",
      "Data columns (total 2 columns):\n",
      " #   Column         Non-Null Count  Dtype \n",
      "---  ------         --------------  ----- \n",
      " 0   id             18552 non-null  int64 \n",
      " 1   severity_type  18552 non-null  object\n",
      "dtypes: int64(1), object(1)\n",
      "memory usage: 290.0+ KB\n"
     ]
    }
   ],
   "source": [
    "severity_type.info()"
   ]
  },
  {
   "cell_type": "code",
   "execution_count": 51,
   "metadata": {},
   "outputs": [
    {
     "data": {
      "text/html": [
       "<div>\n",
       "<style scoped>\n",
       "    .dataframe tbody tr th:only-of-type {\n",
       "        vertical-align: middle;\n",
       "    }\n",
       "\n",
       "    .dataframe tbody tr th {\n",
       "        vertical-align: top;\n",
       "    }\n",
       "\n",
       "    .dataframe thead th {\n",
       "        text-align: right;\n",
       "    }\n",
       "</style>\n",
       "<table border=\"1\" class=\"dataframe\">\n",
       "  <thead>\n",
       "    <tr style=\"text-align: right;\">\n",
       "      <th></th>\n",
       "      <th>id</th>\n",
       "      <th>severity_type</th>\n",
       "    </tr>\n",
       "  </thead>\n",
       "  <tbody>\n",
       "    <tr>\n",
       "      <th>0</th>\n",
       "      <td>6597</td>\n",
       "      <td>severity_type 2</td>\n",
       "    </tr>\n",
       "    <tr>\n",
       "      <th>1</th>\n",
       "      <td>8011</td>\n",
       "      <td>severity_type 2</td>\n",
       "    </tr>\n",
       "    <tr>\n",
       "      <th>2</th>\n",
       "      <td>2597</td>\n",
       "      <td>severity_type 2</td>\n",
       "    </tr>\n",
       "    <tr>\n",
       "      <th>3</th>\n",
       "      <td>5022</td>\n",
       "      <td>severity_type 1</td>\n",
       "    </tr>\n",
       "    <tr>\n",
       "      <th>4</th>\n",
       "      <td>6852</td>\n",
       "      <td>severity_type 1</td>\n",
       "    </tr>\n",
       "  </tbody>\n",
       "</table>\n",
       "</div>"
      ],
      "text/plain": [
       "     id    severity_type\n",
       "0  6597  severity_type 2\n",
       "1  8011  severity_type 2\n",
       "2  2597  severity_type 2\n",
       "3  5022  severity_type 1\n",
       "4  6852  severity_type 1"
      ]
     },
     "execution_count": 51,
     "metadata": {},
     "output_type": "execute_result"
    }
   ],
   "source": [
    "severity_type.head()"
   ]
  },
  {
   "cell_type": "code",
   "execution_count": 52,
   "metadata": {},
   "outputs": [
    {
     "data": {
      "text/html": [
       "<div>\n",
       "<style scoped>\n",
       "    .dataframe tbody tr th:only-of-type {\n",
       "        vertical-align: middle;\n",
       "    }\n",
       "\n",
       "    .dataframe tbody tr th {\n",
       "        vertical-align: top;\n",
       "    }\n",
       "\n",
       "    .dataframe thead th {\n",
       "        text-align: right;\n",
       "    }\n",
       "</style>\n",
       "<table border=\"1\" class=\"dataframe\">\n",
       "  <thead>\n",
       "    <tr style=\"text-align: right;\">\n",
       "      <th></th>\n",
       "      <th>id</th>\n",
       "      <th>severity_type</th>\n",
       "    </tr>\n",
       "  </thead>\n",
       "  <tbody>\n",
       "    <tr>\n",
       "      <th>0</th>\n",
       "      <td>6597</td>\n",
       "      <td>2</td>\n",
       "    </tr>\n",
       "    <tr>\n",
       "      <th>1</th>\n",
       "      <td>8011</td>\n",
       "      <td>2</td>\n",
       "    </tr>\n",
       "    <tr>\n",
       "      <th>2</th>\n",
       "      <td>2597</td>\n",
       "      <td>2</td>\n",
       "    </tr>\n",
       "    <tr>\n",
       "      <th>3</th>\n",
       "      <td>5022</td>\n",
       "      <td>1</td>\n",
       "    </tr>\n",
       "    <tr>\n",
       "      <th>4</th>\n",
       "      <td>6852</td>\n",
       "      <td>1</td>\n",
       "    </tr>\n",
       "  </tbody>\n",
       "</table>\n",
       "</div>"
      ],
      "text/plain": [
       "     id  severity_type\n",
       "0  6597              2\n",
       "1  8011              2\n",
       "2  2597              2\n",
       "3  5022              1\n",
       "4  6852              1"
      ]
     },
     "execution_count": 52,
     "metadata": {},
     "output_type": "execute_result"
    }
   ],
   "source": [
    "# cleaning the severity data\n",
    "\n",
    "severity_type['severity_type'] = severity_type['severity_type'].str.lstrip('severity_type').astype('int')\n",
    "severity_type.head()"
   ]
  },
  {
   "cell_type": "code",
   "execution_count": 53,
   "metadata": {},
   "outputs": [
    {
     "data": {
      "text/plain": [
       "2    8737\n",
       "1    8728\n",
       "4    1014\n",
       "5      65\n",
       "3       8\n",
       "Name: severity_type, dtype: int64"
      ]
     },
     "execution_count": 53,
     "metadata": {},
     "output_type": "execute_result"
    }
   ],
   "source": [
    "severity_type['severity_type'].value_counts()"
   ]
  },
  {
   "cell_type": "code",
   "execution_count": 54,
   "metadata": {},
   "outputs": [
    {
     "data": {
      "text/html": [
       "<div>\n",
       "<style scoped>\n",
       "    .dataframe tbody tr th:only-of-type {\n",
       "        vertical-align: middle;\n",
       "    }\n",
       "\n",
       "    .dataframe tbody tr th {\n",
       "        vertical-align: top;\n",
       "    }\n",
       "\n",
       "    .dataframe thead th {\n",
       "        text-align: right;\n",
       "    }\n",
       "</style>\n",
       "<table border=\"1\" class=\"dataframe\">\n",
       "  <thead>\n",
       "    <tr style=\"text-align: right;\">\n",
       "      <th></th>\n",
       "      <th>id</th>\n",
       "      <th>severity_type_1</th>\n",
       "      <th>severity_type_2</th>\n",
       "      <th>severity_type_3</th>\n",
       "      <th>severity_type_4</th>\n",
       "      <th>severity_type_5</th>\n",
       "    </tr>\n",
       "  </thead>\n",
       "  <tbody>\n",
       "    <tr>\n",
       "      <th>0</th>\n",
       "      <td>6597</td>\n",
       "      <td>0</td>\n",
       "      <td>1</td>\n",
       "      <td>0</td>\n",
       "      <td>0</td>\n",
       "      <td>0</td>\n",
       "    </tr>\n",
       "    <tr>\n",
       "      <th>1</th>\n",
       "      <td>8011</td>\n",
       "      <td>0</td>\n",
       "      <td>1</td>\n",
       "      <td>0</td>\n",
       "      <td>0</td>\n",
       "      <td>0</td>\n",
       "    </tr>\n",
       "    <tr>\n",
       "      <th>2</th>\n",
       "      <td>2597</td>\n",
       "      <td>0</td>\n",
       "      <td>1</td>\n",
       "      <td>0</td>\n",
       "      <td>0</td>\n",
       "      <td>0</td>\n",
       "    </tr>\n",
       "    <tr>\n",
       "      <th>3</th>\n",
       "      <td>5022</td>\n",
       "      <td>1</td>\n",
       "      <td>0</td>\n",
       "      <td>0</td>\n",
       "      <td>0</td>\n",
       "      <td>0</td>\n",
       "    </tr>\n",
       "    <tr>\n",
       "      <th>4</th>\n",
       "      <td>6852</td>\n",
       "      <td>1</td>\n",
       "      <td>0</td>\n",
       "      <td>0</td>\n",
       "      <td>0</td>\n",
       "      <td>0</td>\n",
       "    </tr>\n",
       "  </tbody>\n",
       "</table>\n",
       "</div>"
      ],
      "text/plain": [
       "     id  severity_type_1  severity_type_2  severity_type_3  severity_type_4  \\\n",
       "0  6597                0                1                0                0   \n",
       "1  8011                0                1                0                0   \n",
       "2  2597                0                1                0                0   \n",
       "3  5022                1                0                0                0   \n",
       "4  6852                1                0                0                0   \n",
       "\n",
       "   severity_type_5  \n",
       "0                0  \n",
       "1                0  \n",
       "2                0  \n",
       "3                0  \n",
       "4                0  "
      ]
     },
     "execution_count": 54,
     "metadata": {},
     "output_type": "execute_result"
    }
   ],
   "source": [
    "# one hot encoding\n",
    "severity_type = pd.get_dummies(severity_type , columns=['severity_type'])\n",
    "severity_type.head()"
   ]
  },
  {
   "cell_type": "markdown",
   "metadata": {},
   "source": [
    "# analysis submission data"
   ]
  },
  {
   "cell_type": "code",
   "execution_count": 55,
   "metadata": {},
   "outputs": [
    {
     "name": "stdout",
     "output_type": "stream",
     "text": [
      "<class 'pandas.core.frame.DataFrame'>\n",
      "RangeIndex: 11171 entries, 0 to 11170\n",
      "Data columns (total 4 columns):\n",
      " #   Column     Non-Null Count  Dtype\n",
      "---  ------     --------------  -----\n",
      " 0   id         11171 non-null  int64\n",
      " 1   predict_0  11171 non-null  int64\n",
      " 2   predict_1  11171 non-null  int64\n",
      " 3   predict_2  11171 non-null  int64\n",
      "dtypes: int64(4)\n",
      "memory usage: 349.2 KB\n"
     ]
    }
   ],
   "source": [
    "sample_submission.info()"
   ]
  },
  {
   "cell_type": "code",
   "execution_count": 56,
   "metadata": {},
   "outputs": [
    {
     "data": {
      "text/html": [
       "<div>\n",
       "<style scoped>\n",
       "    .dataframe tbody tr th:only-of-type {\n",
       "        vertical-align: middle;\n",
       "    }\n",
       "\n",
       "    .dataframe tbody tr th {\n",
       "        vertical-align: top;\n",
       "    }\n",
       "\n",
       "    .dataframe thead th {\n",
       "        text-align: right;\n",
       "    }\n",
       "</style>\n",
       "<table border=\"1\" class=\"dataframe\">\n",
       "  <thead>\n",
       "    <tr style=\"text-align: right;\">\n",
       "      <th></th>\n",
       "      <th>id</th>\n",
       "      <th>predict_0</th>\n",
       "      <th>predict_1</th>\n",
       "      <th>predict_2</th>\n",
       "    </tr>\n",
       "  </thead>\n",
       "  <tbody>\n",
       "    <tr>\n",
       "      <th>0</th>\n",
       "      <td>11066</td>\n",
       "      <td>0</td>\n",
       "      <td>1</td>\n",
       "      <td>0</td>\n",
       "    </tr>\n",
       "    <tr>\n",
       "      <th>1</th>\n",
       "      <td>18000</td>\n",
       "      <td>0</td>\n",
       "      <td>1</td>\n",
       "      <td>0</td>\n",
       "    </tr>\n",
       "    <tr>\n",
       "      <th>2</th>\n",
       "      <td>16964</td>\n",
       "      <td>0</td>\n",
       "      <td>1</td>\n",
       "      <td>0</td>\n",
       "    </tr>\n",
       "    <tr>\n",
       "      <th>3</th>\n",
       "      <td>4795</td>\n",
       "      <td>0</td>\n",
       "      <td>1</td>\n",
       "      <td>0</td>\n",
       "    </tr>\n",
       "    <tr>\n",
       "      <th>4</th>\n",
       "      <td>3392</td>\n",
       "      <td>0</td>\n",
       "      <td>1</td>\n",
       "      <td>0</td>\n",
       "    </tr>\n",
       "  </tbody>\n",
       "</table>\n",
       "</div>"
      ],
      "text/plain": [
       "      id  predict_0  predict_1  predict_2\n",
       "0  11066          0          1          0\n",
       "1  18000          0          1          0\n",
       "2  16964          0          1          0\n",
       "3   4795          0          1          0\n",
       "4   3392          0          1          0"
      ]
     },
     "execution_count": 56,
     "metadata": {},
     "output_type": "execute_result"
    }
   ],
   "source": [
    "sample_submission.head()"
   ]
  },
  {
   "cell_type": "markdown",
   "metadata": {},
   "source": [
    "# **Feature Engineering**"
   ]
  },
  {
   "cell_type": "code",
   "execution_count": 57,
   "metadata": {},
   "outputs": [
    {
     "data": {
      "text/html": [
       "<div>\n",
       "<style scoped>\n",
       "    .dataframe tbody tr th:only-of-type {\n",
       "        vertical-align: middle;\n",
       "    }\n",
       "\n",
       "    .dataframe tbody tr th {\n",
       "        vertical-align: top;\n",
       "    }\n",
       "\n",
       "    .dataframe thead th {\n",
       "        text-align: right;\n",
       "    }\n",
       "</style>\n",
       "<table border=\"1\" class=\"dataframe\">\n",
       "  <thead>\n",
       "    <tr style=\"text-align: right;\">\n",
       "      <th></th>\n",
       "      <th>id</th>\n",
       "      <th>sum_event_type</th>\n",
       "    </tr>\n",
       "  </thead>\n",
       "  <tbody>\n",
       "    <tr>\n",
       "      <th>0</th>\n",
       "      <td>6597</td>\n",
       "      <td>11</td>\n",
       "    </tr>\n",
       "    <tr>\n",
       "      <th>1</th>\n",
       "      <td>8011</td>\n",
       "      <td>15</td>\n",
       "    </tr>\n",
       "    <tr>\n",
       "      <th>2</th>\n",
       "      <td>2597</td>\n",
       "      <td>15</td>\n",
       "    </tr>\n",
       "    <tr>\n",
       "      <th>3</th>\n",
       "      <td>5022</td>\n",
       "      <td>26</td>\n",
       "    </tr>\n",
       "    <tr>\n",
       "      <th>4</th>\n",
       "      <td>6852</td>\n",
       "      <td>26</td>\n",
       "    </tr>\n",
       "  </tbody>\n",
       "</table>\n",
       "</div>"
      ],
      "text/plain": [
       "     id  sum_event_type\n",
       "0  6597              11\n",
       "1  8011              15\n",
       "2  2597              15\n",
       "3  5022              26\n",
       "4  6852              26"
      ]
     },
     "execution_count": 57,
     "metadata": {},
     "output_type": "execute_result"
    }
   ],
   "source": [
    "event_type = event_type.groupby('id', sort=False).agg(sum).add_prefix('sum_').reset_index()\n",
    "\n",
    "event_type.head()"
   ]
  },
  {
   "cell_type": "code",
   "execution_count": 58,
   "metadata": {},
   "outputs": [
    {
     "data": {
      "text/html": [
       "<div>\n",
       "<style scoped>\n",
       "    .dataframe tbody tr th:only-of-type {\n",
       "        vertical-align: middle;\n",
       "    }\n",
       "\n",
       "    .dataframe tbody tr th {\n",
       "        vertical-align: top;\n",
       "    }\n",
       "\n",
       "    .dataframe thead th {\n",
       "        text-align: right;\n",
       "    }\n",
       "</style>\n",
       "<table border=\"1\" class=\"dataframe\">\n",
       "  <thead>\n",
       "    <tr style=\"text-align: right;\">\n",
       "      <th></th>\n",
       "      <th>id</th>\n",
       "      <th>count_log_feature</th>\n",
       "      <th>sum_volume</th>\n",
       "      <th>mean_volume</th>\n",
       "    </tr>\n",
       "  </thead>\n",
       "  <tbody>\n",
       "    <tr>\n",
       "      <th>0</th>\n",
       "      <td>6597</td>\n",
       "      <td>1</td>\n",
       "      <td>6</td>\n",
       "      <td>6.000000</td>\n",
       "    </tr>\n",
       "    <tr>\n",
       "      <th>1</th>\n",
       "      <td>8011</td>\n",
       "      <td>1</td>\n",
       "      <td>7</td>\n",
       "      <td>7.000000</td>\n",
       "    </tr>\n",
       "    <tr>\n",
       "      <th>2</th>\n",
       "      <td>2597</td>\n",
       "      <td>1</td>\n",
       "      <td>1</td>\n",
       "      <td>1.000000</td>\n",
       "    </tr>\n",
       "    <tr>\n",
       "      <th>3</th>\n",
       "      <td>5022</td>\n",
       "      <td>4</td>\n",
       "      <td>10</td>\n",
       "      <td>2.500000</td>\n",
       "    </tr>\n",
       "    <tr>\n",
       "      <th>4</th>\n",
       "      <td>6852</td>\n",
       "      <td>3</td>\n",
       "      <td>5</td>\n",
       "      <td>1.666667</td>\n",
       "    </tr>\n",
       "  </tbody>\n",
       "</table>\n",
       "</div>"
      ],
      "text/plain": [
       "     id  count_log_feature  sum_volume  mean_volume\n",
       "0  6597                  1           6     6.000000\n",
       "1  8011                  1           7     7.000000\n",
       "2  2597                  1           1     1.000000\n",
       "3  5022                  4          10     2.500000\n",
       "4  6852                  3           5     1.666667"
      ]
     },
     "execution_count": 58,
     "metadata": {},
     "output_type": "execute_result"
    }
   ],
   "source": [
    "log_feature = log_feature.groupby('id', sort=False).agg(count_log_feature=('log_feature','count'), \n",
    "                                                        sum_volume=('volume', 'sum'),\n",
    "                                                        mean_volume=('volume', 'mean')\n",
    "                                                      ).reset_index()\n",
    "log_feature.head()"
   ]
  },
  {
   "cell_type": "code",
   "execution_count": 59,
   "metadata": {},
   "outputs": [
    {
     "data": {
      "text/html": [
       "<div>\n",
       "<style scoped>\n",
       "    .dataframe tbody tr th:only-of-type {\n",
       "        vertical-align: middle;\n",
       "    }\n",
       "\n",
       "    .dataframe tbody tr th {\n",
       "        vertical-align: top;\n",
       "    }\n",
       "\n",
       "    .dataframe thead th {\n",
       "        text-align: right;\n",
       "    }\n",
       "</style>\n",
       "<table border=\"1\" class=\"dataframe\">\n",
       "  <thead>\n",
       "    <tr style=\"text-align: right;\">\n",
       "      <th></th>\n",
       "      <th>id</th>\n",
       "      <th>sum_resource_type_1</th>\n",
       "      <th>sum_resource_type_2</th>\n",
       "      <th>sum_resource_type_3</th>\n",
       "      <th>sum_resource_type_4</th>\n",
       "      <th>sum_resource_type_5</th>\n",
       "      <th>sum_resource_type_6</th>\n",
       "      <th>sum_resource_type_7</th>\n",
       "      <th>sum_resource_type_8</th>\n",
       "      <th>sum_resource_type_9</th>\n",
       "      <th>sum_resource_type_10</th>\n",
       "    </tr>\n",
       "  </thead>\n",
       "  <tbody>\n",
       "    <tr>\n",
       "      <th>0</th>\n",
       "      <td>6597</td>\n",
       "      <td>0</td>\n",
       "      <td>0</td>\n",
       "      <td>0</td>\n",
       "      <td>0</td>\n",
       "      <td>0</td>\n",
       "      <td>0</td>\n",
       "      <td>0</td>\n",
       "      <td>1</td>\n",
       "      <td>0</td>\n",
       "      <td>0</td>\n",
       "    </tr>\n",
       "    <tr>\n",
       "      <th>1</th>\n",
       "      <td>8011</td>\n",
       "      <td>0</td>\n",
       "      <td>0</td>\n",
       "      <td>0</td>\n",
       "      <td>0</td>\n",
       "      <td>0</td>\n",
       "      <td>0</td>\n",
       "      <td>0</td>\n",
       "      <td>1</td>\n",
       "      <td>0</td>\n",
       "      <td>0</td>\n",
       "    </tr>\n",
       "    <tr>\n",
       "      <th>2</th>\n",
       "      <td>2597</td>\n",
       "      <td>0</td>\n",
       "      <td>0</td>\n",
       "      <td>0</td>\n",
       "      <td>0</td>\n",
       "      <td>0</td>\n",
       "      <td>0</td>\n",
       "      <td>0</td>\n",
       "      <td>1</td>\n",
       "      <td>0</td>\n",
       "      <td>0</td>\n",
       "    </tr>\n",
       "    <tr>\n",
       "      <th>3</th>\n",
       "      <td>5022</td>\n",
       "      <td>0</td>\n",
       "      <td>0</td>\n",
       "      <td>0</td>\n",
       "      <td>0</td>\n",
       "      <td>0</td>\n",
       "      <td>0</td>\n",
       "      <td>0</td>\n",
       "      <td>1</td>\n",
       "      <td>0</td>\n",
       "      <td>0</td>\n",
       "    </tr>\n",
       "    <tr>\n",
       "      <th>4</th>\n",
       "      <td>6852</td>\n",
       "      <td>0</td>\n",
       "      <td>0</td>\n",
       "      <td>0</td>\n",
       "      <td>0</td>\n",
       "      <td>0</td>\n",
       "      <td>0</td>\n",
       "      <td>0</td>\n",
       "      <td>1</td>\n",
       "      <td>0</td>\n",
       "      <td>0</td>\n",
       "    </tr>\n",
       "  </tbody>\n",
       "</table>\n",
       "</div>"
      ],
      "text/plain": [
       "     id  sum_resource_type_1  sum_resource_type_2  sum_resource_type_3  \\\n",
       "0  6597                    0                    0                    0   \n",
       "1  8011                    0                    0                    0   \n",
       "2  2597                    0                    0                    0   \n",
       "3  5022                    0                    0                    0   \n",
       "4  6852                    0                    0                    0   \n",
       "\n",
       "   sum_resource_type_4  sum_resource_type_5  sum_resource_type_6  \\\n",
       "0                    0                    0                    0   \n",
       "1                    0                    0                    0   \n",
       "2                    0                    0                    0   \n",
       "3                    0                    0                    0   \n",
       "4                    0                    0                    0   \n",
       "\n",
       "   sum_resource_type_7  sum_resource_type_8  sum_resource_type_9  \\\n",
       "0                    0                    1                    0   \n",
       "1                    0                    1                    0   \n",
       "2                    0                    1                    0   \n",
       "3                    0                    1                    0   \n",
       "4                    0                    1                    0   \n",
       "\n",
       "   sum_resource_type_10  \n",
       "0                     0  \n",
       "1                     0  \n",
       "2                     0  \n",
       "3                     0  \n",
       "4                     0  "
      ]
     },
     "execution_count": 59,
     "metadata": {},
     "output_type": "execute_result"
    }
   ],
   "source": [
    "resource_type = resource_type.groupby('id', sort=False).agg(sum).add_prefix('sum_').reset_index()\n",
    "\n",
    "resource_type.head()"
   ]
  },
  {
   "cell_type": "code",
   "execution_count": 60,
   "metadata": {},
   "outputs": [
    {
     "data": {
      "text/plain": [
       "(18552, 23)"
      ]
     },
     "execution_count": 60,
     "metadata": {},
     "output_type": "execute_result"
    }
   ],
   "source": [
    "dfs = [data, log_feature, severity_type, resource_type, event_type] \n",
    "df1 = pd.merge(data , log_feature)\n",
    "df2 = pd.merge(df1 , severity_type)\n",
    "df3 = pd.merge(df2 , resource_type)\n",
    "result = pd.merge(df3 , event_type)\n",
    "\n",
    "result.shape"
   ]
  },
  {
   "cell_type": "code",
   "execution_count": 61,
   "metadata": {},
   "outputs": [
    {
     "data": {
      "text/plain": [
       "((18552, 4), (18552, 4), (18552, 6), (18552, 11), (18552, 2))"
      ]
     },
     "execution_count": 61,
     "metadata": {},
     "output_type": "execute_result"
    }
   ],
   "source": [
    "data.shape , log_feature.shape , severity_type.shape , resource_type.shape , event_type.shape"
   ]
  },
  {
   "cell_type": "code",
   "execution_count": 62,
   "metadata": {},
   "outputs": [
    {
     "data": {
      "text/html": [
       "<div>\n",
       "<style scoped>\n",
       "    .dataframe tbody tr th:only-of-type {\n",
       "        vertical-align: middle;\n",
       "    }\n",
       "\n",
       "    .dataframe tbody tr th {\n",
       "        vertical-align: top;\n",
       "    }\n",
       "\n",
       "    .dataframe thead th {\n",
       "        text-align: right;\n",
       "    }\n",
       "</style>\n",
       "<table border=\"1\" class=\"dataframe\">\n",
       "  <thead>\n",
       "    <tr style=\"text-align: right;\">\n",
       "      <th></th>\n",
       "      <th>id</th>\n",
       "      <th>location</th>\n",
       "      <th>fault_severity</th>\n",
       "      <th>istrain</th>\n",
       "      <th>count_log_feature</th>\n",
       "      <th>sum_volume</th>\n",
       "      <th>mean_volume</th>\n",
       "      <th>severity_type_1</th>\n",
       "      <th>severity_type_2</th>\n",
       "      <th>severity_type_3</th>\n",
       "      <th>...</th>\n",
       "      <th>sum_resource_type_2</th>\n",
       "      <th>sum_resource_type_3</th>\n",
       "      <th>sum_resource_type_4</th>\n",
       "      <th>sum_resource_type_5</th>\n",
       "      <th>sum_resource_type_6</th>\n",
       "      <th>sum_resource_type_7</th>\n",
       "      <th>sum_resource_type_8</th>\n",
       "      <th>sum_resource_type_9</th>\n",
       "      <th>sum_resource_type_10</th>\n",
       "      <th>sum_event_type</th>\n",
       "    </tr>\n",
       "  </thead>\n",
       "  <tbody>\n",
       "    <tr>\n",
       "      <th>0</th>\n",
       "      <td>14121</td>\n",
       "      <td>118</td>\n",
       "      <td>1.0</td>\n",
       "      <td>1</td>\n",
       "      <td>2</td>\n",
       "      <td>38</td>\n",
       "      <td>19.000000</td>\n",
       "      <td>0</td>\n",
       "      <td>1</td>\n",
       "      <td>0</td>\n",
       "      <td>...</td>\n",
       "      <td>1</td>\n",
       "      <td>0</td>\n",
       "      <td>0</td>\n",
       "      <td>0</td>\n",
       "      <td>0</td>\n",
       "      <td>0</td>\n",
       "      <td>0</td>\n",
       "      <td>0</td>\n",
       "      <td>0</td>\n",
       "      <td>69</td>\n",
       "    </tr>\n",
       "    <tr>\n",
       "      <th>1</th>\n",
       "      <td>9320</td>\n",
       "      <td>91</td>\n",
       "      <td>0.0</td>\n",
       "      <td>1</td>\n",
       "      <td>2</td>\n",
       "      <td>316</td>\n",
       "      <td>158.000000</td>\n",
       "      <td>0</td>\n",
       "      <td>1</td>\n",
       "      <td>0</td>\n",
       "      <td>...</td>\n",
       "      <td>1</td>\n",
       "      <td>0</td>\n",
       "      <td>0</td>\n",
       "      <td>0</td>\n",
       "      <td>0</td>\n",
       "      <td>0</td>\n",
       "      <td>0</td>\n",
       "      <td>0</td>\n",
       "      <td>0</td>\n",
       "      <td>69</td>\n",
       "    </tr>\n",
       "    <tr>\n",
       "      <th>2</th>\n",
       "      <td>14394</td>\n",
       "      <td>152</td>\n",
       "      <td>1.0</td>\n",
       "      <td>1</td>\n",
       "      <td>2</td>\n",
       "      <td>2</td>\n",
       "      <td>1.000000</td>\n",
       "      <td>0</td>\n",
       "      <td>1</td>\n",
       "      <td>0</td>\n",
       "      <td>...</td>\n",
       "      <td>1</td>\n",
       "      <td>0</td>\n",
       "      <td>0</td>\n",
       "      <td>0</td>\n",
       "      <td>0</td>\n",
       "      <td>0</td>\n",
       "      <td>0</td>\n",
       "      <td>0</td>\n",
       "      <td>0</td>\n",
       "      <td>69</td>\n",
       "    </tr>\n",
       "    <tr>\n",
       "      <th>3</th>\n",
       "      <td>8218</td>\n",
       "      <td>931</td>\n",
       "      <td>1.0</td>\n",
       "      <td>1</td>\n",
       "      <td>3</td>\n",
       "      <td>22</td>\n",
       "      <td>7.333333</td>\n",
       "      <td>1</td>\n",
       "      <td>0</td>\n",
       "      <td>0</td>\n",
       "      <td>...</td>\n",
       "      <td>0</td>\n",
       "      <td>0</td>\n",
       "      <td>0</td>\n",
       "      <td>0</td>\n",
       "      <td>0</td>\n",
       "      <td>0</td>\n",
       "      <td>1</td>\n",
       "      <td>0</td>\n",
       "      <td>0</td>\n",
       "      <td>26</td>\n",
       "    </tr>\n",
       "    <tr>\n",
       "      <th>4</th>\n",
       "      <td>14804</td>\n",
       "      <td>120</td>\n",
       "      <td>0.0</td>\n",
       "      <td>1</td>\n",
       "      <td>9</td>\n",
       "      <td>12</td>\n",
       "      <td>1.333333</td>\n",
       "      <td>1</td>\n",
       "      <td>0</td>\n",
       "      <td>0</td>\n",
       "      <td>...</td>\n",
       "      <td>1</td>\n",
       "      <td>0</td>\n",
       "      <td>0</td>\n",
       "      <td>0</td>\n",
       "      <td>0</td>\n",
       "      <td>0</td>\n",
       "      <td>1</td>\n",
       "      <td>0</td>\n",
       "      <td>0</td>\n",
       "      <td>101</td>\n",
       "    </tr>\n",
       "  </tbody>\n",
       "</table>\n",
       "<p>5 rows × 23 columns</p>\n",
       "</div>"
      ],
      "text/plain": [
       "      id  location  fault_severity  istrain  count_log_feature  sum_volume  \\\n",
       "0  14121       118             1.0        1                  2          38   \n",
       "1   9320        91             0.0        1                  2         316   \n",
       "2  14394       152             1.0        1                  2           2   \n",
       "3   8218       931             1.0        1                  3          22   \n",
       "4  14804       120             0.0        1                  9          12   \n",
       "\n",
       "   mean_volume  severity_type_1  severity_type_2  severity_type_3  ...  \\\n",
       "0    19.000000                0                1                0  ...   \n",
       "1   158.000000                0                1                0  ...   \n",
       "2     1.000000                0                1                0  ...   \n",
       "3     7.333333                1                0                0  ...   \n",
       "4     1.333333                1                0                0  ...   \n",
       "\n",
       "   sum_resource_type_2  sum_resource_type_3  sum_resource_type_4  \\\n",
       "0                    1                    0                    0   \n",
       "1                    1                    0                    0   \n",
       "2                    1                    0                    0   \n",
       "3                    0                    0                    0   \n",
       "4                    1                    0                    0   \n",
       "\n",
       "   sum_resource_type_5  sum_resource_type_6  sum_resource_type_7  \\\n",
       "0                    0                    0                    0   \n",
       "1                    0                    0                    0   \n",
       "2                    0                    0                    0   \n",
       "3                    0                    0                    0   \n",
       "4                    0                    0                    0   \n",
       "\n",
       "   sum_resource_type_8  sum_resource_type_9  sum_resource_type_10  \\\n",
       "0                    0                    0                     0   \n",
       "1                    0                    0                     0   \n",
       "2                    0                    0                     0   \n",
       "3                    1                    0                     0   \n",
       "4                    1                    0                     0   \n",
       "\n",
       "   sum_event_type  \n",
       "0              69  \n",
       "1              69  \n",
       "2              69  \n",
       "3              26  \n",
       "4             101  \n",
       "\n",
       "[5 rows x 23 columns]"
      ]
     },
     "execution_count": 62,
     "metadata": {},
     "output_type": "execute_result"
    }
   ],
   "source": [
    "result.head()"
   ]
  },
  {
   "cell_type": "code",
   "execution_count": 63,
   "metadata": {},
   "outputs": [
    {
     "data": {
      "text/plain": [
       "id                          0\n",
       "location                    0\n",
       "fault_severity          11171\n",
       "istrain                     0\n",
       "count_log_feature           0\n",
       "sum_volume                  0\n",
       "mean_volume                 0\n",
       "severity_type_1             0\n",
       "severity_type_2             0\n",
       "severity_type_3             0\n",
       "severity_type_4             0\n",
       "severity_type_5             0\n",
       "sum_resource_type_1         0\n",
       "sum_resource_type_2         0\n",
       "sum_resource_type_3         0\n",
       "sum_resource_type_4         0\n",
       "sum_resource_type_5         0\n",
       "sum_resource_type_6         0\n",
       "sum_resource_type_7         0\n",
       "sum_resource_type_8         0\n",
       "sum_resource_type_9         0\n",
       "sum_resource_type_10        0\n",
       "sum_event_type              0\n",
       "dtype: int64"
      ]
     },
     "execution_count": 63,
     "metadata": {},
     "output_type": "execute_result"
    }
   ],
   "source": [
    "result.isnull().sum()"
   ]
  },
  {
   "cell_type": "markdown",
   "metadata": {},
   "source": [
    "# Now its time to split the train and test data set"
   ]
  },
  {
   "cell_type": "code",
   "execution_count": 190,
   "metadata": {},
   "outputs": [
    {
     "data": {
      "text/html": [
       "<div>\n",
       "<style scoped>\n",
       "    .dataframe tbody tr th:only-of-type {\n",
       "        vertical-align: middle;\n",
       "    }\n",
       "\n",
       "    .dataframe tbody tr th {\n",
       "        vertical-align: top;\n",
       "    }\n",
       "\n",
       "    .dataframe thead th {\n",
       "        text-align: right;\n",
       "    }\n",
       "</style>\n",
       "<table border=\"1\" class=\"dataframe\">\n",
       "  <thead>\n",
       "    <tr style=\"text-align: right;\">\n",
       "      <th></th>\n",
       "      <th>id</th>\n",
       "      <th>location</th>\n",
       "      <th>fault_severity</th>\n",
       "      <th>istrain</th>\n",
       "      <th>count_log_feature</th>\n",
       "      <th>sum_volume</th>\n",
       "      <th>mean_volume</th>\n",
       "      <th>severity_type_1</th>\n",
       "      <th>severity_type_2</th>\n",
       "      <th>severity_type_3</th>\n",
       "      <th>...</th>\n",
       "      <th>sum_resource_type_2</th>\n",
       "      <th>sum_resource_type_3</th>\n",
       "      <th>sum_resource_type_4</th>\n",
       "      <th>sum_resource_type_5</th>\n",
       "      <th>sum_resource_type_6</th>\n",
       "      <th>sum_resource_type_7</th>\n",
       "      <th>sum_resource_type_8</th>\n",
       "      <th>sum_resource_type_9</th>\n",
       "      <th>sum_resource_type_10</th>\n",
       "      <th>sum_event_type</th>\n",
       "    </tr>\n",
       "  </thead>\n",
       "  <tbody>\n",
       "    <tr>\n",
       "      <th>0</th>\n",
       "      <td>14121</td>\n",
       "      <td>118</td>\n",
       "      <td>1.0</td>\n",
       "      <td>1</td>\n",
       "      <td>2</td>\n",
       "      <td>38</td>\n",
       "      <td>19.000000</td>\n",
       "      <td>0</td>\n",
       "      <td>1</td>\n",
       "      <td>0</td>\n",
       "      <td>...</td>\n",
       "      <td>1</td>\n",
       "      <td>0</td>\n",
       "      <td>0</td>\n",
       "      <td>0</td>\n",
       "      <td>0</td>\n",
       "      <td>0</td>\n",
       "      <td>0</td>\n",
       "      <td>0</td>\n",
       "      <td>0</td>\n",
       "      <td>69</td>\n",
       "    </tr>\n",
       "    <tr>\n",
       "      <th>1</th>\n",
       "      <td>9320</td>\n",
       "      <td>91</td>\n",
       "      <td>0.0</td>\n",
       "      <td>1</td>\n",
       "      <td>2</td>\n",
       "      <td>316</td>\n",
       "      <td>158.000000</td>\n",
       "      <td>0</td>\n",
       "      <td>1</td>\n",
       "      <td>0</td>\n",
       "      <td>...</td>\n",
       "      <td>1</td>\n",
       "      <td>0</td>\n",
       "      <td>0</td>\n",
       "      <td>0</td>\n",
       "      <td>0</td>\n",
       "      <td>0</td>\n",
       "      <td>0</td>\n",
       "      <td>0</td>\n",
       "      <td>0</td>\n",
       "      <td>69</td>\n",
       "    </tr>\n",
       "    <tr>\n",
       "      <th>2</th>\n",
       "      <td>14394</td>\n",
       "      <td>152</td>\n",
       "      <td>1.0</td>\n",
       "      <td>1</td>\n",
       "      <td>2</td>\n",
       "      <td>2</td>\n",
       "      <td>1.000000</td>\n",
       "      <td>0</td>\n",
       "      <td>1</td>\n",
       "      <td>0</td>\n",
       "      <td>...</td>\n",
       "      <td>1</td>\n",
       "      <td>0</td>\n",
       "      <td>0</td>\n",
       "      <td>0</td>\n",
       "      <td>0</td>\n",
       "      <td>0</td>\n",
       "      <td>0</td>\n",
       "      <td>0</td>\n",
       "      <td>0</td>\n",
       "      <td>69</td>\n",
       "    </tr>\n",
       "    <tr>\n",
       "      <th>3</th>\n",
       "      <td>8218</td>\n",
       "      <td>931</td>\n",
       "      <td>1.0</td>\n",
       "      <td>1</td>\n",
       "      <td>3</td>\n",
       "      <td>22</td>\n",
       "      <td>7.333333</td>\n",
       "      <td>1</td>\n",
       "      <td>0</td>\n",
       "      <td>0</td>\n",
       "      <td>...</td>\n",
       "      <td>0</td>\n",
       "      <td>0</td>\n",
       "      <td>0</td>\n",
       "      <td>0</td>\n",
       "      <td>0</td>\n",
       "      <td>0</td>\n",
       "      <td>1</td>\n",
       "      <td>0</td>\n",
       "      <td>0</td>\n",
       "      <td>26</td>\n",
       "    </tr>\n",
       "    <tr>\n",
       "      <th>4</th>\n",
       "      <td>14804</td>\n",
       "      <td>120</td>\n",
       "      <td>0.0</td>\n",
       "      <td>1</td>\n",
       "      <td>9</td>\n",
       "      <td>12</td>\n",
       "      <td>1.333333</td>\n",
       "      <td>1</td>\n",
       "      <td>0</td>\n",
       "      <td>0</td>\n",
       "      <td>...</td>\n",
       "      <td>1</td>\n",
       "      <td>0</td>\n",
       "      <td>0</td>\n",
       "      <td>0</td>\n",
       "      <td>0</td>\n",
       "      <td>0</td>\n",
       "      <td>1</td>\n",
       "      <td>0</td>\n",
       "      <td>0</td>\n",
       "      <td>101</td>\n",
       "    </tr>\n",
       "  </tbody>\n",
       "</table>\n",
       "<p>5 rows × 23 columns</p>\n",
       "</div>"
      ],
      "text/plain": [
       "      id  location  fault_severity  istrain  count_log_feature  sum_volume  \\\n",
       "0  14121       118             1.0        1                  2          38   \n",
       "1   9320        91             0.0        1                  2         316   \n",
       "2  14394       152             1.0        1                  2           2   \n",
       "3   8218       931             1.0        1                  3          22   \n",
       "4  14804       120             0.0        1                  9          12   \n",
       "\n",
       "   mean_volume  severity_type_1  severity_type_2  severity_type_3  ...  \\\n",
       "0    19.000000                0                1                0  ...   \n",
       "1   158.000000                0                1                0  ...   \n",
       "2     1.000000                0                1                0  ...   \n",
       "3     7.333333                1                0                0  ...   \n",
       "4     1.333333                1                0                0  ...   \n",
       "\n",
       "   sum_resource_type_2  sum_resource_type_3  sum_resource_type_4  \\\n",
       "0                    1                    0                    0   \n",
       "1                    1                    0                    0   \n",
       "2                    1                    0                    0   \n",
       "3                    0                    0                    0   \n",
       "4                    1                    0                    0   \n",
       "\n",
       "   sum_resource_type_5  sum_resource_type_6  sum_resource_type_7  \\\n",
       "0                    0                    0                    0   \n",
       "1                    0                    0                    0   \n",
       "2                    0                    0                    0   \n",
       "3                    0                    0                    0   \n",
       "4                    0                    0                    0   \n",
       "\n",
       "   sum_resource_type_8  sum_resource_type_9  sum_resource_type_10  \\\n",
       "0                    0                    0                     0   \n",
       "1                    0                    0                     0   \n",
       "2                    0                    0                     0   \n",
       "3                    1                    0                     0   \n",
       "4                    1                    0                     0   \n",
       "\n",
       "   sum_event_type  \n",
       "0              69  \n",
       "1              69  \n",
       "2              69  \n",
       "3              26  \n",
       "4             101  \n",
       "\n",
       "[5 rows x 23 columns]"
      ]
     },
     "execution_count": 190,
     "metadata": {},
     "output_type": "execute_result"
    }
   ],
   "source": [
    "train = result[result['istrain'] == 1]\n",
    "train.head()"
   ]
  },
  {
   "cell_type": "code",
   "execution_count": 191,
   "metadata": {},
   "outputs": [
    {
     "data": {
      "text/html": [
       "<div>\n",
       "<style scoped>\n",
       "    .dataframe tbody tr th:only-of-type {\n",
       "        vertical-align: middle;\n",
       "    }\n",
       "\n",
       "    .dataframe tbody tr th {\n",
       "        vertical-align: top;\n",
       "    }\n",
       "\n",
       "    .dataframe thead th {\n",
       "        text-align: right;\n",
       "    }\n",
       "</style>\n",
       "<table border=\"1\" class=\"dataframe\">\n",
       "  <thead>\n",
       "    <tr style=\"text-align: right;\">\n",
       "      <th></th>\n",
       "      <th>id</th>\n",
       "      <th>location</th>\n",
       "      <th>fault_severity</th>\n",
       "      <th>istrain</th>\n",
       "      <th>count_log_feature</th>\n",
       "      <th>sum_volume</th>\n",
       "      <th>mean_volume</th>\n",
       "      <th>severity_type_1</th>\n",
       "      <th>severity_type_2</th>\n",
       "      <th>severity_type_3</th>\n",
       "      <th>...</th>\n",
       "      <th>sum_resource_type_2</th>\n",
       "      <th>sum_resource_type_3</th>\n",
       "      <th>sum_resource_type_4</th>\n",
       "      <th>sum_resource_type_5</th>\n",
       "      <th>sum_resource_type_6</th>\n",
       "      <th>sum_resource_type_7</th>\n",
       "      <th>sum_resource_type_8</th>\n",
       "      <th>sum_resource_type_9</th>\n",
       "      <th>sum_resource_type_10</th>\n",
       "      <th>sum_event_type</th>\n",
       "    </tr>\n",
       "  </thead>\n",
       "  <tbody>\n",
       "    <tr>\n",
       "      <th>7381</th>\n",
       "      <td>11066</td>\n",
       "      <td>481</td>\n",
       "      <td>NaN</td>\n",
       "      <td>0</td>\n",
       "      <td>4</td>\n",
       "      <td>98</td>\n",
       "      <td>24.5</td>\n",
       "      <td>0</td>\n",
       "      <td>1</td>\n",
       "      <td>0</td>\n",
       "      <td>...</td>\n",
       "      <td>1</td>\n",
       "      <td>0</td>\n",
       "      <td>0</td>\n",
       "      <td>0</td>\n",
       "      <td>0</td>\n",
       "      <td>0</td>\n",
       "      <td>0</td>\n",
       "      <td>0</td>\n",
       "      <td>0</td>\n",
       "      <td>69</td>\n",
       "    </tr>\n",
       "    <tr>\n",
       "      <th>7382</th>\n",
       "      <td>18000</td>\n",
       "      <td>962</td>\n",
       "      <td>NaN</td>\n",
       "      <td>0</td>\n",
       "      <td>2</td>\n",
       "      <td>29</td>\n",
       "      <td>14.5</td>\n",
       "      <td>1</td>\n",
       "      <td>0</td>\n",
       "      <td>0</td>\n",
       "      <td>...</td>\n",
       "      <td>0</td>\n",
       "      <td>0</td>\n",
       "      <td>0</td>\n",
       "      <td>0</td>\n",
       "      <td>0</td>\n",
       "      <td>0</td>\n",
       "      <td>1</td>\n",
       "      <td>0</td>\n",
       "      <td>0</td>\n",
       "      <td>26</td>\n",
       "    </tr>\n",
       "    <tr>\n",
       "      <th>7383</th>\n",
       "      <td>16964</td>\n",
       "      <td>491</td>\n",
       "      <td>NaN</td>\n",
       "      <td>0</td>\n",
       "      <td>2</td>\n",
       "      <td>21</td>\n",
       "      <td>10.5</td>\n",
       "      <td>0</td>\n",
       "      <td>1</td>\n",
       "      <td>0</td>\n",
       "      <td>...</td>\n",
       "      <td>1</td>\n",
       "      <td>0</td>\n",
       "      <td>0</td>\n",
       "      <td>0</td>\n",
       "      <td>0</td>\n",
       "      <td>0</td>\n",
       "      <td>0</td>\n",
       "      <td>0</td>\n",
       "      <td>0</td>\n",
       "      <td>69</td>\n",
       "    </tr>\n",
       "    <tr>\n",
       "      <th>7384</th>\n",
       "      <td>4795</td>\n",
       "      <td>532</td>\n",
       "      <td>NaN</td>\n",
       "      <td>0</td>\n",
       "      <td>3</td>\n",
       "      <td>3</td>\n",
       "      <td>1.0</td>\n",
       "      <td>0</td>\n",
       "      <td>0</td>\n",
       "      <td>0</td>\n",
       "      <td>...</td>\n",
       "      <td>0</td>\n",
       "      <td>1</td>\n",
       "      <td>0</td>\n",
       "      <td>0</td>\n",
       "      <td>0</td>\n",
       "      <td>0</td>\n",
       "      <td>0</td>\n",
       "      <td>1</td>\n",
       "      <td>0</td>\n",
       "      <td>37</td>\n",
       "    </tr>\n",
       "    <tr>\n",
       "      <th>7385</th>\n",
       "      <td>3392</td>\n",
       "      <td>600</td>\n",
       "      <td>NaN</td>\n",
       "      <td>0</td>\n",
       "      <td>2</td>\n",
       "      <td>8</td>\n",
       "      <td>4.0</td>\n",
       "      <td>0</td>\n",
       "      <td>1</td>\n",
       "      <td>0</td>\n",
       "      <td>...</td>\n",
       "      <td>0</td>\n",
       "      <td>0</td>\n",
       "      <td>0</td>\n",
       "      <td>0</td>\n",
       "      <td>0</td>\n",
       "      <td>0</td>\n",
       "      <td>1</td>\n",
       "      <td>0</td>\n",
       "      <td>0</td>\n",
       "      <td>15</td>\n",
       "    </tr>\n",
       "  </tbody>\n",
       "</table>\n",
       "<p>5 rows × 23 columns</p>\n",
       "</div>"
      ],
      "text/plain": [
       "         id  location  fault_severity  istrain  count_log_feature  sum_volume  \\\n",
       "7381  11066       481             NaN        0                  4          98   \n",
       "7382  18000       962             NaN        0                  2          29   \n",
       "7383  16964       491             NaN        0                  2          21   \n",
       "7384   4795       532             NaN        0                  3           3   \n",
       "7385   3392       600             NaN        0                  2           8   \n",
       "\n",
       "      mean_volume  severity_type_1  severity_type_2  severity_type_3  ...  \\\n",
       "7381         24.5                0                1                0  ...   \n",
       "7382         14.5                1                0                0  ...   \n",
       "7383         10.5                0                1                0  ...   \n",
       "7384          1.0                0                0                0  ...   \n",
       "7385          4.0                0                1                0  ...   \n",
       "\n",
       "      sum_resource_type_2  sum_resource_type_3  sum_resource_type_4  \\\n",
       "7381                    1                    0                    0   \n",
       "7382                    0                    0                    0   \n",
       "7383                    1                    0                    0   \n",
       "7384                    0                    1                    0   \n",
       "7385                    0                    0                    0   \n",
       "\n",
       "      sum_resource_type_5  sum_resource_type_6  sum_resource_type_7  \\\n",
       "7381                    0                    0                    0   \n",
       "7382                    0                    0                    0   \n",
       "7383                    0                    0                    0   \n",
       "7384                    0                    0                    0   \n",
       "7385                    0                    0                    0   \n",
       "\n",
       "      sum_resource_type_8  sum_resource_type_9  sum_resource_type_10  \\\n",
       "7381                    0                    0                     0   \n",
       "7382                    1                    0                     0   \n",
       "7383                    0                    0                     0   \n",
       "7384                    0                    1                     0   \n",
       "7385                    1                    0                     0   \n",
       "\n",
       "      sum_event_type  \n",
       "7381              69  \n",
       "7382              26  \n",
       "7383              69  \n",
       "7384              37  \n",
       "7385              15  \n",
       "\n",
       "[5 rows x 23 columns]"
      ]
     },
     "execution_count": 191,
     "metadata": {},
     "output_type": "execute_result"
    }
   ],
   "source": [
    "test = result[result['istrain'] == 0]\n",
    "test.head()"
   ]
  },
  {
   "cell_type": "markdown",
   "metadata": {},
   "source": [
    "# Split the data into training and test sets"
   ]
  },
  {
   "cell_type": "code",
   "execution_count": 192,
   "metadata": {},
   "outputs": [
    {
     "name": "stdout",
     "output_type": "stream",
     "text": [
      "Train Validation Split Complete\n"
     ]
    }
   ],
   "source": [
    "from sklearn.model_selection import train_test_split\n",
    "\n",
    "np.random.seed(0)\n",
    "\n",
    "X = train.drop(columns='fault_severity')\n",
    "\n",
    "# Prediction target - Training data\n",
    "y = train['fault_severity']\n",
    "\n",
    "# Selected features - Test data\n",
    "x = test.drop(columns='fault_severity')\n",
    "\n",
    "# Break off validation set from training data\n",
    "X_train, X_valid, y_train, y_valid = train_test_split(X, y, train_size=0.8, test_size=0.2, random_state=0)\n",
    "\n",
    "print(\"Train Validation Split Complete\")"
   ]
  },
  {
   "cell_type": "markdown",
   "metadata": {},
   "source": [
    "# Scalling"
   ]
  },
  {
   "cell_type": "code",
   "execution_count": 193,
   "metadata": {},
   "outputs": [],
   "source": [
    "from sklearn.preprocessing import MinMaxScaler\n",
    "\n",
    "scaler = MinMaxScaler()\n",
    "\n",
    "X_train = scaler.fit_transform(X_train)\n",
    "X_valid = scaler.fit_transform(X_valid)"
   ]
  },
  {
   "cell_type": "code",
   "execution_count": 194,
   "metadata": {},
   "outputs": [
    {
     "data": {
      "text/plain": [
       "((5904, 22), (1477, 22))"
      ]
     },
     "execution_count": 194,
     "metadata": {},
     "output_type": "execute_result"
    }
   ],
   "source": [
    "X_train.shape , X_valid.shape"
   ]
  },
  {
   "cell_type": "code",
   "execution_count": 195,
   "metadata": {},
   "outputs": [
    {
     "name": "stdout",
     "output_type": "stream",
     "text": [
      "2.1.0\n"
     ]
    }
   ],
   "source": [
    "print(tf.__version__)"
   ]
  },
  {
   "cell_type": "markdown",
   "metadata": {},
   "source": [
    "# Data Modelling"
   ]
  },
  {
   "cell_type": "markdown",
   "metadata": {},
   "source": [
    "# Training the model using RNNs ( Recurrent Neural Networks ) Neural network"
   ]
  },
  {
   "cell_type": "code",
   "execution_count": 196,
   "metadata": {},
   "outputs": [
    {
     "name": "stdout",
     "output_type": "stream",
     "text": [
      "Model: \"sequential_15\"\n",
      "_________________________________________________________________\n",
      "Layer (type)                 Output Shape              Param #   \n",
      "=================================================================\n",
      "embedding_14 (Embedding)     (None, None, 64)          64000     \n",
      "_________________________________________________________________\n",
      "simple_rnn_12 (SimpleRNN)    (None, 28)                2604      \n",
      "_________________________________________________________________\n",
      "dense_12 (Dense)             (None, 10)                290       \n",
      "=================================================================\n",
      "Total params: 66,894\n",
      "Trainable params: 66,894\n",
      "Non-trainable params: 0\n",
      "_________________________________________________________________\n"
     ]
    }
   ],
   "source": [
    "from tensorflow.keras.models import Sequential\n",
    "from tensorflow.keras.layers import Dense , Activation , Embedding\n",
    "from tensorflow.keras.layers import SimpleRNN , RNN\n",
    "from tensorflow.keras.optimizers import Adam\n",
    "\n",
    "model = tf.keras.Sequential()\n",
    "model.add(Embedding(input_dim=1000, output_dim=64))\n",
    "\n",
    "# The output of SimpleRNN will be a 2D tensor of shape (batch_size, 128)\n",
    "model.add(SimpleRNN(28))\n",
    "\n",
    "model.add(Dense(10 , activation='relu'))\n",
    "\n",
    "model.summary()"
   ]
  },
  {
   "cell_type": "code",
   "execution_count": 197,
   "metadata": {},
   "outputs": [],
   "source": [
    "model.compile(optimizer = 'adam' , loss ='sparse_categorical_crossentropy'  , metrics = ['categorical_accuracy'])"
   ]
  },
  {
   "cell_type": "code",
   "execution_count": 198,
   "metadata": {},
   "outputs": [
    {
     "name": "stdout",
     "output_type": "stream",
     "text": [
      "Train on 5904 samples, validate on 1477 samples\n",
      "Epoch 1/50\n",
      "5904/5904 [==============================] - 4s 624us/sample - loss: 0.9842 - categorical_accuracy: 0.9407 - val_loss: 0.7947 - val_categorical_accuracy: 0.9729\n",
      "Epoch 2/50\n",
      "5904/5904 [==============================] - 1s 112us/sample - loss: 0.7862 - categorical_accuracy: 0.9812 - val_loss: 0.7983 - val_categorical_accuracy: 0.9729\n",
      "Epoch 3/50\n",
      "5904/5904 [==============================] - 1s 111us/sample - loss: 0.7815 - categorical_accuracy: 0.9756 - val_loss: 0.7867 - val_categorical_accuracy: 0.9932\n",
      "Epoch 4/50\n",
      "5904/5904 [==============================] - 1s 112us/sample - loss: 0.7806 - categorical_accuracy: 0.9590 - val_loss: 0.7799 - val_categorical_accuracy: 0.9905\n",
      "Epoch 5/50\n",
      "5904/5904 [==============================] - 1s 114us/sample - loss: 0.7834 - categorical_accuracy: 0.9744 - val_loss: 0.7836 - val_categorical_accuracy: 0.9722\n",
      "Epoch 6/50\n",
      "5904/5904 [==============================] - 1s 112us/sample - loss: 0.7779 - categorical_accuracy: 0.9814 - val_loss: 0.7860 - val_categorical_accuracy: 0.9919\n",
      "Epoch 7/50\n",
      "5904/5904 [==============================] - 1s 111us/sample - loss: 0.7804 - categorical_accuracy: 0.9782 - val_loss: 0.7787 - val_categorical_accuracy: 0.9722\n",
      "Epoch 8/50\n",
      "5904/5904 [==============================] - 1s 117us/sample - loss: 0.7743 - categorical_accuracy: 0.9756 - val_loss: 0.7827 - val_categorical_accuracy: 0.9722\n",
      "Epoch 9/50\n",
      "5904/5904 [==============================] - 1s 115us/sample - loss: 0.7864 - categorical_accuracy: 0.9710 - val_loss: 0.8381 - val_categorical_accuracy: 0.9709\n",
      "Epoch 10/50\n",
      "5904/5904 [==============================] - 1s 112us/sample - loss: 0.7937 - categorical_accuracy: 0.9871 - val_loss: 0.7880 - val_categorical_accuracy: 0.9919\n",
      "Epoch 11/50\n",
      "5904/5904 [==============================] - 1s 112us/sample - loss: 0.7807 - categorical_accuracy: 0.9888 - val_loss: 0.7793 - val_categorical_accuracy: 0.9919\n",
      "Epoch 12/50\n",
      "5904/5904 [==============================] - 1s 115us/sample - loss: 0.7778 - categorical_accuracy: 0.9798 - val_loss: 0.7768 - val_categorical_accuracy: 0.9749\n",
      "Epoch 13/50\n",
      "5904/5904 [==============================] - 1s 112us/sample - loss: 0.7754 - categorical_accuracy: 0.9810 - val_loss: 0.7791 - val_categorical_accuracy: 0.9749\n",
      "Epoch 14/50\n",
      "5904/5904 [==============================] - 1s 114us/sample - loss: 0.7744 - categorical_accuracy: 0.9692 - val_loss: 0.7757 - val_categorical_accuracy: 0.9905\n",
      "Epoch 15/50\n",
      "5904/5904 [==============================] - 1s 111us/sample - loss: 0.7710 - categorical_accuracy: 0.9707 - val_loss: 0.7727 - val_categorical_accuracy: 0.9736\n",
      "Epoch 16/50\n",
      "5904/5904 [==============================] - 1s 117us/sample - loss: 0.7704 - categorical_accuracy: 0.9676 - val_loss: 0.7737 - val_categorical_accuracy: 0.9709\n",
      "Epoch 17/50\n",
      "5904/5904 [==============================] - 1s 111us/sample - loss: 0.7702 - categorical_accuracy: 0.9658 - val_loss: 0.7731 - val_categorical_accuracy: 0.9661\n",
      "Epoch 18/50\n",
      "5904/5904 [==============================] - 1s 112us/sample - loss: 0.7702 - categorical_accuracy: 0.9687 - val_loss: 0.7722 - val_categorical_accuracy: 0.9621\n",
      "Epoch 19/50\n",
      "5904/5904 [==============================] - 1s 111us/sample - loss: 0.7678 - categorical_accuracy: 0.9649 - val_loss: 0.7827 - val_categorical_accuracy: 0.9709\n",
      "Epoch 20/50\n",
      "5904/5904 [==============================] - 1s 110us/sample - loss: 0.7714 - categorical_accuracy: 0.9660 - val_loss: 0.7702 - val_categorical_accuracy: 0.9661\n",
      "Epoch 21/50\n",
      "5904/5904 [==============================] - 1s 111us/sample - loss: 0.7693 - categorical_accuracy: 0.9643 - val_loss: 0.7710 - val_categorical_accuracy: 0.9655\n",
      "Epoch 22/50\n",
      "5904/5904 [==============================] - 1s 111us/sample - loss: 0.7693 - categorical_accuracy: 0.9641 - val_loss: 0.7720 - val_categorical_accuracy: 0.9614\n",
      "Epoch 23/50\n",
      "5904/5904 [==============================] - 1s 111us/sample - loss: 0.7689 - categorical_accuracy: 0.9609 - val_loss: 0.7699 - val_categorical_accuracy: 0.9628\n",
      "Epoch 24/50\n",
      "5904/5904 [==============================] - 1s 112us/sample - loss: 0.7706 - categorical_accuracy: 0.9621 - val_loss: 0.7775 - val_categorical_accuracy: 0.9655\n",
      "Epoch 25/50\n",
      "5904/5904 [==============================] - 1s 111us/sample - loss: 0.7695 - categorical_accuracy: 0.9665 - val_loss: 0.7772 - val_categorical_accuracy: 0.9661\n",
      "Epoch 26/50\n",
      "5904/5904 [==============================] - 1s 111us/sample - loss: 0.7748 - categorical_accuracy: 0.9632 - val_loss: 0.7739 - val_categorical_accuracy: 0.9675\n",
      "Epoch 27/50\n",
      "5904/5904 [==============================] - 1s 112us/sample - loss: 0.7704 - categorical_accuracy: 0.9663 - val_loss: 0.7745 - val_categorical_accuracy: 0.9540\n",
      "Epoch 28/50\n",
      "5904/5904 [==============================] - 1s 112us/sample - loss: 0.7671 - categorical_accuracy: 0.9610 - val_loss: 0.7713 - val_categorical_accuracy: 0.9655\n",
      "Epoch 29/50\n",
      "5904/5904 [==============================] - 1s 111us/sample - loss: 0.7696 - categorical_accuracy: 0.9648 - val_loss: 0.7715 - val_categorical_accuracy: 0.9621\n",
      "Epoch 30/50\n",
      "5904/5904 [==============================] - 1s 112us/sample - loss: 0.7677 - categorical_accuracy: 0.9599 - val_loss: 0.7759 - val_categorical_accuracy: 0.9621\n",
      "Epoch 31/50\n",
      "5904/5904 [==============================] - 1s 110us/sample - loss: 0.7676 - categorical_accuracy: 0.9592 - val_loss: 0.7724 - val_categorical_accuracy: 0.9621\n",
      "Epoch 32/50\n",
      "5904/5904 [==============================] - 1s 110us/sample - loss: 0.7692 - categorical_accuracy: 0.9639 - val_loss: 0.7733 - val_categorical_accuracy: 0.9621\n",
      "Epoch 33/50\n",
      "5904/5904 [==============================] - 1s 110us/sample - loss: 0.7672 - categorical_accuracy: 0.9590 - val_loss: 0.7792 - val_categorical_accuracy: 0.9607\n",
      "Epoch 34/50\n",
      "5904/5904 [==============================] - 1s 110us/sample - loss: 0.9781 - categorical_accuracy: 0.8093 - val_loss: 0.9658 - val_categorical_accuracy: 0.9797\n",
      "Epoch 35/50\n",
      "5904/5904 [==============================] - 1s 111us/sample - loss: 0.9103 - categorical_accuracy: 0.9826 - val_loss: 0.8951 - val_categorical_accuracy: 0.9851\n",
      "Epoch 36/50\n",
      "5904/5904 [==============================] - 1s 111us/sample - loss: 0.8803 - categorical_accuracy: 0.9900 - val_loss: 0.8393 - val_categorical_accuracy: 0.9966\n",
      "Epoch 37/50\n",
      "5904/5904 [==============================] - 1s 112us/sample - loss: 0.8419 - categorical_accuracy: 0.9893 - val_loss: 0.8400 - val_categorical_accuracy: 0.9838\n",
      "Epoch 38/50\n",
      "5904/5904 [==============================] - 1s 112us/sample - loss: 0.8386 - categorical_accuracy: 0.9912 - val_loss: 0.8384 - val_categorical_accuracy: 0.9959\n",
      "Epoch 39/50\n",
      "5904/5904 [==============================] - 1s 112us/sample - loss: 0.8367 - categorical_accuracy: 0.9963 - val_loss: 0.8382 - val_categorical_accuracy: 0.9824\n",
      "Epoch 40/50\n",
      "5904/5904 [==============================] - 1s 112us/sample - loss: 0.8357 - categorical_accuracy: 0.9898 - val_loss: 0.8361 - val_categorical_accuracy: 0.9980\n",
      "Epoch 41/50\n",
      "5904/5904 [==============================] - 1s 111us/sample - loss: 0.8348 - categorical_accuracy: 0.9985 - val_loss: 0.8362 - val_categorical_accuracy: 0.9980\n",
      "Epoch 42/50\n",
      "5904/5904 [==============================] - 1s 111us/sample - loss: 0.8345 - categorical_accuracy: 0.9985 - val_loss: 0.8358 - val_categorical_accuracy: 0.9980\n",
      "Epoch 43/50\n",
      "5904/5904 [==============================] - 1s 111us/sample - loss: 0.8335 - categorical_accuracy: 0.9985 - val_loss: 0.8339 - val_categorical_accuracy: 0.9980\n",
      "Epoch 44/50\n",
      "5904/5904 [==============================] - 1s 108us/sample - loss: 0.8329 - categorical_accuracy: 0.9985 - val_loss: 0.8333 - val_categorical_accuracy: 0.9980\n",
      "Epoch 45/50\n",
      "5904/5904 [==============================] - 1s 111us/sample - loss: 0.8320 - categorical_accuracy: 0.9985 - val_loss: 0.8344 - val_categorical_accuracy: 0.9980\n",
      "Epoch 46/50\n",
      "5904/5904 [==============================] - 1s 111us/sample - loss: 0.8363 - categorical_accuracy: 0.9966 - val_loss: 0.8328 - val_categorical_accuracy: 0.9980\n",
      "Epoch 47/50\n",
      "5904/5904 [==============================] - 1s 114us/sample - loss: 0.8315 - categorical_accuracy: 0.9985 - val_loss: 0.8324 - val_categorical_accuracy: 0.9865\n",
      "Epoch 48/50\n"
     ]
    },
    {
     "name": "stdout",
     "output_type": "stream",
     "text": [
      "5904/5904 [==============================] - 1s 107us/sample - loss: 0.8324 - categorical_accuracy: 0.9947 - val_loss: 0.8313 - val_categorical_accuracy: 0.9980\n",
      "Epoch 49/50\n",
      "5904/5904 [==============================] - 1s 107us/sample - loss: 0.8315 - categorical_accuracy: 0.9976 - val_loss: 0.8322 - val_categorical_accuracy: 0.9980\n",
      "Epoch 50/50\n",
      "5904/5904 [==============================] - 1s 107us/sample - loss: 0.8331 - categorical_accuracy: 0.9971 - val_loss: 0.8308 - val_categorical_accuracy: 0.9980\n"
     ]
    },
    {
     "data": {
      "text/plain": [
       "<tensorflow.python.keras.callbacks.History at 0x708b5ad588>"
      ]
     },
     "execution_count": 198,
     "metadata": {},
     "output_type": "execute_result"
    }
   ],
   "source": [
    "model.fit(x = X_train , y = y_train.values , validation_data = (X_valid , y_valid.values) , batch_size = 128 , epochs = 50)"
   ]
  },
  {
   "cell_type": "code",
   "execution_count": 199,
   "metadata": {},
   "outputs": [
    {
     "data": {
      "text/plain": [
       "{'loss': [0.9841696712059703,\n",
       "  0.7861698378069291,\n",
       "  0.78150369804403,\n",
       "  0.7805545921248149,\n",
       "  0.7834143393084931,\n",
       "  0.7778598714650162,\n",
       "  0.7803701569394368,\n",
       "  0.774330151759512,\n",
       "  0.7863550864584078,\n",
       "  0.7937080604920219,\n",
       "  0.7806930164011513,\n",
       "  0.7778021562390212,\n",
       "  0.7754151601455399,\n",
       "  0.7743686928658627,\n",
       "  0.7710140460551915,\n",
       "  0.7703811913971009,\n",
       "  0.7701771976501961,\n",
       "  0.7702450308050244,\n",
       "  0.7678491492581562,\n",
       "  0.7714405904617413,\n",
       "  0.7692941314159694,\n",
       "  0.7692781153733168,\n",
       "  0.7688738792569334,\n",
       "  0.7705972000835387,\n",
       "  0.7695028279531939,\n",
       "  0.774801671989565,\n",
       "  0.7703697666889284,\n",
       "  0.767055733578638,\n",
       "  0.7695860707662939,\n",
       "  0.7677422492161676,\n",
       "  0.767642840460387,\n",
       "  0.7692114171296923,\n",
       "  0.7671752922580171,\n",
       "  0.9780615490626513,\n",
       "  0.91029692503818,\n",
       "  0.8802713210666729,\n",
       "  0.8418633685848578,\n",
       "  0.8385800413969087,\n",
       "  0.8366931266577909,\n",
       "  0.8356814384460449,\n",
       "  0.8347756067911783,\n",
       "  0.834514822094098,\n",
       "  0.8334639615159694,\n",
       "  0.8328640842179296,\n",
       "  0.8320432387716402,\n",
       "  0.8363112873501248,\n",
       "  0.831526647738325,\n",
       "  0.8324352598125696,\n",
       "  0.831506521398136,\n",
       "  0.8331314483632241],\n",
       " 'categorical_accuracy': [0.9407182,\n",
       "  0.9811992,\n",
       "  0.9756098,\n",
       "  0.95901084,\n",
       "  0.9744241,\n",
       "  0.98136854,\n",
       "  0.9781504,\n",
       "  0.9756098,\n",
       "  0.9710366,\n",
       "  0.98712736,\n",
       "  0.98882115,\n",
       "  0.97984415,\n",
       "  0.9810298,\n",
       "  0.96917343,\n",
       "  0.9706978,\n",
       "  0.96764904,\n",
       "  0.9657859,\n",
       "  0.9686653,\n",
       "  0.964939,\n",
       "  0.96595526,\n",
       "  0.96426153,\n",
       "  0.96409214,\n",
       "  0.96087396,\n",
       "  0.9620596,\n",
       "  0.9664634,\n",
       "  0.9632453,\n",
       "  0.96629405,\n",
       "  0.96104336,\n",
       "  0.96476966,\n",
       "  0.9598577,\n",
       "  0.95918024,\n",
       "  0.96392274,\n",
       "  0.95901084,\n",
       "  0.8092818,\n",
       "  0.9825542,\n",
       "  0.9900068,\n",
       "  0.9893293,\n",
       "  0.9911924,\n",
       "  0.9962737,\n",
       "  0.9898374,\n",
       "  0.9984756,\n",
       "  0.9984756,\n",
       "  0.9984756,\n",
       "  0.9984756,\n",
       "  0.9984756,\n",
       "  0.9966125,\n",
       "  0.9984756,\n",
       "  0.9947493,\n",
       "  0.99762875,\n",
       "  0.9971206],\n",
       " 'val_loss': [0.7947360269104862,\n",
       "  0.7983163196086561,\n",
       "  0.7867417854881803,\n",
       "  0.779874022538063,\n",
       "  0.783646295138445,\n",
       "  0.7859857956057235,\n",
       "  0.7787095686432148,\n",
       "  0.7826753562579869,\n",
       "  0.8381205412610285,\n",
       "  0.7880002493461242,\n",
       "  0.779253163891381,\n",
       "  0.776797400387704,\n",
       "  0.7790842650706653,\n",
       "  0.7756578751165639,\n",
       "  0.7726667602480305,\n",
       "  0.7737360159206326,\n",
       "  0.7730801039316724,\n",
       "  0.7722051419272322,\n",
       "  0.7826664819859458,\n",
       "  0.7702265389480539,\n",
       "  0.7710067051523992,\n",
       "  0.7720411337947394,\n",
       "  0.7699159033490584,\n",
       "  0.7774707455044271,\n",
       "  0.7771606507863075,\n",
       "  0.7738787939843893,\n",
       "  0.7745255848081353,\n",
       "  0.7713288251176911,\n",
       "  0.7715463618935163,\n",
       "  0.7758763217005926,\n",
       "  0.7723803669920465,\n",
       "  0.7733213141631176,\n",
       "  0.7791670790861488,\n",
       "  0.9657559881923807,\n",
       "  0.8950807590216661,\n",
       "  0.8392771281095155,\n",
       "  0.8399779093612588,\n",
       "  0.8384117805723734,\n",
       "  0.8382385695957217,\n",
       "  0.8360892303827734,\n",
       "  0.836181119195335,\n",
       "  0.8358204622646401,\n",
       "  0.8338506300463899,\n",
       "  0.8333213211074421,\n",
       "  0.8343648946438598,\n",
       "  0.8327784340528516,\n",
       "  0.8323635113505633,\n",
       "  0.8313160911151987,\n",
       "  0.8322324548206704,\n",
       "  0.8308152020098635],\n",
       " 'val_categorical_accuracy': [0.9729181,\n",
       "  0.9729181,\n",
       "  0.9932295,\n",
       "  0.9905213,\n",
       "  0.97224104,\n",
       "  0.9918754,\n",
       "  0.97224104,\n",
       "  0.97224104,\n",
       "  0.97088695,\n",
       "  0.9918754,\n",
       "  0.9918754,\n",
       "  0.97494924,\n",
       "  0.97494924,\n",
       "  0.9905213,\n",
       "  0.97359514,\n",
       "  0.97088695,\n",
       "  0.9661476,\n",
       "  0.9620853,\n",
       "  0.97088695,\n",
       "  0.9661476,\n",
       "  0.96547055,\n",
       "  0.96140826,\n",
       "  0.96276236,\n",
       "  0.96547055,\n",
       "  0.9661476,\n",
       "  0.9675017,\n",
       "  0.9539607,\n",
       "  0.96547055,\n",
       "  0.9620853,\n",
       "  0.9620853,\n",
       "  0.9620853,\n",
       "  0.9620853,\n",
       "  0.9607312,\n",
       "  0.9796886,\n",
       "  0.9851049,\n",
       "  0.99661475,\n",
       "  0.9837508,\n",
       "  0.9959377,\n",
       "  0.9823967,\n",
       "  0.99796885,\n",
       "  0.99796885,\n",
       "  0.99796885,\n",
       "  0.99796885,\n",
       "  0.99796885,\n",
       "  0.99796885,\n",
       "  0.99796885,\n",
       "  0.986459,\n",
       "  0.99796885,\n",
       "  0.99796885,\n",
       "  0.99796885]}"
      ]
     },
     "execution_count": 199,
     "metadata": {},
     "output_type": "execute_result"
    }
   ],
   "source": [
    "model.history.history"
   ]
  },
  {
   "cell_type": "code",
   "execution_count": 200,
   "metadata": {},
   "outputs": [],
   "source": [
    "loss = pd.DataFrame(model.history.history)"
   ]
  },
  {
   "cell_type": "code",
   "execution_count": 220,
   "metadata": {},
   "outputs": [
    {
     "data": {
      "text/plain": [
       "<matplotlib.axes._subplots.AxesSubplot at 0x708ed07d88>"
      ]
     },
     "execution_count": 220,
     "metadata": {},
     "output_type": "execute_result"
    },
    {
     "data": {
      "image/png": "[encoded data removed]",
      "text/plain": [
       "<Figure size 864x504 with 1 Axes>"
      ]
     },
     "metadata": {},
     "output_type": "display_data"
    }
   ],
   "source": [
    "plt.style.use('seaborn')\n",
    "loss.plot(figsize = (12,7))"
   ]
  },
  {
   "cell_type": "code",
   "execution_count": 202,
   "metadata": {},
   "outputs": [],
   "source": [
    "from sklearn.metrics import mean_absolute_error , mean_squared_error , explained_variance_score , r2_score"
   ]
  },
  {
   "cell_type": "code",
   "execution_count": 203,
   "metadata": {},
   "outputs": [],
   "source": [
    "y_preds = model.predict(y_valid)"
   ]
  },
  {
   "cell_type": "code",
   "execution_count": 206,
   "metadata": {},
   "outputs": [],
   "source": [
    "err = pd.DataFrame(y_valid.values.reshape(1477,1) - y_preds)"
   ]
  },
  {
   "cell_type": "code",
   "execution_count": 224,
   "metadata": {},
   "outputs": [
    {
     "data": {
      "text/plain": [
       "<matplotlib.axes._subplots.AxesSubplot at 0x708f26e548>"
      ]
     },
     "execution_count": 224,
     "metadata": {},
     "output_type": "execute_result"
    },
    {
     "data": {
      "image/png": "[encoded data removed]",
      "text/plain": [
       "<Figure size 432x432 with 1 Axes>"
      ]
     },
     "metadata": {},
     "output_type": "display_data"
    }
   ],
   "source": [
    "plt.figure(figsize=(6,6))\n",
    "sns.distplot(err , bins = 50)"
   ]
  },
  {
   "cell_type": "markdown",
   "metadata": {},
   "source": [
    "* The above line graph shows that the model is perfectly trainined upto the 30 epoches after that it fluctuates at some epoches then again it shows the linear dependency with loss and categorical accuracy\n",
    "\n",
    "* And the next graph shows the error which means the difference between predicted labels and true labels and shows on a distributed graph"
   ]
  },
  {
   "cell_type": "markdown",
   "metadata": {},
   "source": [
    "# Now lets see what will happen to the accuracy of the model if we change the hyperparameters or increase/descrese the number of layers."
   ]
  },
  {
   "cell_type": "markdown",
   "metadata": {},
   "source": [
    "## Tuning the hyperparameters or changing the number of layers"
   ]
  },
  {
   "cell_type": "code",
   "execution_count": 155,
   "metadata": {},
   "outputs": [
    {
     "name": "stdout",
     "output_type": "stream",
     "text": [
      "Model: \"sequential_14\"\n",
      "_________________________________________________________________\n",
      "Layer (type)                 Output Shape              Param #   \n",
      "=================================================================\n",
      "embedding_13 (Embedding)     (None, None, 64)          64000     \n",
      "_________________________________________________________________\n",
      "simple_rnn_11 (SimpleRNN)    (None, 120)               22200     \n",
      "_________________________________________________________________\n",
      "dense_11 (Dense)             (None, 10)                1210      \n",
      "=================================================================\n",
      "Total params: 87,410\n",
      "Trainable params: 87,410\n",
      "Non-trainable params: 0\n",
      "_________________________________________________________________\n"
     ]
    }
   ],
   "source": [
    "# changing the number of layers\n",
    "from tensorflow.keras.models import Sequential\n",
    "from tensorflow.keras.layers import Dense , Activation , Embedding\n",
    "from tensorflow.keras.layers import SimpleRNN , RNN\n",
    "from tensorflow.keras.optimizers import Adam\n",
    "\n",
    "model_2 = tf.keras.Sequential()\n",
    "model_2.add(Embedding(input_dim=1000, output_dim=64))\n",
    "\n",
    "# The output of SimpleRNN will be a 2D tensor of shape (batch_size, 128)\n",
    "model_2.add(SimpleRNN(120))\n",
    "\n",
    "model_2.add(Dense(10 , activation='softmax'))\n",
    "\n",
    "model_2.summary()"
   ]
  },
  {
   "cell_type": "code",
   "execution_count": 156,
   "metadata": {},
   "outputs": [],
   "source": [
    "# compile the model\n",
    "model_2.compile(optimizer = 'adam' , loss ='sparse_categorical_crossentropy'  , metrics = ['accuracy'])"
   ]
  },
  {
   "cell_type": "code",
   "execution_count": 157,
   "metadata": {},
   "outputs": [
    {
     "name": "stdout",
     "output_type": "stream",
     "text": [
      "Train on 5904 samples, validate on 1477 samples\n",
      "Epoch 1/50\n",
      "5904/5904 [==============================] - 3s 570us/sample - loss: 0.9774 - accuracy: 0.6347 - val_loss: 0.8628 - val_accuracy: 0.6486\n",
      "Epoch 2/50\n",
      "5904/5904 [==============================] - 1s 243us/sample - loss: 0.8581 - accuracy: 0.6480 - val_loss: 0.8506 - val_accuracy: 0.6486\n",
      "Epoch 3/50\n",
      "5904/5904 [==============================] - 1s 245us/sample - loss: 0.8228 - accuracy: 0.6452 - val_loss: 0.8065 - val_accuracy: 0.6486\n",
      "Epoch 4/50\n",
      "5904/5904 [==============================] - 1s 241us/sample - loss: 0.8037 - accuracy: 0.6374 - val_loss: 0.7969 - val_accuracy: 0.6486\n",
      "Epoch 5/50\n",
      "5904/5904 [==============================] - 1s 243us/sample - loss: 0.7998 - accuracy: 0.6457 - val_loss: 0.8206 - val_accuracy: 0.6060\n",
      "Epoch 6/50\n",
      "5904/5904 [==============================] - 1s 244us/sample - loss: 0.8101 - accuracy: 0.6330 - val_loss: 0.7923 - val_accuracy: 0.6486\n",
      "Epoch 7/50\n",
      "5904/5904 [==============================] - 1s 245us/sample - loss: 0.7898 - accuracy: 0.6436 - val_loss: 0.7887 - val_accuracy: 0.6486\n",
      "Epoch 8/50\n",
      "5904/5904 [==============================] - 1s 247us/sample - loss: 0.7829 - accuracy: 0.6492 - val_loss: 0.7799 - val_accuracy: 0.6459\n",
      "Epoch 9/50\n",
      "5904/5904 [==============================] - 1s 246us/sample - loss: 0.7863 - accuracy: 0.6518 - val_loss: 0.7859 - val_accuracy: 0.6506\n",
      "Epoch 10/50\n",
      "5904/5904 [==============================] - 1s 245us/sample - loss: 0.7833 - accuracy: 0.6474 - val_loss: 0.7797 - val_accuracy: 0.6479\n",
      "Epoch 11/50\n",
      "5904/5904 [==============================] - 1s 243us/sample - loss: 0.7828 - accuracy: 0.6497 - val_loss: 0.7884 - val_accuracy: 0.6479\n",
      "Epoch 12/50\n",
      "5904/5904 [==============================] - 1s 245us/sample - loss: 0.7765 - accuracy: 0.6504 - val_loss: 0.7781 - val_accuracy: 0.6493\n",
      "Epoch 13/50\n",
      "5904/5904 [==============================] - 1s 246us/sample - loss: 0.7734 - accuracy: 0.6575 - val_loss: 0.7766 - val_accuracy: 0.6506\n",
      "Epoch 14/50\n",
      "5904/5904 [==============================] - 1s 242us/sample - loss: 0.7732 - accuracy: 0.6590 - val_loss: 0.7723 - val_accuracy: 0.6547\n",
      "Epoch 15/50\n",
      "5904/5904 [==============================] - 1s 240us/sample - loss: 0.7711 - accuracy: 0.6580 - val_loss: 0.7731 - val_accuracy: 0.6473\n",
      "Epoch 16/50\n",
      "5904/5904 [==============================] - 1s 244us/sample - loss: 0.7704 - accuracy: 0.6590 - val_loss: 0.7710 - val_accuracy: 0.6540\n",
      "Epoch 17/50\n",
      "5904/5904 [==============================] - 1s 245us/sample - loss: 0.7687 - accuracy: 0.6590 - val_loss: 0.7762 - val_accuracy: 0.6493\n",
      "Epoch 18/50\n",
      "5904/5904 [==============================] - 1s 241us/sample - loss: 0.7701 - accuracy: 0.6594 - val_loss: 0.7956 - val_accuracy: 0.6540\n",
      "Epoch 19/50\n",
      "5904/5904 [==============================] - 1s 241us/sample - loss: 0.7744 - accuracy: 0.6521 - val_loss: 0.7831 - val_accuracy: 0.6479\n",
      "Epoch 20/50\n",
      "5904/5904 [==============================] - 1s 245us/sample - loss: 0.7771 - accuracy: 0.6587 - val_loss: 0.7933 - val_accuracy: 0.6540\n",
      "Epoch 21/50\n",
      "5904/5904 [==============================] - 1s 239us/sample - loss: 0.7711 - accuracy: 0.6596 - val_loss: 0.7826 - val_accuracy: 0.6486\n",
      "Epoch 22/50\n",
      "5904/5904 [==============================] - 1s 240us/sample - loss: 0.7704 - accuracy: 0.6580 - val_loss: 0.7720 - val_accuracy: 0.6493\n",
      "Epoch 23/50\n",
      "5904/5904 [==============================] - 1s 242us/sample - loss: 0.7678 - accuracy: 0.6582 - val_loss: 0.7794 - val_accuracy: 0.6493\n",
      "Epoch 24/50\n",
      "5904/5904 [==============================] - 1s 242us/sample - loss: 0.7695 - accuracy: 0.6579 - val_loss: 0.7724 - val_accuracy: 0.6513\n",
      "Epoch 25/50\n",
      "5904/5904 [==============================] - ETA: 0s - loss: 0.7682 - accuracy: 0.66 - 1s 248us/sample - loss: 0.7693 - accuracy: 0.6589 - val_loss: 0.7753 - val_accuracy: 0.6547\n",
      "Epoch 26/50\n",
      "5904/5904 [==============================] - 1s 245us/sample - loss: 0.7672 - accuracy: 0.6587 - val_loss: 0.7690 - val_accuracy: 0.6493\n",
      "Epoch 27/50\n",
      "5904/5904 [==============================] - 2s 256us/sample - loss: 0.7675 - accuracy: 0.6584 - val_loss: 0.7727 - val_accuracy: 0.6493\n",
      "Epoch 28/50\n",
      "5904/5904 [==============================] - 1s 248us/sample - loss: 0.7688 - accuracy: 0.6582 - val_loss: 0.7699 - val_accuracy: 0.6500\n",
      "Epoch 29/50\n",
      "5904/5904 [==============================] - 2s 254us/sample - loss: 0.7640 - accuracy: 0.6590 - val_loss: 0.7738 - val_accuracy: 0.6500\n",
      "Epoch 30/50\n",
      "5904/5904 [==============================] - 2s 254us/sample - loss: 0.7647 - accuracy: 0.6597 - val_loss: 0.7809 - val_accuracy: 0.6432\n",
      "Epoch 31/50\n",
      "5904/5904 [==============================] - 1s 249us/sample - loss: 0.7640 - accuracy: 0.6592 - val_loss: 0.7735 - val_accuracy: 0.6493\n",
      "Epoch 32/50\n",
      "5904/5904 [==============================] - 1s 245us/sample - loss: 0.7688 - accuracy: 0.6579 - val_loss: 0.7732 - val_accuracy: 0.6486\n",
      "Epoch 33/50\n",
      "5904/5904 [==============================] - 1s 247us/sample - loss: 0.7685 - accuracy: 0.6597 - val_loss: 0.7737 - val_accuracy: 0.6547\n",
      "Epoch 34/50\n",
      "5904/5904 [==============================] - 1s 240us/sample - loss: 0.7648 - accuracy: 0.6587 - val_loss: 0.7713 - val_accuracy: 0.6493\n",
      "Epoch 35/50\n",
      "5904/5904 [==============================] - 1s 241us/sample - loss: 0.7630 - accuracy: 0.6609 - val_loss: 0.7734 - val_accuracy: 0.6527\n",
      "Epoch 36/50\n",
      "5904/5904 [==============================] - 1s 240us/sample - loss: 0.7645 - accuracy: 0.6575 - val_loss: 0.7761 - val_accuracy: 0.6486\n",
      "Epoch 37/50\n",
      "5904/5904 [==============================] - 1s 247us/sample - loss: 0.7675 - accuracy: 0.6585 - val_loss: 0.7663 - val_accuracy: 0.6493\n",
      "Epoch 38/50\n",
      "5904/5904 [==============================] - 1s 239us/sample - loss: 0.7637 - accuracy: 0.6543 - val_loss: 0.7758 - val_accuracy: 0.6506\n",
      "Epoch 39/50\n",
      "5904/5904 [==============================] - 1s 237us/sample - loss: 0.7659 - accuracy: 0.6599 - val_loss: 0.7665 - val_accuracy: 0.6506\n",
      "Epoch 40/50\n",
      "5904/5904 [==============================] - 1s 241us/sample - loss: 0.7603 - accuracy: 0.6616 - val_loss: 0.7794 - val_accuracy: 0.6500\n",
      "Epoch 41/50\n",
      "5904/5904 [==============================] - 1s 245us/sample - loss: 0.7641 - accuracy: 0.6558 - val_loss: 0.7726 - val_accuracy: 0.6493\n",
      "Epoch 42/50\n",
      "5904/5904 [==============================] - 1s 239us/sample - loss: 0.7616 - accuracy: 0.6624 - val_loss: 0.7713 - val_accuracy: 0.6520\n",
      "Epoch 43/50\n",
      "5904/5904 [==============================] - 1s 242us/sample - loss: 0.7610 - accuracy: 0.6619 - val_loss: 0.7797 - val_accuracy: 0.6513\n",
      "Epoch 44/50\n",
      "5904/5904 [==============================] - 1s 245us/sample - loss: 0.7665 - accuracy: 0.6604 - val_loss: 0.7666 - val_accuracy: 0.6493\n",
      "Epoch 45/50\n",
      "5904/5904 [==============================] - 1s 240us/sample - loss: 0.7590 - accuracy: 0.6616 - val_loss: 0.7647 - val_accuracy: 0.6506\n",
      "Epoch 46/50\n",
      "5904/5904 [==============================] - 1s 244us/sample - loss: 0.7573 - accuracy: 0.6634 - val_loss: 0.7647 - val_accuracy: 0.6520\n",
      "Epoch 47/50\n",
      "5904/5904 [==============================] - 1s 246us/sample - loss: 0.7581 - accuracy: 0.6634 - val_loss: 0.7651 - val_accuracy: 0.6513\n",
      "Epoch 48/50\n",
      "5904/5904 [==============================] - 1s 243us/sample - loss: 0.7643 - accuracy: 0.6568 - val_loss: 0.7768 - val_accuracy: 0.6439\n",
      "Epoch 49/50\n",
      "5904/5904 [==============================] - 1s 239us/sample - loss: 0.7631 - accuracy: 0.6585 - val_loss: 0.7649 - val_accuracy: 0.6520\n",
      "Epoch 50/50\n",
      "5904/5904 [==============================] - 1s 239us/sample - loss: 0.7574 - accuracy: 0.6624 - val_loss: 0.7687 - val_accuracy: 0.6513\n"
     ]
    },
    {
     "data": {
      "text/plain": [
       "<tensorflow.python.keras.callbacks.History at 0x708562fe08>"
      ]
     },
     "execution_count": 157,
     "metadata": {},
     "output_type": "execute_result"
    }
   ],
   "source": [
    "model_2.fit(x = X_train , y = y_train.values , validation_data = (X_valid , y_valid.values) , batch_size = 128 , epochs = 50)"
   ]
  },
  {
   "cell_type": "code",
   "execution_count": 158,
   "metadata": {},
   "outputs": [
    {
     "data": {
      "text/plain": [
       "{'loss': [0.9774058913473838,\n",
       "  0.8581081409118363,\n",
       "  0.8228121632482948,\n",
       "  0.803718934214212,\n",
       "  0.7998183841304727,\n",
       "  0.8101078162025307,\n",
       "  0.789773153418771,\n",
       "  0.7828869352818828,\n",
       "  0.7863020948601286,\n",
       "  0.7833375946939153,\n",
       "  0.7828302131435736,\n",
       "  0.7764663943430272,\n",
       "  0.7734118863172971,\n",
       "  0.773153526673149,\n",
       "  0.7710632365247422,\n",
       "  0.7703944674029259,\n",
       "  0.7686816292403513,\n",
       "  0.7701128981300809,\n",
       "  0.7743619835473657,\n",
       "  0.7771088737782424,\n",
       "  0.771069257886106,\n",
       "  0.7704047907981769,\n",
       "  0.7678264098438791,\n",
       "  0.7694631640504046,\n",
       "  0.7693403947967178,\n",
       "  0.7671666261626453,\n",
       "  0.767499697563771,\n",
       "  0.7688414528764037,\n",
       "  0.7639767363627106,\n",
       "  0.7647152825745787,\n",
       "  0.7640064048573254,\n",
       "  0.7688103264909449,\n",
       "  0.7684668929273197,\n",
       "  0.7648205947746752,\n",
       "  0.7629656066416401,\n",
       "  0.7645128611626664,\n",
       "  0.7674533508334379,\n",
       "  0.7636585293746576,\n",
       "  0.7658903369412513,\n",
       "  0.7602800327910963,\n",
       "  0.7640634781622951,\n",
       "  0.7616206317090084,\n",
       "  0.7609808215603919,\n",
       "  0.7664771559761792,\n",
       "  0.7589516292419537,\n",
       "  0.757326053733102,\n",
       "  0.7581107177062409,\n",
       "  0.764345327043921,\n",
       "  0.763056316672948,\n",
       "  0.7573982709791602],\n",
       " 'accuracy': [0.63465446,\n",
       "  0.6480352,\n",
       "  0.64515585,\n",
       "  0.6373645,\n",
       "  0.645664,\n",
       "  0.6329607,\n",
       "  0.64363146,\n",
       "  0.6492209,\n",
       "  0.65176153,\n",
       "  0.6473577,\n",
       "  0.649729,\n",
       "  0.6504065,\n",
       "  0.65752035,\n",
       "  0.65904474,\n",
       "  0.6580285,\n",
       "  0.65904474,\n",
       "  0.65904474,\n",
       "  0.6593835,\n",
       "  0.65210027,\n",
       "  0.65870595,\n",
       "  0.6595529,\n",
       "  0.6580285,\n",
       "  0.6581978,\n",
       "  0.6578591,\n",
       "  0.65887535,\n",
       "  0.65870595,\n",
       "  0.6583672,\n",
       "  0.6581978,\n",
       "  0.65904474,\n",
       "  0.6597222,\n",
       "  0.6592141,\n",
       "  0.6578591,\n",
       "  0.6597222,\n",
       "  0.65870595,\n",
       "  0.66090786,\n",
       "  0.65752035,\n",
       "  0.6585366,\n",
       "  0.6543022,\n",
       "  0.6598916,\n",
       "  0.6615854,\n",
       "  0.65582657,\n",
       "  0.66243225,\n",
       "  0.6619241,\n",
       "  0.66039973,\n",
       "  0.6615854,\n",
       "  0.6634485,\n",
       "  0.6634485,\n",
       "  0.6568428,\n",
       "  0.6585366,\n",
       "  0.66243225],\n",
       " 'val_loss': [0.862785568774836,\n",
       "  0.8505883796358722,\n",
       "  0.8064724635496766,\n",
       "  0.7968920910770052,\n",
       "  0.8206192553648693,\n",
       "  0.7923146451576868,\n",
       "  0.7887416715628405,\n",
       "  0.7798652416883325,\n",
       "  0.7858527210328574,\n",
       "  0.7797211292392108,\n",
       "  0.7884138576792314,\n",
       "  0.7780758061357342,\n",
       "  0.7765543981831705,\n",
       "  0.7723221117447742,\n",
       "  0.7731028837211728,\n",
       "  0.7710213054251494,\n",
       "  0.7761999296835329,\n",
       "  0.7955833238851564,\n",
       "  0.7831113896179458,\n",
       "  0.7933232364173507,\n",
       "  0.7825826600990993,\n",
       "  0.7719925748551304,\n",
       "  0.7793708267692948,\n",
       "  0.7724424471464525,\n",
       "  0.775259701400168,\n",
       "  0.7689855329152613,\n",
       "  0.7726916838676928,\n",
       "  0.7698544449877238,\n",
       "  0.7737638475770634,\n",
       "  0.7809168733530296,\n",
       "  0.7734525403463122,\n",
       "  0.7731547873409196,\n",
       "  0.7736553482776892,\n",
       "  0.7712602440214835,\n",
       "  0.7734372374086502,\n",
       "  0.7760585677647962,\n",
       "  0.7662656998908753,\n",
       "  0.7757529341536917,\n",
       "  0.7664816351298472,\n",
       "  0.7794254341880937,\n",
       "  0.772649827080961,\n",
       "  0.771270404091217,\n",
       "  0.7797019152360424,\n",
       "  0.7665777981240925,\n",
       "  0.7646919340803241,\n",
       "  0.7647258437559583,\n",
       "  0.7650820120977403,\n",
       "  0.7767966418308265,\n",
       "  0.7648799829815559,\n",
       "  0.7687352509133785],\n",
       " 'val_accuracy': [0.648612,\n",
       "  0.648612,\n",
       "  0.648612,\n",
       "  0.648612,\n",
       "  0.60595804,\n",
       "  0.648612,\n",
       "  0.648612,\n",
       "  0.6459039,\n",
       "  0.65064317,\n",
       "  0.64793503,\n",
       "  0.64793503,\n",
       "  0.6492891,\n",
       "  0.65064317,\n",
       "  0.65470546,\n",
       "  0.647258,\n",
       "  0.6540284,\n",
       "  0.6492891,\n",
       "  0.6540284,\n",
       "  0.64793503,\n",
       "  0.6540284,\n",
       "  0.648612,\n",
       "  0.6492891,\n",
       "  0.6492891,\n",
       "  0.6513202,\n",
       "  0.65470546,\n",
       "  0.6492891,\n",
       "  0.6492891,\n",
       "  0.6499661,\n",
       "  0.6499661,\n",
       "  0.6431957,\n",
       "  0.6492891,\n",
       "  0.648612,\n",
       "  0.65470546,\n",
       "  0.6492891,\n",
       "  0.6526743,\n",
       "  0.648612,\n",
       "  0.6492891,\n",
       "  0.65064317,\n",
       "  0.65064317,\n",
       "  0.6499661,\n",
       "  0.6492891,\n",
       "  0.65199727,\n",
       "  0.6513202,\n",
       "  0.6492891,\n",
       "  0.65064317,\n",
       "  0.65199727,\n",
       "  0.6513202,\n",
       "  0.64387274,\n",
       "  0.65199727,\n",
       "  0.6513202]}"
      ]
     },
     "execution_count": 158,
     "metadata": {},
     "output_type": "execute_result"
    }
   ],
   "source": [
    "model_2.history.history"
   ]
  },
  {
   "cell_type": "code",
   "execution_count": 159,
   "metadata": {},
   "outputs": [],
   "source": [
    "loss_2 = pd.DataFrame(model_2.history.history) "
   ]
  },
  {
   "cell_type": "code",
   "execution_count": 161,
   "metadata": {},
   "outputs": [
    {
     "data": {
      "text/plain": [
       "<matplotlib.axes._subplots.AxesSubplot at 0x70873df048>"
      ]
     },
     "execution_count": 161,
     "metadata": {},
     "output_type": "execute_result"
    },
    {
     "data": {
      "image/png": "[encoded data removed]",
      "text/plain": [
       "<Figure size 864x432 with 1 Axes>"
      ]
     },
     "metadata": {},
     "output_type": "display_data"
    }
   ],
   "source": [
    "loss_2.plot(figsize=(12,6))"
   ]
  },
  {
   "cell_type": "markdown",
   "metadata": {},
   "source": [
    "# Evaluation and predictions on tuned hyperparamter model"
   ]
  },
  {
   "cell_type": "code",
   "execution_count": 165,
   "metadata": {},
   "outputs": [],
   "source": [
    "from sklearn.metrics import mean_absolute_error , mean_squared_error , explained_variance_score , r2_score"
   ]
  },
  {
   "cell_type": "code",
   "execution_count": 166,
   "metadata": {},
   "outputs": [],
   "source": [
    "y_preds_2 = model_2.predict(X_valid)"
   ]
  },
  {
   "cell_type": "code",
   "execution_count": 181,
   "metadata": {},
   "outputs": [],
   "source": [
    "err_2 = pd.DataFrame(y_valid.values.reshape(1477 , 1) - y_preds_2)"
   ]
  },
  {
   "cell_type": "code",
   "execution_count": 189,
   "metadata": {},
   "outputs": [
    {
     "data": {
      "text/plain": [
       "<matplotlib.axes._subplots.AxesSubplot at 0x708a4f3d08>"
      ]
     },
     "execution_count": 189,
     "metadata": {},
     "output_type": "execute_result"
    },
    {
     "data": {
      "image/png": "[encoded data removed]",
      "text/plain": [
       "<Figure size 576x396 with 1 Axes>"
      ]
     },
     "metadata": {},
     "output_type": "display_data"
    }
   ],
   "source": [
    "sns.distplot(err_2 ,  bins = 30 )"
   ]
  },
  {
   "cell_type": "markdown",
   "metadata": {},
   "source": [
    "* After tuning the hyperparameters ,  we see a linearly dependency curve on accuracy and val_accuracy.\n",
    "* Also it clearly shows that loss and val loss is decrease with the increase of number of epoches . The model is trained with 50 epoches. And by predicting the curve we can say that if we increase the number of epoches the loss and val loss will surely decrease and accuracy and val accuracy will going to increase."
   ]
  },
  {
   "cell_type": "markdown",
   "metadata": {},
   "source": [
    "# Thank You"
   ]
  }
 ],
 "metadata": {
  "kernelspec": {
   "display_name": "Python 3",
   "language": "python",
   "name": "python3"
  },
  "language_info": {
   "codemirror_mode": {
    "name": "ipython",
    "version": 3
   },
   "file_extension": ".py",
   "mimetype": "text/x-python",
   "name": "python",
   "nbconvert_exporter": "python",
   "pygments_lexer": "ipython3",
   "version": "3.7.6"
  }
 },
 "nbformat": 4,
 "nbformat_minor": 4
}
