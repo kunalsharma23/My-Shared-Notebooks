{
 "cells": [
  {
   "cell_type": "markdown",
   "metadata": {},
   "source": [
    "# Introduction to Telstra competition\n",
    "\n",
    "\n",
    "This is the dataset that is used in the Telstra Network Disruptions competition that ran between Nov 2015 and Feb 2016\n",
    "This competition provided a very nice and small dataset that allows many aspects of predictive modelling:\n",
    "\n",
    "* relational data between different entities of the disruption data\n",
    "* clean dataset that provides consistent and reliable feedback\n",
    "* ideal for practices for many parts of the predictive modelling pipelin: feature engineering, cross-validation, stacking, etc\n",
    "* Magic Feature! see forum thread for more details :)\n",
    "* This dataset is re-uploaded since the original competition did not feature kernels, and it is made available here give people a chance to practice their data science/predictive modelling skill with this nice little dataset"
   ]
  },
  {
   "cell_type": "markdown",
   "metadata": {},
   "source": [
    "# content\n",
    "\n"
   ]
  },
  {
   "cell_type": "markdown",
   "metadata": {},
   "source": [
    "\n",
    "* The goal of the problem is to predict Telstra network's fault severity at a time at a particular location based on the log data available. Each row in the main dataset (train.csv, test.csv) represents a location and a time point. They are identified by the \"id\" column, which is the key \"id\" used in other data files.\n",
    "\n",
    "* Fault severity has 3 categories: 0,1,2 (0 meaning no fault, 1 meaning only a few, and 2 meaning many).\n",
    "\n",
    "* Different types of features are extracted from log files and other sources: eventtype.csv, logfeature.csv, resourcetype.csv, severitytype.csv.\n",
    "\n",
    "* Note: “severitytype” is a feature extracted from the log files (in severitytype.csv). Often this is a severity type of a warning message coming from the log. \"severitytype\" is categorical. It does not have an ordering. “faultseverity” is a measurement of actual reported faults from users of the network and is the target variable (in train.csv)."
   ]
  },
  {
   "cell_type": "code",
   "execution_count": 1,
   "metadata": {},
   "outputs": [],
   "source": [
    "# Load the libraries\n",
    "\n",
    "import pandas as pd\n",
    "import numpy as np\n",
    "import seaborn as sns\n",
    "import matplotlib.pyplot as plt\n",
    "import tensorflow as tf                      # to allow RNN models\n",
    "%matplotlib inline"
   ]
  },
  {
   "cell_type": "markdown",
   "metadata": {},
   "source": [
    "# Load the data"
   ]
  },
  {
   "cell_type": "code",
   "execution_count": 2,
   "metadata": {},
   "outputs": [],
   "source": [
    "event_type = pd.read_csv('event_type.csv')\n",
    "log_feature = pd.read_csv('log_feature.csv')\n",
    "resource_type = pd.read_csv('resource_type.csv')\n",
    "sample_submission = pd.read_csv('sample_submission.csv')\n",
    "severity_type = pd.read_csv('severity_type.csv')\n",
    "train = pd.read_csv('train.csv')\n",
    "test = pd.read_csv('test.csv')"
   ]
  },
  {
   "cell_type": "code",
   "execution_count": 3,
   "metadata": {},
   "outputs": [
    {
     "data": {
      "text/html": [
       "<div>\n",
       "<style scoped>\n",
       "    .dataframe tbody tr th:only-of-type {\n",
       "        vertical-align: middle;\n",
       "    }\n",
       "\n",
       "    .dataframe tbody tr th {\n",
       "        vertical-align: top;\n",
       "    }\n",
       "\n",
       "    .dataframe thead th {\n",
       "        text-align: right;\n",
       "    }\n",
       "</style>\n",
       "<table border=\"1\" class=\"dataframe\">\n",
       "  <thead>\n",
       "    <tr style=\"text-align: right;\">\n",
       "      <th></th>\n",
       "      <th>id</th>\n",
       "      <th>event_type</th>\n",
       "    </tr>\n",
       "  </thead>\n",
       "  <tbody>\n",
       "    <tr>\n",
       "      <th>0</th>\n",
       "      <td>6597</td>\n",
       "      <td>event_type 11</td>\n",
       "    </tr>\n",
       "    <tr>\n",
       "      <th>1</th>\n",
       "      <td>8011</td>\n",
       "      <td>event_type 15</td>\n",
       "    </tr>\n",
       "    <tr>\n",
       "      <th>2</th>\n",
       "      <td>2597</td>\n",
       "      <td>event_type 15</td>\n",
       "    </tr>\n",
       "    <tr>\n",
       "      <th>3</th>\n",
       "      <td>5022</td>\n",
       "      <td>event_type 15</td>\n",
       "    </tr>\n",
       "    <tr>\n",
       "      <th>4</th>\n",
       "      <td>5022</td>\n",
       "      <td>event_type 11</td>\n",
       "    </tr>\n",
       "  </tbody>\n",
       "</table>\n",
       "</div>"
      ],
      "text/plain": [
       "     id     event_type\n",
       "0  6597  event_type 11\n",
       "1  8011  event_type 15\n",
       "2  2597  event_type 15\n",
       "3  5022  event_type 15\n",
       "4  5022  event_type 11"
      ]
     },
     "execution_count": 3,
     "metadata": {},
     "output_type": "execute_result"
    }
   ],
   "source": [
    "event_type.head()"
   ]
  },
  {
   "cell_type": "code",
   "execution_count": 4,
   "metadata": {},
   "outputs": [
    {
     "data": {
      "text/html": [
       "<div>\n",
       "<style scoped>\n",
       "    .dataframe tbody tr th:only-of-type {\n",
       "        vertical-align: middle;\n",
       "    }\n",
       "\n",
       "    .dataframe tbody tr th {\n",
       "        vertical-align: top;\n",
       "    }\n",
       "\n",
       "    .dataframe thead th {\n",
       "        text-align: right;\n",
       "    }\n",
       "</style>\n",
       "<table border=\"1\" class=\"dataframe\">\n",
       "  <thead>\n",
       "    <tr style=\"text-align: right;\">\n",
       "      <th></th>\n",
       "      <th>id</th>\n",
       "      <th>log_feature</th>\n",
       "      <th>volume</th>\n",
       "    </tr>\n",
       "  </thead>\n",
       "  <tbody>\n",
       "    <tr>\n",
       "      <th>0</th>\n",
       "      <td>6597</td>\n",
       "      <td>feature 68</td>\n",
       "      <td>6</td>\n",
       "    </tr>\n",
       "    <tr>\n",
       "      <th>1</th>\n",
       "      <td>8011</td>\n",
       "      <td>feature 68</td>\n",
       "      <td>7</td>\n",
       "    </tr>\n",
       "    <tr>\n",
       "      <th>2</th>\n",
       "      <td>2597</td>\n",
       "      <td>feature 68</td>\n",
       "      <td>1</td>\n",
       "    </tr>\n",
       "    <tr>\n",
       "      <th>3</th>\n",
       "      <td>5022</td>\n",
       "      <td>feature 172</td>\n",
       "      <td>2</td>\n",
       "    </tr>\n",
       "    <tr>\n",
       "      <th>4</th>\n",
       "      <td>5022</td>\n",
       "      <td>feature 56</td>\n",
       "      <td>1</td>\n",
       "    </tr>\n",
       "  </tbody>\n",
       "</table>\n",
       "</div>"
      ],
      "text/plain": [
       "     id  log_feature  volume\n",
       "0  6597   feature 68       6\n",
       "1  8011   feature 68       7\n",
       "2  2597   feature 68       1\n",
       "3  5022  feature 172       2\n",
       "4  5022   feature 56       1"
      ]
     },
     "execution_count": 4,
     "metadata": {},
     "output_type": "execute_result"
    }
   ],
   "source": [
    "log_feature.head()"
   ]
  },
  {
   "cell_type": "code",
   "execution_count": 5,
   "metadata": {},
   "outputs": [
    {
     "data": {
      "text/html": [
       "<div>\n",
       "<style scoped>\n",
       "    .dataframe tbody tr th:only-of-type {\n",
       "        vertical-align: middle;\n",
       "    }\n",
       "\n",
       "    .dataframe tbody tr th {\n",
       "        vertical-align: top;\n",
       "    }\n",
       "\n",
       "    .dataframe thead th {\n",
       "        text-align: right;\n",
       "    }\n",
       "</style>\n",
       "<table border=\"1\" class=\"dataframe\">\n",
       "  <thead>\n",
       "    <tr style=\"text-align: right;\">\n",
       "      <th></th>\n",
       "      <th>id</th>\n",
       "      <th>resource_type</th>\n",
       "    </tr>\n",
       "  </thead>\n",
       "  <tbody>\n",
       "    <tr>\n",
       "      <th>0</th>\n",
       "      <td>6597</td>\n",
       "      <td>resource_type 8</td>\n",
       "    </tr>\n",
       "    <tr>\n",
       "      <th>1</th>\n",
       "      <td>8011</td>\n",
       "      <td>resource_type 8</td>\n",
       "    </tr>\n",
       "    <tr>\n",
       "      <th>2</th>\n",
       "      <td>2597</td>\n",
       "      <td>resource_type 8</td>\n",
       "    </tr>\n",
       "    <tr>\n",
       "      <th>3</th>\n",
       "      <td>5022</td>\n",
       "      <td>resource_type 8</td>\n",
       "    </tr>\n",
       "    <tr>\n",
       "      <th>4</th>\n",
       "      <td>6852</td>\n",
       "      <td>resource_type 8</td>\n",
       "    </tr>\n",
       "  </tbody>\n",
       "</table>\n",
       "</div>"
      ],
      "text/plain": [
       "     id    resource_type\n",
       "0  6597  resource_type 8\n",
       "1  8011  resource_type 8\n",
       "2  2597  resource_type 8\n",
       "3  5022  resource_type 8\n",
       "4  6852  resource_type 8"
      ]
     },
     "execution_count": 5,
     "metadata": {},
     "output_type": "execute_result"
    }
   ],
   "source": [
    "resource_type.head()"
   ]
  },
  {
   "cell_type": "code",
   "execution_count": 6,
   "metadata": {},
   "outputs": [
    {
     "data": {
      "text/html": [
       "<div>\n",
       "<style scoped>\n",
       "    .dataframe tbody tr th:only-of-type {\n",
       "        vertical-align: middle;\n",
       "    }\n",
       "\n",
       "    .dataframe tbody tr th {\n",
       "        vertical-align: top;\n",
       "    }\n",
       "\n",
       "    .dataframe thead th {\n",
       "        text-align: right;\n",
       "    }\n",
       "</style>\n",
       "<table border=\"1\" class=\"dataframe\">\n",
       "  <thead>\n",
       "    <tr style=\"text-align: right;\">\n",
       "      <th></th>\n",
       "      <th>id</th>\n",
       "      <th>predict_0</th>\n",
       "      <th>predict_1</th>\n",
       "      <th>predict_2</th>\n",
       "    </tr>\n",
       "  </thead>\n",
       "  <tbody>\n",
       "    <tr>\n",
       "      <th>0</th>\n",
       "      <td>11066</td>\n",
       "      <td>0</td>\n",
       "      <td>1</td>\n",
       "      <td>0</td>\n",
       "    </tr>\n",
       "    <tr>\n",
       "      <th>1</th>\n",
       "      <td>18000</td>\n",
       "      <td>0</td>\n",
       "      <td>1</td>\n",
       "      <td>0</td>\n",
       "    </tr>\n",
       "    <tr>\n",
       "      <th>2</th>\n",
       "      <td>16964</td>\n",
       "      <td>0</td>\n",
       "      <td>1</td>\n",
       "      <td>0</td>\n",
       "    </tr>\n",
       "    <tr>\n",
       "      <th>3</th>\n",
       "      <td>4795</td>\n",
       "      <td>0</td>\n",
       "      <td>1</td>\n",
       "      <td>0</td>\n",
       "    </tr>\n",
       "    <tr>\n",
       "      <th>4</th>\n",
       "      <td>3392</td>\n",
       "      <td>0</td>\n",
       "      <td>1</td>\n",
       "      <td>0</td>\n",
       "    </tr>\n",
       "  </tbody>\n",
       "</table>\n",
       "</div>"
      ],
      "text/plain": [
       "      id  predict_0  predict_1  predict_2\n",
       "0  11066          0          1          0\n",
       "1  18000          0          1          0\n",
       "2  16964          0          1          0\n",
       "3   4795          0          1          0\n",
       "4   3392          0          1          0"
      ]
     },
     "execution_count": 6,
     "metadata": {},
     "output_type": "execute_result"
    }
   ],
   "source": [
    "sample_submission.head()"
   ]
  },
  {
   "cell_type": "code",
   "execution_count": 7,
   "metadata": {},
   "outputs": [
    {
     "data": {
      "text/html": [
       "<div>\n",
       "<style scoped>\n",
       "    .dataframe tbody tr th:only-of-type {\n",
       "        vertical-align: middle;\n",
       "    }\n",
       "\n",
       "    .dataframe tbody tr th {\n",
       "        vertical-align: top;\n",
       "    }\n",
       "\n",
       "    .dataframe thead th {\n",
       "        text-align: right;\n",
       "    }\n",
       "</style>\n",
       "<table border=\"1\" class=\"dataframe\">\n",
       "  <thead>\n",
       "    <tr style=\"text-align: right;\">\n",
       "      <th></th>\n",
       "      <th>id</th>\n",
       "      <th>severity_type</th>\n",
       "    </tr>\n",
       "  </thead>\n",
       "  <tbody>\n",
       "    <tr>\n",
       "      <th>0</th>\n",
       "      <td>6597</td>\n",
       "      <td>severity_type 2</td>\n",
       "    </tr>\n",
       "    <tr>\n",
       "      <th>1</th>\n",
       "      <td>8011</td>\n",
       "      <td>severity_type 2</td>\n",
       "    </tr>\n",
       "    <tr>\n",
       "      <th>2</th>\n",
       "      <td>2597</td>\n",
       "      <td>severity_type 2</td>\n",
       "    </tr>\n",
       "    <tr>\n",
       "      <th>3</th>\n",
       "      <td>5022</td>\n",
       "      <td>severity_type 1</td>\n",
       "    </tr>\n",
       "    <tr>\n",
       "      <th>4</th>\n",
       "      <td>6852</td>\n",
       "      <td>severity_type 1</td>\n",
       "    </tr>\n",
       "  </tbody>\n",
       "</table>\n",
       "</div>"
      ],
      "text/plain": [
       "     id    severity_type\n",
       "0  6597  severity_type 2\n",
       "1  8011  severity_type 2\n",
       "2  2597  severity_type 2\n",
       "3  5022  severity_type 1\n",
       "4  6852  severity_type 1"
      ]
     },
     "execution_count": 7,
     "metadata": {},
     "output_type": "execute_result"
    }
   ],
   "source": [
    "severity_type.head()"
   ]
  },
  {
   "cell_type": "markdown",
   "metadata": {},
   "source": [
    "# 1. Lets do Exploratory data analysis ( EDA )"
   ]
  },
  {
   "cell_type": "markdown",
   "metadata": {},
   "source": [
    "## analyse Train set"
   ]
  },
  {
   "cell_type": "code",
   "execution_count": 8,
   "metadata": {},
   "outputs": [
    {
     "name": "stdout",
     "output_type": "stream",
     "text": [
      "<class 'pandas.core.frame.DataFrame'>\n",
      "RangeIndex: 7381 entries, 0 to 7380\n",
      "Data columns (total 3 columns):\n",
      " #   Column          Non-Null Count  Dtype \n",
      "---  ------          --------------  ----- \n",
      " 0   id              7381 non-null   int64 \n",
      " 1   location        7381 non-null   object\n",
      " 2   fault_severity  7381 non-null   int64 \n",
      "dtypes: int64(2), object(1)\n",
      "memory usage: 173.1+ KB\n"
     ]
    }
   ],
   "source": [
    "train.info()"
   ]
  },
  {
   "cell_type": "code",
   "execution_count": 9,
   "metadata": {},
   "outputs": [
    {
     "data": {
      "text/html": [
       "<div>\n",
       "<style scoped>\n",
       "    .dataframe tbody tr th:only-of-type {\n",
       "        vertical-align: middle;\n",
       "    }\n",
       "\n",
       "    .dataframe tbody tr th {\n",
       "        vertical-align: top;\n",
       "    }\n",
       "\n",
       "    .dataframe thead th {\n",
       "        text-align: right;\n",
       "    }\n",
       "</style>\n",
       "<table border=\"1\" class=\"dataframe\">\n",
       "  <thead>\n",
       "    <tr style=\"text-align: right;\">\n",
       "      <th></th>\n",
       "      <th>id</th>\n",
       "      <th>location</th>\n",
       "      <th>fault_severity</th>\n",
       "    </tr>\n",
       "  </thead>\n",
       "  <tbody>\n",
       "    <tr>\n",
       "      <th>0</th>\n",
       "      <td>14121</td>\n",
       "      <td>location 118</td>\n",
       "      <td>1</td>\n",
       "    </tr>\n",
       "    <tr>\n",
       "      <th>1</th>\n",
       "      <td>9320</td>\n",
       "      <td>location 91</td>\n",
       "      <td>0</td>\n",
       "    </tr>\n",
       "    <tr>\n",
       "      <th>2</th>\n",
       "      <td>14394</td>\n",
       "      <td>location 152</td>\n",
       "      <td>1</td>\n",
       "    </tr>\n",
       "    <tr>\n",
       "      <th>3</th>\n",
       "      <td>8218</td>\n",
       "      <td>location 931</td>\n",
       "      <td>1</td>\n",
       "    </tr>\n",
       "    <tr>\n",
       "      <th>4</th>\n",
       "      <td>14804</td>\n",
       "      <td>location 120</td>\n",
       "      <td>0</td>\n",
       "    </tr>\n",
       "  </tbody>\n",
       "</table>\n",
       "</div>"
      ],
      "text/plain": [
       "      id      location  fault_severity\n",
       "0  14121  location 118               1\n",
       "1   9320   location 91               0\n",
       "2  14394  location 152               1\n",
       "3   8218  location 931               1\n",
       "4  14804  location 120               0"
      ]
     },
     "execution_count": 9,
     "metadata": {},
     "output_type": "execute_result"
    }
   ],
   "source": [
    "train.head()"
   ]
  },
  {
   "cell_type": "code",
   "execution_count": 10,
   "metadata": {},
   "outputs": [
    {
     "data": {
      "text/plain": [
       "7381"
      ]
     },
     "execution_count": 10,
     "metadata": {},
     "output_type": "execute_result"
    }
   ],
   "source": [
    "len(train.index)"
   ]
  },
  {
   "cell_type": "code",
   "execution_count": 11,
   "metadata": {},
   "outputs": [
    {
     "data": {
      "text/plain": [
       "7381"
      ]
     },
     "execution_count": 11,
     "metadata": {},
     "output_type": "execute_result"
    }
   ],
   "source": [
    "len(train.id.unique())"
   ]
  },
  {
   "cell_type": "code",
   "execution_count": 12,
   "metadata": {},
   "outputs": [
    {
     "data": {
      "text/plain": [
       "929"
      ]
     },
     "execution_count": 12,
     "metadata": {},
     "output_type": "execute_result"
    }
   ],
   "source": [
    "len(train.location.unique())"
   ]
  },
  {
   "cell_type": "code",
   "execution_count": 13,
   "metadata": {},
   "outputs": [
    {
     "data": {
      "text/plain": [
       "3"
      ]
     },
     "execution_count": 13,
     "metadata": {},
     "output_type": "execute_result"
    }
   ],
   "source": [
    "len(train.fault_severity.unique())"
   ]
  },
  {
   "cell_type": "code",
   "execution_count": 14,
   "metadata": {},
   "outputs": [
    {
     "data": {
      "text/plain": [
       "id                0\n",
       "location          0\n",
       "fault_severity    0\n",
       "dtype: int64"
      ]
     },
     "execution_count": 14,
     "metadata": {},
     "output_type": "execute_result"
    }
   ],
   "source": [
    "train.isnull().sum()"
   ]
  },
  {
   "cell_type": "markdown",
   "metadata": {},
   "source": [
    "## Analysis Test set"
   ]
  },
  {
   "cell_type": "code",
   "execution_count": 15,
   "metadata": {},
   "outputs": [
    {
     "name": "stdout",
     "output_type": "stream",
     "text": [
      "<class 'pandas.core.frame.DataFrame'>\n",
      "RangeIndex: 11171 entries, 0 to 11170\n",
      "Data columns (total 2 columns):\n",
      " #   Column    Non-Null Count  Dtype \n",
      "---  ------    --------------  ----- \n",
      " 0   id        11171 non-null  int64 \n",
      " 1   location  11171 non-null  object\n",
      "dtypes: int64(1), object(1)\n",
      "memory usage: 174.7+ KB\n"
     ]
    }
   ],
   "source": [
    "test.info()"
   ]
  },
  {
   "cell_type": "code",
   "execution_count": 16,
   "metadata": {},
   "outputs": [
    {
     "data": {
      "text/html": [
       "<div>\n",
       "<style scoped>\n",
       "    .dataframe tbody tr th:only-of-type {\n",
       "        vertical-align: middle;\n",
       "    }\n",
       "\n",
       "    .dataframe tbody tr th {\n",
       "        vertical-align: top;\n",
       "    }\n",
       "\n",
       "    .dataframe thead th {\n",
       "        text-align: right;\n",
       "    }\n",
       "</style>\n",
       "<table border=\"1\" class=\"dataframe\">\n",
       "  <thead>\n",
       "    <tr style=\"text-align: right;\">\n",
       "      <th></th>\n",
       "      <th>id</th>\n",
       "      <th>location</th>\n",
       "    </tr>\n",
       "  </thead>\n",
       "  <tbody>\n",
       "    <tr>\n",
       "      <th>0</th>\n",
       "      <td>11066</td>\n",
       "      <td>location 481</td>\n",
       "    </tr>\n",
       "    <tr>\n",
       "      <th>1</th>\n",
       "      <td>18000</td>\n",
       "      <td>location 962</td>\n",
       "    </tr>\n",
       "    <tr>\n",
       "      <th>2</th>\n",
       "      <td>16964</td>\n",
       "      <td>location 491</td>\n",
       "    </tr>\n",
       "    <tr>\n",
       "      <th>3</th>\n",
       "      <td>4795</td>\n",
       "      <td>location 532</td>\n",
       "    </tr>\n",
       "    <tr>\n",
       "      <th>4</th>\n",
       "      <td>3392</td>\n",
       "      <td>location 600</td>\n",
       "    </tr>\n",
       "  </tbody>\n",
       "</table>\n",
       "</div>"
      ],
      "text/plain": [
       "      id      location\n",
       "0  11066  location 481\n",
       "1  18000  location 962\n",
       "2  16964  location 491\n",
       "3   4795  location 532\n",
       "4   3392  location 600"
      ]
     },
     "execution_count": 16,
     "metadata": {},
     "output_type": "execute_result"
    }
   ],
   "source": [
    "test.head()"
   ]
  },
  {
   "cell_type": "code",
   "execution_count": 17,
   "metadata": {},
   "outputs": [
    {
     "data": {
      "text/plain": [
       "11171"
      ]
     },
     "execution_count": 17,
     "metadata": {},
     "output_type": "execute_result"
    }
   ],
   "source": [
    "len(test.index)"
   ]
  },
  {
   "cell_type": "code",
   "execution_count": 18,
   "metadata": {},
   "outputs": [
    {
     "data": {
      "text/plain": [
       "11171"
      ]
     },
     "execution_count": 18,
     "metadata": {},
     "output_type": "execute_result"
    }
   ],
   "source": [
    "len(test.id.unique())"
   ]
  },
  {
   "cell_type": "code",
   "execution_count": 19,
   "metadata": {},
   "outputs": [
    {
     "data": {
      "text/plain": [
       "1039"
      ]
     },
     "execution_count": 19,
     "metadata": {},
     "output_type": "execute_result"
    }
   ],
   "source": [
    "len(test.location.unique())"
   ]
  },
  {
   "cell_type": "code",
   "execution_count": 20,
   "metadata": {},
   "outputs": [
    {
     "data": {
      "text/plain": [
       "id          0\n",
       "location    0\n",
       "dtype: int64"
      ]
     },
     "execution_count": 20,
     "metadata": {},
     "output_type": "execute_result"
    }
   ],
   "source": [
    "test.isnull().sum()"
   ]
  },
  {
   "cell_type": "markdown",
   "metadata": {},
   "source": [
    "# combining training and test data into a single data set"
   ]
  },
  {
   "cell_type": "code",
   "execution_count": 21,
   "metadata": {},
   "outputs": [],
   "source": [
    "# creating a colum of istrain in both train and test data\n",
    "\n",
    "train['istrain'] = 1\n",
    "test['istrain'] = 0\n",
    "\n",
    "data = train.append(test)"
   ]
  },
  {
   "cell_type": "markdown",
   "metadata": {},
   "source": [
    "# analysis data"
   ]
  },
  {
   "cell_type": "code",
   "execution_count": 22,
   "metadata": {},
   "outputs": [
    {
     "name": "stdout",
     "output_type": "stream",
     "text": [
      "<class 'pandas.core.frame.DataFrame'>\n",
      "Int64Index: 18552 entries, 0 to 11170\n",
      "Data columns (total 4 columns):\n",
      " #   Column          Non-Null Count  Dtype  \n",
      "---  ------          --------------  -----  \n",
      " 0   id              18552 non-null  int64  \n",
      " 1   location        18552 non-null  object \n",
      " 2   fault_severity  7381 non-null   float64\n",
      " 3   istrain         18552 non-null  int64  \n",
      "dtypes: float64(1), int64(2), object(1)\n",
      "memory usage: 724.7+ KB\n"
     ]
    }
   ],
   "source": [
    "data.info()"
   ]
  },
  {
   "cell_type": "code",
   "execution_count": 23,
   "metadata": {},
   "outputs": [
    {
     "data": {
      "text/html": [
       "<div>\n",
       "<style scoped>\n",
       "    .dataframe tbody tr th:only-of-type {\n",
       "        vertical-align: middle;\n",
       "    }\n",
       "\n",
       "    .dataframe tbody tr th {\n",
       "        vertical-align: top;\n",
       "    }\n",
       "\n",
       "    .dataframe thead th {\n",
       "        text-align: right;\n",
       "    }\n",
       "</style>\n",
       "<table border=\"1\" class=\"dataframe\">\n",
       "  <thead>\n",
       "    <tr style=\"text-align: right;\">\n",
       "      <th></th>\n",
       "      <th>id</th>\n",
       "      <th>location</th>\n",
       "      <th>fault_severity</th>\n",
       "      <th>istrain</th>\n",
       "    </tr>\n",
       "  </thead>\n",
       "  <tbody>\n",
       "    <tr>\n",
       "      <th>0</th>\n",
       "      <td>14121</td>\n",
       "      <td>location 118</td>\n",
       "      <td>1.0</td>\n",
       "      <td>1</td>\n",
       "    </tr>\n",
       "    <tr>\n",
       "      <th>1</th>\n",
       "      <td>9320</td>\n",
       "      <td>location 91</td>\n",
       "      <td>0.0</td>\n",
       "      <td>1</td>\n",
       "    </tr>\n",
       "    <tr>\n",
       "      <th>2</th>\n",
       "      <td>14394</td>\n",
       "      <td>location 152</td>\n",
       "      <td>1.0</td>\n",
       "      <td>1</td>\n",
       "    </tr>\n",
       "    <tr>\n",
       "      <th>3</th>\n",
       "      <td>8218</td>\n",
       "      <td>location 931</td>\n",
       "      <td>1.0</td>\n",
       "      <td>1</td>\n",
       "    </tr>\n",
       "    <tr>\n",
       "      <th>4</th>\n",
       "      <td>14804</td>\n",
       "      <td>location 120</td>\n",
       "      <td>0.0</td>\n",
       "      <td>1</td>\n",
       "    </tr>\n",
       "  </tbody>\n",
       "</table>\n",
       "</div>"
      ],
      "text/plain": [
       "      id      location  fault_severity  istrain\n",
       "0  14121  location 118             1.0        1\n",
       "1   9320   location 91             0.0        1\n",
       "2  14394  location 152             1.0        1\n",
       "3   8218  location 931             1.0        1\n",
       "4  14804  location 120             0.0        1"
      ]
     },
     "execution_count": 23,
     "metadata": {},
     "output_type": "execute_result"
    }
   ],
   "source": [
    "data.head()"
   ]
  },
  {
   "cell_type": "code",
   "execution_count": 24,
   "metadata": {},
   "outputs": [
    {
     "name": "stdout",
     "output_type": "stream",
     "text": [
      "total number of rows in data:  18552\n",
      "number of unique id : 18552\n",
      "number of unique locations: 1126\n",
      "number of unique fault severity: 4\n"
     ]
    }
   ],
   "source": [
    "print('total number of rows in data: ' , len(data.index))\n",
    "print('number of unique id :' , len(data.id.unique()))\n",
    "print('number of unique locations:' , len(data.location.unique()))\n",
    "print('number of unique fault severity:' , len(data.fault_severity.unique()))"
   ]
  },
  {
   "cell_type": "code",
   "execution_count": 25,
   "metadata": {},
   "outputs": [
    {
     "data": {
      "text/plain": [
       "id                    0\n",
       "location              0\n",
       "fault_severity    11171\n",
       "istrain               0\n",
       "dtype: int64"
      ]
     },
     "execution_count": 25,
     "metadata": {},
     "output_type": "execute_result"
    }
   ],
   "source": [
    "data.isnull().sum()"
   ]
  },
  {
   "cell_type": "markdown",
   "metadata": {},
   "source": [
    "# cleaning the data"
   ]
  },
  {
   "cell_type": "code",
   "execution_count": 26,
   "metadata": {},
   "outputs": [
    {
     "data": {
      "text/html": [
       "<div>\n",
       "<style scoped>\n",
       "    .dataframe tbody tr th:only-of-type {\n",
       "        vertical-align: middle;\n",
       "    }\n",
       "\n",
       "    .dataframe tbody tr th {\n",
       "        vertical-align: top;\n",
       "    }\n",
       "\n",
       "    .dataframe thead th {\n",
       "        text-align: right;\n",
       "    }\n",
       "</style>\n",
       "<table border=\"1\" class=\"dataframe\">\n",
       "  <thead>\n",
       "    <tr style=\"text-align: right;\">\n",
       "      <th></th>\n",
       "      <th>id</th>\n",
       "      <th>location</th>\n",
       "      <th>fault_severity</th>\n",
       "      <th>istrain</th>\n",
       "    </tr>\n",
       "  </thead>\n",
       "  <tbody>\n",
       "    <tr>\n",
       "      <th>0</th>\n",
       "      <td>14121</td>\n",
       "      <td>118</td>\n",
       "      <td>1.0</td>\n",
       "      <td>1</td>\n",
       "    </tr>\n",
       "    <tr>\n",
       "      <th>1</th>\n",
       "      <td>9320</td>\n",
       "      <td>91</td>\n",
       "      <td>0.0</td>\n",
       "      <td>1</td>\n",
       "    </tr>\n",
       "    <tr>\n",
       "      <th>2</th>\n",
       "      <td>14394</td>\n",
       "      <td>152</td>\n",
       "      <td>1.0</td>\n",
       "      <td>1</td>\n",
       "    </tr>\n",
       "    <tr>\n",
       "      <th>3</th>\n",
       "      <td>8218</td>\n",
       "      <td>931</td>\n",
       "      <td>1.0</td>\n",
       "      <td>1</td>\n",
       "    </tr>\n",
       "    <tr>\n",
       "      <th>4</th>\n",
       "      <td>14804</td>\n",
       "      <td>120</td>\n",
       "      <td>0.0</td>\n",
       "      <td>1</td>\n",
       "    </tr>\n",
       "  </tbody>\n",
       "</table>\n",
       "</div>"
      ],
      "text/plain": [
       "      id  location  fault_severity  istrain\n",
       "0  14121       118             1.0        1\n",
       "1   9320        91             0.0        1\n",
       "2  14394       152             1.0        1\n",
       "3   8218       931             1.0        1\n",
       "4  14804       120             0.0        1"
      ]
     },
     "execution_count": 26,
     "metadata": {},
     "output_type": "execute_result"
    }
   ],
   "source": [
    "# we will strip the location attribute and maintain the interger value of location\n",
    "\n",
    "data.location = data.location.str.lstrip('location').astype('int')\n",
    "data.head()"
   ]
  },
  {
   "cell_type": "markdown",
   "metadata": {},
   "source": [
    "# visualizing the data"
   ]
  },
  {
   "cell_type": "code",
   "execution_count": 27,
   "metadata": {},
   "outputs": [
    {
     "data": {
      "text/plain": [
       "<matplotlib.axes._subplots.AxesSubplot at 0xc195483348>"
      ]
     },
     "execution_count": 27,
     "metadata": {},
     "output_type": "execute_result"
    },
    {
     "data": {
      "image/png": "[encoded data removed]",
      "text/plain": [
       "<Figure size 1080x432 with 1 Axes>"
      ]
     },
     "metadata": {
      "needs_background": "light"
     },
     "output_type": "display_data"
    }
   ],
   "source": [
    "plt.figure(figsize=(15,6))\n",
    "col = 'location'\n",
    "sns.countplot(x = col , data = data , order=data[col].value_counts().index)"
   ]
  },
  {
   "cell_type": "code",
   "execution_count": 28,
   "metadata": {},
   "outputs": [
    {
     "data": {
      "text/plain": [
       "Text(0, 0.5, 'frequency')"
      ]
     },
     "execution_count": 28,
     "metadata": {},
     "output_type": "execute_result"
    },
    {
     "data": {
      "image/png": "[encoded data removed]",
      "text/plain": [
       "<Figure size 432x288 with 1 Axes>"
      ]
     },
     "metadata": {
      "needs_background": "light"
     },
     "output_type": "display_data"
    }
   ],
   "source": [
    "sns.countplot(x = 'fault_severity' , data = data)\n",
    "plt.ylabel('frequency')"
   ]
  },
  {
   "cell_type": "code",
   "execution_count": 29,
   "metadata": {},
   "outputs": [
    {
     "data": {
      "text/plain": [
       "<matplotlib.axes._subplots.AxesSubplot at 0xc1979faf48>"
      ]
     },
     "execution_count": 29,
     "metadata": {},
     "output_type": "execute_result"
    },
    {
     "data": {
      "image/png": "[encoded data removed]",
      "text/plain": [
       "<Figure size 432x288 with 1 Axes>"
      ]
     },
     "metadata": {
      "needs_background": "light"
     },
     "output_type": "display_data"
    }
   ],
   "source": [
    "sns.countplot(x = 'istrain' , data = data)"
   ]
  },
  {
   "cell_type": "code",
   "execution_count": 30,
   "metadata": {},
   "outputs": [
    {
     "data": {
      "text/plain": [
       "<matplotlib.axes._subplots.AxesSubplot at 0xc19543e888>"
      ]
     },
     "execution_count": 30,
     "metadata": {},
     "output_type": "execute_result"
    },
    {
     "data": {
      "image/png": "[encoded data removed]",
      "text/plain": [
       "<Figure size 864x432 with 1 Axes>"
      ]
     },
     "metadata": {
      "needs_background": "light"
     },
     "output_type": "display_data"
    }
   ],
   "source": [
    "plt.figure(figsize=(12,6))\n",
    "sns.scatterplot(x = 'id' , y='location' , data= data  , cmap = 'virdis')"
   ]
  },
  {
   "cell_type": "markdown",
   "metadata": {},
   "source": [
    "# Analysis event type"
   ]
  },
  {
   "cell_type": "code",
   "execution_count": 31,
   "metadata": {},
   "outputs": [
    {
     "name": "stdout",
     "output_type": "stream",
     "text": [
      "<class 'pandas.core.frame.DataFrame'>\n",
      "RangeIndex: 31170 entries, 0 to 31169\n",
      "Data columns (total 2 columns):\n",
      " #   Column      Non-Null Count  Dtype \n",
      "---  ------      --------------  ----- \n",
      " 0   id          31170 non-null  int64 \n",
      " 1   event_type  31170 non-null  object\n",
      "dtypes: int64(1), object(1)\n",
      "memory usage: 487.2+ KB\n"
     ]
    }
   ],
   "source": [
    "event_type.info()"
   ]
  },
  {
   "cell_type": "code",
   "execution_count": 32,
   "metadata": {},
   "outputs": [
    {
     "data": {
      "text/html": [
       "<div>\n",
       "<style scoped>\n",
       "    .dataframe tbody tr th:only-of-type {\n",
       "        vertical-align: middle;\n",
       "    }\n",
       "\n",
       "    .dataframe tbody tr th {\n",
       "        vertical-align: top;\n",
       "    }\n",
       "\n",
       "    .dataframe thead th {\n",
       "        text-align: right;\n",
       "    }\n",
       "</style>\n",
       "<table border=\"1\" class=\"dataframe\">\n",
       "  <thead>\n",
       "    <tr style=\"text-align: right;\">\n",
       "      <th></th>\n",
       "      <th>id</th>\n",
       "      <th>event_type</th>\n",
       "    </tr>\n",
       "  </thead>\n",
       "  <tbody>\n",
       "    <tr>\n",
       "      <th>0</th>\n",
       "      <td>6597</td>\n",
       "      <td>event_type 11</td>\n",
       "    </tr>\n",
       "    <tr>\n",
       "      <th>1</th>\n",
       "      <td>8011</td>\n",
       "      <td>event_type 15</td>\n",
       "    </tr>\n",
       "    <tr>\n",
       "      <th>2</th>\n",
       "      <td>2597</td>\n",
       "      <td>event_type 15</td>\n",
       "    </tr>\n",
       "    <tr>\n",
       "      <th>3</th>\n",
       "      <td>5022</td>\n",
       "      <td>event_type 15</td>\n",
       "    </tr>\n",
       "    <tr>\n",
       "      <th>4</th>\n",
       "      <td>5022</td>\n",
       "      <td>event_type 11</td>\n",
       "    </tr>\n",
       "  </tbody>\n",
       "</table>\n",
       "</div>"
      ],
      "text/plain": [
       "     id     event_type\n",
       "0  6597  event_type 11\n",
       "1  8011  event_type 15\n",
       "2  2597  event_type 15\n",
       "3  5022  event_type 15\n",
       "4  5022  event_type 11"
      ]
     },
     "execution_count": 32,
     "metadata": {},
     "output_type": "execute_result"
    }
   ],
   "source": [
    "event_type.head()"
   ]
  },
  {
   "cell_type": "code",
   "execution_count": 33,
   "metadata": {},
   "outputs": [
    {
     "data": {
      "text/plain": [
       "31170"
      ]
     },
     "execution_count": 33,
     "metadata": {},
     "output_type": "execute_result"
    }
   ],
   "source": [
    "len(event_type.index)"
   ]
  },
  {
   "cell_type": "code",
   "execution_count": 34,
   "metadata": {},
   "outputs": [
    {
     "data": {
      "text/plain": [
       "18552"
      ]
     },
     "execution_count": 34,
     "metadata": {},
     "output_type": "execute_result"
    }
   ],
   "source": [
    "len(event_type.id.unique())"
   ]
  },
  {
   "cell_type": "code",
   "execution_count": 35,
   "metadata": {},
   "outputs": [
    {
     "data": {
      "text/plain": [
       "53"
      ]
     },
     "execution_count": 35,
     "metadata": {},
     "output_type": "execute_result"
    }
   ],
   "source": [
    "len(event_type.event_type.unique())"
   ]
  },
  {
   "cell_type": "code",
   "execution_count": 36,
   "metadata": {},
   "outputs": [
    {
     "data": {
      "text/plain": [
       "id            0\n",
       "event_type    0\n",
       "dtype: int64"
      ]
     },
     "execution_count": 36,
     "metadata": {},
     "output_type": "execute_result"
    }
   ],
   "source": [
    "event_type.isnull().sum()"
   ]
  },
  {
   "cell_type": "markdown",
   "metadata": {},
   "source": [
    "# cleaning event type"
   ]
  },
  {
   "cell_type": "code",
   "execution_count": 37,
   "metadata": {},
   "outputs": [
    {
     "data": {
      "text/html": [
       "<div>\n",
       "<style scoped>\n",
       "    .dataframe tbody tr th:only-of-type {\n",
       "        vertical-align: middle;\n",
       "    }\n",
       "\n",
       "    .dataframe tbody tr th {\n",
       "        vertical-align: top;\n",
       "    }\n",
       "\n",
       "    .dataframe thead th {\n",
       "        text-align: right;\n",
       "    }\n",
       "</style>\n",
       "<table border=\"1\" class=\"dataframe\">\n",
       "  <thead>\n",
       "    <tr style=\"text-align: right;\">\n",
       "      <th></th>\n",
       "      <th>id</th>\n",
       "      <th>event_type</th>\n",
       "    </tr>\n",
       "  </thead>\n",
       "  <tbody>\n",
       "    <tr>\n",
       "      <th>0</th>\n",
       "      <td>6597</td>\n",
       "      <td>11</td>\n",
       "    </tr>\n",
       "    <tr>\n",
       "      <th>1</th>\n",
       "      <td>8011</td>\n",
       "      <td>15</td>\n",
       "    </tr>\n",
       "    <tr>\n",
       "      <th>2</th>\n",
       "      <td>2597</td>\n",
       "      <td>15</td>\n",
       "    </tr>\n",
       "    <tr>\n",
       "      <th>3</th>\n",
       "      <td>5022</td>\n",
       "      <td>15</td>\n",
       "    </tr>\n",
       "    <tr>\n",
       "      <th>4</th>\n",
       "      <td>5022</td>\n",
       "      <td>11</td>\n",
       "    </tr>\n",
       "  </tbody>\n",
       "</table>\n",
       "</div>"
      ],
      "text/plain": [
       "     id  event_type\n",
       "0  6597          11\n",
       "1  8011          15\n",
       "2  2597          15\n",
       "3  5022          15\n",
       "4  5022          11"
      ]
     },
     "execution_count": 37,
     "metadata": {},
     "output_type": "execute_result"
    }
   ],
   "source": [
    "event_type.event_type = event_type.event_type.str.lstrip('event_type').astype('int')\n",
    "event_type.head()"
   ]
  },
  {
   "cell_type": "code",
   "execution_count": 38,
   "metadata": {},
   "outputs": [
    {
     "data": {
      "text/html": [
       "<div>\n",
       "<style scoped>\n",
       "    .dataframe tbody tr th:only-of-type {\n",
       "        vertical-align: middle;\n",
       "    }\n",
       "\n",
       "    .dataframe tbody tr th {\n",
       "        vertical-align: top;\n",
       "    }\n",
       "\n",
       "    .dataframe thead th {\n",
       "        text-align: right;\n",
       "    }\n",
       "</style>\n",
       "<table border=\"1\" class=\"dataframe\">\n",
       "  <thead>\n",
       "    <tr style=\"text-align: right;\">\n",
       "      <th></th>\n",
       "      <th>id</th>\n",
       "      <th>event_type</th>\n",
       "    </tr>\n",
       "  </thead>\n",
       "  <tbody>\n",
       "    <tr>\n",
       "      <th>0</th>\n",
       "      <td>6597</td>\n",
       "      <td>11</td>\n",
       "    </tr>\n",
       "    <tr>\n",
       "      <th>1</th>\n",
       "      <td>8011</td>\n",
       "      <td>15</td>\n",
       "    </tr>\n",
       "    <tr>\n",
       "      <th>2</th>\n",
       "      <td>2597</td>\n",
       "      <td>15</td>\n",
       "    </tr>\n",
       "    <tr>\n",
       "      <th>3</th>\n",
       "      <td>5022</td>\n",
       "      <td>15</td>\n",
       "    </tr>\n",
       "    <tr>\n",
       "      <th>4</th>\n",
       "      <td>5022</td>\n",
       "      <td>11</td>\n",
       "    </tr>\n",
       "  </tbody>\n",
       "</table>\n",
       "</div>"
      ],
      "text/plain": [
       "     id  event_type\n",
       "0  6597          11\n",
       "1  8011          15\n",
       "2  2597          15\n",
       "3  5022          15\n",
       "4  5022          11"
      ]
     },
     "execution_count": 38,
     "metadata": {},
     "output_type": "execute_result"
    }
   ],
   "source": [
    "# one hot encoding using pandas\n",
    "\n",
    "event_type = pd.get_dummies(event_type)\n",
    "event_type.head()"
   ]
  },
  {
   "cell_type": "markdown",
   "metadata": {},
   "source": [
    "# analysis Log features"
   ]
  },
  {
   "cell_type": "code",
   "execution_count": 39,
   "metadata": {},
   "outputs": [
    {
     "name": "stdout",
     "output_type": "stream",
     "text": [
      "<class 'pandas.core.frame.DataFrame'>\n",
      "RangeIndex: 58671 entries, 0 to 58670\n",
      "Data columns (total 3 columns):\n",
      " #   Column       Non-Null Count  Dtype \n",
      "---  ------       --------------  ----- \n",
      " 0   id           58671 non-null  int64 \n",
      " 1   log_feature  58671 non-null  object\n",
      " 2   volume       58671 non-null  int64 \n",
      "dtypes: int64(2), object(1)\n",
      "memory usage: 1.3+ MB\n"
     ]
    }
   ],
   "source": [
    "log_feature.info()"
   ]
  },
  {
   "cell_type": "code",
   "execution_count": 40,
   "metadata": {},
   "outputs": [
    {
     "data": {
      "text/html": [
       "<div>\n",
       "<style scoped>\n",
       "    .dataframe tbody tr th:only-of-type {\n",
       "        vertical-align: middle;\n",
       "    }\n",
       "\n",
       "    .dataframe tbody tr th {\n",
       "        vertical-align: top;\n",
       "    }\n",
       "\n",
       "    .dataframe thead th {\n",
       "        text-align: right;\n",
       "    }\n",
       "</style>\n",
       "<table border=\"1\" class=\"dataframe\">\n",
       "  <thead>\n",
       "    <tr style=\"text-align: right;\">\n",
       "      <th></th>\n",
       "      <th>id</th>\n",
       "      <th>log_feature</th>\n",
       "      <th>volume</th>\n",
       "    </tr>\n",
       "  </thead>\n",
       "  <tbody>\n",
       "    <tr>\n",
       "      <th>0</th>\n",
       "      <td>6597</td>\n",
       "      <td>feature 68</td>\n",
       "      <td>6</td>\n",
       "    </tr>\n",
       "    <tr>\n",
       "      <th>1</th>\n",
       "      <td>8011</td>\n",
       "      <td>feature 68</td>\n",
       "      <td>7</td>\n",
       "    </tr>\n",
       "    <tr>\n",
       "      <th>2</th>\n",
       "      <td>2597</td>\n",
       "      <td>feature 68</td>\n",
       "      <td>1</td>\n",
       "    </tr>\n",
       "    <tr>\n",
       "      <th>3</th>\n",
       "      <td>5022</td>\n",
       "      <td>feature 172</td>\n",
       "      <td>2</td>\n",
       "    </tr>\n",
       "    <tr>\n",
       "      <th>4</th>\n",
       "      <td>5022</td>\n",
       "      <td>feature 56</td>\n",
       "      <td>1</td>\n",
       "    </tr>\n",
       "  </tbody>\n",
       "</table>\n",
       "</div>"
      ],
      "text/plain": [
       "     id  log_feature  volume\n",
       "0  6597   feature 68       6\n",
       "1  8011   feature 68       7\n",
       "2  2597   feature 68       1\n",
       "3  5022  feature 172       2\n",
       "4  5022   feature 56       1"
      ]
     },
     "execution_count": 40,
     "metadata": {},
     "output_type": "execute_result"
    }
   ],
   "source": [
    "log_feature.head()"
   ]
  },
  {
   "cell_type": "code",
   "execution_count": 41,
   "metadata": {},
   "outputs": [
    {
     "name": "stdout",
     "output_type": "stream",
     "text": [
      "total number of rows :  58671\n",
      "number of unique ids : 18552\n",
      "number of unique log features: 386\n",
      "number of unique volumes : 341\n"
     ]
    }
   ],
   "source": [
    "print('total number of rows : ' , len(log_feature.index))\n",
    "print('number of unique ids :' , len(log_feature.id.unique()))\n",
    "print('number of unique log features:' , len(log_feature.log_feature.unique()))\n",
    "print('number of unique volumes :' , len(log_feature.volume.unique()))\n"
   ]
  },
  {
   "cell_type": "code",
   "execution_count": 42,
   "metadata": {},
   "outputs": [
    {
     "data": {
      "text/plain": [
       "id             0\n",
       "log_feature    0\n",
       "volume         0\n",
       "dtype: int64"
      ]
     },
     "execution_count": 42,
     "metadata": {},
     "output_type": "execute_result"
    }
   ],
   "source": [
    "log_feature.isnull().sum()"
   ]
  },
  {
   "cell_type": "markdown",
   "metadata": {},
   "source": [
    "# cleaning log features"
   ]
  },
  {
   "cell_type": "code",
   "execution_count": 43,
   "metadata": {},
   "outputs": [
    {
     "data": {
      "text/html": [
       "<div>\n",
       "<style scoped>\n",
       "    .dataframe tbody tr th:only-of-type {\n",
       "        vertical-align: middle;\n",
       "    }\n",
       "\n",
       "    .dataframe tbody tr th {\n",
       "        vertical-align: top;\n",
       "    }\n",
       "\n",
       "    .dataframe thead th {\n",
       "        text-align: right;\n",
       "    }\n",
       "</style>\n",
       "<table border=\"1\" class=\"dataframe\">\n",
       "  <thead>\n",
       "    <tr style=\"text-align: right;\">\n",
       "      <th></th>\n",
       "      <th>id</th>\n",
       "      <th>log_feature</th>\n",
       "      <th>volume</th>\n",
       "    </tr>\n",
       "  </thead>\n",
       "  <tbody>\n",
       "    <tr>\n",
       "      <th>0</th>\n",
       "      <td>6597</td>\n",
       "      <td>68</td>\n",
       "      <td>6</td>\n",
       "    </tr>\n",
       "    <tr>\n",
       "      <th>1</th>\n",
       "      <td>8011</td>\n",
       "      <td>68</td>\n",
       "      <td>7</td>\n",
       "    </tr>\n",
       "    <tr>\n",
       "      <th>2</th>\n",
       "      <td>2597</td>\n",
       "      <td>68</td>\n",
       "      <td>1</td>\n",
       "    </tr>\n",
       "    <tr>\n",
       "      <th>3</th>\n",
       "      <td>5022</td>\n",
       "      <td>172</td>\n",
       "      <td>2</td>\n",
       "    </tr>\n",
       "    <tr>\n",
       "      <th>4</th>\n",
       "      <td>5022</td>\n",
       "      <td>56</td>\n",
       "      <td>1</td>\n",
       "    </tr>\n",
       "  </tbody>\n",
       "</table>\n",
       "</div>"
      ],
      "text/plain": [
       "     id  log_feature  volume\n",
       "0  6597           68       6\n",
       "1  8011           68       7\n",
       "2  2597           68       1\n",
       "3  5022          172       2\n",
       "4  5022           56       1"
      ]
     },
     "execution_count": 43,
     "metadata": {},
     "output_type": "execute_result"
    }
   ],
   "source": [
    "log_feature['log_feature'] = log_feature['log_feature'].str.lstrip('feature').astype('int')\n",
    "log_feature.head()"
   ]
  },
  {
   "cell_type": "code",
   "execution_count": 44,
   "metadata": {},
   "outputs": [
    {
     "data": {
      "text/plain": [
       "<matplotlib.axes._subplots.AxesSubplot at 0xc197c77e08>"
      ]
     },
     "execution_count": 44,
     "metadata": {},
     "output_type": "execute_result"
    },
    {
     "data": {
      "image/png": "[encoded data removed]",
      "text/plain": [
       "<Figure size 432x288 with 1 Axes>"
      ]
     },
     "metadata": {
      "needs_background": "light"
     },
     "output_type": "display_data"
    }
   ],
   "source": [
    "sns.countplot(x = 'log_feature' , data = log_feature)"
   ]
  },
  {
   "cell_type": "markdown",
   "metadata": {},
   "source": [
    "# Analysis resourse type"
   ]
  },
  {
   "cell_type": "code",
   "execution_count": 45,
   "metadata": {},
   "outputs": [
    {
     "name": "stdout",
     "output_type": "stream",
     "text": [
      "<class 'pandas.core.frame.DataFrame'>\n",
      "RangeIndex: 21076 entries, 0 to 21075\n",
      "Data columns (total 2 columns):\n",
      " #   Column         Non-Null Count  Dtype \n",
      "---  ------         --------------  ----- \n",
      " 0   id             21076 non-null  int64 \n",
      " 1   resource_type  21076 non-null  object\n",
      "dtypes: int64(1), object(1)\n",
      "memory usage: 329.4+ KB\n"
     ]
    }
   ],
   "source": [
    "resource_type.info()"
   ]
  },
  {
   "cell_type": "code",
   "execution_count": 46,
   "metadata": {},
   "outputs": [
    {
     "data": {
      "text/html": [
       "<div>\n",
       "<style scoped>\n",
       "    .dataframe tbody tr th:only-of-type {\n",
       "        vertical-align: middle;\n",
       "    }\n",
       "\n",
       "    .dataframe tbody tr th {\n",
       "        vertical-align: top;\n",
       "    }\n",
       "\n",
       "    .dataframe thead th {\n",
       "        text-align: right;\n",
       "    }\n",
       "</style>\n",
       "<table border=\"1\" class=\"dataframe\">\n",
       "  <thead>\n",
       "    <tr style=\"text-align: right;\">\n",
       "      <th></th>\n",
       "      <th>id</th>\n",
       "      <th>resource_type</th>\n",
       "    </tr>\n",
       "  </thead>\n",
       "  <tbody>\n",
       "    <tr>\n",
       "      <th>0</th>\n",
       "      <td>6597</td>\n",
       "      <td>resource_type 8</td>\n",
       "    </tr>\n",
       "    <tr>\n",
       "      <th>1</th>\n",
       "      <td>8011</td>\n",
       "      <td>resource_type 8</td>\n",
       "    </tr>\n",
       "    <tr>\n",
       "      <th>2</th>\n",
       "      <td>2597</td>\n",
       "      <td>resource_type 8</td>\n",
       "    </tr>\n",
       "    <tr>\n",
       "      <th>3</th>\n",
       "      <td>5022</td>\n",
       "      <td>resource_type 8</td>\n",
       "    </tr>\n",
       "    <tr>\n",
       "      <th>4</th>\n",
       "      <td>6852</td>\n",
       "      <td>resource_type 8</td>\n",
       "    </tr>\n",
       "  </tbody>\n",
       "</table>\n",
       "</div>"
      ],
      "text/plain": [
       "     id    resource_type\n",
       "0  6597  resource_type 8\n",
       "1  8011  resource_type 8\n",
       "2  2597  resource_type 8\n",
       "3  5022  resource_type 8\n",
       "4  6852  resource_type 8"
      ]
     },
     "execution_count": 46,
     "metadata": {},
     "output_type": "execute_result"
    }
   ],
   "source": [
    "resource_type.head()"
   ]
  },
  {
   "cell_type": "code",
   "execution_count": 47,
   "metadata": {},
   "outputs": [
    {
     "data": {
      "text/html": [
       "<div>\n",
       "<style scoped>\n",
       "    .dataframe tbody tr th:only-of-type {\n",
       "        vertical-align: middle;\n",
       "    }\n",
       "\n",
       "    .dataframe tbody tr th {\n",
       "        vertical-align: top;\n",
       "    }\n",
       "\n",
       "    .dataframe thead th {\n",
       "        text-align: right;\n",
       "    }\n",
       "</style>\n",
       "<table border=\"1\" class=\"dataframe\">\n",
       "  <thead>\n",
       "    <tr style=\"text-align: right;\">\n",
       "      <th></th>\n",
       "      <th>id</th>\n",
       "      <th>resource_type</th>\n",
       "    </tr>\n",
       "  </thead>\n",
       "  <tbody>\n",
       "    <tr>\n",
       "      <th>0</th>\n",
       "      <td>6597</td>\n",
       "      <td>8</td>\n",
       "    </tr>\n",
       "    <tr>\n",
       "      <th>1</th>\n",
       "      <td>8011</td>\n",
       "      <td>8</td>\n",
       "    </tr>\n",
       "    <tr>\n",
       "      <th>2</th>\n",
       "      <td>2597</td>\n",
       "      <td>8</td>\n",
       "    </tr>\n",
       "    <tr>\n",
       "      <th>3</th>\n",
       "      <td>5022</td>\n",
       "      <td>8</td>\n",
       "    </tr>\n",
       "    <tr>\n",
       "      <th>4</th>\n",
       "      <td>6852</td>\n",
       "      <td>8</td>\n",
       "    </tr>\n",
       "  </tbody>\n",
       "</table>\n",
       "</div>"
      ],
      "text/plain": [
       "     id  resource_type\n",
       "0  6597              8\n",
       "1  8011              8\n",
       "2  2597              8\n",
       "3  5022              8\n",
       "4  6852              8"
      ]
     },
     "execution_count": 47,
     "metadata": {},
     "output_type": "execute_result"
    }
   ],
   "source": [
    "# clean the data of resourse type\n",
    "\n",
    "resource_type['resource_type'] = resource_type['resource_type'].str.lstrip('resource_type').astype('int')\n",
    "resource_type.head()"
   ]
  },
  {
   "cell_type": "code",
   "execution_count": 48,
   "metadata": {},
   "outputs": [
    {
     "data": {
      "text/plain": [
       "8     10268\n",
       "2      8918\n",
       "6       582\n",
       "7       498\n",
       "4       330\n",
       "9       190\n",
       "3       145\n",
       "10       73\n",
       "1        58\n",
       "5        14\n",
       "Name: resource_type, dtype: int64"
      ]
     },
     "execution_count": 48,
     "metadata": {},
     "output_type": "execute_result"
    }
   ],
   "source": [
    "resource_type['resource_type'].value_counts()"
   ]
  },
  {
   "cell_type": "code",
   "execution_count": 49,
   "metadata": {},
   "outputs": [
    {
     "data": {
      "text/html": [
       "<div>\n",
       "<style scoped>\n",
       "    .dataframe tbody tr th:only-of-type {\n",
       "        vertical-align: middle;\n",
       "    }\n",
       "\n",
       "    .dataframe tbody tr th {\n",
       "        vertical-align: top;\n",
       "    }\n",
       "\n",
       "    .dataframe thead th {\n",
       "        text-align: right;\n",
       "    }\n",
       "</style>\n",
       "<table border=\"1\" class=\"dataframe\">\n",
       "  <thead>\n",
       "    <tr style=\"text-align: right;\">\n",
       "      <th></th>\n",
       "      <th>id</th>\n",
       "      <th>resource_type_1</th>\n",
       "      <th>resource_type_2</th>\n",
       "      <th>resource_type_3</th>\n",
       "      <th>resource_type_4</th>\n",
       "      <th>resource_type_5</th>\n",
       "      <th>resource_type_6</th>\n",
       "      <th>resource_type_7</th>\n",
       "      <th>resource_type_8</th>\n",
       "      <th>resource_type_9</th>\n",
       "      <th>resource_type_10</th>\n",
       "    </tr>\n",
       "  </thead>\n",
       "  <tbody>\n",
       "    <tr>\n",
       "      <th>0</th>\n",
       "      <td>6597</td>\n",
       "      <td>0</td>\n",
       "      <td>0</td>\n",
       "      <td>0</td>\n",
       "      <td>0</td>\n",
       "      <td>0</td>\n",
       "      <td>0</td>\n",
       "      <td>0</td>\n",
       "      <td>1</td>\n",
       "      <td>0</td>\n",
       "      <td>0</td>\n",
       "    </tr>\n",
       "    <tr>\n",
       "      <th>1</th>\n",
       "      <td>8011</td>\n",
       "      <td>0</td>\n",
       "      <td>0</td>\n",
       "      <td>0</td>\n",
       "      <td>0</td>\n",
       "      <td>0</td>\n",
       "      <td>0</td>\n",
       "      <td>0</td>\n",
       "      <td>1</td>\n",
       "      <td>0</td>\n",
       "      <td>0</td>\n",
       "    </tr>\n",
       "    <tr>\n",
       "      <th>2</th>\n",
       "      <td>2597</td>\n",
       "      <td>0</td>\n",
       "      <td>0</td>\n",
       "      <td>0</td>\n",
       "      <td>0</td>\n",
       "      <td>0</td>\n",
       "      <td>0</td>\n",
       "      <td>0</td>\n",
       "      <td>1</td>\n",
       "      <td>0</td>\n",
       "      <td>0</td>\n",
       "    </tr>\n",
       "    <tr>\n",
       "      <th>3</th>\n",
       "      <td>5022</td>\n",
       "      <td>0</td>\n",
       "      <td>0</td>\n",
       "      <td>0</td>\n",
       "      <td>0</td>\n",
       "      <td>0</td>\n",
       "      <td>0</td>\n",
       "      <td>0</td>\n",
       "      <td>1</td>\n",
       "      <td>0</td>\n",
       "      <td>0</td>\n",
       "    </tr>\n",
       "    <tr>\n",
       "      <th>4</th>\n",
       "      <td>6852</td>\n",
       "      <td>0</td>\n",
       "      <td>0</td>\n",
       "      <td>0</td>\n",
       "      <td>0</td>\n",
       "      <td>0</td>\n",
       "      <td>0</td>\n",
       "      <td>0</td>\n",
       "      <td>1</td>\n",
       "      <td>0</td>\n",
       "      <td>0</td>\n",
       "    </tr>\n",
       "  </tbody>\n",
       "</table>\n",
       "</div>"
      ],
      "text/plain": [
       "     id  resource_type_1  resource_type_2  resource_type_3  resource_type_4  \\\n",
       "0  6597                0                0                0                0   \n",
       "1  8011                0                0                0                0   \n",
       "2  2597                0                0                0                0   \n",
       "3  5022                0                0                0                0   \n",
       "4  6852                0                0                0                0   \n",
       "\n",
       "   resource_type_5  resource_type_6  resource_type_7  resource_type_8  \\\n",
       "0                0                0                0                1   \n",
       "1                0                0                0                1   \n",
       "2                0                0                0                1   \n",
       "3                0                0                0                1   \n",
       "4                0                0                0                1   \n",
       "\n",
       "   resource_type_9  resource_type_10  \n",
       "0                0                 0  \n",
       "1                0                 0  \n",
       "2                0                 0  \n",
       "3                0                 0  \n",
       "4                0                 0  "
      ]
     },
     "execution_count": 49,
     "metadata": {},
     "output_type": "execute_result"
    }
   ],
   "source": [
    "resource_type = pd.get_dummies(resource_type , columns=['resource_type'])\n",
    "resource_type.head()"
   ]
  },
  {
   "cell_type": "markdown",
   "metadata": {},
   "source": [
    "# Analysis severity type"
   ]
  },
  {
   "cell_type": "code",
   "execution_count": 50,
   "metadata": {},
   "outputs": [
    {
     "name": "stdout",
     "output_type": "stream",
     "text": [
      "<class 'pandas.core.frame.DataFrame'>\n",
      "RangeIndex: 18552 entries, 0 to 18551\n",
      "Data columns (total 2 columns):\n",
      " #   Column         Non-Null Count  Dtype \n",
      "---  ------         --------------  ----- \n",
      " 0   id             18552 non-null  int64 \n",
      " 1   severity_type  18552 non-null  object\n",
      "dtypes: int64(1), object(1)\n",
      "memory usage: 290.0+ KB\n"
     ]
    }
   ],
   "source": [
    "severity_type.info()"
   ]
  },
  {
   "cell_type": "code",
   "execution_count": 51,
   "metadata": {},
   "outputs": [
    {
     "data": {
      "text/html": [
       "<div>\n",
       "<style scoped>\n",
       "    .dataframe tbody tr th:only-of-type {\n",
       "        vertical-align: middle;\n",
       "    }\n",
       "\n",
       "    .dataframe tbody tr th {\n",
       "        vertical-align: top;\n",
       "    }\n",
       "\n",
       "    .dataframe thead th {\n",
       "        text-align: right;\n",
       "    }\n",
       "</style>\n",
       "<table border=\"1\" class=\"dataframe\">\n",
       "  <thead>\n",
       "    <tr style=\"text-align: right;\">\n",
       "      <th></th>\n",
       "      <th>id</th>\n",
       "      <th>severity_type</th>\n",
       "    </tr>\n",
       "  </thead>\n",
       "  <tbody>\n",
       "    <tr>\n",
       "      <th>0</th>\n",
       "      <td>6597</td>\n",
       "      <td>severity_type 2</td>\n",
       "    </tr>\n",
       "    <tr>\n",
       "      <th>1</th>\n",
       "      <td>8011</td>\n",
       "      <td>severity_type 2</td>\n",
       "    </tr>\n",
       "    <tr>\n",
       "      <th>2</th>\n",
       "      <td>2597</td>\n",
       "      <td>severity_type 2</td>\n",
       "    </tr>\n",
       "    <tr>\n",
       "      <th>3</th>\n",
       "      <td>5022</td>\n",
       "      <td>severity_type 1</td>\n",
       "    </tr>\n",
       "    <tr>\n",
       "      <th>4</th>\n",
       "      <td>6852</td>\n",
       "      <td>severity_type 1</td>\n",
       "    </tr>\n",
       "  </tbody>\n",
       "</table>\n",
       "</div>"
      ],
      "text/plain": [
       "     id    severity_type\n",
       "0  6597  severity_type 2\n",
       "1  8011  severity_type 2\n",
       "2  2597  severity_type 2\n",
       "3  5022  severity_type 1\n",
       "4  6852  severity_type 1"
      ]
     },
     "execution_count": 51,
     "metadata": {},
     "output_type": "execute_result"
    }
   ],
   "source": [
    "severity_type.head()"
   ]
  },
  {
   "cell_type": "code",
   "execution_count": 52,
   "metadata": {},
   "outputs": [
    {
     "data": {
      "text/html": [
       "<div>\n",
       "<style scoped>\n",
       "    .dataframe tbody tr th:only-of-type {\n",
       "        vertical-align: middle;\n",
       "    }\n",
       "\n",
       "    .dataframe tbody tr th {\n",
       "        vertical-align: top;\n",
       "    }\n",
       "\n",
       "    .dataframe thead th {\n",
       "        text-align: right;\n",
       "    }\n",
       "</style>\n",
       "<table border=\"1\" class=\"dataframe\">\n",
       "  <thead>\n",
       "    <tr style=\"text-align: right;\">\n",
       "      <th></th>\n",
       "      <th>id</th>\n",
       "      <th>severity_type</th>\n",
       "    </tr>\n",
       "  </thead>\n",
       "  <tbody>\n",
       "    <tr>\n",
       "      <th>0</th>\n",
       "      <td>6597</td>\n",
       "      <td>2</td>\n",
       "    </tr>\n",
       "    <tr>\n",
       "      <th>1</th>\n",
       "      <td>8011</td>\n",
       "      <td>2</td>\n",
       "    </tr>\n",
       "    <tr>\n",
       "      <th>2</th>\n",
       "      <td>2597</td>\n",
       "      <td>2</td>\n",
       "    </tr>\n",
       "    <tr>\n",
       "      <th>3</th>\n",
       "      <td>5022</td>\n",
       "      <td>1</td>\n",
       "    </tr>\n",
       "    <tr>\n",
       "      <th>4</th>\n",
       "      <td>6852</td>\n",
       "      <td>1</td>\n",
       "    </tr>\n",
       "  </tbody>\n",
       "</table>\n",
       "</div>"
      ],
      "text/plain": [
       "     id  severity_type\n",
       "0  6597              2\n",
       "1  8011              2\n",
       "2  2597              2\n",
       "3  5022              1\n",
       "4  6852              1"
      ]
     },
     "execution_count": 52,
     "metadata": {},
     "output_type": "execute_result"
    }
   ],
   "source": [
    "# cleaning the severity data\n",
    "\n",
    "severity_type['severity_type'] = severity_type['severity_type'].str.lstrip('severity_type').astype('int')\n",
    "severity_type.head()"
   ]
  },
  {
   "cell_type": "code",
   "execution_count": 53,
   "metadata": {},
   "outputs": [
    {
     "data": {
      "text/plain": [
       "2    8737\n",
       "1    8728\n",
       "4    1014\n",
       "5      65\n",
       "3       8\n",
       "Name: severity_type, dtype: int64"
      ]
     },
     "execution_count": 53,
     "metadata": {},
     "output_type": "execute_result"
    }
   ],
   "source": [
    "severity_type['severity_type'].value_counts()"
   ]
  },
  {
   "cell_type": "code",
   "execution_count": 54,
   "metadata": {},
   "outputs": [
    {
     "data": {
      "text/html": [
       "<div>\n",
       "<style scoped>\n",
       "    .dataframe tbody tr th:only-of-type {\n",
       "        vertical-align: middle;\n",
       "    }\n",
       "\n",
       "    .dataframe tbody tr th {\n",
       "        vertical-align: top;\n",
       "    }\n",
       "\n",
       "    .dataframe thead th {\n",
       "        text-align: right;\n",
       "    }\n",
       "</style>\n",
       "<table border=\"1\" class=\"dataframe\">\n",
       "  <thead>\n",
       "    <tr style=\"text-align: right;\">\n",
       "      <th></th>\n",
       "      <th>id</th>\n",
       "      <th>severity_type_1</th>\n",
       "      <th>severity_type_2</th>\n",
       "      <th>severity_type_3</th>\n",
       "      <th>severity_type_4</th>\n",
       "      <th>severity_type_5</th>\n",
       "    </tr>\n",
       "  </thead>\n",
       "  <tbody>\n",
       "    <tr>\n",
       "      <th>0</th>\n",
       "      <td>6597</td>\n",
       "      <td>0</td>\n",
       "      <td>1</td>\n",
       "      <td>0</td>\n",
       "      <td>0</td>\n",
       "      <td>0</td>\n",
       "    </tr>\n",
       "    <tr>\n",
       "      <th>1</th>\n",
       "      <td>8011</td>\n",
       "      <td>0</td>\n",
       "      <td>1</td>\n",
       "      <td>0</td>\n",
       "      <td>0</td>\n",
       "      <td>0</td>\n",
       "    </tr>\n",
       "    <tr>\n",
       "      <th>2</th>\n",
       "      <td>2597</td>\n",
       "      <td>0</td>\n",
       "      <td>1</td>\n",
       "      <td>0</td>\n",
       "      <td>0</td>\n",
       "      <td>0</td>\n",
       "    </tr>\n",
       "    <tr>\n",
       "      <th>3</th>\n",
       "      <td>5022</td>\n",
       "      <td>1</td>\n",
       "      <td>0</td>\n",
       "      <td>0</td>\n",
       "      <td>0</td>\n",
       "      <td>0</td>\n",
       "    </tr>\n",
       "    <tr>\n",
       "      <th>4</th>\n",
       "      <td>6852</td>\n",
       "      <td>1</td>\n",
       "      <td>0</td>\n",
       "      <td>0</td>\n",
       "      <td>0</td>\n",
       "      <td>0</td>\n",
       "    </tr>\n",
       "  </tbody>\n",
       "</table>\n",
       "</div>"
      ],
      "text/plain": [
       "     id  severity_type_1  severity_type_2  severity_type_3  severity_type_4  \\\n",
       "0  6597                0                1                0                0   \n",
       "1  8011                0                1                0                0   \n",
       "2  2597                0                1                0                0   \n",
       "3  5022                1                0                0                0   \n",
       "4  6852                1                0                0                0   \n",
       "\n",
       "   severity_type_5  \n",
       "0                0  \n",
       "1                0  \n",
       "2                0  \n",
       "3                0  \n",
       "4                0  "
      ]
     },
     "execution_count": 54,
     "metadata": {},
     "output_type": "execute_result"
    }
   ],
   "source": [
    "# one hot encoding\n",
    "severity_type = pd.get_dummies(severity_type , columns=['severity_type'])\n",
    "severity_type.head()"
   ]
  },
  {
   "cell_type": "markdown",
   "metadata": {},
   "source": [
    "# analysis submission data"
   ]
  },
  {
   "cell_type": "code",
   "execution_count": 55,
   "metadata": {},
   "outputs": [
    {
     "name": "stdout",
     "output_type": "stream",
     "text": [
      "<class 'pandas.core.frame.DataFrame'>\n",
      "RangeIndex: 11171 entries, 0 to 11170\n",
      "Data columns (total 4 columns):\n",
      " #   Column     Non-Null Count  Dtype\n",
      "---  ------     --------------  -----\n",
      " 0   id         11171 non-null  int64\n",
      " 1   predict_0  11171 non-null  int64\n",
      " 2   predict_1  11171 non-null  int64\n",
      " 3   predict_2  11171 non-null  int64\n",
      "dtypes: int64(4)\n",
      "memory usage: 349.2 KB\n"
     ]
    }
   ],
   "source": [
    "sample_submission.info()"
   ]
  },
  {
   "cell_type": "code",
   "execution_count": 56,
   "metadata": {},
   "outputs": [
    {
     "data": {
      "text/html": [
       "<div>\n",
       "<style scoped>\n",
       "    .dataframe tbody tr th:only-of-type {\n",
       "        vertical-align: middle;\n",
       "    }\n",
       "\n",
       "    .dataframe tbody tr th {\n",
       "        vertical-align: top;\n",
       "    }\n",
       "\n",
       "    .dataframe thead th {\n",
       "        text-align: right;\n",
       "    }\n",
       "</style>\n",
       "<table border=\"1\" class=\"dataframe\">\n",
       "  <thead>\n",
       "    <tr style=\"text-align: right;\">\n",
       "      <th></th>\n",
       "      <th>id</th>\n",
       "      <th>predict_0</th>\n",
       "      <th>predict_1</th>\n",
       "      <th>predict_2</th>\n",
       "    </tr>\n",
       "  </thead>\n",
       "  <tbody>\n",
       "    <tr>\n",
       "      <th>0</th>\n",
       "      <td>11066</td>\n",
       "      <td>0</td>\n",
       "      <td>1</td>\n",
       "      <td>0</td>\n",
       "    </tr>\n",
       "    <tr>\n",
       "      <th>1</th>\n",
       "      <td>18000</td>\n",
       "      <td>0</td>\n",
       "      <td>1</td>\n",
       "      <td>0</td>\n",
       "    </tr>\n",
       "    <tr>\n",
       "      <th>2</th>\n",
       "      <td>16964</td>\n",
       "      <td>0</td>\n",
       "      <td>1</td>\n",
       "      <td>0</td>\n",
       "    </tr>\n",
       "    <tr>\n",
       "      <th>3</th>\n",
       "      <td>4795</td>\n",
       "      <td>0</td>\n",
       "      <td>1</td>\n",
       "      <td>0</td>\n",
       "    </tr>\n",
       "    <tr>\n",
       "      <th>4</th>\n",
       "      <td>3392</td>\n",
       "      <td>0</td>\n",
       "      <td>1</td>\n",
       "      <td>0</td>\n",
       "    </tr>\n",
       "  </tbody>\n",
       "</table>\n",
       "</div>"
      ],
      "text/plain": [
       "      id  predict_0  predict_1  predict_2\n",
       "0  11066          0          1          0\n",
       "1  18000          0          1          0\n",
       "2  16964          0          1          0\n",
       "3   4795          0          1          0\n",
       "4   3392          0          1          0"
      ]
     },
     "execution_count": 56,
     "metadata": {},
     "output_type": "execute_result"
    }
   ],
   "source": [
    "sample_submission.head()"
   ]
  },
  {
   "cell_type": "markdown",
   "metadata": {},
   "source": [
    "# **Feature Engineering**"
   ]
  },
  {
   "cell_type": "code",
   "execution_count": 57,
   "metadata": {},
   "outputs": [
    {
     "data": {
      "text/html": [
       "<div>\n",
       "<style scoped>\n",
       "    .dataframe tbody tr th:only-of-type {\n",
       "        vertical-align: middle;\n",
       "    }\n",
       "\n",
       "    .dataframe tbody tr th {\n",
       "        vertical-align: top;\n",
       "    }\n",
       "\n",
       "    .dataframe thead th {\n",
       "        text-align: right;\n",
       "    }\n",
       "</style>\n",
       "<table border=\"1\" class=\"dataframe\">\n",
       "  <thead>\n",
       "    <tr style=\"text-align: right;\">\n",
       "      <th></th>\n",
       "      <th>id</th>\n",
       "      <th>sum_event_type</th>\n",
       "    </tr>\n",
       "  </thead>\n",
       "  <tbody>\n",
       "    <tr>\n",
       "      <th>0</th>\n",
       "      <td>6597</td>\n",
       "      <td>11</td>\n",
       "    </tr>\n",
       "    <tr>\n",
       "      <th>1</th>\n",
       "      <td>8011</td>\n",
       "      <td>15</td>\n",
       "    </tr>\n",
       "    <tr>\n",
       "      <th>2</th>\n",
       "      <td>2597</td>\n",
       "      <td>15</td>\n",
       "    </tr>\n",
       "    <tr>\n",
       "      <th>3</th>\n",
       "      <td>5022</td>\n",
       "      <td>26</td>\n",
       "    </tr>\n",
       "    <tr>\n",
       "      <th>4</th>\n",
       "      <td>6852</td>\n",
       "      <td>26</td>\n",
       "    </tr>\n",
       "  </tbody>\n",
       "</table>\n",
       "</div>"
      ],
      "text/plain": [
       "     id  sum_event_type\n",
       "0  6597              11\n",
       "1  8011              15\n",
       "2  2597              15\n",
       "3  5022              26\n",
       "4  6852              26"
      ]
     },
     "execution_count": 57,
     "metadata": {},
     "output_type": "execute_result"
    }
   ],
   "source": [
    "event_type = event_type.groupby('id', sort=False).agg(sum).add_prefix('sum_').reset_index()\n",
    "\n",
    "event_type.head()"
   ]
  },
  {
   "cell_type": "code",
   "execution_count": 58,
   "metadata": {},
   "outputs": [
    {
     "data": {
      "text/html": [
       "<div>\n",
       "<style scoped>\n",
       "    .dataframe tbody tr th:only-of-type {\n",
       "        vertical-align: middle;\n",
       "    }\n",
       "\n",
       "    .dataframe tbody tr th {\n",
       "        vertical-align: top;\n",
       "    }\n",
       "\n",
       "    .dataframe thead th {\n",
       "        text-align: right;\n",
       "    }\n",
       "</style>\n",
       "<table border=\"1\" class=\"dataframe\">\n",
       "  <thead>\n",
       "    <tr style=\"text-align: right;\">\n",
       "      <th></th>\n",
       "      <th>id</th>\n",
       "      <th>count_log_feature</th>\n",
       "      <th>sum_volume</th>\n",
       "      <th>mean_volume</th>\n",
       "    </tr>\n",
       "  </thead>\n",
       "  <tbody>\n",
       "    <tr>\n",
       "      <th>0</th>\n",
       "      <td>6597</td>\n",
       "      <td>1</td>\n",
       "      <td>6</td>\n",
       "      <td>6.000000</td>\n",
       "    </tr>\n",
       "    <tr>\n",
       "      <th>1</th>\n",
       "      <td>8011</td>\n",
       "      <td>1</td>\n",
       "      <td>7</td>\n",
       "      <td>7.000000</td>\n",
       "    </tr>\n",
       "    <tr>\n",
       "      <th>2</th>\n",
       "      <td>2597</td>\n",
       "      <td>1</td>\n",
       "      <td>1</td>\n",
       "      <td>1.000000</td>\n",
       "    </tr>\n",
       "    <tr>\n",
       "      <th>3</th>\n",
       "      <td>5022</td>\n",
       "      <td>4</td>\n",
       "      <td>10</td>\n",
       "      <td>2.500000</td>\n",
       "    </tr>\n",
       "    <tr>\n",
       "      <th>4</th>\n",
       "      <td>6852</td>\n",
       "      <td>3</td>\n",
       "      <td>5</td>\n",
       "      <td>1.666667</td>\n",
       "    </tr>\n",
       "  </tbody>\n",
       "</table>\n",
       "</div>"
      ],
      "text/plain": [
       "     id  count_log_feature  sum_volume  mean_volume\n",
       "0  6597                  1           6     6.000000\n",
       "1  8011                  1           7     7.000000\n",
       "2  2597                  1           1     1.000000\n",
       "3  5022                  4          10     2.500000\n",
       "4  6852                  3           5     1.666667"
      ]
     },
     "execution_count": 58,
     "metadata": {},
     "output_type": "execute_result"
    }
   ],
   "source": [
    "log_feature = log_feature.groupby('id', sort=False).agg(count_log_feature=('log_feature','count'), \n",
    "                                                        sum_volume=('volume', 'sum'),\n",
    "                                                        mean_volume=('volume', 'mean')\n",
    "                                                      ).reset_index()\n",
    "log_feature.head()"
   ]
  },
  {
   "cell_type": "code",
   "execution_count": 59,
   "metadata": {},
   "outputs": [
    {
     "data": {
      "text/html": [
       "<div>\n",
       "<style scoped>\n",
       "    .dataframe tbody tr th:only-of-type {\n",
       "        vertical-align: middle;\n",
       "    }\n",
       "\n",
       "    .dataframe tbody tr th {\n",
       "        vertical-align: top;\n",
       "    }\n",
       "\n",
       "    .dataframe thead th {\n",
       "        text-align: right;\n",
       "    }\n",
       "</style>\n",
       "<table border=\"1\" class=\"dataframe\">\n",
       "  <thead>\n",
       "    <tr style=\"text-align: right;\">\n",
       "      <th></th>\n",
       "      <th>id</th>\n",
       "      <th>sum_resource_type_1</th>\n",
       "      <th>sum_resource_type_2</th>\n",
       "      <th>sum_resource_type_3</th>\n",
       "      <th>sum_resource_type_4</th>\n",
       "      <th>sum_resource_type_5</th>\n",
       "      <th>sum_resource_type_6</th>\n",
       "      <th>sum_resource_type_7</th>\n",
       "      <th>sum_resource_type_8</th>\n",
       "      <th>sum_resource_type_9</th>\n",
       "      <th>sum_resource_type_10</th>\n",
       "    </tr>\n",
       "  </thead>\n",
       "  <tbody>\n",
       "    <tr>\n",
       "      <th>0</th>\n",
       "      <td>6597</td>\n",
       "      <td>0</td>\n",
       "      <td>0</td>\n",
       "      <td>0</td>\n",
       "      <td>0</td>\n",
       "      <td>0</td>\n",
       "      <td>0</td>\n",
       "      <td>0</td>\n",
       "      <td>1</td>\n",
       "      <td>0</td>\n",
       "      <td>0</td>\n",
       "    </tr>\n",
       "    <tr>\n",
       "      <th>1</th>\n",
       "      <td>8011</td>\n",
       "      <td>0</td>\n",
       "      <td>0</td>\n",
       "      <td>0</td>\n",
       "      <td>0</td>\n",
       "      <td>0</td>\n",
       "      <td>0</td>\n",
       "      <td>0</td>\n",
       "      <td>1</td>\n",
       "      <td>0</td>\n",
       "      <td>0</td>\n",
       "    </tr>\n",
       "    <tr>\n",
       "      <th>2</th>\n",
       "      <td>2597</td>\n",
       "      <td>0</td>\n",
       "      <td>0</td>\n",
       "      <td>0</td>\n",
       "      <td>0</td>\n",
       "      <td>0</td>\n",
       "      <td>0</td>\n",
       "      <td>0</td>\n",
       "      <td>1</td>\n",
       "      <td>0</td>\n",
       "      <td>0</td>\n",
       "    </tr>\n",
       "    <tr>\n",
       "      <th>3</th>\n",
       "      <td>5022</td>\n",
       "      <td>0</td>\n",
       "      <td>0</td>\n",
       "      <td>0</td>\n",
       "      <td>0</td>\n",
       "      <td>0</td>\n",
       "      <td>0</td>\n",
       "      <td>0</td>\n",
       "      <td>1</td>\n",
       "      <td>0</td>\n",
       "      <td>0</td>\n",
       "    </tr>\n",
       "    <tr>\n",
       "      <th>4</th>\n",
       "      <td>6852</td>\n",
       "      <td>0</td>\n",
       "      <td>0</td>\n",
       "      <td>0</td>\n",
       "      <td>0</td>\n",
       "      <td>0</td>\n",
       "      <td>0</td>\n",
       "      <td>0</td>\n",
       "      <td>1</td>\n",
       "      <td>0</td>\n",
       "      <td>0</td>\n",
       "    </tr>\n",
       "  </tbody>\n",
       "</table>\n",
       "</div>"
      ],
      "text/plain": [
       "     id  sum_resource_type_1  sum_resource_type_2  sum_resource_type_3  \\\n",
       "0  6597                    0                    0                    0   \n",
       "1  8011                    0                    0                    0   \n",
       "2  2597                    0                    0                    0   \n",
       "3  5022                    0                    0                    0   \n",
       "4  6852                    0                    0                    0   \n",
       "\n",
       "   sum_resource_type_4  sum_resource_type_5  sum_resource_type_6  \\\n",
       "0                    0                    0                    0   \n",
       "1                    0                    0                    0   \n",
       "2                    0                    0                    0   \n",
       "3                    0                    0                    0   \n",
       "4                    0                    0                    0   \n",
       "\n",
       "   sum_resource_type_7  sum_resource_type_8  sum_resource_type_9  \\\n",
       "0                    0                    1                    0   \n",
       "1                    0                    1                    0   \n",
       "2                    0                    1                    0   \n",
       "3                    0                    1                    0   \n",
       "4                    0                    1                    0   \n",
       "\n",
       "   sum_resource_type_10  \n",
       "0                     0  \n",
       "1                     0  \n",
       "2                     0  \n",
       "3                     0  \n",
       "4                     0  "
      ]
     },
     "execution_count": 59,
     "metadata": {},
     "output_type": "execute_result"
    }
   ],
   "source": [
    "resource_type = resource_type.groupby('id', sort=False).agg(sum).add_prefix('sum_').reset_index()\n",
    "\n",
    "resource_type.head()"
   ]
  },
  {
   "cell_type": "code",
   "execution_count": 60,
   "metadata": {},
   "outputs": [
    {
     "data": {
      "text/plain": [
       "(18552, 23)"
      ]
     },
     "execution_count": 60,
     "metadata": {},
     "output_type": "execute_result"
    }
   ],
   "source": [
    "dfs = [data, log_feature, severity_type, resource_type, event_type] \n",
    "df1 = pd.merge(data , log_feature)\n",
    "df2 = pd.merge(df1 , severity_type)\n",
    "df3 = pd.merge(df2 , resource_type)\n",
    "result = pd.merge(df3 , event_type)\n",
    "\n",
    "result.shape"
   ]
  },
  {
   "cell_type": "code",
   "execution_count": 61,
   "metadata": {},
   "outputs": [
    {
     "data": {
      "text/plain": [
       "((18552, 4), (18552, 4), (18552, 6), (18552, 11), (18552, 2))"
      ]
     },
     "execution_count": 61,
     "metadata": {},
     "output_type": "execute_result"
    }
   ],
   "source": [
    "data.shape , log_feature.shape , severity_type.shape , resource_type.shape , event_type.shape"
   ]
  },
  {
   "cell_type": "code",
   "execution_count": 62,
   "metadata": {},
   "outputs": [
    {
     "data": {
      "text/html": [
       "<div>\n",
       "<style scoped>\n",
       "    .dataframe tbody tr th:only-of-type {\n",
       "        vertical-align: middle;\n",
       "    }\n",
       "\n",
       "    .dataframe tbody tr th {\n",
       "        vertical-align: top;\n",
       "    }\n",
       "\n",
       "    .dataframe thead th {\n",
       "        text-align: right;\n",
       "    }\n",
       "</style>\n",
       "<table border=\"1\" class=\"dataframe\">\n",
       "  <thead>\n",
       "    <tr style=\"text-align: right;\">\n",
       "      <th></th>\n",
       "      <th>id</th>\n",
       "      <th>location</th>\n",
       "      <th>fault_severity</th>\n",
       "      <th>istrain</th>\n",
       "      <th>count_log_feature</th>\n",
       "      <th>sum_volume</th>\n",
       "      <th>mean_volume</th>\n",
       "      <th>severity_type_1</th>\n",
       "      <th>severity_type_2</th>\n",
       "      <th>severity_type_3</th>\n",
       "      <th>...</th>\n",
       "      <th>sum_resource_type_2</th>\n",
       "      <th>sum_resource_type_3</th>\n",
       "      <th>sum_resource_type_4</th>\n",
       "      <th>sum_resource_type_5</th>\n",
       "      <th>sum_resource_type_6</th>\n",
       "      <th>sum_resource_type_7</th>\n",
       "      <th>sum_resource_type_8</th>\n",
       "      <th>sum_resource_type_9</th>\n",
       "      <th>sum_resource_type_10</th>\n",
       "      <th>sum_event_type</th>\n",
       "    </tr>\n",
       "  </thead>\n",
       "  <tbody>\n",
       "    <tr>\n",
       "      <th>0</th>\n",
       "      <td>14121</td>\n",
       "      <td>118</td>\n",
       "      <td>1.0</td>\n",
       "      <td>1</td>\n",
       "      <td>2</td>\n",
       "      <td>38</td>\n",
       "      <td>19.000000</td>\n",
       "      <td>0</td>\n",
       "      <td>1</td>\n",
       "      <td>0</td>\n",
       "      <td>...</td>\n",
       "      <td>1</td>\n",
       "      <td>0</td>\n",
       "      <td>0</td>\n",
       "      <td>0</td>\n",
       "      <td>0</td>\n",
       "      <td>0</td>\n",
       "      <td>0</td>\n",
       "      <td>0</td>\n",
       "      <td>0</td>\n",
       "      <td>69</td>\n",
       "    </tr>\n",
       "    <tr>\n",
       "      <th>1</th>\n",
       "      <td>9320</td>\n",
       "      <td>91</td>\n",
       "      <td>0.0</td>\n",
       "      <td>1</td>\n",
       "      <td>2</td>\n",
       "      <td>316</td>\n",
       "      <td>158.000000</td>\n",
       "      <td>0</td>\n",
       "      <td>1</td>\n",
       "      <td>0</td>\n",
       "      <td>...</td>\n",
       "      <td>1</td>\n",
       "      <td>0</td>\n",
       "      <td>0</td>\n",
       "      <td>0</td>\n",
       "      <td>0</td>\n",
       "      <td>0</td>\n",
       "      <td>0</td>\n",
       "      <td>0</td>\n",
       "      <td>0</td>\n",
       "      <td>69</td>\n",
       "    </tr>\n",
       "    <tr>\n",
       "      <th>2</th>\n",
       "      <td>14394</td>\n",
       "      <td>152</td>\n",
       "      <td>1.0</td>\n",
       "      <td>1</td>\n",
       "      <td>2</td>\n",
       "      <td>2</td>\n",
       "      <td>1.000000</td>\n",
       "      <td>0</td>\n",
       "      <td>1</td>\n",
       "      <td>0</td>\n",
       "      <td>...</td>\n",
       "      <td>1</td>\n",
       "      <td>0</td>\n",
       "      <td>0</td>\n",
       "      <td>0</td>\n",
       "      <td>0</td>\n",
       "      <td>0</td>\n",
       "      <td>0</td>\n",
       "      <td>0</td>\n",
       "      <td>0</td>\n",
       "      <td>69</td>\n",
       "    </tr>\n",
       "    <tr>\n",
       "      <th>3</th>\n",
       "      <td>8218</td>\n",
       "      <td>931</td>\n",
       "      <td>1.0</td>\n",
       "      <td>1</td>\n",
       "      <td>3</td>\n",
       "      <td>22</td>\n",
       "      <td>7.333333</td>\n",
       "      <td>1</td>\n",
       "      <td>0</td>\n",
       "      <td>0</td>\n",
       "      <td>...</td>\n",
       "      <td>0</td>\n",
       "      <td>0</td>\n",
       "      <td>0</td>\n",
       "      <td>0</td>\n",
       "      <td>0</td>\n",
       "      <td>0</td>\n",
       "      <td>1</td>\n",
       "      <td>0</td>\n",
       "      <td>0</td>\n",
       "      <td>26</td>\n",
       "    </tr>\n",
       "    <tr>\n",
       "      <th>4</th>\n",
       "      <td>14804</td>\n",
       "      <td>120</td>\n",
       "      <td>0.0</td>\n",
       "      <td>1</td>\n",
       "      <td>9</td>\n",
       "      <td>12</td>\n",
       "      <td>1.333333</td>\n",
       "      <td>1</td>\n",
       "      <td>0</td>\n",
       "      <td>0</td>\n",
       "      <td>...</td>\n",
       "      <td>1</td>\n",
       "      <td>0</td>\n",
       "      <td>0</td>\n",
       "      <td>0</td>\n",
       "      <td>0</td>\n",
       "      <td>0</td>\n",
       "      <td>1</td>\n",
       "      <td>0</td>\n",
       "      <td>0</td>\n",
       "      <td>101</td>\n",
       "    </tr>\n",
       "  </tbody>\n",
       "</table>\n",
       "<p>5 rows × 23 columns</p>\n",
       "</div>"
      ],
      "text/plain": [
       "      id  location  fault_severity  istrain  count_log_feature  sum_volume  \\\n",
       "0  14121       118             1.0        1                  2          38   \n",
       "1   9320        91             0.0        1                  2         316   \n",
       "2  14394       152             1.0        1                  2           2   \n",
       "3   8218       931             1.0        1                  3          22   \n",
       "4  14804       120             0.0        1                  9          12   \n",
       "\n",
       "   mean_volume  severity_type_1  severity_type_2  severity_type_3  ...  \\\n",
       "0    19.000000                0                1                0  ...   \n",
       "1   158.000000                0                1                0  ...   \n",
       "2     1.000000                0                1                0  ...   \n",
       "3     7.333333                1                0                0  ...   \n",
       "4     1.333333                1                0                0  ...   \n",
       "\n",
       "   sum_resource_type_2  sum_resource_type_3  sum_resource_type_4  \\\n",
       "0                    1                    0                    0   \n",
       "1                    1                    0                    0   \n",
       "2                    1                    0                    0   \n",
       "3                    0                    0                    0   \n",
       "4                    1                    0                    0   \n",
       "\n",
       "   sum_resource_type_5  sum_resource_type_6  sum_resource_type_7  \\\n",
       "0                    0                    0                    0   \n",
       "1                    0                    0                    0   \n",
       "2                    0                    0                    0   \n",
       "3                    0                    0                    0   \n",
       "4                    0                    0                    0   \n",
       "\n",
       "   sum_resource_type_8  sum_resource_type_9  sum_resource_type_10  \\\n",
       "0                    0                    0                     0   \n",
       "1                    0                    0                     0   \n",
       "2                    0                    0                     0   \n",
       "3                    1                    0                     0   \n",
       "4                    1                    0                     0   \n",
       "\n",
       "   sum_event_type  \n",
       "0              69  \n",
       "1              69  \n",
       "2              69  \n",
       "3              26  \n",
       "4             101  \n",
       "\n",
       "[5 rows x 23 columns]"
      ]
     },
     "execution_count": 62,
     "metadata": {},
     "output_type": "execute_result"
    }
   ],
   "source": [
    "result.head()"
   ]
  },
  {
   "cell_type": "code",
   "execution_count": 63,
   "metadata": {},
   "outputs": [
    {
     "data": {
      "text/plain": [
       "id                          0\n",
       "location                    0\n",
       "fault_severity          11171\n",
       "istrain                     0\n",
       "count_log_feature           0\n",
       "sum_volume                  0\n",
       "mean_volume                 0\n",
       "severity_type_1             0\n",
       "severity_type_2             0\n",
       "severity_type_3             0\n",
       "severity_type_4             0\n",
       "severity_type_5             0\n",
       "sum_resource_type_1         0\n",
       "sum_resource_type_2         0\n",
       "sum_resource_type_3         0\n",
       "sum_resource_type_4         0\n",
       "sum_resource_type_5         0\n",
       "sum_resource_type_6         0\n",
       "sum_resource_type_7         0\n",
       "sum_resource_type_8         0\n",
       "sum_resource_type_9         0\n",
       "sum_resource_type_10        0\n",
       "sum_event_type              0\n",
       "dtype: int64"
      ]
     },
     "execution_count": 63,
     "metadata": {},
     "output_type": "execute_result"
    }
   ],
   "source": [
    "result.isnull().sum()"
   ]
  },
  {
   "cell_type": "markdown",
   "metadata": {},
   "source": [
    "# Now its time to split the train and test data set"
   ]
  },
  {
   "cell_type": "code",
   "execution_count": 64,
   "metadata": {},
   "outputs": [
    {
     "data": {
      "text/html": [
       "<div>\n",
       "<style scoped>\n",
       "    .dataframe tbody tr th:only-of-type {\n",
       "        vertical-align: middle;\n",
       "    }\n",
       "\n",
       "    .dataframe tbody tr th {\n",
       "        vertical-align: top;\n",
       "    }\n",
       "\n",
       "    .dataframe thead th {\n",
       "        text-align: right;\n",
       "    }\n",
       "</style>\n",
       "<table border=\"1\" class=\"dataframe\">\n",
       "  <thead>\n",
       "    <tr style=\"text-align: right;\">\n",
       "      <th></th>\n",
       "      <th>id</th>\n",
       "      <th>location</th>\n",
       "      <th>fault_severity</th>\n",
       "      <th>istrain</th>\n",
       "      <th>count_log_feature</th>\n",
       "      <th>sum_volume</th>\n",
       "      <th>mean_volume</th>\n",
       "      <th>severity_type_1</th>\n",
       "      <th>severity_type_2</th>\n",
       "      <th>severity_type_3</th>\n",
       "      <th>...</th>\n",
       "      <th>sum_resource_type_2</th>\n",
       "      <th>sum_resource_type_3</th>\n",
       "      <th>sum_resource_type_4</th>\n",
       "      <th>sum_resource_type_5</th>\n",
       "      <th>sum_resource_type_6</th>\n",
       "      <th>sum_resource_type_7</th>\n",
       "      <th>sum_resource_type_8</th>\n",
       "      <th>sum_resource_type_9</th>\n",
       "      <th>sum_resource_type_10</th>\n",
       "      <th>sum_event_type</th>\n",
       "    </tr>\n",
       "  </thead>\n",
       "  <tbody>\n",
       "    <tr>\n",
       "      <th>0</th>\n",
       "      <td>14121</td>\n",
       "      <td>118</td>\n",
       "      <td>1.0</td>\n",
       "      <td>1</td>\n",
       "      <td>2</td>\n",
       "      <td>38</td>\n",
       "      <td>19.000000</td>\n",
       "      <td>0</td>\n",
       "      <td>1</td>\n",
       "      <td>0</td>\n",
       "      <td>...</td>\n",
       "      <td>1</td>\n",
       "      <td>0</td>\n",
       "      <td>0</td>\n",
       "      <td>0</td>\n",
       "      <td>0</td>\n",
       "      <td>0</td>\n",
       "      <td>0</td>\n",
       "      <td>0</td>\n",
       "      <td>0</td>\n",
       "      <td>69</td>\n",
       "    </tr>\n",
       "    <tr>\n",
       "      <th>1</th>\n",
       "      <td>9320</td>\n",
       "      <td>91</td>\n",
       "      <td>0.0</td>\n",
       "      <td>1</td>\n",
       "      <td>2</td>\n",
       "      <td>316</td>\n",
       "      <td>158.000000</td>\n",
       "      <td>0</td>\n",
       "      <td>1</td>\n",
       "      <td>0</td>\n",
       "      <td>...</td>\n",
       "      <td>1</td>\n",
       "      <td>0</td>\n",
       "      <td>0</td>\n",
       "      <td>0</td>\n",
       "      <td>0</td>\n",
       "      <td>0</td>\n",
       "      <td>0</td>\n",
       "      <td>0</td>\n",
       "      <td>0</td>\n",
       "      <td>69</td>\n",
       "    </tr>\n",
       "    <tr>\n",
       "      <th>2</th>\n",
       "      <td>14394</td>\n",
       "      <td>152</td>\n",
       "      <td>1.0</td>\n",
       "      <td>1</td>\n",
       "      <td>2</td>\n",
       "      <td>2</td>\n",
       "      <td>1.000000</td>\n",
       "      <td>0</td>\n",
       "      <td>1</td>\n",
       "      <td>0</td>\n",
       "      <td>...</td>\n",
       "      <td>1</td>\n",
       "      <td>0</td>\n",
       "      <td>0</td>\n",
       "      <td>0</td>\n",
       "      <td>0</td>\n",
       "      <td>0</td>\n",
       "      <td>0</td>\n",
       "      <td>0</td>\n",
       "      <td>0</td>\n",
       "      <td>69</td>\n",
       "    </tr>\n",
       "    <tr>\n",
       "      <th>3</th>\n",
       "      <td>8218</td>\n",
       "      <td>931</td>\n",
       "      <td>1.0</td>\n",
       "      <td>1</td>\n",
       "      <td>3</td>\n",
       "      <td>22</td>\n",
       "      <td>7.333333</td>\n",
       "      <td>1</td>\n",
       "      <td>0</td>\n",
       "      <td>0</td>\n",
       "      <td>...</td>\n",
       "      <td>0</td>\n",
       "      <td>0</td>\n",
       "      <td>0</td>\n",
       "      <td>0</td>\n",
       "      <td>0</td>\n",
       "      <td>0</td>\n",
       "      <td>1</td>\n",
       "      <td>0</td>\n",
       "      <td>0</td>\n",
       "      <td>26</td>\n",
       "    </tr>\n",
       "    <tr>\n",
       "      <th>4</th>\n",
       "      <td>14804</td>\n",
       "      <td>120</td>\n",
       "      <td>0.0</td>\n",
       "      <td>1</td>\n",
       "      <td>9</td>\n",
       "      <td>12</td>\n",
       "      <td>1.333333</td>\n",
       "      <td>1</td>\n",
       "      <td>0</td>\n",
       "      <td>0</td>\n",
       "      <td>...</td>\n",
       "      <td>1</td>\n",
       "      <td>0</td>\n",
       "      <td>0</td>\n",
       "      <td>0</td>\n",
       "      <td>0</td>\n",
       "      <td>0</td>\n",
       "      <td>1</td>\n",
       "      <td>0</td>\n",
       "      <td>0</td>\n",
       "      <td>101</td>\n",
       "    </tr>\n",
       "  </tbody>\n",
       "</table>\n",
       "<p>5 rows × 23 columns</p>\n",
       "</div>"
      ],
      "text/plain": [
       "      id  location  fault_severity  istrain  count_log_feature  sum_volume  \\\n",
       "0  14121       118             1.0        1                  2          38   \n",
       "1   9320        91             0.0        1                  2         316   \n",
       "2  14394       152             1.0        1                  2           2   \n",
       "3   8218       931             1.0        1                  3          22   \n",
       "4  14804       120             0.0        1                  9          12   \n",
       "\n",
       "   mean_volume  severity_type_1  severity_type_2  severity_type_3  ...  \\\n",
       "0    19.000000                0                1                0  ...   \n",
       "1   158.000000                0                1                0  ...   \n",
       "2     1.000000                0                1                0  ...   \n",
       "3     7.333333                1                0                0  ...   \n",
       "4     1.333333                1                0                0  ...   \n",
       "\n",
       "   sum_resource_type_2  sum_resource_type_3  sum_resource_type_4  \\\n",
       "0                    1                    0                    0   \n",
       "1                    1                    0                    0   \n",
       "2                    1                    0                    0   \n",
       "3                    0                    0                    0   \n",
       "4                    1                    0                    0   \n",
       "\n",
       "   sum_resource_type_5  sum_resource_type_6  sum_resource_type_7  \\\n",
       "0                    0                    0                    0   \n",
       "1                    0                    0                    0   \n",
       "2                    0                    0                    0   \n",
       "3                    0                    0                    0   \n",
       "4                    0                    0                    0   \n",
       "\n",
       "   sum_resource_type_8  sum_resource_type_9  sum_resource_type_10  \\\n",
       "0                    0                    0                     0   \n",
       "1                    0                    0                     0   \n",
       "2                    0                    0                     0   \n",
       "3                    1                    0                     0   \n",
       "4                    1                    0                     0   \n",
       "\n",
       "   sum_event_type  \n",
       "0              69  \n",
       "1              69  \n",
       "2              69  \n",
       "3              26  \n",
       "4             101  \n",
       "\n",
       "[5 rows x 23 columns]"
      ]
     },
     "execution_count": 64,
     "metadata": {},
     "output_type": "execute_result"
    }
   ],
   "source": [
    "train = result[result['istrain'] == 1]\n",
    "train.head()"
   ]
  },
  {
   "cell_type": "code",
   "execution_count": 65,
   "metadata": {},
   "outputs": [
    {
     "data": {
      "text/html": [
       "<div>\n",
       "<style scoped>\n",
       "    .dataframe tbody tr th:only-of-type {\n",
       "        vertical-align: middle;\n",
       "    }\n",
       "\n",
       "    .dataframe tbody tr th {\n",
       "        vertical-align: top;\n",
       "    }\n",
       "\n",
       "    .dataframe thead th {\n",
       "        text-align: right;\n",
       "    }\n",
       "</style>\n",
       "<table border=\"1\" class=\"dataframe\">\n",
       "  <thead>\n",
       "    <tr style=\"text-align: right;\">\n",
       "      <th></th>\n",
       "      <th>id</th>\n",
       "      <th>location</th>\n",
       "      <th>fault_severity</th>\n",
       "      <th>istrain</th>\n",
       "      <th>count_log_feature</th>\n",
       "      <th>sum_volume</th>\n",
       "      <th>mean_volume</th>\n",
       "      <th>severity_type_1</th>\n",
       "      <th>severity_type_2</th>\n",
       "      <th>severity_type_3</th>\n",
       "      <th>...</th>\n",
       "      <th>sum_resource_type_2</th>\n",
       "      <th>sum_resource_type_3</th>\n",
       "      <th>sum_resource_type_4</th>\n",
       "      <th>sum_resource_type_5</th>\n",
       "      <th>sum_resource_type_6</th>\n",
       "      <th>sum_resource_type_7</th>\n",
       "      <th>sum_resource_type_8</th>\n",
       "      <th>sum_resource_type_9</th>\n",
       "      <th>sum_resource_type_10</th>\n",
       "      <th>sum_event_type</th>\n",
       "    </tr>\n",
       "  </thead>\n",
       "  <tbody>\n",
       "    <tr>\n",
       "      <th>7381</th>\n",
       "      <td>11066</td>\n",
       "      <td>481</td>\n",
       "      <td>NaN</td>\n",
       "      <td>0</td>\n",
       "      <td>4</td>\n",
       "      <td>98</td>\n",
       "      <td>24.5</td>\n",
       "      <td>0</td>\n",
       "      <td>1</td>\n",
       "      <td>0</td>\n",
       "      <td>...</td>\n",
       "      <td>1</td>\n",
       "      <td>0</td>\n",
       "      <td>0</td>\n",
       "      <td>0</td>\n",
       "      <td>0</td>\n",
       "      <td>0</td>\n",
       "      <td>0</td>\n",
       "      <td>0</td>\n",
       "      <td>0</td>\n",
       "      <td>69</td>\n",
       "    </tr>\n",
       "    <tr>\n",
       "      <th>7382</th>\n",
       "      <td>18000</td>\n",
       "      <td>962</td>\n",
       "      <td>NaN</td>\n",
       "      <td>0</td>\n",
       "      <td>2</td>\n",
       "      <td>29</td>\n",
       "      <td>14.5</td>\n",
       "      <td>1</td>\n",
       "      <td>0</td>\n",
       "      <td>0</td>\n",
       "      <td>...</td>\n",
       "      <td>0</td>\n",
       "      <td>0</td>\n",
       "      <td>0</td>\n",
       "      <td>0</td>\n",
       "      <td>0</td>\n",
       "      <td>0</td>\n",
       "      <td>1</td>\n",
       "      <td>0</td>\n",
       "      <td>0</td>\n",
       "      <td>26</td>\n",
       "    </tr>\n",
       "    <tr>\n",
       "      <th>7383</th>\n",
       "      <td>16964</td>\n",
       "      <td>491</td>\n",
       "      <td>NaN</td>\n",
       "      <td>0</td>\n",
       "      <td>2</td>\n",
       "      <td>21</td>\n",
       "      <td>10.5</td>\n",
       "      <td>0</td>\n",
       "      <td>1</td>\n",
       "      <td>0</td>\n",
       "      <td>...</td>\n",
       "      <td>1</td>\n",
       "      <td>0</td>\n",
       "      <td>0</td>\n",
       "      <td>0</td>\n",
       "      <td>0</td>\n",
       "      <td>0</td>\n",
       "      <td>0</td>\n",
       "      <td>0</td>\n",
       "      <td>0</td>\n",
       "      <td>69</td>\n",
       "    </tr>\n",
       "    <tr>\n",
       "      <th>7384</th>\n",
       "      <td>4795</td>\n",
       "      <td>532</td>\n",
       "      <td>NaN</td>\n",
       "      <td>0</td>\n",
       "      <td>3</td>\n",
       "      <td>3</td>\n",
       "      <td>1.0</td>\n",
       "      <td>0</td>\n",
       "      <td>0</td>\n",
       "      <td>0</td>\n",
       "      <td>...</td>\n",
       "      <td>0</td>\n",
       "      <td>1</td>\n",
       "      <td>0</td>\n",
       "      <td>0</td>\n",
       "      <td>0</td>\n",
       "      <td>0</td>\n",
       "      <td>0</td>\n",
       "      <td>1</td>\n",
       "      <td>0</td>\n",
       "      <td>37</td>\n",
       "    </tr>\n",
       "    <tr>\n",
       "      <th>7385</th>\n",
       "      <td>3392</td>\n",
       "      <td>600</td>\n",
       "      <td>NaN</td>\n",
       "      <td>0</td>\n",
       "      <td>2</td>\n",
       "      <td>8</td>\n",
       "      <td>4.0</td>\n",
       "      <td>0</td>\n",
       "      <td>1</td>\n",
       "      <td>0</td>\n",
       "      <td>...</td>\n",
       "      <td>0</td>\n",
       "      <td>0</td>\n",
       "      <td>0</td>\n",
       "      <td>0</td>\n",
       "      <td>0</td>\n",
       "      <td>0</td>\n",
       "      <td>1</td>\n",
       "      <td>0</td>\n",
       "      <td>0</td>\n",
       "      <td>15</td>\n",
       "    </tr>\n",
       "  </tbody>\n",
       "</table>\n",
       "<p>5 rows × 23 columns</p>\n",
       "</div>"
      ],
      "text/plain": [
       "         id  location  fault_severity  istrain  count_log_feature  sum_volume  \\\n",
       "7381  11066       481             NaN        0                  4          98   \n",
       "7382  18000       962             NaN        0                  2          29   \n",
       "7383  16964       491             NaN        0                  2          21   \n",
       "7384   4795       532             NaN        0                  3           3   \n",
       "7385   3392       600             NaN        0                  2           8   \n",
       "\n",
       "      mean_volume  severity_type_1  severity_type_2  severity_type_3  ...  \\\n",
       "7381         24.5                0                1                0  ...   \n",
       "7382         14.5                1                0                0  ...   \n",
       "7383         10.5                0                1                0  ...   \n",
       "7384          1.0                0                0                0  ...   \n",
       "7385          4.0                0                1                0  ...   \n",
       "\n",
       "      sum_resource_type_2  sum_resource_type_3  sum_resource_type_4  \\\n",
       "7381                    1                    0                    0   \n",
       "7382                    0                    0                    0   \n",
       "7383                    1                    0                    0   \n",
       "7384                    0                    1                    0   \n",
       "7385                    0                    0                    0   \n",
       "\n",
       "      sum_resource_type_5  sum_resource_type_6  sum_resource_type_7  \\\n",
       "7381                    0                    0                    0   \n",
       "7382                    0                    0                    0   \n",
       "7383                    0                    0                    0   \n",
       "7384                    0                    0                    0   \n",
       "7385                    0                    0                    0   \n",
       "\n",
       "      sum_resource_type_8  sum_resource_type_9  sum_resource_type_10  \\\n",
       "7381                    0                    0                     0   \n",
       "7382                    1                    0                     0   \n",
       "7383                    0                    0                     0   \n",
       "7384                    0                    1                     0   \n",
       "7385                    1                    0                     0   \n",
       "\n",
       "      sum_event_type  \n",
       "7381              69  \n",
       "7382              26  \n",
       "7383              69  \n",
       "7384              37  \n",
       "7385              15  \n",
       "\n",
       "[5 rows x 23 columns]"
      ]
     },
     "execution_count": 65,
     "metadata": {},
     "output_type": "execute_result"
    }
   ],
   "source": [
    "test = result[result['istrain'] == 0]\n",
    "test.head()"
   ]
  },
  {
   "cell_type": "markdown",
   "metadata": {},
   "source": [
    "# Split the data into training and test sets"
   ]
  },
  {
   "cell_type": "code",
   "execution_count": 66,
   "metadata": {},
   "outputs": [
    {
     "name": "stdout",
     "output_type": "stream",
     "text": [
      "Train Validation Split Complete\n"
     ]
    }
   ],
   "source": [
    "from sklearn.model_selection import train_test_split\n",
    "\n",
    "np.random.seed(0)\n",
    "\n",
    "X = train.drop(columns='fault_severity')\n",
    "\n",
    "# Prediction target - Training data\n",
    "y = train['fault_severity']\n",
    "\n",
    "# Selected features - Test data\n",
    "x = test.drop(columns='fault_severity')\n",
    "\n",
    "# Break off validation set from training data\n",
    "X_train, X_valid, y_train, y_valid = train_test_split(X, y, train_size=0.8, test_size=0.2, random_state=0)\n",
    "\n",
    "print(\"Train Validation Split Complete\")"
   ]
  },
  {
   "cell_type": "markdown",
   "metadata": {},
   "source": [
    "# Scalling"
   ]
  },
  {
   "cell_type": "code",
   "execution_count": 67,
   "metadata": {},
   "outputs": [],
   "source": [
    "from sklearn.preprocessing import MinMaxScaler\n",
    "\n",
    "scaler = MinMaxScaler()\n",
    "\n",
    "X_train = scaler.fit_transform(X_train)\n",
    "X_valid = scaler.fit_transform(X_valid)"
   ]
  },
  {
   "cell_type": "code",
   "execution_count": 68,
   "metadata": {},
   "outputs": [
    {
     "data": {
      "text/plain": [
       "((5904, 22), (1477, 22))"
      ]
     },
     "execution_count": 68,
     "metadata": {},
     "output_type": "execute_result"
    }
   ],
   "source": [
    "X_train.shape , X_valid.shape"
   ]
  },
  {
   "cell_type": "code",
   "execution_count": 69,
   "metadata": {},
   "outputs": [
    {
     "name": "stdout",
     "output_type": "stream",
     "text": [
      "2.1.0\n"
     ]
    }
   ],
   "source": [
    "print(tf.__version__)"
   ]
  },
  {
   "cell_type": "markdown",
   "metadata": {},
   "source": [
    "# Data Modelling"
   ]
  },
  {
   "cell_type": "markdown",
   "metadata": {},
   "source": [
    "# Training the model using RNNs ( Recurrent Neural Networks ) Neural network"
   ]
  },
  {
   "cell_type": "code",
   "execution_count": 70,
   "metadata": {},
   "outputs": [
    {
     "name": "stdout",
     "output_type": "stream",
     "text": [
      "Model: \"sequential\"\n",
      "_________________________________________________________________\n",
      "Layer (type)                 Output Shape              Param #   \n",
      "=================================================================\n",
      "embedding (Embedding)        (None, None, 64)          64000     \n",
      "_________________________________________________________________\n",
      "simple_rnn (SimpleRNN)       (None, 28)                2604      \n",
      "_________________________________________________________________\n",
      "dense (Dense)                (None, 10)                290       \n",
      "=================================================================\n",
      "Total params: 66,894\n",
      "Trainable params: 66,894\n",
      "Non-trainable params: 0\n",
      "_________________________________________________________________\n"
     ]
    }
   ],
   "source": [
    "from tensorflow.keras.models import Sequential\n",
    "from tensorflow.keras.layers import Dense , Activation , Embedding\n",
    "from tensorflow.keras.layers import SimpleRNN , RNN\n",
    "from tensorflow.keras.optimizers import Adam\n",
    "\n",
    "model = tf.keras.Sequential()\n",
    "model.add(Embedding(input_dim=1000, output_dim=64))\n",
    "\n",
    "# The output of SimpleRNN will be a 2D tensor of shape (batch_size, 128)\n",
    "model.add(SimpleRNN(28))\n",
    "\n",
    "model.add(Dense(10 , activation='relu'))\n",
    "\n",
    "model.summary()"
   ]
  },
  {
   "cell_type": "code",
   "execution_count": 71,
   "metadata": {},
   "outputs": [],
   "source": [
    "model.compile(optimizer = 'adam' , loss ='sparse_categorical_crossentropy'  , metrics = ['categorical_accuracy'])"
   ]
  },
  {
   "cell_type": "code",
   "execution_count": 72,
   "metadata": {},
   "outputs": [
    {
     "name": "stdout",
     "output_type": "stream",
     "text": [
      "Train on 5904 samples, validate on 1477 samples\n",
      "Epoch 1/50\n",
      "5904/5904 [==============================] - 3s 529us/sample - loss: 3.3514 - categorical_accuracy: 0.3310 - val_loss: 1.5634 - val_categorical_accuracy: 0.0000e+00\n",
      "Epoch 2/50\n",
      "5904/5904 [==============================] - 1s 121us/sample - loss: 1.2205 - categorical_accuracy: 0.0000e+00 - val_loss: 1.0959 - val_categorical_accuracy: 0.0020\n",
      "Epoch 3/50\n",
      "5904/5904 [==============================] - 1s 119us/sample - loss: 1.0223 - categorical_accuracy: 0.0268 - val_loss: 0.9936 - val_categorical_accuracy: 0.1381\n",
      "Epoch 4/50\n",
      "5904/5904 [==============================] - 1s 119us/sample - loss: 0.9446 - categorical_accuracy: 0.6629 - val_loss: 0.9258 - val_categorical_accuracy: 0.9926\n",
      "Epoch 5/50\n",
      "5904/5904 [==============================] - 1s 119us/sample - loss: 0.8972 - categorical_accuracy: 0.9941 - val_loss: 0.8876 - val_categorical_accuracy: 1.0000\n",
      "Epoch 6/50\n",
      "5904/5904 [==============================] - 1s 123us/sample - loss: 0.8686 - categorical_accuracy: 0.9998 - val_loss: 0.8589 - val_categorical_accuracy: 1.0000\n",
      "Epoch 7/50\n",
      "5904/5904 [==============================] - 1s 124us/sample - loss: 0.8395 - categorical_accuracy: 1.0000 - val_loss: 0.8380 - val_categorical_accuracy: 1.0000\n",
      "Epoch 8/50\n",
      "5904/5904 [==============================] - 1s 121us/sample - loss: 0.8251 - categorical_accuracy: 1.0000 - val_loss: 0.8277 - val_categorical_accuracy: 1.0000\n",
      "Epoch 9/50\n",
      "5904/5904 [==============================] - 1s 123us/sample - loss: 0.8181 - categorical_accuracy: 1.0000 - val_loss: 0.8204 - val_categorical_accuracy: 1.0000\n",
      "Epoch 10/50\n",
      "5904/5904 [==============================] - 1s 120us/sample - loss: 0.8119 - categorical_accuracy: 1.0000 - val_loss: 0.8153 - val_categorical_accuracy: 1.0000\n",
      "Epoch 11/50\n",
      "5904/5904 [==============================] - 1s 128us/sample - loss: 0.8073 - categorical_accuracy: 0.9998 - val_loss: 0.8100 - val_categorical_accuracy: 1.0000\n",
      "Epoch 12/50\n",
      "5904/5904 [==============================] - 1s 117us/sample - loss: 0.8020 - categorical_accuracy: 0.9998 - val_loss: 0.8006 - val_categorical_accuracy: 1.0000\n",
      "Epoch 13/50\n",
      "5904/5904 [==============================] - 1s 126us/sample - loss: 0.7902 - categorical_accuracy: 0.9998 - val_loss: 0.7935 - val_categorical_accuracy: 1.0000\n",
      "Epoch 14/50\n",
      "5904/5904 [==============================] - 1s 131us/sample - loss: 0.7863 - categorical_accuracy: 0.9998 - val_loss: 0.7910 - val_categorical_accuracy: 1.0000\n",
      "Epoch 15/50\n",
      "5904/5904 [==============================] - 1s 127us/sample - loss: 0.7842 - categorical_accuracy: 0.9998 - val_loss: 0.7892 - val_categorical_accuracy: 1.0000\n",
      "Epoch 16/50\n",
      "5904/5904 [==============================] - 1s 125us/sample - loss: 0.7826 - categorical_accuracy: 0.9998 - val_loss: 0.7881 - val_categorical_accuracy: 1.0000\n",
      "Epoch 17/50\n",
      "5904/5904 [==============================] - 1s 123us/sample - loss: 0.7814 - categorical_accuracy: 0.9998 - val_loss: 0.7864 - val_categorical_accuracy: 1.0000\n",
      "Epoch 18/50\n",
      "5904/5904 [==============================] - 1s 119us/sample - loss: 0.7805 - categorical_accuracy: 0.9998 - val_loss: 0.7855 - val_categorical_accuracy: 1.0000\n",
      "Epoch 19/50\n",
      "5904/5904 [==============================] - 1s 118us/sample - loss: 0.7798 - categorical_accuracy: 0.9995 - val_loss: 0.7846 - val_categorical_accuracy: 0.9980\n",
      "Epoch 20/50\n",
      "5904/5904 [==============================] - 1s 117us/sample - loss: 0.7791 - categorical_accuracy: 0.9975 - val_loss: 0.7846 - val_categorical_accuracy: 0.9980\n",
      "Epoch 21/50\n",
      "5904/5904 [==============================] - 1s 120us/sample - loss: 0.7786 - categorical_accuracy: 0.9975 - val_loss: 0.7840 - val_categorical_accuracy: 0.9980\n",
      "Epoch 22/50\n",
      "5904/5904 [==============================] - 1s 127us/sample - loss: 0.7781 - categorical_accuracy: 0.9975 - val_loss: 0.7840 - val_categorical_accuracy: 0.9980\n",
      "Epoch 23/50\n",
      "5904/5904 [==============================] - 1s 124us/sample - loss: 0.7778 - categorical_accuracy: 0.9975 - val_loss: 0.7826 - val_categorical_accuracy: 0.9980\n",
      "Epoch 24/50\n",
      "5904/5904 [==============================] - 1s 128us/sample - loss: 0.7771 - categorical_accuracy: 0.9975 - val_loss: 0.7824 - val_categorical_accuracy: 0.9980\n",
      "Epoch 25/50\n",
      "5904/5904 [==============================] - 1s 126us/sample - loss: 0.7771 - categorical_accuracy: 0.9968 - val_loss: 0.7823 - val_categorical_accuracy: 0.9980\n",
      "Epoch 26/50\n",
      "5904/5904 [==============================] - 1s 119us/sample - loss: 0.7767 - categorical_accuracy: 0.9975 - val_loss: 0.7820 - val_categorical_accuracy: 0.9980\n",
      "Epoch 27/50\n",
      "5904/5904 [==============================] - 1s 124us/sample - loss: 0.7765 - categorical_accuracy: 0.9963 - val_loss: 0.7817 - val_categorical_accuracy: 0.9966\n",
      "Epoch 28/50\n",
      "5904/5904 [==============================] - 1s 119us/sample - loss: 0.7762 - categorical_accuracy: 0.9968 - val_loss: 0.7808 - val_categorical_accuracy: 0.9966\n",
      "Epoch 29/50\n",
      "5904/5904 [==============================] - 1s 120us/sample - loss: 0.7756 - categorical_accuracy: 0.9961 - val_loss: 0.7807 - val_categorical_accuracy: 0.9966\n",
      "Epoch 30/50\n",
      "5904/5904 [==============================] - 1s 121us/sample - loss: 0.7756 - categorical_accuracy: 0.9961 - val_loss: 0.7810 - val_categorical_accuracy: 0.9966\n",
      "Epoch 31/50\n",
      "5904/5904 [==============================] - 1s 121us/sample - loss: 0.7752 - categorical_accuracy: 0.9947 - val_loss: 0.7798 - val_categorical_accuracy: 0.9953\n",
      "Epoch 32/50\n",
      "5904/5904 [==============================] - 1s 122us/sample - loss: 0.7751 - categorical_accuracy: 0.9958 - val_loss: 0.7801 - val_categorical_accuracy: 0.9953\n",
      "Epoch 33/50\n",
      "5904/5904 [==============================] - 1s 120us/sample - loss: 0.7747 - categorical_accuracy: 0.9951 - val_loss: 0.7800 - val_categorical_accuracy: 0.9953\n",
      "Epoch 34/50\n",
      "5904/5904 [==============================] - 1s 117us/sample - loss: 0.7744 - categorical_accuracy: 0.9947 - val_loss: 0.7793 - val_categorical_accuracy: 0.9966\n",
      "Epoch 35/50\n",
      "5904/5904 [==============================] - 1s 117us/sample - loss: 0.7744 - categorical_accuracy: 0.9939 - val_loss: 0.7798 - val_categorical_accuracy: 0.9953\n",
      "Epoch 36/50\n",
      "5904/5904 [==============================] - 1s 118us/sample - loss: 0.7740 - categorical_accuracy: 0.9951 - val_loss: 0.7791 - val_categorical_accuracy: 0.9953\n",
      "Epoch 37/50\n",
      "5904/5904 [==============================] - 1s 119us/sample - loss: 0.7734 - categorical_accuracy: 0.9944 - val_loss: 0.7794 - val_categorical_accuracy: 0.9966\n",
      "Epoch 38/50\n",
      "5904/5904 [==============================] - 1s 117us/sample - loss: 0.7733 - categorical_accuracy: 0.9959 - val_loss: 0.7784 - val_categorical_accuracy: 0.9953\n",
      "Epoch 39/50\n",
      "5904/5904 [==============================] - 1s 115us/sample - loss: 0.7735 - categorical_accuracy: 0.9932 - val_loss: 0.7784 - val_categorical_accuracy: 0.9953\n",
      "Epoch 40/50\n",
      "5904/5904 [==============================] - 1s 119us/sample - loss: 0.7733 - categorical_accuracy: 0.9941 - val_loss: 0.7781 - val_categorical_accuracy: 0.9953\n",
      "Epoch 41/50\n",
      "5904/5904 [==============================] - 1s 115us/sample - loss: 0.7729 - categorical_accuracy: 0.9932 - val_loss: 0.7776 - val_categorical_accuracy: 0.9966\n",
      "Epoch 42/50\n",
      "5904/5904 [==============================] - 1s 120us/sample - loss: 0.7727 - categorical_accuracy: 0.9936 - val_loss: 0.7776 - val_categorical_accuracy: 0.9953\n",
      "Epoch 43/50\n",
      "5904/5904 [==============================] - 1s 113us/sample - loss: 0.7733 - categorical_accuracy: 0.9929 - val_loss: 0.7774 - val_categorical_accuracy: 0.9953\n",
      "Epoch 44/50\n",
      "5904/5904 [==============================] - 1s 120us/sample - loss: 0.7721 - categorical_accuracy: 0.9903 - val_loss: 0.7782 - val_categorical_accuracy: 0.9966\n",
      "Epoch 45/50\n",
      "5904/5904 [==============================] - 1s 119us/sample - loss: 0.7721 - categorical_accuracy: 0.9937 - val_loss: 0.7775 - val_categorical_accuracy: 0.9953\n",
      "Epoch 46/50\n",
      "5904/5904 [==============================] - 1s 119us/sample - loss: 0.7725 - categorical_accuracy: 0.9888 - val_loss: 0.7796 - val_categorical_accuracy: 0.9966\n",
      "Epoch 47/50\n",
      "5904/5904 [==============================] - 1s 116us/sample - loss: 0.7730 - categorical_accuracy: 0.9920 - val_loss: 0.7764 - val_categorical_accuracy: 0.9953\n",
      "Epoch 48/50\n"
     ]
    },
    {
     "name": "stdout",
     "output_type": "stream",
     "text": [
      "5904/5904 [==============================] - 1s 114us/sample - loss: 0.7718 - categorical_accuracy: 0.9875 - val_loss: 0.7774 - val_categorical_accuracy: 0.9953\n",
      "Epoch 49/50\n",
      "5904/5904 [==============================] - 1s 114us/sample - loss: 0.7712 - categorical_accuracy: 0.9892 - val_loss: 0.7761 - val_categorical_accuracy: 0.9919\n",
      "Epoch 50/50\n",
      "5904/5904 [==============================] - 1s 118us/sample - loss: 0.7717 - categorical_accuracy: 0.9881 - val_loss: 0.7765 - val_categorical_accuracy: 0.9919\n"
     ]
    },
    {
     "data": {
      "text/plain": [
       "<tensorflow.python.keras.callbacks.History at 0xc19b5b0448>"
      ]
     },
     "execution_count": 72,
     "metadata": {},
     "output_type": "execute_result"
    }
   ],
   "source": [
    "model.fit(x = X_train , y = y_train.values , validation_data = (X_valid , y_valid.values) , batch_size = 128 , epochs = 50)"
   ]
  },
  {
   "cell_type": "code",
   "execution_count": 73,
   "metadata": {},
   "outputs": [
    {
     "data": {
      "text/plain": [
       "{'loss': [3.351364643593145,\n",
       "  1.220467450495981,\n",
       "  1.0223302786266255,\n",
       "  0.9445998051625281,\n",
       "  0.8971526676077184,\n",
       "  0.8685788811060794,\n",
       "  0.8395182512963044,\n",
       "  0.8250688912099616,\n",
       "  0.8180788865257408,\n",
       "  0.8118650412494898,\n",
       "  0.8073429080852002,\n",
       "  0.8020291233127356,\n",
       "  0.7902211104305132,\n",
       "  0.7862969622379397,\n",
       "  0.7842245265074216,\n",
       "  0.7825563341621461,\n",
       "  0.7814039101768638,\n",
       "  0.780500799659791,\n",
       "  0.779768657555102,\n",
       "  0.7790749129564135,\n",
       "  0.7786470289798934,\n",
       "  0.7781306130453177,\n",
       "  0.7777542124595745,\n",
       "  0.7771466167638619,\n",
       "  0.7771232824338484,\n",
       "  0.7766922820551285,\n",
       "  0.7764513944868796,\n",
       "  0.7762410899164877,\n",
       "  0.7756165159427053,\n",
       "  0.7756006775832758,\n",
       "  0.7751884919194995,\n",
       "  0.7750678319271987,\n",
       "  0.774697137395864,\n",
       "  0.7744212589935882,\n",
       "  0.7743761713911848,\n",
       "  0.774036109285949,\n",
       "  0.7734465088624618,\n",
       "  0.7732910832092368,\n",
       "  0.7734891244874091,\n",
       "  0.7732695909696543,\n",
       "  0.7729349879391472,\n",
       "  0.7727232557648243,\n",
       "  0.7732538462977422,\n",
       "  0.7720532890580857,\n",
       "  0.7721426923100542,\n",
       "  0.7725403744999956,\n",
       "  0.773049315785974,\n",
       "  0.7718389321795001,\n",
       "  0.7712484446321399,\n",
       "  0.7716797755016545],\n",
       " 'categorical_accuracy': [0.33096206,\n",
       "  0.0,\n",
       "  0.026761517,\n",
       "  0.6629404,\n",
       "  0.99407184,\n",
       "  0.9998306,\n",
       "  1.0,\n",
       "  1.0,\n",
       "  1.0,\n",
       "  1.0,\n",
       "  0.9998306,\n",
       "  0.9998306,\n",
       "  0.9998306,\n",
       "  0.9998306,\n",
       "  0.9998306,\n",
       "  0.9998306,\n",
       "  0.9998306,\n",
       "  0.9998306,\n",
       "  0.9994919,\n",
       "  0.99745935,\n",
       "  0.99745935,\n",
       "  0.99745935,\n",
       "  0.99745935,\n",
       "  0.99745935,\n",
       "  0.9967818,\n",
       "  0.99745935,\n",
       "  0.9962737,\n",
       "  0.9967818,\n",
       "  0.99610436,\n",
       "  0.99610436,\n",
       "  0.9947493,\n",
       "  0.99576557,\n",
       "  0.9950881,\n",
       "  0.9947493,\n",
       "  0.99390244,\n",
       "  0.9950881,\n",
       "  0.9944106,\n",
       "  0.99593496,\n",
       "  0.9932249,\n",
       "  0.99407184,\n",
       "  0.9932249,\n",
       "  0.9935637,\n",
       "  0.9928862,\n",
       "  0.99034554,\n",
       "  0.99373305,\n",
       "  0.98882115,\n",
       "  0.9920393,\n",
       "  0.9874661,\n",
       "  0.9891599,\n",
       "  0.9881436],\n",
       " 'val_loss': [1.5633935675721113,\n",
       "  1.0959208060860552,\n",
       "  0.9936224405395879,\n",
       "  0.9257772219850957,\n",
       "  0.8875946689071733,\n",
       "  0.8589086442600655,\n",
       "  0.838026067414797,\n",
       "  0.8276620951147603,\n",
       "  0.8203675666207305,\n",
       "  0.8153482707836536,\n",
       "  0.8100139394997743,\n",
       "  0.80064752046208,\n",
       "  0.793472299361116,\n",
       "  0.7910454624314202,\n",
       "  0.7892267173742554,\n",
       "  0.7881153886109974,\n",
       "  0.7863544568712032,\n",
       "  0.7854955921967286,\n",
       "  0.7846101943350516,\n",
       "  0.7845880494944212,\n",
       "  0.7840420073888232,\n",
       "  0.7839666182880234,\n",
       "  0.782632661898877,\n",
       "  0.7824269745829304,\n",
       "  0.7823124847948026,\n",
       "  0.7819808315972501,\n",
       "  0.7817282348608923,\n",
       "  0.78080842397305,\n",
       "  0.7806962477894513,\n",
       "  0.7809512930781598,\n",
       "  0.7797809769030593,\n",
       "  0.7801414188615519,\n",
       "  0.779964067521092,\n",
       "  0.7793303123582596,\n",
       "  0.779829182734583,\n",
       "  0.7790729544335471,\n",
       "  0.7794356217397252,\n",
       "  0.7784334281932364,\n",
       "  0.7783682511800354,\n",
       "  0.7781431264948344,\n",
       "  0.7776013067548309,\n",
       "  0.7776228480429446,\n",
       "  0.7774421517398604,\n",
       "  0.778241760317506,\n",
       "  0.7775038456141989,\n",
       "  0.7795775041599571,\n",
       "  0.7764049978698518,\n",
       "  0.7773845575916339,\n",
       "  0.776131661582332,\n",
       "  0.7765379103358404],\n",
       " 'val_categorical_accuracy': [0.0,\n",
       "  0.0020311442,\n",
       "  0.1381178,\n",
       "  0.99255246,\n",
       "  1.0,\n",
       "  1.0,\n",
       "  1.0,\n",
       "  1.0,\n",
       "  1.0,\n",
       "  1.0,\n",
       "  1.0,\n",
       "  1.0,\n",
       "  1.0,\n",
       "  1.0,\n",
       "  1.0,\n",
       "  1.0,\n",
       "  1.0,\n",
       "  1.0,\n",
       "  0.99796885,\n",
       "  0.99796885,\n",
       "  0.99796885,\n",
       "  0.99796885,\n",
       "  0.99796885,\n",
       "  0.99796885,\n",
       "  0.99796885,\n",
       "  0.99796885,\n",
       "  0.99661475,\n",
       "  0.99661475,\n",
       "  0.99661475,\n",
       "  0.99661475,\n",
       "  0.99526066,\n",
       "  0.99526066,\n",
       "  0.99526066,\n",
       "  0.99661475,\n",
       "  0.99526066,\n",
       "  0.99526066,\n",
       "  0.99661475,\n",
       "  0.99526066,\n",
       "  0.99526066,\n",
       "  0.99526066,\n",
       "  0.99661475,\n",
       "  0.99526066,\n",
       "  0.99526066,\n",
       "  0.99661475,\n",
       "  0.99526066,\n",
       "  0.99661475,\n",
       "  0.99526066,\n",
       "  0.99526066,\n",
       "  0.9918754,\n",
       "  0.9918754]}"
      ]
     },
     "execution_count": 73,
     "metadata": {},
     "output_type": "execute_result"
    }
   ],
   "source": [
    "model.history.history"
   ]
  },
  {
   "cell_type": "code",
   "execution_count": 74,
   "metadata": {},
   "outputs": [],
   "source": [
    "loss = pd.DataFrame(model.history.history)"
   ]
  },
  {
   "cell_type": "code",
   "execution_count": 75,
   "metadata": {},
   "outputs": [
    {
     "data": {
      "text/plain": [
       "<matplotlib.axes._subplots.AxesSubplot at 0xc18959f848>"
      ]
     },
     "execution_count": 75,
     "metadata": {},
     "output_type": "execute_result"
    },
    {
     "data": {
      "image/png": "[encoded data removed]",
      "text/plain": [
       "<Figure size 864x504 with 1 Axes>"
      ]
     },
     "metadata": {},
     "output_type": "display_data"
    }
   ],
   "source": [
    "plt.style.use('seaborn')\n",
    "loss.plot(figsize = (12,7))"
   ]
  },
  {
   "cell_type": "code",
   "execution_count": 76,
   "metadata": {},
   "outputs": [],
   "source": [
    "from sklearn.metrics import mean_absolute_error , mean_squared_error , explained_variance_score , r2_score"
   ]
  },
  {
   "cell_type": "code",
   "execution_count": 77,
   "metadata": {},
   "outputs": [],
   "source": [
    "y_preds = model.predict(y_valid)"
   ]
  },
  {
   "cell_type": "code",
   "execution_count": 78,
   "metadata": {},
   "outputs": [],
   "source": [
    "err = pd.DataFrame(y_valid.values.reshape(1477,1) - y_preds)"
   ]
  },
  {
   "cell_type": "code",
   "execution_count": 79,
   "metadata": {},
   "outputs": [
    {
     "data": {
      "text/plain": [
       "<matplotlib.axes._subplots.AxesSubplot at 0xc19e235708>"
      ]
     },
     "execution_count": 79,
     "metadata": {},
     "output_type": "execute_result"
    },
    {
     "data": {
      "image/png": "[encoded data removed]",
      "text/plain": [
       "<Figure size 432x432 with 1 Axes>"
      ]
     },
     "metadata": {},
     "output_type": "display_data"
    }
   ],
   "source": [
    "plt.figure(figsize=(6,6))\n",
    "sns.distplot(err , bins = 50)"
   ]
  },
  {
   "cell_type": "markdown",
   "metadata": {},
   "source": [
    "* The above line graph shows that the model is perfectly trainined upto the 30 epoches after that it fluctuates at some epoches then again it shows the linear dependency with loss and categorical accuracy\n",
    "\n",
    "* And the next graph shows the error which means the difference between predicted labels and true labels and shows on a distributed graph"
   ]
  },
  {
   "cell_type": "markdown",
   "metadata": {},
   "source": [
    "# Now lets see what will happen to the accuracy of the model if we change the hyperparameters or increase/descrese the number of layers."
   ]
  },
  {
   "cell_type": "markdown",
   "metadata": {},
   "source": [
    "## Tuning the hyperparameters or changing the number of layers"
   ]
  },
  {
   "cell_type": "code",
   "execution_count": 80,
   "metadata": {},
   "outputs": [
    {
     "name": "stdout",
     "output_type": "stream",
     "text": [
      "Model: \"sequential_1\"\n",
      "_________________________________________________________________\n",
      "Layer (type)                 Output Shape              Param #   \n",
      "=================================================================\n",
      "embedding_1 (Embedding)      (None, None, 64)          64000     \n",
      "_________________________________________________________________\n",
      "simple_rnn_1 (SimpleRNN)     (None, 120)               22200     \n",
      "_________________________________________________________________\n",
      "dense_1 (Dense)              (None, 10)                1210      \n",
      "=================================================================\n",
      "Total params: 87,410\n",
      "Trainable params: 87,410\n",
      "Non-trainable params: 0\n",
      "_________________________________________________________________\n"
     ]
    }
   ],
   "source": [
    "# changing the number of layers\n",
    "from tensorflow.keras.models import Sequential\n",
    "from tensorflow.keras.layers import Dense , Activation , Embedding\n",
    "from tensorflow.keras.layers import SimpleRNN , RNN\n",
    "from tensorflow.keras.optimizers import Adam\n",
    "\n",
    "model_2 = tf.keras.Sequential()\n",
    "model_2.add(Embedding(input_dim=1000, output_dim=64))\n",
    "\n",
    "# The output of SimpleRNN will be a 2D tensor of shape (batch_size, 128)\n",
    "model_2.add(SimpleRNN(120))\n",
    "\n",
    "model_2.add(Dense(10 , activation='softmax'))\n",
    "\n",
    "model_2.summary()"
   ]
  },
  {
   "cell_type": "code",
   "execution_count": 81,
   "metadata": {},
   "outputs": [],
   "source": [
    "# compile the model\n",
    "model_2.compile(optimizer = 'adam' , loss ='sparse_categorical_crossentropy'  , metrics = ['accuracy'])"
   ]
  },
  {
   "cell_type": "code",
   "execution_count": 82,
   "metadata": {},
   "outputs": [
    {
     "name": "stdout",
     "output_type": "stream",
     "text": [
      "Train on 5904 samples, validate on 1477 samples\n",
      "Epoch 1/50\n",
      "5904/5904 [==============================] - 4s 647us/sample - loss: 0.9839 - accuracy: 0.6348 - val_loss: 0.8691 - val_accuracy: 0.6486\n",
      "Epoch 2/50\n",
      "5904/5904 [==============================] - 2s 278us/sample - loss: 0.8552 - accuracy: 0.6480 - val_loss: 0.8598 - val_accuracy: 0.6486\n",
      "Epoch 3/50\n",
      "5904/5904 [==============================] - 2s 274us/sample - loss: 0.8350 - accuracy: 0.6448 - val_loss: 0.8134 - val_accuracy: 0.6486\n",
      "Epoch 4/50\n",
      "5904/5904 [==============================] - 2s 275us/sample - loss: 0.8039 - accuracy: 0.6424 - val_loss: 0.8042 - val_accuracy: 0.6486\n",
      "Epoch 5/50\n",
      "5904/5904 [==============================] - 2s 281us/sample - loss: 0.7927 - accuracy: 0.6506 - val_loss: 0.7872 - val_accuracy: 0.6486\n",
      "Epoch 6/50\n",
      "5904/5904 [==============================] - 2s 281us/sample - loss: 0.7863 - accuracy: 0.6535 - val_loss: 0.7930 - val_accuracy: 0.6486\n",
      "Epoch 7/50\n",
      "5904/5904 [==============================] - 2s 286us/sample - loss: 0.7800 - accuracy: 0.6546 - val_loss: 0.7785 - val_accuracy: 0.6506\n",
      "Epoch 8/50\n",
      "5904/5904 [==============================] - 2s 284us/sample - loss: 0.7775 - accuracy: 0.6577 - val_loss: 0.7779 - val_accuracy: 0.6513\n",
      "Epoch 9/50\n",
      "5904/5904 [==============================] - 2s 287us/sample - loss: 0.7756 - accuracy: 0.6582 - val_loss: 0.7752 - val_accuracy: 0.6513\n",
      "Epoch 10/50\n",
      "5904/5904 [==============================] - 2s 289us/sample - loss: 0.7771 - accuracy: 0.6538 - val_loss: 0.7751 - val_accuracy: 0.6513\n",
      "Epoch 11/50\n",
      "5904/5904 [==============================] - 2s 294us/sample - loss: 0.7766 - accuracy: 0.6579 - val_loss: 0.7787 - val_accuracy: 0.6479\n",
      "Epoch 12/50\n",
      "5904/5904 [==============================] - 2s 292us/sample - loss: 0.7762 - accuracy: 0.6548 - val_loss: 0.7727 - val_accuracy: 0.6513\n",
      "Epoch 13/50\n",
      "5904/5904 [==============================] - 2s 306us/sample - loss: 0.7740 - accuracy: 0.6558 - val_loss: 0.7758 - val_accuracy: 0.6466\n",
      "Epoch 14/50\n",
      "5904/5904 [==============================] - 2s 285us/sample - loss: 0.7748 - accuracy: 0.6575 - val_loss: 0.7771 - val_accuracy: 0.6479\n",
      "Epoch 15/50\n",
      "5904/5904 [==============================] - 2s 294us/sample - loss: 0.7767 - accuracy: 0.6579 - val_loss: 0.7759 - val_accuracy: 0.6459\n",
      "Epoch 16/50\n",
      "5904/5904 [==============================] - 2s 295us/sample - loss: 0.7729 - accuracy: 0.6546 - val_loss: 0.7730 - val_accuracy: 0.6486\n",
      "Epoch 17/50\n",
      "5904/5904 [==============================] - 2s 296us/sample - loss: 0.7686 - accuracy: 0.6557 - val_loss: 0.7732 - val_accuracy: 0.6513\n",
      "Epoch 18/50\n",
      "5904/5904 [==============================] - 2s 290us/sample - loss: 0.7704 - accuracy: 0.6585 - val_loss: 0.7737 - val_accuracy: 0.6479\n",
      "Epoch 19/50\n",
      "5904/5904 [==============================] - 2s 285us/sample - loss: 0.7667 - accuracy: 0.6579 - val_loss: 0.7704 - val_accuracy: 0.6486\n",
      "Epoch 20/50\n",
      "5904/5904 [==============================] - 2s 292us/sample - loss: 0.7646 - accuracy: 0.6587 - val_loss: 0.7717 - val_accuracy: 0.6486\n",
      "Epoch 21/50\n",
      "5904/5904 [==============================] - 2s 292us/sample - loss: 0.7631 - accuracy: 0.6594 - val_loss: 0.7740 - val_accuracy: 0.6486\n",
      "Epoch 22/50\n",
      "5904/5904 [==============================] - 2s 289us/sample - loss: 0.7670 - accuracy: 0.6579 - val_loss: 0.7716 - val_accuracy: 0.6506\n",
      "Epoch 23/50\n",
      "5904/5904 [==============================] - 2s 293us/sample - loss: 0.7645 - accuracy: 0.6589 - val_loss: 0.7668 - val_accuracy: 0.6506\n",
      "Epoch 24/50\n",
      "5904/5904 [==============================] - 2s 281us/sample - loss: 0.7651 - accuracy: 0.6558 - val_loss: 0.7695 - val_accuracy: 0.6567\n",
      "Epoch 25/50\n",
      "5904/5904 [==============================] - 2s 284us/sample - loss: 0.7633 - accuracy: 0.6596 - val_loss: 0.7681 - val_accuracy: 0.6513\n",
      "Epoch 26/50\n",
      "5904/5904 [==============================] - 2s 275us/sample - loss: 0.7642 - accuracy: 0.6589 - val_loss: 0.7718 - val_accuracy: 0.6594\n",
      "Epoch 27/50\n",
      "5904/5904 [==============================] - 2s 267us/sample - loss: 0.7641 - accuracy: 0.6584 - val_loss: 0.7686 - val_accuracy: 0.6506\n",
      "Epoch 28/50\n",
      "5904/5904 [==============================] - 2s 270us/sample - loss: 0.7621 - accuracy: 0.6604 - val_loss: 0.7861 - val_accuracy: 0.6567\n",
      "Epoch 29/50\n",
      "5904/5904 [==============================] - 2s 275us/sample - loss: 0.7641 - accuracy: 0.6555 - val_loss: 0.7646 - val_accuracy: 0.6513\n",
      "Epoch 30/50\n",
      "5904/5904 [==============================] - 2s 278us/sample - loss: 0.7616 - accuracy: 0.6596 - val_loss: 0.7835 - val_accuracy: 0.6513\n",
      "Epoch 31/50\n",
      "5904/5904 [==============================] - 2s 273us/sample - loss: 0.7592 - accuracy: 0.6604 - val_loss: 0.7704 - val_accuracy: 0.6567\n",
      "Epoch 32/50\n",
      "5904/5904 [==============================] - 2s 268us/sample - loss: 0.7600 - accuracy: 0.6604 - val_loss: 0.7658 - val_accuracy: 0.6540\n",
      "Epoch 33/50\n",
      "5904/5904 [==============================] - 2s 276us/sample - loss: 0.7608 - accuracy: 0.6585 - val_loss: 0.7701 - val_accuracy: 0.6520\n",
      "Epoch 34/50\n",
      "5904/5904 [==============================] - 2s 274us/sample - loss: 0.7593 - accuracy: 0.6629 - val_loss: 0.7727 - val_accuracy: 0.6534\n",
      "Epoch 35/50\n",
      "5904/5904 [==============================] - 2s 277us/sample - loss: 0.7591 - accuracy: 0.6599 - val_loss: 0.7662 - val_accuracy: 0.6540\n",
      "Epoch 36/50\n",
      "5904/5904 [==============================] - 2s 268us/sample - loss: 0.7618 - accuracy: 0.6609 - val_loss: 0.7668 - val_accuracy: 0.6500\n",
      "Epoch 37/50\n",
      "5904/5904 [==============================] - 2s 264us/sample - loss: 0.7610 - accuracy: 0.6606 - val_loss: 0.7656 - val_accuracy: 0.6534\n",
      "Epoch 38/50\n",
      "5904/5904 [==============================] - 1s 251us/sample - loss: 0.7596 - accuracy: 0.6597 - val_loss: 0.7673 - val_accuracy: 0.6527\n",
      "Epoch 39/50\n",
      "5904/5904 [==============================] - 2s 259us/sample - loss: 0.7583 - accuracy: 0.6621 - val_loss: 0.7684 - val_accuracy: 0.6581\n",
      "Epoch 40/50\n",
      "5904/5904 [==============================] - 2s 262us/sample - loss: 0.7635 - accuracy: 0.6618 - val_loss: 0.7672 - val_accuracy: 0.6534\n",
      "Epoch 41/50\n",
      "5904/5904 [==============================] - 2s 273us/sample - loss: 0.7586 - accuracy: 0.6624 - val_loss: 0.7679 - val_accuracy: 0.6527\n",
      "Epoch 42/50\n",
      "5904/5904 [==============================] - 2s 256us/sample - loss: 0.7583 - accuracy: 0.6629 - val_loss: 0.7742 - val_accuracy: 0.6513\n",
      "Epoch 43/50\n",
      "5904/5904 [==============================] - 2s 266us/sample - loss: 0.7585 - accuracy: 0.6626 - val_loss: 0.7671 - val_accuracy: 0.6534\n",
      "Epoch 44/50\n",
      "5904/5904 [==============================] - 2s 270us/sample - loss: 0.7556 - accuracy: 0.6629 - val_loss: 0.7664 - val_accuracy: 0.6513\n",
      "Epoch 45/50\n",
      "5904/5904 [==============================] - 2s 269us/sample - loss: 0.7571 - accuracy: 0.6594 - val_loss: 0.7770 - val_accuracy: 0.6540\n",
      "Epoch 46/50\n",
      "5904/5904 [==============================] - 2s 276us/sample - loss: 0.7577 - accuracy: 0.6629 - val_loss: 0.7746 - val_accuracy: 0.6527\n",
      "Epoch 47/50\n",
      "5904/5904 [==============================] - 2s 269us/sample - loss: 0.7596 - accuracy: 0.6596 - val_loss: 0.7669 - val_accuracy: 0.6540\n",
      "Epoch 48/50\n",
      "5904/5904 [==============================] - 2s 269us/sample - loss: 0.7555 - accuracy: 0.6631 - val_loss: 0.7678 - val_accuracy: 0.6527\n",
      "Epoch 49/50\n",
      "5904/5904 [==============================] - 2s 273us/sample - loss: 0.7574 - accuracy: 0.6629 - val_loss: 0.7676 - val_accuracy: 0.6527\n",
      "Epoch 50/50\n",
      "5904/5904 [==============================] - 2s 267us/sample - loss: 0.7598 - accuracy: 0.6621 - val_loss: 0.7723 - val_accuracy: 0.6500\n"
     ]
    },
    {
     "data": {
      "text/plain": [
       "<tensorflow.python.keras.callbacks.History at 0xc19f032d08>"
      ]
     },
     "execution_count": 82,
     "metadata": {},
     "output_type": "execute_result"
    }
   ],
   "source": [
    "model_2.fit(x = X_train , y = y_train.values , validation_data = (X_valid , y_valid.values) , batch_size = 128 , epochs = 50)"
   ]
  },
  {
   "cell_type": "code",
   "execution_count": 83,
   "metadata": {},
   "outputs": [
    {
     "data": {
      "text/plain": [
       "{'loss': [0.9839192654705307,\n",
       "  0.8552053281608313,\n",
       "  0.8350405793202925,\n",
       "  0.8038661979078278,\n",
       "  0.7926527476569178,\n",
       "  0.7863273346004124,\n",
       "  0.7799673208053196,\n",
       "  0.7775473714197877,\n",
       "  0.7755756864379738,\n",
       "  0.7771382834207075,\n",
       "  0.7766266017748411,\n",
       "  0.7762215717375117,\n",
       "  0.7739844771258553,\n",
       "  0.7747721193928706,\n",
       "  0.7767338646136648,\n",
       "  0.7729059853527928,\n",
       "  0.7685524238157402,\n",
       "  0.7704360914747244,\n",
       "  0.7667082506143627,\n",
       "  0.7646038713170907,\n",
       "  0.7630579458665718,\n",
       "  0.7669700839655186,\n",
       "  0.764511002757685,\n",
       "  0.7650930529364403,\n",
       "  0.7633280505332843,\n",
       "  0.7641514013130167,\n",
       "  0.764057298016742,\n",
       "  0.7621493342769178,\n",
       "  0.7641243710104366,\n",
       "  0.7615543810655754,\n",
       "  0.7591832372231212,\n",
       "  0.7599603326986153,\n",
       "  0.7608371737203624,\n",
       "  0.7593277831710774,\n",
       "  0.7590892625048877,\n",
       "  0.7618298861715529,\n",
       "  0.7609513923727723,\n",
       "  0.7595544047148893,\n",
       "  0.7582649729116177,\n",
       "  0.7634696051034178,\n",
       "  0.7586464487763278,\n",
       "  0.7583205601387231,\n",
       "  0.7585163505742867,\n",
       "  0.7556139350260499,\n",
       "  0.7570702120217527,\n",
       "  0.7577454261986544,\n",
       "  0.759588922750013,\n",
       "  0.755519361999946,\n",
       "  0.7574134625716584,\n",
       "  0.7598319631928028],\n",
       " 'accuracy': [0.63482386,\n",
       "  0.6480352,\n",
       "  0.64481705,\n",
       "  0.6424458,\n",
       "  0.6505759,\n",
       "  0.65345526,\n",
       "  0.6546409,\n",
       "  0.6576897,\n",
       "  0.6581978,\n",
       "  0.65379405,\n",
       "  0.6578591,\n",
       "  0.6548103,\n",
       "  0.65582657,\n",
       "  0.65752035,\n",
       "  0.6578591,\n",
       "  0.6546409,\n",
       "  0.6556572,\n",
       "  0.6585366,\n",
       "  0.6578591,\n",
       "  0.65870595,\n",
       "  0.6593835,\n",
       "  0.6578591,\n",
       "  0.65887535,\n",
       "  0.65582657,\n",
       "  0.6595529,\n",
       "  0.65887535,\n",
       "  0.6583672,\n",
       "  0.66039973,\n",
       "  0.6554878,\n",
       "  0.6595529,\n",
       "  0.66039973,\n",
       "  0.66039973,\n",
       "  0.6585366,\n",
       "  0.6629404,\n",
       "  0.6598916,\n",
       "  0.66090786,\n",
       "  0.66056913,\n",
       "  0.6597222,\n",
       "  0.6620935,\n",
       "  0.6617547,\n",
       "  0.66243225,\n",
       "  0.6629404,\n",
       "  0.66260165,\n",
       "  0.6629404,\n",
       "  0.6593835,\n",
       "  0.6629404,\n",
       "  0.6595529,\n",
       "  0.6631098,\n",
       "  0.6629404,\n",
       "  0.6620935],\n",
       " 'val_loss': [0.8690705395826392,\n",
       "  0.8598438122422613,\n",
       "  0.8134218961625949,\n",
       "  0.8041887938693801,\n",
       "  0.7871991638081576,\n",
       "  0.7929748887537942,\n",
       "  0.7785307157661112,\n",
       "  0.7779242775693647,\n",
       "  0.7752389353759884,\n",
       "  0.7750852982095552,\n",
       "  0.7787104688872335,\n",
       "  0.7726779736694486,\n",
       "  0.7758031690855162,\n",
       "  0.7770732753811128,\n",
       "  0.7758761974065467,\n",
       "  0.7730209470683042,\n",
       "  0.7731579772588282,\n",
       "  0.7737110490401855,\n",
       "  0.7703560290904811,\n",
       "  0.7716853243318376,\n",
       "  0.7739796703864209,\n",
       "  0.7715791162802064,\n",
       "  0.766821590564343,\n",
       "  0.7694677728692987,\n",
       "  0.7680856472508037,\n",
       "  0.7718230781316273,\n",
       "  0.768605374733015,\n",
       "  0.786072875247586,\n",
       "  0.7646243160208416,\n",
       "  0.7835156085851149,\n",
       "  0.7704407452891304,\n",
       "  0.7657573016898892,\n",
       "  0.7701410423200036,\n",
       "  0.7726879924959481,\n",
       "  0.7662445994027176,\n",
       "  0.7668407365286277,\n",
       "  0.7655903781759795,\n",
       "  0.7672562973678475,\n",
       "  0.7684136654528396,\n",
       "  0.7671890534011593,\n",
       "  0.7679012760812557,\n",
       "  0.774219356280529,\n",
       "  0.7670744629671384,\n",
       "  0.7664047492543183,\n",
       "  0.7770154181976292,\n",
       "  0.7745728481033806,\n",
       "  0.7668650745941968,\n",
       "  0.7677955336076792,\n",
       "  0.7675501288557344,\n",
       "  0.7723306718918627],\n",
       " 'val_accuracy': [0.648612,\n",
       "  0.648612,\n",
       "  0.648612,\n",
       "  0.648612,\n",
       "  0.648612,\n",
       "  0.648612,\n",
       "  0.65064317,\n",
       "  0.6513202,\n",
       "  0.6513202,\n",
       "  0.6513202,\n",
       "  0.64793503,\n",
       "  0.6513202,\n",
       "  0.64658093,\n",
       "  0.64793503,\n",
       "  0.6459039,\n",
       "  0.648612,\n",
       "  0.6513202,\n",
       "  0.64793503,\n",
       "  0.648612,\n",
       "  0.648612,\n",
       "  0.648612,\n",
       "  0.65064317,\n",
       "  0.65064317,\n",
       "  0.6567366,\n",
       "  0.6513202,\n",
       "  0.6594448,\n",
       "  0.65064317,\n",
       "  0.6567366,\n",
       "  0.6513202,\n",
       "  0.6513202,\n",
       "  0.6567366,\n",
       "  0.6540284,\n",
       "  0.65199727,\n",
       "  0.65335137,\n",
       "  0.6540284,\n",
       "  0.6499661,\n",
       "  0.65335137,\n",
       "  0.6526743,\n",
       "  0.6580907,\n",
       "  0.65335137,\n",
       "  0.6526743,\n",
       "  0.6513202,\n",
       "  0.65335137,\n",
       "  0.6513202,\n",
       "  0.6540284,\n",
       "  0.6526743,\n",
       "  0.6540284,\n",
       "  0.6526743,\n",
       "  0.6526743,\n",
       "  0.6499661]}"
      ]
     },
     "execution_count": 83,
     "metadata": {},
     "output_type": "execute_result"
    }
   ],
   "source": [
    "model_2.history.history"
   ]
  },
  {
   "cell_type": "code",
   "execution_count": 84,
   "metadata": {},
   "outputs": [],
   "source": [
    "loss_2 = pd.DataFrame(model_2.history.history) "
   ]
  },
  {
   "cell_type": "code",
   "execution_count": 85,
   "metadata": {},
   "outputs": [
    {
     "data": {
      "text/plain": [
       "<matplotlib.axes._subplots.AxesSubplot at 0xc19f045708>"
      ]
     },
     "execution_count": 85,
     "metadata": {},
     "output_type": "execute_result"
    },
    {
     "data": {
      "image/png": "[encoded data removed]",
      "text/plain": [
       "<Figure size 864x432 with 1 Axes>"
      ]
     },
     "metadata": {},
     "output_type": "display_data"
    }
   ],
   "source": [
    "loss_2.plot(figsize=(12,6))"
   ]
  },
  {
   "cell_type": "markdown",
   "metadata": {},
   "source": [
    "# Evaluation and predictions on tuned hyperparamter model"
   ]
  },
  {
   "cell_type": "code",
   "execution_count": 86,
   "metadata": {},
   "outputs": [],
   "source": [
    "from sklearn.metrics import mean_absolute_error , mean_squared_error , explained_variance_score , r2_score"
   ]
  },
  {
   "cell_type": "code",
   "execution_count": 87,
   "metadata": {},
   "outputs": [],
   "source": [
    "y_preds_2 = model_2.predict(X_valid)"
   ]
  },
  {
   "cell_type": "code",
   "execution_count": 88,
   "metadata": {},
   "outputs": [],
   "source": [
    "err_2 = pd.DataFrame(y_valid.values.reshape(1477 , 1) - y_preds_2)"
   ]
  },
  {
   "cell_type": "code",
   "execution_count": 89,
   "metadata": {},
   "outputs": [
    {
     "data": {
      "text/plain": [
       "<matplotlib.axes._subplots.AxesSubplot at 0xc1a29039c8>"
      ]
     },
     "execution_count": 89,
     "metadata": {},
     "output_type": "execute_result"
    },
    {
     "data": {
      "image/png": "[encoded data removed]",
      "text/plain": [
       "<Figure size 576x396 with 1 Axes>"
      ]
     },
     "metadata": {},
     "output_type": "display_data"
    }
   ],
   "source": [
    "sns.distplot(err_2 ,  bins = 30 )"
   ]
  },
  {
   "cell_type": "markdown",
   "metadata": {},
   "source": [
    "* After tuning the hyperparameters ,  we see a linearly dependency curve on accuracy and val_accuracy.\n",
    "* Also it clearly shows that loss and val loss is decrease with the increase of number of epoches . The model is trained with 50 epoches. And by predicting the curve we can say that if we increase the number of epoches the loss and val loss will surely decrease and accuracy and val accuracy will going to increase."
   ]
  },
  {
   "cell_type": "markdown",
   "metadata": {},
   "source": [
    "# Now train the model with different optimizer like SGD  , RMSprop having tuned learning rate and momentum"
   ]
  },
  {
   "cell_type": "code",
   "execution_count": 118,
   "metadata": {},
   "outputs": [
    {
     "name": "stdout",
     "output_type": "stream",
     "text": [
      "Model: \"sequential_7\"\n",
      "_________________________________________________________________\n",
      "Layer (type)                 Output Shape              Param #   \n",
      "=================================================================\n",
      "embedding_7 (Embedding)      (None, None, 64)          64000     \n",
      "_________________________________________________________________\n",
      "simple_rnn_7 (SimpleRNN)     (None, 120)               22200     \n",
      "_________________________________________________________________\n",
      "dense_7 (Dense)              (None, 10)                1210      \n",
      "=================================================================\n",
      "Total params: 87,410\n",
      "Trainable params: 87,410\n",
      "Non-trainable params: 0\n",
      "_________________________________________________________________\n"
     ]
    }
   ],
   "source": [
    "from tensorflow.keras.models import Sequential\n",
    "from tensorflow.keras.layers import Dense , Activation , Embedding , Dropout\n",
    "from tensorflow.keras.layers import SimpleRNN , RNN\n",
    "from tensorflow.keras.optimizers import Adam , RMSprop , SGD \n",
    "from tensorflow.keras.callbacks import EarlyStopping\n",
    "\n",
    "model_2 = tf.keras.Sequential()\n",
    "model_2.add(Embedding(input_dim=1000, output_dim=64))\n",
    "\n",
    "# The output of SimpleRNN will be a 2D tensor of shape (batch_size, 128)\n",
    "model_2.add(SimpleRNN(120))\n",
    "model.add(Dropout(0.5))\n",
    "\n",
    "model_2.add(Dense(10 , activation='softmax'))\n",
    "\n",
    "early_stop = EarlyStopping(monitor = 'val_loss' , mode = 'min' , verbose = 1 , patience = 25)\n",
    "\n",
    "opt = RMSprop(learning_rate = 0.0001 , momentum = 0.99)\n",
    "\n",
    "\n",
    "model_2.summary()"
   ]
  },
  {
   "cell_type": "code",
   "execution_count": 119,
   "metadata": {},
   "outputs": [],
   "source": [
    "# compile the model\n",
    "model_2.compile(optimizer = opt , loss ='sparse_categorical_crossentropy'  , metrics = ['accuracy'])"
   ]
  },
  {
   "cell_type": "code",
   "execution_count": 120,
   "metadata": {},
   "outputs": [
    {
     "name": "stdout",
     "output_type": "stream",
     "text": [
      "Train on 5904 samples, validate on 1477 samples\n",
      "Epoch 1/50\n",
      "5904/5904 [==============================] - 3s 553us/sample - loss: 1.0699 - accuracy: 0.6150 - val_loss: 0.8856 - val_accuracy: 0.6486\n",
      "Epoch 2/50\n",
      "5904/5904 [==============================] - 1s 239us/sample - loss: 0.8367 - accuracy: 0.6479 - val_loss: 0.8065 - val_accuracy: 0.6493\n",
      "Epoch 3/50\n",
      "5904/5904 [==============================] - 1s 244us/sample - loss: 0.8077 - accuracy: 0.6450 - val_loss: 0.8212 - val_accuracy: 0.6479\n",
      "Epoch 4/50\n",
      "5904/5904 [==============================] - 2s 262us/sample - loss: 0.8040 - accuracy: 0.6524 - val_loss: 0.8047 - val_accuracy: 0.6520\n",
      "Epoch 5/50\n",
      "5904/5904 [==============================] - 1s 251us/sample - loss: 0.8009 - accuracy: 0.6502 - val_loss: 0.8316 - val_accuracy: 0.6500\n",
      "Epoch 6/50\n",
      "5904/5904 [==============================] - 1s 248us/sample - loss: 0.8068 - accuracy: 0.6472 - val_loss: 0.8054 - val_accuracy: 0.6479\n",
      "Epoch 7/50\n",
      "5904/5904 [==============================] - 1s 246us/sample - loss: 0.7977 - accuracy: 0.6463 - val_loss: 0.8206 - val_accuracy: 0.6574\n",
      "Epoch 8/50\n",
      "5904/5904 [==============================] - 1s 240us/sample - loss: 0.7920 - accuracy: 0.6551 - val_loss: 0.7992 - val_accuracy: 0.6547\n",
      "Epoch 9/50\n",
      "5904/5904 [==============================] - 1s 239us/sample - loss: 0.8000 - accuracy: 0.6430 - val_loss: 0.8039 - val_accuracy: 0.6506\n",
      "Epoch 10/50\n",
      "5904/5904 [==============================] - 1s 239us/sample - loss: 0.8032 - accuracy: 0.6335 - val_loss: 0.8088 - val_accuracy: 0.6567\n",
      "Epoch 11/50\n",
      "5904/5904 [==============================] - 1s 241us/sample - loss: 0.8070 - accuracy: 0.6497 - val_loss: 0.7986 - val_accuracy: 0.6486\n",
      "Epoch 12/50\n",
      "5904/5904 [==============================] - 1s 240us/sample - loss: 0.8024 - accuracy: 0.6287 - val_loss: 0.7915 - val_accuracy: 0.6500\n",
      "Epoch 13/50\n",
      "5904/5904 [==============================] - 1s 239us/sample - loss: 0.8144 - accuracy: 0.6214 - val_loss: 0.7948 - val_accuracy: 0.6486\n",
      "Epoch 14/50\n",
      "5904/5904 [==============================] - 1s 237us/sample - loss: 0.8011 - accuracy: 0.6363 - val_loss: 0.8337 - val_accuracy: 0.6432\n",
      "Epoch 15/50\n",
      "5904/5904 [==============================] - 1s 239us/sample - loss: 0.8094 - accuracy: 0.6523 - val_loss: 0.8319 - val_accuracy: 0.6513\n",
      "Epoch 16/50\n",
      "5904/5904 [==============================] - 1s 235us/sample - loss: 0.8191 - accuracy: 0.6438 - val_loss: 0.8408 - val_accuracy: 0.5416\n",
      "Epoch 17/50\n",
      "5904/5904 [==============================] - 1s 239us/sample - loss: 0.8156 - accuracy: 0.6270 - val_loss: 0.8025 - val_accuracy: 0.6479\n",
      "Epoch 18/50\n",
      "5904/5904 [==============================] - 1s 242us/sample - loss: 0.8146 - accuracy: 0.6328 - val_loss: 0.8145 - val_accuracy: 0.6479\n",
      "Epoch 19/50\n",
      "5904/5904 [==============================] - 1s 240us/sample - loss: 0.7996 - accuracy: 0.6499 - val_loss: 0.8055 - val_accuracy: 0.6479\n",
      "Epoch 20/50\n",
      "5904/5904 [==============================] - 1s 236us/sample - loss: 0.7987 - accuracy: 0.6480 - val_loss: 0.8280 - val_accuracy: 0.6500\n",
      "Epoch 21/50\n",
      "5904/5904 [==============================] - 1s 239us/sample - loss: 0.8039 - accuracy: 0.6518 - val_loss: 0.8054 - val_accuracy: 0.6452\n",
      "Epoch 22/50\n",
      "5904/5904 [==============================] - 1s 239us/sample - loss: 0.8005 - accuracy: 0.6484 - val_loss: 0.8047 - val_accuracy: 0.6486\n",
      "Epoch 23/50\n",
      "5904/5904 [==============================] - 1s 237us/sample - loss: 0.7943 - accuracy: 0.6514 - val_loss: 0.7943 - val_accuracy: 0.6520\n",
      "Epoch 24/50\n",
      "5904/5904 [==============================] - 1s 238us/sample - loss: 0.8037 - accuracy: 0.6386 - val_loss: 0.8386 - val_accuracy: 0.5423\n",
      "Epoch 25/50\n",
      "5904/5904 [==============================] - 1s 234us/sample - loss: 0.8067 - accuracy: 0.6458 - val_loss: 0.8206 - val_accuracy: 0.6561\n",
      "Epoch 26/50\n",
      "5904/5904 [==============================] - 1s 239us/sample - loss: 0.8038 - accuracy: 0.6528 - val_loss: 0.8036 - val_accuracy: 0.6513\n",
      "Epoch 27/50\n",
      "5904/5904 [==============================] - 1s 237us/sample - loss: 0.8053 - accuracy: 0.6485 - val_loss: 0.8395 - val_accuracy: 0.4983\n",
      "Epoch 28/50\n",
      "5904/5904 [==============================] - 1s 240us/sample - loss: 0.8181 - accuracy: 0.6328 - val_loss: 0.7910 - val_accuracy: 0.6554\n",
      "Epoch 29/50\n",
      "5904/5904 [==============================] - 1s 243us/sample - loss: 0.8004 - accuracy: 0.6465 - val_loss: 0.7902 - val_accuracy: 0.6520\n",
      "Epoch 30/50\n",
      "5904/5904 [==============================] - 1s 237us/sample - loss: 0.7917 - accuracy: 0.6560 - val_loss: 0.8321 - val_accuracy: 0.6520\n",
      "Epoch 31/50\n",
      "5904/5904 [==============================] - 1s 235us/sample - loss: 0.8192 - accuracy: 0.6375 - val_loss: 0.7992 - val_accuracy: 0.6534\n",
      "Epoch 32/50\n",
      "5904/5904 [==============================] - 1s 237us/sample - loss: 0.8100 - accuracy: 0.6529 - val_loss: 0.7921 - val_accuracy: 0.6540\n",
      "Epoch 33/50\n",
      "5904/5904 [==============================] - 1s 242us/sample - loss: 0.7969 - accuracy: 0.6546 - val_loss: 0.7965 - val_accuracy: 0.6520\n",
      "Epoch 34/50\n",
      "5904/5904 [==============================] - 1s 240us/sample - loss: 0.8081 - accuracy: 0.6233 - val_loss: 0.8228 - val_accuracy: 0.6486\n",
      "Epoch 35/50\n",
      "5904/5904 [==============================] - 1s 237us/sample - loss: 0.8264 - accuracy: 0.6345 - val_loss: 0.8105 - val_accuracy: 0.6527\n",
      "Epoch 36/50\n",
      "5904/5904 [==============================] - 1s 240us/sample - loss: 0.8065 - accuracy: 0.6514 - val_loss: 0.8242 - val_accuracy: 0.6479\n",
      "Epoch 37/50\n",
      "5904/5904 [==============================] - 1s 238us/sample - loss: 0.8042 - accuracy: 0.6553 - val_loss: 0.8001 - val_accuracy: 0.6561\n",
      "Epoch 38/50\n",
      "5904/5904 [==============================] - 1s 241us/sample - loss: 0.8006 - accuracy: 0.6568 - val_loss: 0.7985 - val_accuracy: 0.6520\n",
      "Epoch 39/50\n",
      "5904/5904 [==============================] - 1s 243us/sample - loss: 0.7966 - accuracy: 0.6551 - val_loss: 0.8086 - val_accuracy: 0.6466\n",
      "Epoch 40/50\n",
      "5904/5904 [==============================] - 1s 240us/sample - loss: 0.7965 - accuracy: 0.6540 - val_loss: 0.7916 - val_accuracy: 0.6527\n",
      "Epoch 41/50\n",
      "5904/5904 [==============================] - 1s 242us/sample - loss: 0.7935 - accuracy: 0.6557 - val_loss: 0.7938 - val_accuracy: 0.6527\n",
      "Epoch 42/50\n",
      "5904/5904 [==============================] - 1s 239us/sample - loss: 0.7987 - accuracy: 0.6570 - val_loss: 0.8063 - val_accuracy: 0.6520\n",
      "Epoch 43/50\n",
      "5904/5904 [==============================] - 1s 238us/sample - loss: 0.7932 - accuracy: 0.6558 - val_loss: 0.7957 - val_accuracy: 0.6520\n",
      "Epoch 44/50\n",
      "5904/5904 [==============================] - 1s 237us/sample - loss: 0.7899 - accuracy: 0.6567 - val_loss: 0.7937 - val_accuracy: 0.6527\n",
      "Epoch 45/50\n",
      "5904/5904 [==============================] - 1s 240us/sample - loss: 0.7971 - accuracy: 0.6524 - val_loss: 0.7965 - val_accuracy: 0.6561\n",
      "Epoch 46/50\n",
      "5904/5904 [==============================] - 1s 237us/sample - loss: 0.7907 - accuracy: 0.6562 - val_loss: 0.7895 - val_accuracy: 0.6513\n",
      "Epoch 47/50\n",
      "5904/5904 [==============================] - 1s 241us/sample - loss: 0.7888 - accuracy: 0.6563 - val_loss: 0.7973 - val_accuracy: 0.6527\n",
      "Epoch 48/50\n",
      "5904/5904 [==============================] - 1s 243us/sample - loss: 0.7890 - accuracy: 0.6563 - val_loss: 0.7968 - val_accuracy: 0.6527\n",
      "Epoch 49/50\n",
      "5904/5904 [==============================] - 1s 232us/sample - loss: 0.7882 - accuracy: 0.6529 - val_loss: 0.7971 - val_accuracy: 0.6561\n",
      "Epoch 50/50\n",
      "5904/5904 [==============================] - 1s 227us/sample - loss: 0.8327 - accuracy: 0.6360 - val_loss: 0.8779 - val_accuracy: 0.6486\n"
     ]
    },
    {
     "data": {
      "text/plain": [
       "<tensorflow.python.keras.callbacks.History at 0xc1ad43ecc8>"
      ]
     },
     "execution_count": 120,
     "metadata": {},
     "output_type": "execute_result"
    }
   ],
   "source": [
    "model_2.fit(x = X_train , y = y_train.values , validation_data = (X_valid , y_valid.values) , batch_size = 128 , epochs = 50 , callbacks = [early_stop])"
   ]
  },
  {
   "cell_type": "code",
   "execution_count": 121,
   "metadata": {},
   "outputs": [],
   "source": [
    "losses2 = pd.DataFrame(model_2.history.history)"
   ]
  },
  {
   "cell_type": "code",
   "execution_count": 97,
   "metadata": {},
   "outputs": [
    {
     "data": {
      "image/png": "[encoded data removed]",
      "text/plain": [
       "<Figure size 576x396 with 1 Axes>"
      ]
     },
     "metadata": {},
     "output_type": "display_data"
    }
   ],
   "source": [
    "losses2.plot()\n",
    "plt.title('The graph shown adam optimizer having 0.01 learning rate');"
   ]
  },
  {
   "cell_type": "code",
   "execution_count": 102,
   "metadata": {},
   "outputs": [
    {
     "data": {
      "image/png": "[encoded data removed]",
      "text/plain": [
       "<Figure size 576x396 with 1 Axes>"
      ]
     },
     "metadata": {},
     "output_type": "display_data"
    }
   ],
   "source": [
    "losses2.plot()\n",
    "plt.title('The graph shown adam optimizer having 0.001 learning rate');"
   ]
  },
  {
   "cell_type": "code",
   "execution_count": 107,
   "metadata": {},
   "outputs": [
    {
     "data": {
      "image/png": "[encoded data removed]",
      "text/plain": [
       "<Figure size 576x396 with 1 Axes>"
      ]
     },
     "metadata": {},
     "output_type": "display_data"
    }
   ],
   "source": [
    "losses2.plot()\n",
    "plt.title('The graph shown SGD optimizer having 0.001 learning rate');"
   ]
  },
  {
   "cell_type": "code",
   "execution_count": 112,
   "metadata": {},
   "outputs": [
    {
     "data": {
      "image/png": "[encoded data removed]",
      "text/plain": [
       "<Figure size 576x396 with 1 Axes>"
      ]
     },
     "metadata": {},
     "output_type": "display_data"
    }
   ],
   "source": [
    "losses2.plot()\n",
    "plt.title('The graph shown adam optimizer having 0.1 learning rate and momentum is 0.99');"
   ]
  },
  {
   "cell_type": "markdown",
   "metadata": {},
   "source": [
    "* wrost case"
   ]
  },
  {
   "cell_type": "code",
   "execution_count": 117,
   "metadata": {},
   "outputs": [
    {
     "data": {
      "image/png": "[encoded data removed]",
      "text/plain": [
       "<Figure size 576x396 with 1 Axes>"
      ]
     },
     "metadata": {},
     "output_type": "display_data"
    }
   ],
   "source": [
    "losses2.plot()\n",
    "plt.title('The graph shown RMSprop optimizer having 0.01 learning rate');"
   ]
  },
  {
   "cell_type": "code",
   "execution_count": 122,
   "metadata": {},
   "outputs": [
    {
     "data": {
      "image/png": "[encoded data removed]",
      "text/plain": [
       "<Figure size 576x396 with 1 Axes>"
      ]
     },
     "metadata": {},
     "output_type": "display_data"
    }
   ],
   "source": [
    "losses2.plot()\n",
    "plt.title('The graph shown adam optimizer having 0.0001 learning rate and momentum is 0.99');"
   ]
  },
  {
   "cell_type": "markdown",
   "metadata": {},
   "source": [
    "* From the above graps summary we can conclude that adam is the best optimizer when used at learning rate 0.01\n",
    "* And after that RMSprop when used at learning rate 0.0001 and momentum = 0.99"
   ]
  },
  {
   "cell_type": "markdown",
   "metadata": {},
   "source": [
    "# Thank You"
   ]
  }
 ],
 "metadata": {
  "kernelspec": {
   "display_name": "Python 3",
   "language": "python",
   "name": "python3"
  },
  "language_info": {
   "codemirror_mode": {
    "name": "ipython",
    "version": 3
   },
   "file_extension": ".py",
   "mimetype": "text/x-python",
   "name": "python",
   "nbconvert_exporter": "python",
   "pygments_lexer": "ipython3",
   "version": "3.7.6"
  }
 },
 "nbformat": 4,
 "nbformat_minor": 4
}
