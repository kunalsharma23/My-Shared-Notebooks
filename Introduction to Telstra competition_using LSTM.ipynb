{
 "cells": [
  {
   "cell_type": "markdown",
   "metadata": {},
   "source": [
    "# Introduction to Telstra competition\n",
    "\n",
    "\n",
    "This is the dataset that is used in the Telstra Network Disruptions competition that ran between Nov 2015 and Feb 2016\n",
    "This competition provided a very nice and small dataset that allows many aspects of predictive modelling:\n",
    "\n",
    "* relational data between different entities of the disruption data\n",
    "* clean dataset that provides consistent and reliable feedback\n",
    "* ideal for practices for many parts of the predictive modelling pipelin: feature engineering, cross-validation, stacking, etc\n",
    "* Magic Feature! see forum thread for more details :)\n",
    "* This dataset is re-uploaded since the original competition did not feature kernels, and it is made available here give people a chance to practice their data science/predictive modelling skill with this nice little dataset"
   ]
  },
  {
   "cell_type": "markdown",
   "metadata": {},
   "source": [
    "# content\n",
    "\n"
   ]
  },
  {
   "cell_type": "markdown",
   "metadata": {},
   "source": [
    "\n",
    "* The goal of the problem is to predict Telstra network's fault severity at a time at a particular location based on the log data available. Each row in the main dataset (train.csv, test.csv) represents a location and a time point. They are identified by the \"id\" column, which is the key \"id\" used in other data files.\n",
    "\n",
    "* Fault severity has 3 categories: 0,1,2 (0 meaning no fault, 1 meaning only a few, and 2 meaning many).\n",
    "\n",
    "* Different types of features are extracted from log files and other sources: eventtype.csv, logfeature.csv, resourcetype.csv, severitytype.csv.\n",
    "\n",
    "* Note: “severitytype” is a feature extracted from the log files (in severitytype.csv). Often this is a severity type of a warning message coming from the log. \"severitytype\" is categorical. It does not have an ordering. “faultseverity” is a measurement of actual reported faults from users of the network and is the target variable (in train.csv)."
   ]
  },
  {
   "cell_type": "code",
   "execution_count": 172,
   "metadata": {},
   "outputs": [],
   "source": [
    "# Load the libraries\n",
    "\n",
    "import pandas as pd\n",
    "import numpy as np\n",
    "import seaborn as sns\n",
    "import matplotlib.pyplot as plt\n",
    "import tensorflow as tf                      # to allow RNN and LSTM models\n",
    "%matplotlib inline"
   ]
  },
  {
   "cell_type": "markdown",
   "metadata": {},
   "source": [
    "# Load the data"
   ]
  },
  {
   "cell_type": "code",
   "execution_count": 173,
   "metadata": {},
   "outputs": [],
   "source": [
    "event_type = pd.read_csv('event_type.csv')\n",
    "log_feature = pd.read_csv('log_feature.csv')\n",
    "resource_type = pd.read_csv('resource_type.csv')\n",
    "sample_submission = pd.read_csv('sample_submission.csv')\n",
    "severity_type = pd.read_csv('severity_type.csv')\n",
    "train = pd.read_csv('train.csv')\n",
    "test = pd.read_csv('test.csv')"
   ]
  },
  {
   "cell_type": "code",
   "execution_count": 174,
   "metadata": {},
   "outputs": [
    {
     "data": {
      "text/html": [
       "<div>\n",
       "<style scoped>\n",
       "    .dataframe tbody tr th:only-of-type {\n",
       "        vertical-align: middle;\n",
       "    }\n",
       "\n",
       "    .dataframe tbody tr th {\n",
       "        vertical-align: top;\n",
       "    }\n",
       "\n",
       "    .dataframe thead th {\n",
       "        text-align: right;\n",
       "    }\n",
       "</style>\n",
       "<table border=\"1\" class=\"dataframe\">\n",
       "  <thead>\n",
       "    <tr style=\"text-align: right;\">\n",
       "      <th></th>\n",
       "      <th>id</th>\n",
       "      <th>event_type</th>\n",
       "    </tr>\n",
       "  </thead>\n",
       "  <tbody>\n",
       "    <tr>\n",
       "      <th>0</th>\n",
       "      <td>6597</td>\n",
       "      <td>event_type 11</td>\n",
       "    </tr>\n",
       "    <tr>\n",
       "      <th>1</th>\n",
       "      <td>8011</td>\n",
       "      <td>event_type 15</td>\n",
       "    </tr>\n",
       "    <tr>\n",
       "      <th>2</th>\n",
       "      <td>2597</td>\n",
       "      <td>event_type 15</td>\n",
       "    </tr>\n",
       "    <tr>\n",
       "      <th>3</th>\n",
       "      <td>5022</td>\n",
       "      <td>event_type 15</td>\n",
       "    </tr>\n",
       "    <tr>\n",
       "      <th>4</th>\n",
       "      <td>5022</td>\n",
       "      <td>event_type 11</td>\n",
       "    </tr>\n",
       "  </tbody>\n",
       "</table>\n",
       "</div>"
      ],
      "text/plain": [
       "     id     event_type\n",
       "0  6597  event_type 11\n",
       "1  8011  event_type 15\n",
       "2  2597  event_type 15\n",
       "3  5022  event_type 15\n",
       "4  5022  event_type 11"
      ]
     },
     "execution_count": 174,
     "metadata": {},
     "output_type": "execute_result"
    }
   ],
   "source": [
    "event_type.head()"
   ]
  },
  {
   "cell_type": "code",
   "execution_count": 175,
   "metadata": {},
   "outputs": [
    {
     "data": {
      "text/html": [
       "<div>\n",
       "<style scoped>\n",
       "    .dataframe tbody tr th:only-of-type {\n",
       "        vertical-align: middle;\n",
       "    }\n",
       "\n",
       "    .dataframe tbody tr th {\n",
       "        vertical-align: top;\n",
       "    }\n",
       "\n",
       "    .dataframe thead th {\n",
       "        text-align: right;\n",
       "    }\n",
       "</style>\n",
       "<table border=\"1\" class=\"dataframe\">\n",
       "  <thead>\n",
       "    <tr style=\"text-align: right;\">\n",
       "      <th></th>\n",
       "      <th>id</th>\n",
       "      <th>log_feature</th>\n",
       "      <th>volume</th>\n",
       "    </tr>\n",
       "  </thead>\n",
       "  <tbody>\n",
       "    <tr>\n",
       "      <th>0</th>\n",
       "      <td>6597</td>\n",
       "      <td>feature 68</td>\n",
       "      <td>6</td>\n",
       "    </tr>\n",
       "    <tr>\n",
       "      <th>1</th>\n",
       "      <td>8011</td>\n",
       "      <td>feature 68</td>\n",
       "      <td>7</td>\n",
       "    </tr>\n",
       "    <tr>\n",
       "      <th>2</th>\n",
       "      <td>2597</td>\n",
       "      <td>feature 68</td>\n",
       "      <td>1</td>\n",
       "    </tr>\n",
       "    <tr>\n",
       "      <th>3</th>\n",
       "      <td>5022</td>\n",
       "      <td>feature 172</td>\n",
       "      <td>2</td>\n",
       "    </tr>\n",
       "    <tr>\n",
       "      <th>4</th>\n",
       "      <td>5022</td>\n",
       "      <td>feature 56</td>\n",
       "      <td>1</td>\n",
       "    </tr>\n",
       "  </tbody>\n",
       "</table>\n",
       "</div>"
      ],
      "text/plain": [
       "     id  log_feature  volume\n",
       "0  6597   feature 68       6\n",
       "1  8011   feature 68       7\n",
       "2  2597   feature 68       1\n",
       "3  5022  feature 172       2\n",
       "4  5022   feature 56       1"
      ]
     },
     "execution_count": 175,
     "metadata": {},
     "output_type": "execute_result"
    }
   ],
   "source": [
    "log_feature.head()"
   ]
  },
  {
   "cell_type": "code",
   "execution_count": 176,
   "metadata": {},
   "outputs": [
    {
     "data": {
      "text/html": [
       "<div>\n",
       "<style scoped>\n",
       "    .dataframe tbody tr th:only-of-type {\n",
       "        vertical-align: middle;\n",
       "    }\n",
       "\n",
       "    .dataframe tbody tr th {\n",
       "        vertical-align: top;\n",
       "    }\n",
       "\n",
       "    .dataframe thead th {\n",
       "        text-align: right;\n",
       "    }\n",
       "</style>\n",
       "<table border=\"1\" class=\"dataframe\">\n",
       "  <thead>\n",
       "    <tr style=\"text-align: right;\">\n",
       "      <th></th>\n",
       "      <th>id</th>\n",
       "      <th>resource_type</th>\n",
       "    </tr>\n",
       "  </thead>\n",
       "  <tbody>\n",
       "    <tr>\n",
       "      <th>0</th>\n",
       "      <td>6597</td>\n",
       "      <td>resource_type 8</td>\n",
       "    </tr>\n",
       "    <tr>\n",
       "      <th>1</th>\n",
       "      <td>8011</td>\n",
       "      <td>resource_type 8</td>\n",
       "    </tr>\n",
       "    <tr>\n",
       "      <th>2</th>\n",
       "      <td>2597</td>\n",
       "      <td>resource_type 8</td>\n",
       "    </tr>\n",
       "    <tr>\n",
       "      <th>3</th>\n",
       "      <td>5022</td>\n",
       "      <td>resource_type 8</td>\n",
       "    </tr>\n",
       "    <tr>\n",
       "      <th>4</th>\n",
       "      <td>6852</td>\n",
       "      <td>resource_type 8</td>\n",
       "    </tr>\n",
       "  </tbody>\n",
       "</table>\n",
       "</div>"
      ],
      "text/plain": [
       "     id    resource_type\n",
       "0  6597  resource_type 8\n",
       "1  8011  resource_type 8\n",
       "2  2597  resource_type 8\n",
       "3  5022  resource_type 8\n",
       "4  6852  resource_type 8"
      ]
     },
     "execution_count": 176,
     "metadata": {},
     "output_type": "execute_result"
    }
   ],
   "source": [
    "resource_type.head()"
   ]
  },
  {
   "cell_type": "code",
   "execution_count": 177,
   "metadata": {},
   "outputs": [
    {
     "data": {
      "text/html": [
       "<div>\n",
       "<style scoped>\n",
       "    .dataframe tbody tr th:only-of-type {\n",
       "        vertical-align: middle;\n",
       "    }\n",
       "\n",
       "    .dataframe tbody tr th {\n",
       "        vertical-align: top;\n",
       "    }\n",
       "\n",
       "    .dataframe thead th {\n",
       "        text-align: right;\n",
       "    }\n",
       "</style>\n",
       "<table border=\"1\" class=\"dataframe\">\n",
       "  <thead>\n",
       "    <tr style=\"text-align: right;\">\n",
       "      <th></th>\n",
       "      <th>id</th>\n",
       "      <th>predict_0</th>\n",
       "      <th>predict_1</th>\n",
       "      <th>predict_2</th>\n",
       "    </tr>\n",
       "  </thead>\n",
       "  <tbody>\n",
       "    <tr>\n",
       "      <th>0</th>\n",
       "      <td>11066</td>\n",
       "      <td>0</td>\n",
       "      <td>1</td>\n",
       "      <td>0</td>\n",
       "    </tr>\n",
       "    <tr>\n",
       "      <th>1</th>\n",
       "      <td>18000</td>\n",
       "      <td>0</td>\n",
       "      <td>1</td>\n",
       "      <td>0</td>\n",
       "    </tr>\n",
       "    <tr>\n",
       "      <th>2</th>\n",
       "      <td>16964</td>\n",
       "      <td>0</td>\n",
       "      <td>1</td>\n",
       "      <td>0</td>\n",
       "    </tr>\n",
       "    <tr>\n",
       "      <th>3</th>\n",
       "      <td>4795</td>\n",
       "      <td>0</td>\n",
       "      <td>1</td>\n",
       "      <td>0</td>\n",
       "    </tr>\n",
       "    <tr>\n",
       "      <th>4</th>\n",
       "      <td>3392</td>\n",
       "      <td>0</td>\n",
       "      <td>1</td>\n",
       "      <td>0</td>\n",
       "    </tr>\n",
       "  </tbody>\n",
       "</table>\n",
       "</div>"
      ],
      "text/plain": [
       "      id  predict_0  predict_1  predict_2\n",
       "0  11066          0          1          0\n",
       "1  18000          0          1          0\n",
       "2  16964          0          1          0\n",
       "3   4795          0          1          0\n",
       "4   3392          0          1          0"
      ]
     },
     "execution_count": 177,
     "metadata": {},
     "output_type": "execute_result"
    }
   ],
   "source": [
    "sample_submission.head()"
   ]
  },
  {
   "cell_type": "code",
   "execution_count": 178,
   "metadata": {},
   "outputs": [
    {
     "data": {
      "text/html": [
       "<div>\n",
       "<style scoped>\n",
       "    .dataframe tbody tr th:only-of-type {\n",
       "        vertical-align: middle;\n",
       "    }\n",
       "\n",
       "    .dataframe tbody tr th {\n",
       "        vertical-align: top;\n",
       "    }\n",
       "\n",
       "    .dataframe thead th {\n",
       "        text-align: right;\n",
       "    }\n",
       "</style>\n",
       "<table border=\"1\" class=\"dataframe\">\n",
       "  <thead>\n",
       "    <tr style=\"text-align: right;\">\n",
       "      <th></th>\n",
       "      <th>id</th>\n",
       "      <th>severity_type</th>\n",
       "    </tr>\n",
       "  </thead>\n",
       "  <tbody>\n",
       "    <tr>\n",
       "      <th>0</th>\n",
       "      <td>6597</td>\n",
       "      <td>severity_type 2</td>\n",
       "    </tr>\n",
       "    <tr>\n",
       "      <th>1</th>\n",
       "      <td>8011</td>\n",
       "      <td>severity_type 2</td>\n",
       "    </tr>\n",
       "    <tr>\n",
       "      <th>2</th>\n",
       "      <td>2597</td>\n",
       "      <td>severity_type 2</td>\n",
       "    </tr>\n",
       "    <tr>\n",
       "      <th>3</th>\n",
       "      <td>5022</td>\n",
       "      <td>severity_type 1</td>\n",
       "    </tr>\n",
       "    <tr>\n",
       "      <th>4</th>\n",
       "      <td>6852</td>\n",
       "      <td>severity_type 1</td>\n",
       "    </tr>\n",
       "  </tbody>\n",
       "</table>\n",
       "</div>"
      ],
      "text/plain": [
       "     id    severity_type\n",
       "0  6597  severity_type 2\n",
       "1  8011  severity_type 2\n",
       "2  2597  severity_type 2\n",
       "3  5022  severity_type 1\n",
       "4  6852  severity_type 1"
      ]
     },
     "execution_count": 178,
     "metadata": {},
     "output_type": "execute_result"
    }
   ],
   "source": [
    "severity_type.head()"
   ]
  },
  {
   "cell_type": "markdown",
   "metadata": {},
   "source": [
    "# 1. Lets do Exploratory data analysis ( EDA )"
   ]
  },
  {
   "cell_type": "markdown",
   "metadata": {},
   "source": [
    "## analyse Train set"
   ]
  },
  {
   "cell_type": "code",
   "execution_count": 179,
   "metadata": {},
   "outputs": [
    {
     "name": "stdout",
     "output_type": "stream",
     "text": [
      "<class 'pandas.core.frame.DataFrame'>\n",
      "RangeIndex: 7381 entries, 0 to 7380\n",
      "Data columns (total 3 columns):\n",
      " #   Column          Non-Null Count  Dtype \n",
      "---  ------          --------------  ----- \n",
      " 0   id              7381 non-null   int64 \n",
      " 1   location        7381 non-null   object\n",
      " 2   fault_severity  7381 non-null   int64 \n",
      "dtypes: int64(2), object(1)\n",
      "memory usage: 173.1+ KB\n"
     ]
    }
   ],
   "source": [
    "train.info()"
   ]
  },
  {
   "cell_type": "code",
   "execution_count": 180,
   "metadata": {},
   "outputs": [
    {
     "data": {
      "text/html": [
       "<div>\n",
       "<style scoped>\n",
       "    .dataframe tbody tr th:only-of-type {\n",
       "        vertical-align: middle;\n",
       "    }\n",
       "\n",
       "    .dataframe tbody tr th {\n",
       "        vertical-align: top;\n",
       "    }\n",
       "\n",
       "    .dataframe thead th {\n",
       "        text-align: right;\n",
       "    }\n",
       "</style>\n",
       "<table border=\"1\" class=\"dataframe\">\n",
       "  <thead>\n",
       "    <tr style=\"text-align: right;\">\n",
       "      <th></th>\n",
       "      <th>id</th>\n",
       "      <th>location</th>\n",
       "      <th>fault_severity</th>\n",
       "    </tr>\n",
       "  </thead>\n",
       "  <tbody>\n",
       "    <tr>\n",
       "      <th>0</th>\n",
       "      <td>14121</td>\n",
       "      <td>location 118</td>\n",
       "      <td>1</td>\n",
       "    </tr>\n",
       "    <tr>\n",
       "      <th>1</th>\n",
       "      <td>9320</td>\n",
       "      <td>location 91</td>\n",
       "      <td>0</td>\n",
       "    </tr>\n",
       "    <tr>\n",
       "      <th>2</th>\n",
       "      <td>14394</td>\n",
       "      <td>location 152</td>\n",
       "      <td>1</td>\n",
       "    </tr>\n",
       "    <tr>\n",
       "      <th>3</th>\n",
       "      <td>8218</td>\n",
       "      <td>location 931</td>\n",
       "      <td>1</td>\n",
       "    </tr>\n",
       "    <tr>\n",
       "      <th>4</th>\n",
       "      <td>14804</td>\n",
       "      <td>location 120</td>\n",
       "      <td>0</td>\n",
       "    </tr>\n",
       "  </tbody>\n",
       "</table>\n",
       "</div>"
      ],
      "text/plain": [
       "      id      location  fault_severity\n",
       "0  14121  location 118               1\n",
       "1   9320   location 91               0\n",
       "2  14394  location 152               1\n",
       "3   8218  location 931               1\n",
       "4  14804  location 120               0"
      ]
     },
     "execution_count": 180,
     "metadata": {},
     "output_type": "execute_result"
    }
   ],
   "source": [
    "train.head()"
   ]
  },
  {
   "cell_type": "code",
   "execution_count": 181,
   "metadata": {},
   "outputs": [
    {
     "data": {
      "text/plain": [
       "7381"
      ]
     },
     "execution_count": 181,
     "metadata": {},
     "output_type": "execute_result"
    }
   ],
   "source": [
    "len(train.index)"
   ]
  },
  {
   "cell_type": "code",
   "execution_count": 182,
   "metadata": {},
   "outputs": [
    {
     "data": {
      "text/plain": [
       "7381"
      ]
     },
     "execution_count": 182,
     "metadata": {},
     "output_type": "execute_result"
    }
   ],
   "source": [
    "len(train.id.unique())"
   ]
  },
  {
   "cell_type": "code",
   "execution_count": 183,
   "metadata": {},
   "outputs": [
    {
     "data": {
      "text/plain": [
       "929"
      ]
     },
     "execution_count": 183,
     "metadata": {},
     "output_type": "execute_result"
    }
   ],
   "source": [
    "len(train.location.unique())"
   ]
  },
  {
   "cell_type": "code",
   "execution_count": 184,
   "metadata": {},
   "outputs": [
    {
     "data": {
      "text/plain": [
       "3"
      ]
     },
     "execution_count": 184,
     "metadata": {},
     "output_type": "execute_result"
    }
   ],
   "source": [
    "len(train.fault_severity.unique())"
   ]
  },
  {
   "cell_type": "code",
   "execution_count": 185,
   "metadata": {},
   "outputs": [
    {
     "data": {
      "text/plain": [
       "id                0\n",
       "location          0\n",
       "fault_severity    0\n",
       "dtype: int64"
      ]
     },
     "execution_count": 185,
     "metadata": {},
     "output_type": "execute_result"
    }
   ],
   "source": [
    "train.isnull().sum()"
   ]
  },
  {
   "cell_type": "markdown",
   "metadata": {},
   "source": [
    "## Analysis Test set"
   ]
  },
  {
   "cell_type": "code",
   "execution_count": 186,
   "metadata": {},
   "outputs": [
    {
     "name": "stdout",
     "output_type": "stream",
     "text": [
      "<class 'pandas.core.frame.DataFrame'>\n",
      "RangeIndex: 11171 entries, 0 to 11170\n",
      "Data columns (total 2 columns):\n",
      " #   Column    Non-Null Count  Dtype \n",
      "---  ------    --------------  ----- \n",
      " 0   id        11171 non-null  int64 \n",
      " 1   location  11171 non-null  object\n",
      "dtypes: int64(1), object(1)\n",
      "memory usage: 174.7+ KB\n"
     ]
    }
   ],
   "source": [
    "test.info()"
   ]
  },
  {
   "cell_type": "code",
   "execution_count": 187,
   "metadata": {},
   "outputs": [
    {
     "data": {
      "text/html": [
       "<div>\n",
       "<style scoped>\n",
       "    .dataframe tbody tr th:only-of-type {\n",
       "        vertical-align: middle;\n",
       "    }\n",
       "\n",
       "    .dataframe tbody tr th {\n",
       "        vertical-align: top;\n",
       "    }\n",
       "\n",
       "    .dataframe thead th {\n",
       "        text-align: right;\n",
       "    }\n",
       "</style>\n",
       "<table border=\"1\" class=\"dataframe\">\n",
       "  <thead>\n",
       "    <tr style=\"text-align: right;\">\n",
       "      <th></th>\n",
       "      <th>id</th>\n",
       "      <th>location</th>\n",
       "    </tr>\n",
       "  </thead>\n",
       "  <tbody>\n",
       "    <tr>\n",
       "      <th>0</th>\n",
       "      <td>11066</td>\n",
       "      <td>location 481</td>\n",
       "    </tr>\n",
       "    <tr>\n",
       "      <th>1</th>\n",
       "      <td>18000</td>\n",
       "      <td>location 962</td>\n",
       "    </tr>\n",
       "    <tr>\n",
       "      <th>2</th>\n",
       "      <td>16964</td>\n",
       "      <td>location 491</td>\n",
       "    </tr>\n",
       "    <tr>\n",
       "      <th>3</th>\n",
       "      <td>4795</td>\n",
       "      <td>location 532</td>\n",
       "    </tr>\n",
       "    <tr>\n",
       "      <th>4</th>\n",
       "      <td>3392</td>\n",
       "      <td>location 600</td>\n",
       "    </tr>\n",
       "  </tbody>\n",
       "</table>\n",
       "</div>"
      ],
      "text/plain": [
       "      id      location\n",
       "0  11066  location 481\n",
       "1  18000  location 962\n",
       "2  16964  location 491\n",
       "3   4795  location 532\n",
       "4   3392  location 600"
      ]
     },
     "execution_count": 187,
     "metadata": {},
     "output_type": "execute_result"
    }
   ],
   "source": [
    "test.head()"
   ]
  },
  {
   "cell_type": "code",
   "execution_count": 188,
   "metadata": {},
   "outputs": [
    {
     "data": {
      "text/plain": [
       "11171"
      ]
     },
     "execution_count": 188,
     "metadata": {},
     "output_type": "execute_result"
    }
   ],
   "source": [
    "len(test.index)"
   ]
  },
  {
   "cell_type": "code",
   "execution_count": 189,
   "metadata": {},
   "outputs": [
    {
     "data": {
      "text/plain": [
       "11171"
      ]
     },
     "execution_count": 189,
     "metadata": {},
     "output_type": "execute_result"
    }
   ],
   "source": [
    "len(test.id.unique())"
   ]
  },
  {
   "cell_type": "code",
   "execution_count": 190,
   "metadata": {},
   "outputs": [
    {
     "data": {
      "text/plain": [
       "1039"
      ]
     },
     "execution_count": 190,
     "metadata": {},
     "output_type": "execute_result"
    }
   ],
   "source": [
    "len(test.location.unique())"
   ]
  },
  {
   "cell_type": "code",
   "execution_count": 191,
   "metadata": {},
   "outputs": [
    {
     "data": {
      "text/plain": [
       "id          0\n",
       "location    0\n",
       "dtype: int64"
      ]
     },
     "execution_count": 191,
     "metadata": {},
     "output_type": "execute_result"
    }
   ],
   "source": [
    "test.isnull().sum()"
   ]
  },
  {
   "cell_type": "markdown",
   "metadata": {},
   "source": [
    "# combining training and test data into a single data set"
   ]
  },
  {
   "cell_type": "code",
   "execution_count": 192,
   "metadata": {},
   "outputs": [],
   "source": [
    "# creating a colum of istrain in both train and test data\n",
    "\n",
    "train['istrain'] = 1\n",
    "test['istrain'] = 0\n",
    "\n",
    "data = train.append(test)"
   ]
  },
  {
   "cell_type": "markdown",
   "metadata": {},
   "source": [
    "# analysis data"
   ]
  },
  {
   "cell_type": "code",
   "execution_count": 193,
   "metadata": {},
   "outputs": [
    {
     "name": "stdout",
     "output_type": "stream",
     "text": [
      "<class 'pandas.core.frame.DataFrame'>\n",
      "Int64Index: 18552 entries, 0 to 11170\n",
      "Data columns (total 4 columns):\n",
      " #   Column          Non-Null Count  Dtype  \n",
      "---  ------          --------------  -----  \n",
      " 0   id              18552 non-null  int64  \n",
      " 1   location        18552 non-null  object \n",
      " 2   fault_severity  7381 non-null   float64\n",
      " 3   istrain         18552 non-null  int64  \n",
      "dtypes: float64(1), int64(2), object(1)\n",
      "memory usage: 724.7+ KB\n"
     ]
    }
   ],
   "source": [
    "data.info()"
   ]
  },
  {
   "cell_type": "code",
   "execution_count": 194,
   "metadata": {},
   "outputs": [
    {
     "data": {
      "text/html": [
       "<div>\n",
       "<style scoped>\n",
       "    .dataframe tbody tr th:only-of-type {\n",
       "        vertical-align: middle;\n",
       "    }\n",
       "\n",
       "    .dataframe tbody tr th {\n",
       "        vertical-align: top;\n",
       "    }\n",
       "\n",
       "    .dataframe thead th {\n",
       "        text-align: right;\n",
       "    }\n",
       "</style>\n",
       "<table border=\"1\" class=\"dataframe\">\n",
       "  <thead>\n",
       "    <tr style=\"text-align: right;\">\n",
       "      <th></th>\n",
       "      <th>id</th>\n",
       "      <th>location</th>\n",
       "      <th>fault_severity</th>\n",
       "      <th>istrain</th>\n",
       "    </tr>\n",
       "  </thead>\n",
       "  <tbody>\n",
       "    <tr>\n",
       "      <th>0</th>\n",
       "      <td>14121</td>\n",
       "      <td>location 118</td>\n",
       "      <td>1.0</td>\n",
       "      <td>1</td>\n",
       "    </tr>\n",
       "    <tr>\n",
       "      <th>1</th>\n",
       "      <td>9320</td>\n",
       "      <td>location 91</td>\n",
       "      <td>0.0</td>\n",
       "      <td>1</td>\n",
       "    </tr>\n",
       "    <tr>\n",
       "      <th>2</th>\n",
       "      <td>14394</td>\n",
       "      <td>location 152</td>\n",
       "      <td>1.0</td>\n",
       "      <td>1</td>\n",
       "    </tr>\n",
       "    <tr>\n",
       "      <th>3</th>\n",
       "      <td>8218</td>\n",
       "      <td>location 931</td>\n",
       "      <td>1.0</td>\n",
       "      <td>1</td>\n",
       "    </tr>\n",
       "    <tr>\n",
       "      <th>4</th>\n",
       "      <td>14804</td>\n",
       "      <td>location 120</td>\n",
       "      <td>0.0</td>\n",
       "      <td>1</td>\n",
       "    </tr>\n",
       "  </tbody>\n",
       "</table>\n",
       "</div>"
      ],
      "text/plain": [
       "      id      location  fault_severity  istrain\n",
       "0  14121  location 118             1.0        1\n",
       "1   9320   location 91             0.0        1\n",
       "2  14394  location 152             1.0        1\n",
       "3   8218  location 931             1.0        1\n",
       "4  14804  location 120             0.0        1"
      ]
     },
     "execution_count": 194,
     "metadata": {},
     "output_type": "execute_result"
    }
   ],
   "source": [
    "data.head()"
   ]
  },
  {
   "cell_type": "code",
   "execution_count": 195,
   "metadata": {},
   "outputs": [
    {
     "name": "stdout",
     "output_type": "stream",
     "text": [
      "total number of rows in data:  18552\n",
      "number of unique id : 18552\n",
      "number of unique locations: 1126\n",
      "number of unique fault severity: 4\n"
     ]
    }
   ],
   "source": [
    "print('total number of rows in data: ' , len(data.index))\n",
    "print('number of unique id :' , len(data.id.unique()))\n",
    "print('number of unique locations:' , len(data.location.unique()))\n",
    "print('number of unique fault severity:' , len(data.fault_severity.unique()))"
   ]
  },
  {
   "cell_type": "code",
   "execution_count": 196,
   "metadata": {},
   "outputs": [
    {
     "data": {
      "text/plain": [
       "id                    0\n",
       "location              0\n",
       "fault_severity    11171\n",
       "istrain               0\n",
       "dtype: int64"
      ]
     },
     "execution_count": 196,
     "metadata": {},
     "output_type": "execute_result"
    }
   ],
   "source": [
    "data.isnull().sum()"
   ]
  },
  {
   "cell_type": "markdown",
   "metadata": {},
   "source": [
    "# cleaning the data"
   ]
  },
  {
   "cell_type": "code",
   "execution_count": 197,
   "metadata": {},
   "outputs": [
    {
     "data": {
      "text/html": [
       "<div>\n",
       "<style scoped>\n",
       "    .dataframe tbody tr th:only-of-type {\n",
       "        vertical-align: middle;\n",
       "    }\n",
       "\n",
       "    .dataframe tbody tr th {\n",
       "        vertical-align: top;\n",
       "    }\n",
       "\n",
       "    .dataframe thead th {\n",
       "        text-align: right;\n",
       "    }\n",
       "</style>\n",
       "<table border=\"1\" class=\"dataframe\">\n",
       "  <thead>\n",
       "    <tr style=\"text-align: right;\">\n",
       "      <th></th>\n",
       "      <th>id</th>\n",
       "      <th>location</th>\n",
       "      <th>fault_severity</th>\n",
       "      <th>istrain</th>\n",
       "    </tr>\n",
       "  </thead>\n",
       "  <tbody>\n",
       "    <tr>\n",
       "      <th>0</th>\n",
       "      <td>14121</td>\n",
       "      <td>118</td>\n",
       "      <td>1.0</td>\n",
       "      <td>1</td>\n",
       "    </tr>\n",
       "    <tr>\n",
       "      <th>1</th>\n",
       "      <td>9320</td>\n",
       "      <td>91</td>\n",
       "      <td>0.0</td>\n",
       "      <td>1</td>\n",
       "    </tr>\n",
       "    <tr>\n",
       "      <th>2</th>\n",
       "      <td>14394</td>\n",
       "      <td>152</td>\n",
       "      <td>1.0</td>\n",
       "      <td>1</td>\n",
       "    </tr>\n",
       "    <tr>\n",
       "      <th>3</th>\n",
       "      <td>8218</td>\n",
       "      <td>931</td>\n",
       "      <td>1.0</td>\n",
       "      <td>1</td>\n",
       "    </tr>\n",
       "    <tr>\n",
       "      <th>4</th>\n",
       "      <td>14804</td>\n",
       "      <td>120</td>\n",
       "      <td>0.0</td>\n",
       "      <td>1</td>\n",
       "    </tr>\n",
       "  </tbody>\n",
       "</table>\n",
       "</div>"
      ],
      "text/plain": [
       "      id  location  fault_severity  istrain\n",
       "0  14121       118             1.0        1\n",
       "1   9320        91             0.0        1\n",
       "2  14394       152             1.0        1\n",
       "3   8218       931             1.0        1\n",
       "4  14804       120             0.0        1"
      ]
     },
     "execution_count": 197,
     "metadata": {},
     "output_type": "execute_result"
    }
   ],
   "source": [
    "# we will strip the location attribute and maintain the interger value of location\n",
    "\n",
    "data.location = data.location.str.lstrip('location').astype('int')\n",
    "data.head()"
   ]
  },
  {
   "cell_type": "markdown",
   "metadata": {},
   "source": [
    "# visualizing the data"
   ]
  },
  {
   "cell_type": "code",
   "execution_count": 198,
   "metadata": {},
   "outputs": [
    {
     "data": {
      "text/plain": [
       "<matplotlib.axes._subplots.AxesSubplot at 0x166a39e348>"
      ]
     },
     "execution_count": 198,
     "metadata": {},
     "output_type": "execute_result"
    },
    {
     "data": {
      "image/png": "[encoded data removed]",
      "text/plain": [
       "<Figure size 1080x432 with 1 Axes>"
      ]
     },
     "metadata": {
      "needs_background": "light"
     },
     "output_type": "display_data"
    }
   ],
   "source": [
    "plt.figure(figsize=(15,6))\n",
    "col = 'location'\n",
    "sns.countplot(x = col , data = data , order=data[col].value_counts().index)"
   ]
  },
  {
   "cell_type": "code",
   "execution_count": 199,
   "metadata": {},
   "outputs": [
    {
     "data": {
      "text/plain": [
       "Text(0, 0.5, 'frequency')"
      ]
     },
     "execution_count": 199,
     "metadata": {},
     "output_type": "execute_result"
    },
    {
     "data": {
      "image/png": "[encoded data removed]",
      "text/plain": [
       "<Figure size 432x288 with 1 Axes>"
      ]
     },
     "metadata": {
      "needs_background": "light"
     },
     "output_type": "display_data"
    }
   ],
   "source": [
    "sns.countplot(x = 'fault_severity' , data = data)\n",
    "plt.ylabel('frequency')"
   ]
  },
  {
   "cell_type": "code",
   "execution_count": 200,
   "metadata": {},
   "outputs": [
    {
     "data": {
      "text/plain": [
       "<matplotlib.axes._subplots.AxesSubplot at 0x1672c293c8>"
      ]
     },
     "execution_count": 200,
     "metadata": {},
     "output_type": "execute_result"
    },
    {
     "data": {
      "image/png": "[encoded data removed]",
      "text/plain": [
       "<Figure size 432x288 with 1 Axes>"
      ]
     },
     "metadata": {
      "needs_background": "light"
     },
     "output_type": "display_data"
    }
   ],
   "source": [
    "sns.countplot(x = 'istrain' , data = data)"
   ]
  },
  {
   "cell_type": "code",
   "execution_count": 201,
   "metadata": {},
   "outputs": [
    {
     "data": {
      "text/plain": [
       "<matplotlib.axes._subplots.AxesSubplot at 0x1672ab0788>"
      ]
     },
     "execution_count": 201,
     "metadata": {},
     "output_type": "execute_result"
    },
    {
     "data": {
      "image/png": "[encoded data removed]",
      "text/plain": [
       "<Figure size 864x432 with 1 Axes>"
      ]
     },
     "metadata": {
      "needs_background": "light"
     },
     "output_type": "display_data"
    }
   ],
   "source": [
    "plt.figure(figsize=(12,6))\n",
    "sns.scatterplot(x = 'id' , y='location' , data= data  , cmap = 'virdis')"
   ]
  },
  {
   "cell_type": "markdown",
   "metadata": {},
   "source": [
    "# Analysis event type"
   ]
  },
  {
   "cell_type": "code",
   "execution_count": 202,
   "metadata": {},
   "outputs": [
    {
     "name": "stdout",
     "output_type": "stream",
     "text": [
      "<class 'pandas.core.frame.DataFrame'>\n",
      "RangeIndex: 31170 entries, 0 to 31169\n",
      "Data columns (total 2 columns):\n",
      " #   Column      Non-Null Count  Dtype \n",
      "---  ------      --------------  ----- \n",
      " 0   id          31170 non-null  int64 \n",
      " 1   event_type  31170 non-null  object\n",
      "dtypes: int64(1), object(1)\n",
      "memory usage: 487.2+ KB\n"
     ]
    }
   ],
   "source": [
    "event_type.info()"
   ]
  },
  {
   "cell_type": "code",
   "execution_count": 203,
   "metadata": {},
   "outputs": [
    {
     "data": {
      "text/html": [
       "<div>\n",
       "<style scoped>\n",
       "    .dataframe tbody tr th:only-of-type {\n",
       "        vertical-align: middle;\n",
       "    }\n",
       "\n",
       "    .dataframe tbody tr th {\n",
       "        vertical-align: top;\n",
       "    }\n",
       "\n",
       "    .dataframe thead th {\n",
       "        text-align: right;\n",
       "    }\n",
       "</style>\n",
       "<table border=\"1\" class=\"dataframe\">\n",
       "  <thead>\n",
       "    <tr style=\"text-align: right;\">\n",
       "      <th></th>\n",
       "      <th>id</th>\n",
       "      <th>event_type</th>\n",
       "    </tr>\n",
       "  </thead>\n",
       "  <tbody>\n",
       "    <tr>\n",
       "      <th>0</th>\n",
       "      <td>6597</td>\n",
       "      <td>event_type 11</td>\n",
       "    </tr>\n",
       "    <tr>\n",
       "      <th>1</th>\n",
       "      <td>8011</td>\n",
       "      <td>event_type 15</td>\n",
       "    </tr>\n",
       "    <tr>\n",
       "      <th>2</th>\n",
       "      <td>2597</td>\n",
       "      <td>event_type 15</td>\n",
       "    </tr>\n",
       "    <tr>\n",
       "      <th>3</th>\n",
       "      <td>5022</td>\n",
       "      <td>event_type 15</td>\n",
       "    </tr>\n",
       "    <tr>\n",
       "      <th>4</th>\n",
       "      <td>5022</td>\n",
       "      <td>event_type 11</td>\n",
       "    </tr>\n",
       "  </tbody>\n",
       "</table>\n",
       "</div>"
      ],
      "text/plain": [
       "     id     event_type\n",
       "0  6597  event_type 11\n",
       "1  8011  event_type 15\n",
       "2  2597  event_type 15\n",
       "3  5022  event_type 15\n",
       "4  5022  event_type 11"
      ]
     },
     "execution_count": 203,
     "metadata": {},
     "output_type": "execute_result"
    }
   ],
   "source": [
    "event_type.head()"
   ]
  },
  {
   "cell_type": "code",
   "execution_count": 204,
   "metadata": {},
   "outputs": [
    {
     "data": {
      "text/plain": [
       "31170"
      ]
     },
     "execution_count": 204,
     "metadata": {},
     "output_type": "execute_result"
    }
   ],
   "source": [
    "len(event_type.index)"
   ]
  },
  {
   "cell_type": "code",
   "execution_count": 205,
   "metadata": {},
   "outputs": [
    {
     "data": {
      "text/plain": [
       "18552"
      ]
     },
     "execution_count": 205,
     "metadata": {},
     "output_type": "execute_result"
    }
   ],
   "source": [
    "len(event_type.id.unique())"
   ]
  },
  {
   "cell_type": "code",
   "execution_count": 206,
   "metadata": {},
   "outputs": [
    {
     "data": {
      "text/plain": [
       "53"
      ]
     },
     "execution_count": 206,
     "metadata": {},
     "output_type": "execute_result"
    }
   ],
   "source": [
    "len(event_type.event_type.unique())"
   ]
  },
  {
   "cell_type": "code",
   "execution_count": 207,
   "metadata": {},
   "outputs": [
    {
     "data": {
      "text/plain": [
       "id            0\n",
       "event_type    0\n",
       "dtype: int64"
      ]
     },
     "execution_count": 207,
     "metadata": {},
     "output_type": "execute_result"
    }
   ],
   "source": [
    "event_type.isnull().sum()"
   ]
  },
  {
   "cell_type": "markdown",
   "metadata": {},
   "source": [
    "# cleaning event type"
   ]
  },
  {
   "cell_type": "code",
   "execution_count": 208,
   "metadata": {},
   "outputs": [
    {
     "data": {
      "text/html": [
       "<div>\n",
       "<style scoped>\n",
       "    .dataframe tbody tr th:only-of-type {\n",
       "        vertical-align: middle;\n",
       "    }\n",
       "\n",
       "    .dataframe tbody tr th {\n",
       "        vertical-align: top;\n",
       "    }\n",
       "\n",
       "    .dataframe thead th {\n",
       "        text-align: right;\n",
       "    }\n",
       "</style>\n",
       "<table border=\"1\" class=\"dataframe\">\n",
       "  <thead>\n",
       "    <tr style=\"text-align: right;\">\n",
       "      <th></th>\n",
       "      <th>id</th>\n",
       "      <th>event_type</th>\n",
       "    </tr>\n",
       "  </thead>\n",
       "  <tbody>\n",
       "    <tr>\n",
       "      <th>0</th>\n",
       "      <td>6597</td>\n",
       "      <td>11</td>\n",
       "    </tr>\n",
       "    <tr>\n",
       "      <th>1</th>\n",
       "      <td>8011</td>\n",
       "      <td>15</td>\n",
       "    </tr>\n",
       "    <tr>\n",
       "      <th>2</th>\n",
       "      <td>2597</td>\n",
       "      <td>15</td>\n",
       "    </tr>\n",
       "    <tr>\n",
       "      <th>3</th>\n",
       "      <td>5022</td>\n",
       "      <td>15</td>\n",
       "    </tr>\n",
       "    <tr>\n",
       "      <th>4</th>\n",
       "      <td>5022</td>\n",
       "      <td>11</td>\n",
       "    </tr>\n",
       "  </tbody>\n",
       "</table>\n",
       "</div>"
      ],
      "text/plain": [
       "     id  event_type\n",
       "0  6597          11\n",
       "1  8011          15\n",
       "2  2597          15\n",
       "3  5022          15\n",
       "4  5022          11"
      ]
     },
     "execution_count": 208,
     "metadata": {},
     "output_type": "execute_result"
    }
   ],
   "source": [
    "event_type.event_type = event_type.event_type.str.lstrip('event_type').astype('int')\n",
    "event_type.head()"
   ]
  },
  {
   "cell_type": "code",
   "execution_count": 209,
   "metadata": {},
   "outputs": [
    {
     "data": {
      "text/html": [
       "<div>\n",
       "<style scoped>\n",
       "    .dataframe tbody tr th:only-of-type {\n",
       "        vertical-align: middle;\n",
       "    }\n",
       "\n",
       "    .dataframe tbody tr th {\n",
       "        vertical-align: top;\n",
       "    }\n",
       "\n",
       "    .dataframe thead th {\n",
       "        text-align: right;\n",
       "    }\n",
       "</style>\n",
       "<table border=\"1\" class=\"dataframe\">\n",
       "  <thead>\n",
       "    <tr style=\"text-align: right;\">\n",
       "      <th></th>\n",
       "      <th>id</th>\n",
       "      <th>event_type</th>\n",
       "    </tr>\n",
       "  </thead>\n",
       "  <tbody>\n",
       "    <tr>\n",
       "      <th>0</th>\n",
       "      <td>6597</td>\n",
       "      <td>11</td>\n",
       "    </tr>\n",
       "    <tr>\n",
       "      <th>1</th>\n",
       "      <td>8011</td>\n",
       "      <td>15</td>\n",
       "    </tr>\n",
       "    <tr>\n",
       "      <th>2</th>\n",
       "      <td>2597</td>\n",
       "      <td>15</td>\n",
       "    </tr>\n",
       "    <tr>\n",
       "      <th>3</th>\n",
       "      <td>5022</td>\n",
       "      <td>15</td>\n",
       "    </tr>\n",
       "    <tr>\n",
       "      <th>4</th>\n",
       "      <td>5022</td>\n",
       "      <td>11</td>\n",
       "    </tr>\n",
       "  </tbody>\n",
       "</table>\n",
       "</div>"
      ],
      "text/plain": [
       "     id  event_type\n",
       "0  6597          11\n",
       "1  8011          15\n",
       "2  2597          15\n",
       "3  5022          15\n",
       "4  5022          11"
      ]
     },
     "execution_count": 209,
     "metadata": {},
     "output_type": "execute_result"
    }
   ],
   "source": [
    "# one hot encoding using pandas\n",
    "\n",
    "event_type = pd.get_dummies(event_type)\n",
    "event_type.head()"
   ]
  },
  {
   "cell_type": "markdown",
   "metadata": {},
   "source": [
    "# analysis Log features"
   ]
  },
  {
   "cell_type": "code",
   "execution_count": 210,
   "metadata": {},
   "outputs": [
    {
     "name": "stdout",
     "output_type": "stream",
     "text": [
      "<class 'pandas.core.frame.DataFrame'>\n",
      "RangeIndex: 58671 entries, 0 to 58670\n",
      "Data columns (total 3 columns):\n",
      " #   Column       Non-Null Count  Dtype \n",
      "---  ------       --------------  ----- \n",
      " 0   id           58671 non-null  int64 \n",
      " 1   log_feature  58671 non-null  object\n",
      " 2   volume       58671 non-null  int64 \n",
      "dtypes: int64(2), object(1)\n",
      "memory usage: 1.3+ MB\n"
     ]
    }
   ],
   "source": [
    "log_feature.info()"
   ]
  },
  {
   "cell_type": "code",
   "execution_count": 211,
   "metadata": {},
   "outputs": [
    {
     "data": {
      "text/html": [
       "<div>\n",
       "<style scoped>\n",
       "    .dataframe tbody tr th:only-of-type {\n",
       "        vertical-align: middle;\n",
       "    }\n",
       "\n",
       "    .dataframe tbody tr th {\n",
       "        vertical-align: top;\n",
       "    }\n",
       "\n",
       "    .dataframe thead th {\n",
       "        text-align: right;\n",
       "    }\n",
       "</style>\n",
       "<table border=\"1\" class=\"dataframe\">\n",
       "  <thead>\n",
       "    <tr style=\"text-align: right;\">\n",
       "      <th></th>\n",
       "      <th>id</th>\n",
       "      <th>log_feature</th>\n",
       "      <th>volume</th>\n",
       "    </tr>\n",
       "  </thead>\n",
       "  <tbody>\n",
       "    <tr>\n",
       "      <th>0</th>\n",
       "      <td>6597</td>\n",
       "      <td>feature 68</td>\n",
       "      <td>6</td>\n",
       "    </tr>\n",
       "    <tr>\n",
       "      <th>1</th>\n",
       "      <td>8011</td>\n",
       "      <td>feature 68</td>\n",
       "      <td>7</td>\n",
       "    </tr>\n",
       "    <tr>\n",
       "      <th>2</th>\n",
       "      <td>2597</td>\n",
       "      <td>feature 68</td>\n",
       "      <td>1</td>\n",
       "    </tr>\n",
       "    <tr>\n",
       "      <th>3</th>\n",
       "      <td>5022</td>\n",
       "      <td>feature 172</td>\n",
       "      <td>2</td>\n",
       "    </tr>\n",
       "    <tr>\n",
       "      <th>4</th>\n",
       "      <td>5022</td>\n",
       "      <td>feature 56</td>\n",
       "      <td>1</td>\n",
       "    </tr>\n",
       "  </tbody>\n",
       "</table>\n",
       "</div>"
      ],
      "text/plain": [
       "     id  log_feature  volume\n",
       "0  6597   feature 68       6\n",
       "1  8011   feature 68       7\n",
       "2  2597   feature 68       1\n",
       "3  5022  feature 172       2\n",
       "4  5022   feature 56       1"
      ]
     },
     "execution_count": 211,
     "metadata": {},
     "output_type": "execute_result"
    }
   ],
   "source": [
    "log_feature.head()"
   ]
  },
  {
   "cell_type": "code",
   "execution_count": 212,
   "metadata": {},
   "outputs": [
    {
     "name": "stdout",
     "output_type": "stream",
     "text": [
      "total number of rows :  58671\n",
      "number of unique ids : 18552\n",
      "number of unique log features: 386\n",
      "number of unique volumes : 341\n"
     ]
    }
   ],
   "source": [
    "print('total number of rows : ' , len(log_feature.index))\n",
    "print('number of unique ids :' , len(log_feature.id.unique()))\n",
    "print('number of unique log features:' , len(log_feature.log_feature.unique()))\n",
    "print('number of unique volumes :' , len(log_feature.volume.unique()))\n"
   ]
  },
  {
   "cell_type": "code",
   "execution_count": 213,
   "metadata": {},
   "outputs": [
    {
     "data": {
      "text/plain": [
       "id             0\n",
       "log_feature    0\n",
       "volume         0\n",
       "dtype: int64"
      ]
     },
     "execution_count": 213,
     "metadata": {},
     "output_type": "execute_result"
    }
   ],
   "source": [
    "log_feature.isnull().sum()"
   ]
  },
  {
   "cell_type": "markdown",
   "metadata": {},
   "source": [
    "# cleaning log features"
   ]
  },
  {
   "cell_type": "code",
   "execution_count": 214,
   "metadata": {},
   "outputs": [
    {
     "data": {
      "text/html": [
       "<div>\n",
       "<style scoped>\n",
       "    .dataframe tbody tr th:only-of-type {\n",
       "        vertical-align: middle;\n",
       "    }\n",
       "\n",
       "    .dataframe tbody tr th {\n",
       "        vertical-align: top;\n",
       "    }\n",
       "\n",
       "    .dataframe thead th {\n",
       "        text-align: right;\n",
       "    }\n",
       "</style>\n",
       "<table border=\"1\" class=\"dataframe\">\n",
       "  <thead>\n",
       "    <tr style=\"text-align: right;\">\n",
       "      <th></th>\n",
       "      <th>id</th>\n",
       "      <th>log_feature</th>\n",
       "      <th>volume</th>\n",
       "    </tr>\n",
       "  </thead>\n",
       "  <tbody>\n",
       "    <tr>\n",
       "      <th>0</th>\n",
       "      <td>6597</td>\n",
       "      <td>68</td>\n",
       "      <td>6</td>\n",
       "    </tr>\n",
       "    <tr>\n",
       "      <th>1</th>\n",
       "      <td>8011</td>\n",
       "      <td>68</td>\n",
       "      <td>7</td>\n",
       "    </tr>\n",
       "    <tr>\n",
       "      <th>2</th>\n",
       "      <td>2597</td>\n",
       "      <td>68</td>\n",
       "      <td>1</td>\n",
       "    </tr>\n",
       "    <tr>\n",
       "      <th>3</th>\n",
       "      <td>5022</td>\n",
       "      <td>172</td>\n",
       "      <td>2</td>\n",
       "    </tr>\n",
       "    <tr>\n",
       "      <th>4</th>\n",
       "      <td>5022</td>\n",
       "      <td>56</td>\n",
       "      <td>1</td>\n",
       "    </tr>\n",
       "  </tbody>\n",
       "</table>\n",
       "</div>"
      ],
      "text/plain": [
       "     id  log_feature  volume\n",
       "0  6597           68       6\n",
       "1  8011           68       7\n",
       "2  2597           68       1\n",
       "3  5022          172       2\n",
       "4  5022           56       1"
      ]
     },
     "execution_count": 214,
     "metadata": {},
     "output_type": "execute_result"
    }
   ],
   "source": [
    "log_feature['log_feature'] = log_feature['log_feature'].str.lstrip('feature').astype('int')\n",
    "log_feature.head()"
   ]
  },
  {
   "cell_type": "code",
   "execution_count": 215,
   "metadata": {},
   "outputs": [
    {
     "data": {
      "text/plain": [
       "<matplotlib.axes._subplots.AxesSubplot at 0x1672a4fcc8>"
      ]
     },
     "execution_count": 215,
     "metadata": {},
     "output_type": "execute_result"
    },
    {
     "data": {
      "image/png": "[encoded data removed]",
      "text/plain": [
       "<Figure size 432x288 with 1 Axes>"
      ]
     },
     "metadata": {
      "needs_background": "light"
     },
     "output_type": "display_data"
    }
   ],
   "source": [
    "sns.countplot(x = 'log_feature' , data = log_feature)"
   ]
  },
  {
   "cell_type": "markdown",
   "metadata": {},
   "source": [
    "# Analysis resourse type"
   ]
  },
  {
   "cell_type": "code",
   "execution_count": 216,
   "metadata": {},
   "outputs": [
    {
     "name": "stdout",
     "output_type": "stream",
     "text": [
      "<class 'pandas.core.frame.DataFrame'>\n",
      "RangeIndex: 21076 entries, 0 to 21075\n",
      "Data columns (total 2 columns):\n",
      " #   Column         Non-Null Count  Dtype \n",
      "---  ------         --------------  ----- \n",
      " 0   id             21076 non-null  int64 \n",
      " 1   resource_type  21076 non-null  object\n",
      "dtypes: int64(1), object(1)\n",
      "memory usage: 329.4+ KB\n"
     ]
    }
   ],
   "source": [
    "resource_type.info()"
   ]
  },
  {
   "cell_type": "code",
   "execution_count": 217,
   "metadata": {},
   "outputs": [
    {
     "data": {
      "text/html": [
       "<div>\n",
       "<style scoped>\n",
       "    .dataframe tbody tr th:only-of-type {\n",
       "        vertical-align: middle;\n",
       "    }\n",
       "\n",
       "    .dataframe tbody tr th {\n",
       "        vertical-align: top;\n",
       "    }\n",
       "\n",
       "    .dataframe thead th {\n",
       "        text-align: right;\n",
       "    }\n",
       "</style>\n",
       "<table border=\"1\" class=\"dataframe\">\n",
       "  <thead>\n",
       "    <tr style=\"text-align: right;\">\n",
       "      <th></th>\n",
       "      <th>id</th>\n",
       "      <th>resource_type</th>\n",
       "    </tr>\n",
       "  </thead>\n",
       "  <tbody>\n",
       "    <tr>\n",
       "      <th>0</th>\n",
       "      <td>6597</td>\n",
       "      <td>resource_type 8</td>\n",
       "    </tr>\n",
       "    <tr>\n",
       "      <th>1</th>\n",
       "      <td>8011</td>\n",
       "      <td>resource_type 8</td>\n",
       "    </tr>\n",
       "    <tr>\n",
       "      <th>2</th>\n",
       "      <td>2597</td>\n",
       "      <td>resource_type 8</td>\n",
       "    </tr>\n",
       "    <tr>\n",
       "      <th>3</th>\n",
       "      <td>5022</td>\n",
       "      <td>resource_type 8</td>\n",
       "    </tr>\n",
       "    <tr>\n",
       "      <th>4</th>\n",
       "      <td>6852</td>\n",
       "      <td>resource_type 8</td>\n",
       "    </tr>\n",
       "  </tbody>\n",
       "</table>\n",
       "</div>"
      ],
      "text/plain": [
       "     id    resource_type\n",
       "0  6597  resource_type 8\n",
       "1  8011  resource_type 8\n",
       "2  2597  resource_type 8\n",
       "3  5022  resource_type 8\n",
       "4  6852  resource_type 8"
      ]
     },
     "execution_count": 217,
     "metadata": {},
     "output_type": "execute_result"
    }
   ],
   "source": [
    "resource_type.head()"
   ]
  },
  {
   "cell_type": "code",
   "execution_count": 218,
   "metadata": {},
   "outputs": [
    {
     "data": {
      "text/html": [
       "<div>\n",
       "<style scoped>\n",
       "    .dataframe tbody tr th:only-of-type {\n",
       "        vertical-align: middle;\n",
       "    }\n",
       "\n",
       "    .dataframe tbody tr th {\n",
       "        vertical-align: top;\n",
       "    }\n",
       "\n",
       "    .dataframe thead th {\n",
       "        text-align: right;\n",
       "    }\n",
       "</style>\n",
       "<table border=\"1\" class=\"dataframe\">\n",
       "  <thead>\n",
       "    <tr style=\"text-align: right;\">\n",
       "      <th></th>\n",
       "      <th>id</th>\n",
       "      <th>resource_type</th>\n",
       "    </tr>\n",
       "  </thead>\n",
       "  <tbody>\n",
       "    <tr>\n",
       "      <th>0</th>\n",
       "      <td>6597</td>\n",
       "      <td>8</td>\n",
       "    </tr>\n",
       "    <tr>\n",
       "      <th>1</th>\n",
       "      <td>8011</td>\n",
       "      <td>8</td>\n",
       "    </tr>\n",
       "    <tr>\n",
       "      <th>2</th>\n",
       "      <td>2597</td>\n",
       "      <td>8</td>\n",
       "    </tr>\n",
       "    <tr>\n",
       "      <th>3</th>\n",
       "      <td>5022</td>\n",
       "      <td>8</td>\n",
       "    </tr>\n",
       "    <tr>\n",
       "      <th>4</th>\n",
       "      <td>6852</td>\n",
       "      <td>8</td>\n",
       "    </tr>\n",
       "  </tbody>\n",
       "</table>\n",
       "</div>"
      ],
      "text/plain": [
       "     id  resource_type\n",
       "0  6597              8\n",
       "1  8011              8\n",
       "2  2597              8\n",
       "3  5022              8\n",
       "4  6852              8"
      ]
     },
     "execution_count": 218,
     "metadata": {},
     "output_type": "execute_result"
    }
   ],
   "source": [
    "# clean the data of resourse type\n",
    "\n",
    "resource_type['resource_type'] = resource_type['resource_type'].str.lstrip('resource_type').astype('int')\n",
    "resource_type.head()"
   ]
  },
  {
   "cell_type": "code",
   "execution_count": 219,
   "metadata": {},
   "outputs": [
    {
     "data": {
      "text/plain": [
       "8     10268\n",
       "2      8918\n",
       "6       582\n",
       "7       498\n",
       "4       330\n",
       "9       190\n",
       "3       145\n",
       "10       73\n",
       "1        58\n",
       "5        14\n",
       "Name: resource_type, dtype: int64"
      ]
     },
     "execution_count": 219,
     "metadata": {},
     "output_type": "execute_result"
    }
   ],
   "source": [
    "resource_type['resource_type'].value_counts()"
   ]
  },
  {
   "cell_type": "code",
   "execution_count": 220,
   "metadata": {},
   "outputs": [
    {
     "data": {
      "text/html": [
       "<div>\n",
       "<style scoped>\n",
       "    .dataframe tbody tr th:only-of-type {\n",
       "        vertical-align: middle;\n",
       "    }\n",
       "\n",
       "    .dataframe tbody tr th {\n",
       "        vertical-align: top;\n",
       "    }\n",
       "\n",
       "    .dataframe thead th {\n",
       "        text-align: right;\n",
       "    }\n",
       "</style>\n",
       "<table border=\"1\" class=\"dataframe\">\n",
       "  <thead>\n",
       "    <tr style=\"text-align: right;\">\n",
       "      <th></th>\n",
       "      <th>id</th>\n",
       "      <th>resource_type_1</th>\n",
       "      <th>resource_type_2</th>\n",
       "      <th>resource_type_3</th>\n",
       "      <th>resource_type_4</th>\n",
       "      <th>resource_type_5</th>\n",
       "      <th>resource_type_6</th>\n",
       "      <th>resource_type_7</th>\n",
       "      <th>resource_type_8</th>\n",
       "      <th>resource_type_9</th>\n",
       "      <th>resource_type_10</th>\n",
       "    </tr>\n",
       "  </thead>\n",
       "  <tbody>\n",
       "    <tr>\n",
       "      <th>0</th>\n",
       "      <td>6597</td>\n",
       "      <td>0</td>\n",
       "      <td>0</td>\n",
       "      <td>0</td>\n",
       "      <td>0</td>\n",
       "      <td>0</td>\n",
       "      <td>0</td>\n",
       "      <td>0</td>\n",
       "      <td>1</td>\n",
       "      <td>0</td>\n",
       "      <td>0</td>\n",
       "    </tr>\n",
       "    <tr>\n",
       "      <th>1</th>\n",
       "      <td>8011</td>\n",
       "      <td>0</td>\n",
       "      <td>0</td>\n",
       "      <td>0</td>\n",
       "      <td>0</td>\n",
       "      <td>0</td>\n",
       "      <td>0</td>\n",
       "      <td>0</td>\n",
       "      <td>1</td>\n",
       "      <td>0</td>\n",
       "      <td>0</td>\n",
       "    </tr>\n",
       "    <tr>\n",
       "      <th>2</th>\n",
       "      <td>2597</td>\n",
       "      <td>0</td>\n",
       "      <td>0</td>\n",
       "      <td>0</td>\n",
       "      <td>0</td>\n",
       "      <td>0</td>\n",
       "      <td>0</td>\n",
       "      <td>0</td>\n",
       "      <td>1</td>\n",
       "      <td>0</td>\n",
       "      <td>0</td>\n",
       "    </tr>\n",
       "    <tr>\n",
       "      <th>3</th>\n",
       "      <td>5022</td>\n",
       "      <td>0</td>\n",
       "      <td>0</td>\n",
       "      <td>0</td>\n",
       "      <td>0</td>\n",
       "      <td>0</td>\n",
       "      <td>0</td>\n",
       "      <td>0</td>\n",
       "      <td>1</td>\n",
       "      <td>0</td>\n",
       "      <td>0</td>\n",
       "    </tr>\n",
       "    <tr>\n",
       "      <th>4</th>\n",
       "      <td>6852</td>\n",
       "      <td>0</td>\n",
       "      <td>0</td>\n",
       "      <td>0</td>\n",
       "      <td>0</td>\n",
       "      <td>0</td>\n",
       "      <td>0</td>\n",
       "      <td>0</td>\n",
       "      <td>1</td>\n",
       "      <td>0</td>\n",
       "      <td>0</td>\n",
       "    </tr>\n",
       "  </tbody>\n",
       "</table>\n",
       "</div>"
      ],
      "text/plain": [
       "     id  resource_type_1  resource_type_2  resource_type_3  resource_type_4  \\\n",
       "0  6597                0                0                0                0   \n",
       "1  8011                0                0                0                0   \n",
       "2  2597                0                0                0                0   \n",
       "3  5022                0                0                0                0   \n",
       "4  6852                0                0                0                0   \n",
       "\n",
       "   resource_type_5  resource_type_6  resource_type_7  resource_type_8  \\\n",
       "0                0                0                0                1   \n",
       "1                0                0                0                1   \n",
       "2                0                0                0                1   \n",
       "3                0                0                0                1   \n",
       "4                0                0                0                1   \n",
       "\n",
       "   resource_type_9  resource_type_10  \n",
       "0                0                 0  \n",
       "1                0                 0  \n",
       "2                0                 0  \n",
       "3                0                 0  \n",
       "4                0                 0  "
      ]
     },
     "execution_count": 220,
     "metadata": {},
     "output_type": "execute_result"
    }
   ],
   "source": [
    "resource_type = pd.get_dummies(resource_type , columns=['resource_type'])\n",
    "resource_type.head()"
   ]
  },
  {
   "cell_type": "markdown",
   "metadata": {},
   "source": [
    "# Analysis severity type"
   ]
  },
  {
   "cell_type": "code",
   "execution_count": 221,
   "metadata": {},
   "outputs": [
    {
     "name": "stdout",
     "output_type": "stream",
     "text": [
      "<class 'pandas.core.frame.DataFrame'>\n",
      "RangeIndex: 18552 entries, 0 to 18551\n",
      "Data columns (total 2 columns):\n",
      " #   Column         Non-Null Count  Dtype \n",
      "---  ------         --------------  ----- \n",
      " 0   id             18552 non-null  int64 \n",
      " 1   severity_type  18552 non-null  object\n",
      "dtypes: int64(1), object(1)\n",
      "memory usage: 290.0+ KB\n"
     ]
    }
   ],
   "source": [
    "severity_type.info()"
   ]
  },
  {
   "cell_type": "code",
   "execution_count": 222,
   "metadata": {},
   "outputs": [
    {
     "data": {
      "text/html": [
       "<div>\n",
       "<style scoped>\n",
       "    .dataframe tbody tr th:only-of-type {\n",
       "        vertical-align: middle;\n",
       "    }\n",
       "\n",
       "    .dataframe tbody tr th {\n",
       "        vertical-align: top;\n",
       "    }\n",
       "\n",
       "    .dataframe thead th {\n",
       "        text-align: right;\n",
       "    }\n",
       "</style>\n",
       "<table border=\"1\" class=\"dataframe\">\n",
       "  <thead>\n",
       "    <tr style=\"text-align: right;\">\n",
       "      <th></th>\n",
       "      <th>id</th>\n",
       "      <th>severity_type</th>\n",
       "    </tr>\n",
       "  </thead>\n",
       "  <tbody>\n",
       "    <tr>\n",
       "      <th>0</th>\n",
       "      <td>6597</td>\n",
       "      <td>severity_type 2</td>\n",
       "    </tr>\n",
       "    <tr>\n",
       "      <th>1</th>\n",
       "      <td>8011</td>\n",
       "      <td>severity_type 2</td>\n",
       "    </tr>\n",
       "    <tr>\n",
       "      <th>2</th>\n",
       "      <td>2597</td>\n",
       "      <td>severity_type 2</td>\n",
       "    </tr>\n",
       "    <tr>\n",
       "      <th>3</th>\n",
       "      <td>5022</td>\n",
       "      <td>severity_type 1</td>\n",
       "    </tr>\n",
       "    <tr>\n",
       "      <th>4</th>\n",
       "      <td>6852</td>\n",
       "      <td>severity_type 1</td>\n",
       "    </tr>\n",
       "  </tbody>\n",
       "</table>\n",
       "</div>"
      ],
      "text/plain": [
       "     id    severity_type\n",
       "0  6597  severity_type 2\n",
       "1  8011  severity_type 2\n",
       "2  2597  severity_type 2\n",
       "3  5022  severity_type 1\n",
       "4  6852  severity_type 1"
      ]
     },
     "execution_count": 222,
     "metadata": {},
     "output_type": "execute_result"
    }
   ],
   "source": [
    "severity_type.head()"
   ]
  },
  {
   "cell_type": "code",
   "execution_count": 223,
   "metadata": {},
   "outputs": [
    {
     "data": {
      "text/html": [
       "<div>\n",
       "<style scoped>\n",
       "    .dataframe tbody tr th:only-of-type {\n",
       "        vertical-align: middle;\n",
       "    }\n",
       "\n",
       "    .dataframe tbody tr th {\n",
       "        vertical-align: top;\n",
       "    }\n",
       "\n",
       "    .dataframe thead th {\n",
       "        text-align: right;\n",
       "    }\n",
       "</style>\n",
       "<table border=\"1\" class=\"dataframe\">\n",
       "  <thead>\n",
       "    <tr style=\"text-align: right;\">\n",
       "      <th></th>\n",
       "      <th>id</th>\n",
       "      <th>severity_type</th>\n",
       "    </tr>\n",
       "  </thead>\n",
       "  <tbody>\n",
       "    <tr>\n",
       "      <th>0</th>\n",
       "      <td>6597</td>\n",
       "      <td>2</td>\n",
       "    </tr>\n",
       "    <tr>\n",
       "      <th>1</th>\n",
       "      <td>8011</td>\n",
       "      <td>2</td>\n",
       "    </tr>\n",
       "    <tr>\n",
       "      <th>2</th>\n",
       "      <td>2597</td>\n",
       "      <td>2</td>\n",
       "    </tr>\n",
       "    <tr>\n",
       "      <th>3</th>\n",
       "      <td>5022</td>\n",
       "      <td>1</td>\n",
       "    </tr>\n",
       "    <tr>\n",
       "      <th>4</th>\n",
       "      <td>6852</td>\n",
       "      <td>1</td>\n",
       "    </tr>\n",
       "  </tbody>\n",
       "</table>\n",
       "</div>"
      ],
      "text/plain": [
       "     id  severity_type\n",
       "0  6597              2\n",
       "1  8011              2\n",
       "2  2597              2\n",
       "3  5022              1\n",
       "4  6852              1"
      ]
     },
     "execution_count": 223,
     "metadata": {},
     "output_type": "execute_result"
    }
   ],
   "source": [
    "# cleaning the severity data\n",
    "\n",
    "severity_type['severity_type'] = severity_type['severity_type'].str.lstrip('severity_type').astype('int')\n",
    "severity_type.head()"
   ]
  },
  {
   "cell_type": "code",
   "execution_count": 224,
   "metadata": {},
   "outputs": [
    {
     "data": {
      "text/plain": [
       "2    8737\n",
       "1    8728\n",
       "4    1014\n",
       "5      65\n",
       "3       8\n",
       "Name: severity_type, dtype: int64"
      ]
     },
     "execution_count": 224,
     "metadata": {},
     "output_type": "execute_result"
    }
   ],
   "source": [
    "severity_type['severity_type'].value_counts()"
   ]
  },
  {
   "cell_type": "code",
   "execution_count": 225,
   "metadata": {},
   "outputs": [
    {
     "data": {
      "text/html": [
       "<div>\n",
       "<style scoped>\n",
       "    .dataframe tbody tr th:only-of-type {\n",
       "        vertical-align: middle;\n",
       "    }\n",
       "\n",
       "    .dataframe tbody tr th {\n",
       "        vertical-align: top;\n",
       "    }\n",
       "\n",
       "    .dataframe thead th {\n",
       "        text-align: right;\n",
       "    }\n",
       "</style>\n",
       "<table border=\"1\" class=\"dataframe\">\n",
       "  <thead>\n",
       "    <tr style=\"text-align: right;\">\n",
       "      <th></th>\n",
       "      <th>id</th>\n",
       "      <th>severity_type_1</th>\n",
       "      <th>severity_type_2</th>\n",
       "      <th>severity_type_3</th>\n",
       "      <th>severity_type_4</th>\n",
       "      <th>severity_type_5</th>\n",
       "    </tr>\n",
       "  </thead>\n",
       "  <tbody>\n",
       "    <tr>\n",
       "      <th>0</th>\n",
       "      <td>6597</td>\n",
       "      <td>0</td>\n",
       "      <td>1</td>\n",
       "      <td>0</td>\n",
       "      <td>0</td>\n",
       "      <td>0</td>\n",
       "    </tr>\n",
       "    <tr>\n",
       "      <th>1</th>\n",
       "      <td>8011</td>\n",
       "      <td>0</td>\n",
       "      <td>1</td>\n",
       "      <td>0</td>\n",
       "      <td>0</td>\n",
       "      <td>0</td>\n",
       "    </tr>\n",
       "    <tr>\n",
       "      <th>2</th>\n",
       "      <td>2597</td>\n",
       "      <td>0</td>\n",
       "      <td>1</td>\n",
       "      <td>0</td>\n",
       "      <td>0</td>\n",
       "      <td>0</td>\n",
       "    </tr>\n",
       "    <tr>\n",
       "      <th>3</th>\n",
       "      <td>5022</td>\n",
       "      <td>1</td>\n",
       "      <td>0</td>\n",
       "      <td>0</td>\n",
       "      <td>0</td>\n",
       "      <td>0</td>\n",
       "    </tr>\n",
       "    <tr>\n",
       "      <th>4</th>\n",
       "      <td>6852</td>\n",
       "      <td>1</td>\n",
       "      <td>0</td>\n",
       "      <td>0</td>\n",
       "      <td>0</td>\n",
       "      <td>0</td>\n",
       "    </tr>\n",
       "  </tbody>\n",
       "</table>\n",
       "</div>"
      ],
      "text/plain": [
       "     id  severity_type_1  severity_type_2  severity_type_3  severity_type_4  \\\n",
       "0  6597                0                1                0                0   \n",
       "1  8011                0                1                0                0   \n",
       "2  2597                0                1                0                0   \n",
       "3  5022                1                0                0                0   \n",
       "4  6852                1                0                0                0   \n",
       "\n",
       "   severity_type_5  \n",
       "0                0  \n",
       "1                0  \n",
       "2                0  \n",
       "3                0  \n",
       "4                0  "
      ]
     },
     "execution_count": 225,
     "metadata": {},
     "output_type": "execute_result"
    }
   ],
   "source": [
    "# one hot encoding\n",
    "severity_type = pd.get_dummies(severity_type , columns=['severity_type'])\n",
    "severity_type.head()"
   ]
  },
  {
   "cell_type": "markdown",
   "metadata": {},
   "source": [
    "# analysis submission data"
   ]
  },
  {
   "cell_type": "code",
   "execution_count": 226,
   "metadata": {},
   "outputs": [
    {
     "name": "stdout",
     "output_type": "stream",
     "text": [
      "<class 'pandas.core.frame.DataFrame'>\n",
      "RangeIndex: 11171 entries, 0 to 11170\n",
      "Data columns (total 4 columns):\n",
      " #   Column     Non-Null Count  Dtype\n",
      "---  ------     --------------  -----\n",
      " 0   id         11171 non-null  int64\n",
      " 1   predict_0  11171 non-null  int64\n",
      " 2   predict_1  11171 non-null  int64\n",
      " 3   predict_2  11171 non-null  int64\n",
      "dtypes: int64(4)\n",
      "memory usage: 349.2 KB\n"
     ]
    }
   ],
   "source": [
    "sample_submission.info()"
   ]
  },
  {
   "cell_type": "code",
   "execution_count": 227,
   "metadata": {},
   "outputs": [
    {
     "data": {
      "text/html": [
       "<div>\n",
       "<style scoped>\n",
       "    .dataframe tbody tr th:only-of-type {\n",
       "        vertical-align: middle;\n",
       "    }\n",
       "\n",
       "    .dataframe tbody tr th {\n",
       "        vertical-align: top;\n",
       "    }\n",
       "\n",
       "    .dataframe thead th {\n",
       "        text-align: right;\n",
       "    }\n",
       "</style>\n",
       "<table border=\"1\" class=\"dataframe\">\n",
       "  <thead>\n",
       "    <tr style=\"text-align: right;\">\n",
       "      <th></th>\n",
       "      <th>id</th>\n",
       "      <th>predict_0</th>\n",
       "      <th>predict_1</th>\n",
       "      <th>predict_2</th>\n",
       "    </tr>\n",
       "  </thead>\n",
       "  <tbody>\n",
       "    <tr>\n",
       "      <th>0</th>\n",
       "      <td>11066</td>\n",
       "      <td>0</td>\n",
       "      <td>1</td>\n",
       "      <td>0</td>\n",
       "    </tr>\n",
       "    <tr>\n",
       "      <th>1</th>\n",
       "      <td>18000</td>\n",
       "      <td>0</td>\n",
       "      <td>1</td>\n",
       "      <td>0</td>\n",
       "    </tr>\n",
       "    <tr>\n",
       "      <th>2</th>\n",
       "      <td>16964</td>\n",
       "      <td>0</td>\n",
       "      <td>1</td>\n",
       "      <td>0</td>\n",
       "    </tr>\n",
       "    <tr>\n",
       "      <th>3</th>\n",
       "      <td>4795</td>\n",
       "      <td>0</td>\n",
       "      <td>1</td>\n",
       "      <td>0</td>\n",
       "    </tr>\n",
       "    <tr>\n",
       "      <th>4</th>\n",
       "      <td>3392</td>\n",
       "      <td>0</td>\n",
       "      <td>1</td>\n",
       "      <td>0</td>\n",
       "    </tr>\n",
       "  </tbody>\n",
       "</table>\n",
       "</div>"
      ],
      "text/plain": [
       "      id  predict_0  predict_1  predict_2\n",
       "0  11066          0          1          0\n",
       "1  18000          0          1          0\n",
       "2  16964          0          1          0\n",
       "3   4795          0          1          0\n",
       "4   3392          0          1          0"
      ]
     },
     "execution_count": 227,
     "metadata": {},
     "output_type": "execute_result"
    }
   ],
   "source": [
    "sample_submission.head()"
   ]
  },
  {
   "cell_type": "markdown",
   "metadata": {},
   "source": [
    "# **Feature Engineering**"
   ]
  },
  {
   "cell_type": "code",
   "execution_count": 228,
   "metadata": {},
   "outputs": [
    {
     "data": {
      "text/html": [
       "<div>\n",
       "<style scoped>\n",
       "    .dataframe tbody tr th:only-of-type {\n",
       "        vertical-align: middle;\n",
       "    }\n",
       "\n",
       "    .dataframe tbody tr th {\n",
       "        vertical-align: top;\n",
       "    }\n",
       "\n",
       "    .dataframe thead th {\n",
       "        text-align: right;\n",
       "    }\n",
       "</style>\n",
       "<table border=\"1\" class=\"dataframe\">\n",
       "  <thead>\n",
       "    <tr style=\"text-align: right;\">\n",
       "      <th></th>\n",
       "      <th>id</th>\n",
       "      <th>sum_event_type</th>\n",
       "    </tr>\n",
       "  </thead>\n",
       "  <tbody>\n",
       "    <tr>\n",
       "      <th>0</th>\n",
       "      <td>6597</td>\n",
       "      <td>11</td>\n",
       "    </tr>\n",
       "    <tr>\n",
       "      <th>1</th>\n",
       "      <td>8011</td>\n",
       "      <td>15</td>\n",
       "    </tr>\n",
       "    <tr>\n",
       "      <th>2</th>\n",
       "      <td>2597</td>\n",
       "      <td>15</td>\n",
       "    </tr>\n",
       "    <tr>\n",
       "      <th>3</th>\n",
       "      <td>5022</td>\n",
       "      <td>26</td>\n",
       "    </tr>\n",
       "    <tr>\n",
       "      <th>4</th>\n",
       "      <td>6852</td>\n",
       "      <td>26</td>\n",
       "    </tr>\n",
       "  </tbody>\n",
       "</table>\n",
       "</div>"
      ],
      "text/plain": [
       "     id  sum_event_type\n",
       "0  6597              11\n",
       "1  8011              15\n",
       "2  2597              15\n",
       "3  5022              26\n",
       "4  6852              26"
      ]
     },
     "execution_count": 228,
     "metadata": {},
     "output_type": "execute_result"
    }
   ],
   "source": [
    "event_type = event_type.groupby('id', sort=False).agg(sum).add_prefix('sum_').reset_index()\n",
    "\n",
    "event_type.head()"
   ]
  },
  {
   "cell_type": "code",
   "execution_count": 229,
   "metadata": {},
   "outputs": [
    {
     "data": {
      "text/html": [
       "<div>\n",
       "<style scoped>\n",
       "    .dataframe tbody tr th:only-of-type {\n",
       "        vertical-align: middle;\n",
       "    }\n",
       "\n",
       "    .dataframe tbody tr th {\n",
       "        vertical-align: top;\n",
       "    }\n",
       "\n",
       "    .dataframe thead th {\n",
       "        text-align: right;\n",
       "    }\n",
       "</style>\n",
       "<table border=\"1\" class=\"dataframe\">\n",
       "  <thead>\n",
       "    <tr style=\"text-align: right;\">\n",
       "      <th></th>\n",
       "      <th>id</th>\n",
       "      <th>count_log_feature</th>\n",
       "      <th>sum_volume</th>\n",
       "      <th>mean_volume</th>\n",
       "    </tr>\n",
       "  </thead>\n",
       "  <tbody>\n",
       "    <tr>\n",
       "      <th>0</th>\n",
       "      <td>6597</td>\n",
       "      <td>1</td>\n",
       "      <td>6</td>\n",
       "      <td>6.000000</td>\n",
       "    </tr>\n",
       "    <tr>\n",
       "      <th>1</th>\n",
       "      <td>8011</td>\n",
       "      <td>1</td>\n",
       "      <td>7</td>\n",
       "      <td>7.000000</td>\n",
       "    </tr>\n",
       "    <tr>\n",
       "      <th>2</th>\n",
       "      <td>2597</td>\n",
       "      <td>1</td>\n",
       "      <td>1</td>\n",
       "      <td>1.000000</td>\n",
       "    </tr>\n",
       "    <tr>\n",
       "      <th>3</th>\n",
       "      <td>5022</td>\n",
       "      <td>4</td>\n",
       "      <td>10</td>\n",
       "      <td>2.500000</td>\n",
       "    </tr>\n",
       "    <tr>\n",
       "      <th>4</th>\n",
       "      <td>6852</td>\n",
       "      <td>3</td>\n",
       "      <td>5</td>\n",
       "      <td>1.666667</td>\n",
       "    </tr>\n",
       "  </tbody>\n",
       "</table>\n",
       "</div>"
      ],
      "text/plain": [
       "     id  count_log_feature  sum_volume  mean_volume\n",
       "0  6597                  1           6     6.000000\n",
       "1  8011                  1           7     7.000000\n",
       "2  2597                  1           1     1.000000\n",
       "3  5022                  4          10     2.500000\n",
       "4  6852                  3           5     1.666667"
      ]
     },
     "execution_count": 229,
     "metadata": {},
     "output_type": "execute_result"
    }
   ],
   "source": [
    "log_feature = log_feature.groupby('id', sort=False).agg(count_log_feature=('log_feature','count'), \n",
    "                                                        sum_volume=('volume', 'sum'),\n",
    "                                                        mean_volume=('volume', 'mean')\n",
    "                                                      ).reset_index()\n",
    "log_feature.head()"
   ]
  },
  {
   "cell_type": "code",
   "execution_count": 230,
   "metadata": {},
   "outputs": [
    {
     "data": {
      "text/html": [
       "<div>\n",
       "<style scoped>\n",
       "    .dataframe tbody tr th:only-of-type {\n",
       "        vertical-align: middle;\n",
       "    }\n",
       "\n",
       "    .dataframe tbody tr th {\n",
       "        vertical-align: top;\n",
       "    }\n",
       "\n",
       "    .dataframe thead th {\n",
       "        text-align: right;\n",
       "    }\n",
       "</style>\n",
       "<table border=\"1\" class=\"dataframe\">\n",
       "  <thead>\n",
       "    <tr style=\"text-align: right;\">\n",
       "      <th></th>\n",
       "      <th>id</th>\n",
       "      <th>sum_resource_type_1</th>\n",
       "      <th>sum_resource_type_2</th>\n",
       "      <th>sum_resource_type_3</th>\n",
       "      <th>sum_resource_type_4</th>\n",
       "      <th>sum_resource_type_5</th>\n",
       "      <th>sum_resource_type_6</th>\n",
       "      <th>sum_resource_type_7</th>\n",
       "      <th>sum_resource_type_8</th>\n",
       "      <th>sum_resource_type_9</th>\n",
       "      <th>sum_resource_type_10</th>\n",
       "    </tr>\n",
       "  </thead>\n",
       "  <tbody>\n",
       "    <tr>\n",
       "      <th>0</th>\n",
       "      <td>6597</td>\n",
       "      <td>0</td>\n",
       "      <td>0</td>\n",
       "      <td>0</td>\n",
       "      <td>0</td>\n",
       "      <td>0</td>\n",
       "      <td>0</td>\n",
       "      <td>0</td>\n",
       "      <td>1</td>\n",
       "      <td>0</td>\n",
       "      <td>0</td>\n",
       "    </tr>\n",
       "    <tr>\n",
       "      <th>1</th>\n",
       "      <td>8011</td>\n",
       "      <td>0</td>\n",
       "      <td>0</td>\n",
       "      <td>0</td>\n",
       "      <td>0</td>\n",
       "      <td>0</td>\n",
       "      <td>0</td>\n",
       "      <td>0</td>\n",
       "      <td>1</td>\n",
       "      <td>0</td>\n",
       "      <td>0</td>\n",
       "    </tr>\n",
       "    <tr>\n",
       "      <th>2</th>\n",
       "      <td>2597</td>\n",
       "      <td>0</td>\n",
       "      <td>0</td>\n",
       "      <td>0</td>\n",
       "      <td>0</td>\n",
       "      <td>0</td>\n",
       "      <td>0</td>\n",
       "      <td>0</td>\n",
       "      <td>1</td>\n",
       "      <td>0</td>\n",
       "      <td>0</td>\n",
       "    </tr>\n",
       "    <tr>\n",
       "      <th>3</th>\n",
       "      <td>5022</td>\n",
       "      <td>0</td>\n",
       "      <td>0</td>\n",
       "      <td>0</td>\n",
       "      <td>0</td>\n",
       "      <td>0</td>\n",
       "      <td>0</td>\n",
       "      <td>0</td>\n",
       "      <td>1</td>\n",
       "      <td>0</td>\n",
       "      <td>0</td>\n",
       "    </tr>\n",
       "    <tr>\n",
       "      <th>4</th>\n",
       "      <td>6852</td>\n",
       "      <td>0</td>\n",
       "      <td>0</td>\n",
       "      <td>0</td>\n",
       "      <td>0</td>\n",
       "      <td>0</td>\n",
       "      <td>0</td>\n",
       "      <td>0</td>\n",
       "      <td>1</td>\n",
       "      <td>0</td>\n",
       "      <td>0</td>\n",
       "    </tr>\n",
       "  </tbody>\n",
       "</table>\n",
       "</div>"
      ],
      "text/plain": [
       "     id  sum_resource_type_1  sum_resource_type_2  sum_resource_type_3  \\\n",
       "0  6597                    0                    0                    0   \n",
       "1  8011                    0                    0                    0   \n",
       "2  2597                    0                    0                    0   \n",
       "3  5022                    0                    0                    0   \n",
       "4  6852                    0                    0                    0   \n",
       "\n",
       "   sum_resource_type_4  sum_resource_type_5  sum_resource_type_6  \\\n",
       "0                    0                    0                    0   \n",
       "1                    0                    0                    0   \n",
       "2                    0                    0                    0   \n",
       "3                    0                    0                    0   \n",
       "4                    0                    0                    0   \n",
       "\n",
       "   sum_resource_type_7  sum_resource_type_8  sum_resource_type_9  \\\n",
       "0                    0                    1                    0   \n",
       "1                    0                    1                    0   \n",
       "2                    0                    1                    0   \n",
       "3                    0                    1                    0   \n",
       "4                    0                    1                    0   \n",
       "\n",
       "   sum_resource_type_10  \n",
       "0                     0  \n",
       "1                     0  \n",
       "2                     0  \n",
       "3                     0  \n",
       "4                     0  "
      ]
     },
     "execution_count": 230,
     "metadata": {},
     "output_type": "execute_result"
    }
   ],
   "source": [
    "resource_type = resource_type.groupby('id', sort=False).agg(sum).add_prefix('sum_').reset_index()\n",
    "\n",
    "resource_type.head()"
   ]
  },
  {
   "cell_type": "code",
   "execution_count": 231,
   "metadata": {},
   "outputs": [
    {
     "data": {
      "text/plain": [
       "(18552, 23)"
      ]
     },
     "execution_count": 231,
     "metadata": {},
     "output_type": "execute_result"
    }
   ],
   "source": [
    "dfs = [data, log_feature, severity_type, resource_type, event_type] \n",
    "df1 = pd.merge(data , log_feature)\n",
    "df2 = pd.merge(df1 , severity_type)\n",
    "df3 = pd.merge(df2 , resource_type)\n",
    "result = pd.merge(df3 , event_type)\n",
    "\n",
    "result.shape"
   ]
  },
  {
   "cell_type": "code",
   "execution_count": 232,
   "metadata": {},
   "outputs": [
    {
     "data": {
      "text/plain": [
       "((18552, 4), (18552, 4), (18552, 6), (18552, 11), (18552, 2))"
      ]
     },
     "execution_count": 232,
     "metadata": {},
     "output_type": "execute_result"
    }
   ],
   "source": [
    "data.shape , log_feature.shape , severity_type.shape , resource_type.shape , event_type.shape"
   ]
  },
  {
   "cell_type": "code",
   "execution_count": 233,
   "metadata": {},
   "outputs": [
    {
     "data": {
      "text/html": [
       "<div>\n",
       "<style scoped>\n",
       "    .dataframe tbody tr th:only-of-type {\n",
       "        vertical-align: middle;\n",
       "    }\n",
       "\n",
       "    .dataframe tbody tr th {\n",
       "        vertical-align: top;\n",
       "    }\n",
       "\n",
       "    .dataframe thead th {\n",
       "        text-align: right;\n",
       "    }\n",
       "</style>\n",
       "<table border=\"1\" class=\"dataframe\">\n",
       "  <thead>\n",
       "    <tr style=\"text-align: right;\">\n",
       "      <th></th>\n",
       "      <th>id</th>\n",
       "      <th>location</th>\n",
       "      <th>fault_severity</th>\n",
       "      <th>istrain</th>\n",
       "      <th>count_log_feature</th>\n",
       "      <th>sum_volume</th>\n",
       "      <th>mean_volume</th>\n",
       "      <th>severity_type_1</th>\n",
       "      <th>severity_type_2</th>\n",
       "      <th>severity_type_3</th>\n",
       "      <th>...</th>\n",
       "      <th>sum_resource_type_2</th>\n",
       "      <th>sum_resource_type_3</th>\n",
       "      <th>sum_resource_type_4</th>\n",
       "      <th>sum_resource_type_5</th>\n",
       "      <th>sum_resource_type_6</th>\n",
       "      <th>sum_resource_type_7</th>\n",
       "      <th>sum_resource_type_8</th>\n",
       "      <th>sum_resource_type_9</th>\n",
       "      <th>sum_resource_type_10</th>\n",
       "      <th>sum_event_type</th>\n",
       "    </tr>\n",
       "  </thead>\n",
       "  <tbody>\n",
       "    <tr>\n",
       "      <th>0</th>\n",
       "      <td>14121</td>\n",
       "      <td>118</td>\n",
       "      <td>1.0</td>\n",
       "      <td>1</td>\n",
       "      <td>2</td>\n",
       "      <td>38</td>\n",
       "      <td>19.000000</td>\n",
       "      <td>0</td>\n",
       "      <td>1</td>\n",
       "      <td>0</td>\n",
       "      <td>...</td>\n",
       "      <td>1</td>\n",
       "      <td>0</td>\n",
       "      <td>0</td>\n",
       "      <td>0</td>\n",
       "      <td>0</td>\n",
       "      <td>0</td>\n",
       "      <td>0</td>\n",
       "      <td>0</td>\n",
       "      <td>0</td>\n",
       "      <td>69</td>\n",
       "    </tr>\n",
       "    <tr>\n",
       "      <th>1</th>\n",
       "      <td>9320</td>\n",
       "      <td>91</td>\n",
       "      <td>0.0</td>\n",
       "      <td>1</td>\n",
       "      <td>2</td>\n",
       "      <td>316</td>\n",
       "      <td>158.000000</td>\n",
       "      <td>0</td>\n",
       "      <td>1</td>\n",
       "      <td>0</td>\n",
       "      <td>...</td>\n",
       "      <td>1</td>\n",
       "      <td>0</td>\n",
       "      <td>0</td>\n",
       "      <td>0</td>\n",
       "      <td>0</td>\n",
       "      <td>0</td>\n",
       "      <td>0</td>\n",
       "      <td>0</td>\n",
       "      <td>0</td>\n",
       "      <td>69</td>\n",
       "    </tr>\n",
       "    <tr>\n",
       "      <th>2</th>\n",
       "      <td>14394</td>\n",
       "      <td>152</td>\n",
       "      <td>1.0</td>\n",
       "      <td>1</td>\n",
       "      <td>2</td>\n",
       "      <td>2</td>\n",
       "      <td>1.000000</td>\n",
       "      <td>0</td>\n",
       "      <td>1</td>\n",
       "      <td>0</td>\n",
       "      <td>...</td>\n",
       "      <td>1</td>\n",
       "      <td>0</td>\n",
       "      <td>0</td>\n",
       "      <td>0</td>\n",
       "      <td>0</td>\n",
       "      <td>0</td>\n",
       "      <td>0</td>\n",
       "      <td>0</td>\n",
       "      <td>0</td>\n",
       "      <td>69</td>\n",
       "    </tr>\n",
       "    <tr>\n",
       "      <th>3</th>\n",
       "      <td>8218</td>\n",
       "      <td>931</td>\n",
       "      <td>1.0</td>\n",
       "      <td>1</td>\n",
       "      <td>3</td>\n",
       "      <td>22</td>\n",
       "      <td>7.333333</td>\n",
       "      <td>1</td>\n",
       "      <td>0</td>\n",
       "      <td>0</td>\n",
       "      <td>...</td>\n",
       "      <td>0</td>\n",
       "      <td>0</td>\n",
       "      <td>0</td>\n",
       "      <td>0</td>\n",
       "      <td>0</td>\n",
       "      <td>0</td>\n",
       "      <td>1</td>\n",
       "      <td>0</td>\n",
       "      <td>0</td>\n",
       "      <td>26</td>\n",
       "    </tr>\n",
       "    <tr>\n",
       "      <th>4</th>\n",
       "      <td>14804</td>\n",
       "      <td>120</td>\n",
       "      <td>0.0</td>\n",
       "      <td>1</td>\n",
       "      <td>9</td>\n",
       "      <td>12</td>\n",
       "      <td>1.333333</td>\n",
       "      <td>1</td>\n",
       "      <td>0</td>\n",
       "      <td>0</td>\n",
       "      <td>...</td>\n",
       "      <td>1</td>\n",
       "      <td>0</td>\n",
       "      <td>0</td>\n",
       "      <td>0</td>\n",
       "      <td>0</td>\n",
       "      <td>0</td>\n",
       "      <td>1</td>\n",
       "      <td>0</td>\n",
       "      <td>0</td>\n",
       "      <td>101</td>\n",
       "    </tr>\n",
       "  </tbody>\n",
       "</table>\n",
       "<p>5 rows × 23 columns</p>\n",
       "</div>"
      ],
      "text/plain": [
       "      id  location  fault_severity  istrain  count_log_feature  sum_volume  \\\n",
       "0  14121       118             1.0        1                  2          38   \n",
       "1   9320        91             0.0        1                  2         316   \n",
       "2  14394       152             1.0        1                  2           2   \n",
       "3   8218       931             1.0        1                  3          22   \n",
       "4  14804       120             0.0        1                  9          12   \n",
       "\n",
       "   mean_volume  severity_type_1  severity_type_2  severity_type_3  ...  \\\n",
       "0    19.000000                0                1                0  ...   \n",
       "1   158.000000                0                1                0  ...   \n",
       "2     1.000000                0                1                0  ...   \n",
       "3     7.333333                1                0                0  ...   \n",
       "4     1.333333                1                0                0  ...   \n",
       "\n",
       "   sum_resource_type_2  sum_resource_type_3  sum_resource_type_4  \\\n",
       "0                    1                    0                    0   \n",
       "1                    1                    0                    0   \n",
       "2                    1                    0                    0   \n",
       "3                    0                    0                    0   \n",
       "4                    1                    0                    0   \n",
       "\n",
       "   sum_resource_type_5  sum_resource_type_6  sum_resource_type_7  \\\n",
       "0                    0                    0                    0   \n",
       "1                    0                    0                    0   \n",
       "2                    0                    0                    0   \n",
       "3                    0                    0                    0   \n",
       "4                    0                    0                    0   \n",
       "\n",
       "   sum_resource_type_8  sum_resource_type_9  sum_resource_type_10  \\\n",
       "0                    0                    0                     0   \n",
       "1                    0                    0                     0   \n",
       "2                    0                    0                     0   \n",
       "3                    1                    0                     0   \n",
       "4                    1                    0                     0   \n",
       "\n",
       "   sum_event_type  \n",
       "0              69  \n",
       "1              69  \n",
       "2              69  \n",
       "3              26  \n",
       "4             101  \n",
       "\n",
       "[5 rows x 23 columns]"
      ]
     },
     "execution_count": 233,
     "metadata": {},
     "output_type": "execute_result"
    }
   ],
   "source": [
    "result.head()"
   ]
  },
  {
   "cell_type": "code",
   "execution_count": 234,
   "metadata": {},
   "outputs": [
    {
     "data": {
      "text/plain": [
       "id                          0\n",
       "location                    0\n",
       "fault_severity          11171\n",
       "istrain                     0\n",
       "count_log_feature           0\n",
       "sum_volume                  0\n",
       "mean_volume                 0\n",
       "severity_type_1             0\n",
       "severity_type_2             0\n",
       "severity_type_3             0\n",
       "severity_type_4             0\n",
       "severity_type_5             0\n",
       "sum_resource_type_1         0\n",
       "sum_resource_type_2         0\n",
       "sum_resource_type_3         0\n",
       "sum_resource_type_4         0\n",
       "sum_resource_type_5         0\n",
       "sum_resource_type_6         0\n",
       "sum_resource_type_7         0\n",
       "sum_resource_type_8         0\n",
       "sum_resource_type_9         0\n",
       "sum_resource_type_10        0\n",
       "sum_event_type              0\n",
       "dtype: int64"
      ]
     },
     "execution_count": 234,
     "metadata": {},
     "output_type": "execute_result"
    }
   ],
   "source": [
    "result.isnull().sum()"
   ]
  },
  {
   "cell_type": "markdown",
   "metadata": {},
   "source": [
    "# Now its time to split the train and test data set"
   ]
  },
  {
   "cell_type": "code",
   "execution_count": 235,
   "metadata": {},
   "outputs": [
    {
     "data": {
      "text/html": [
       "<div>\n",
       "<style scoped>\n",
       "    .dataframe tbody tr th:only-of-type {\n",
       "        vertical-align: middle;\n",
       "    }\n",
       "\n",
       "    .dataframe tbody tr th {\n",
       "        vertical-align: top;\n",
       "    }\n",
       "\n",
       "    .dataframe thead th {\n",
       "        text-align: right;\n",
       "    }\n",
       "</style>\n",
       "<table border=\"1\" class=\"dataframe\">\n",
       "  <thead>\n",
       "    <tr style=\"text-align: right;\">\n",
       "      <th></th>\n",
       "      <th>id</th>\n",
       "      <th>location</th>\n",
       "      <th>fault_severity</th>\n",
       "      <th>istrain</th>\n",
       "      <th>count_log_feature</th>\n",
       "      <th>sum_volume</th>\n",
       "      <th>mean_volume</th>\n",
       "      <th>severity_type_1</th>\n",
       "      <th>severity_type_2</th>\n",
       "      <th>severity_type_3</th>\n",
       "      <th>...</th>\n",
       "      <th>sum_resource_type_2</th>\n",
       "      <th>sum_resource_type_3</th>\n",
       "      <th>sum_resource_type_4</th>\n",
       "      <th>sum_resource_type_5</th>\n",
       "      <th>sum_resource_type_6</th>\n",
       "      <th>sum_resource_type_7</th>\n",
       "      <th>sum_resource_type_8</th>\n",
       "      <th>sum_resource_type_9</th>\n",
       "      <th>sum_resource_type_10</th>\n",
       "      <th>sum_event_type</th>\n",
       "    </tr>\n",
       "  </thead>\n",
       "  <tbody>\n",
       "    <tr>\n",
       "      <th>0</th>\n",
       "      <td>14121</td>\n",
       "      <td>118</td>\n",
       "      <td>1.0</td>\n",
       "      <td>1</td>\n",
       "      <td>2</td>\n",
       "      <td>38</td>\n",
       "      <td>19.000000</td>\n",
       "      <td>0</td>\n",
       "      <td>1</td>\n",
       "      <td>0</td>\n",
       "      <td>...</td>\n",
       "      <td>1</td>\n",
       "      <td>0</td>\n",
       "      <td>0</td>\n",
       "      <td>0</td>\n",
       "      <td>0</td>\n",
       "      <td>0</td>\n",
       "      <td>0</td>\n",
       "      <td>0</td>\n",
       "      <td>0</td>\n",
       "      <td>69</td>\n",
       "    </tr>\n",
       "    <tr>\n",
       "      <th>1</th>\n",
       "      <td>9320</td>\n",
       "      <td>91</td>\n",
       "      <td>0.0</td>\n",
       "      <td>1</td>\n",
       "      <td>2</td>\n",
       "      <td>316</td>\n",
       "      <td>158.000000</td>\n",
       "      <td>0</td>\n",
       "      <td>1</td>\n",
       "      <td>0</td>\n",
       "      <td>...</td>\n",
       "      <td>1</td>\n",
       "      <td>0</td>\n",
       "      <td>0</td>\n",
       "      <td>0</td>\n",
       "      <td>0</td>\n",
       "      <td>0</td>\n",
       "      <td>0</td>\n",
       "      <td>0</td>\n",
       "      <td>0</td>\n",
       "      <td>69</td>\n",
       "    </tr>\n",
       "    <tr>\n",
       "      <th>2</th>\n",
       "      <td>14394</td>\n",
       "      <td>152</td>\n",
       "      <td>1.0</td>\n",
       "      <td>1</td>\n",
       "      <td>2</td>\n",
       "      <td>2</td>\n",
       "      <td>1.000000</td>\n",
       "      <td>0</td>\n",
       "      <td>1</td>\n",
       "      <td>0</td>\n",
       "      <td>...</td>\n",
       "      <td>1</td>\n",
       "      <td>0</td>\n",
       "      <td>0</td>\n",
       "      <td>0</td>\n",
       "      <td>0</td>\n",
       "      <td>0</td>\n",
       "      <td>0</td>\n",
       "      <td>0</td>\n",
       "      <td>0</td>\n",
       "      <td>69</td>\n",
       "    </tr>\n",
       "    <tr>\n",
       "      <th>3</th>\n",
       "      <td>8218</td>\n",
       "      <td>931</td>\n",
       "      <td>1.0</td>\n",
       "      <td>1</td>\n",
       "      <td>3</td>\n",
       "      <td>22</td>\n",
       "      <td>7.333333</td>\n",
       "      <td>1</td>\n",
       "      <td>0</td>\n",
       "      <td>0</td>\n",
       "      <td>...</td>\n",
       "      <td>0</td>\n",
       "      <td>0</td>\n",
       "      <td>0</td>\n",
       "      <td>0</td>\n",
       "      <td>0</td>\n",
       "      <td>0</td>\n",
       "      <td>1</td>\n",
       "      <td>0</td>\n",
       "      <td>0</td>\n",
       "      <td>26</td>\n",
       "    </tr>\n",
       "    <tr>\n",
       "      <th>4</th>\n",
       "      <td>14804</td>\n",
       "      <td>120</td>\n",
       "      <td>0.0</td>\n",
       "      <td>1</td>\n",
       "      <td>9</td>\n",
       "      <td>12</td>\n",
       "      <td>1.333333</td>\n",
       "      <td>1</td>\n",
       "      <td>0</td>\n",
       "      <td>0</td>\n",
       "      <td>...</td>\n",
       "      <td>1</td>\n",
       "      <td>0</td>\n",
       "      <td>0</td>\n",
       "      <td>0</td>\n",
       "      <td>0</td>\n",
       "      <td>0</td>\n",
       "      <td>1</td>\n",
       "      <td>0</td>\n",
       "      <td>0</td>\n",
       "      <td>101</td>\n",
       "    </tr>\n",
       "  </tbody>\n",
       "</table>\n",
       "<p>5 rows × 23 columns</p>\n",
       "</div>"
      ],
      "text/plain": [
       "      id  location  fault_severity  istrain  count_log_feature  sum_volume  \\\n",
       "0  14121       118             1.0        1                  2          38   \n",
       "1   9320        91             0.0        1                  2         316   \n",
       "2  14394       152             1.0        1                  2           2   \n",
       "3   8218       931             1.0        1                  3          22   \n",
       "4  14804       120             0.0        1                  9          12   \n",
       "\n",
       "   mean_volume  severity_type_1  severity_type_2  severity_type_3  ...  \\\n",
       "0    19.000000                0                1                0  ...   \n",
       "1   158.000000                0                1                0  ...   \n",
       "2     1.000000                0                1                0  ...   \n",
       "3     7.333333                1                0                0  ...   \n",
       "4     1.333333                1                0                0  ...   \n",
       "\n",
       "   sum_resource_type_2  sum_resource_type_3  sum_resource_type_4  \\\n",
       "0                    1                    0                    0   \n",
       "1                    1                    0                    0   \n",
       "2                    1                    0                    0   \n",
       "3                    0                    0                    0   \n",
       "4                    1                    0                    0   \n",
       "\n",
       "   sum_resource_type_5  sum_resource_type_6  sum_resource_type_7  \\\n",
       "0                    0                    0                    0   \n",
       "1                    0                    0                    0   \n",
       "2                    0                    0                    0   \n",
       "3                    0                    0                    0   \n",
       "4                    0                    0                    0   \n",
       "\n",
       "   sum_resource_type_8  sum_resource_type_9  sum_resource_type_10  \\\n",
       "0                    0                    0                     0   \n",
       "1                    0                    0                     0   \n",
       "2                    0                    0                     0   \n",
       "3                    1                    0                     0   \n",
       "4                    1                    0                     0   \n",
       "\n",
       "   sum_event_type  \n",
       "0              69  \n",
       "1              69  \n",
       "2              69  \n",
       "3              26  \n",
       "4             101  \n",
       "\n",
       "[5 rows x 23 columns]"
      ]
     },
     "execution_count": 235,
     "metadata": {},
     "output_type": "execute_result"
    }
   ],
   "source": [
    "train = result[result['istrain'] == 1]\n",
    "train.head()"
   ]
  },
  {
   "cell_type": "code",
   "execution_count": 236,
   "metadata": {},
   "outputs": [
    {
     "data": {
      "text/html": [
       "<div>\n",
       "<style scoped>\n",
       "    .dataframe tbody tr th:only-of-type {\n",
       "        vertical-align: middle;\n",
       "    }\n",
       "\n",
       "    .dataframe tbody tr th {\n",
       "        vertical-align: top;\n",
       "    }\n",
       "\n",
       "    .dataframe thead th {\n",
       "        text-align: right;\n",
       "    }\n",
       "</style>\n",
       "<table border=\"1\" class=\"dataframe\">\n",
       "  <thead>\n",
       "    <tr style=\"text-align: right;\">\n",
       "      <th></th>\n",
       "      <th>id</th>\n",
       "      <th>location</th>\n",
       "      <th>fault_severity</th>\n",
       "      <th>istrain</th>\n",
       "      <th>count_log_feature</th>\n",
       "      <th>sum_volume</th>\n",
       "      <th>mean_volume</th>\n",
       "      <th>severity_type_1</th>\n",
       "      <th>severity_type_2</th>\n",
       "      <th>severity_type_3</th>\n",
       "      <th>...</th>\n",
       "      <th>sum_resource_type_2</th>\n",
       "      <th>sum_resource_type_3</th>\n",
       "      <th>sum_resource_type_4</th>\n",
       "      <th>sum_resource_type_5</th>\n",
       "      <th>sum_resource_type_6</th>\n",
       "      <th>sum_resource_type_7</th>\n",
       "      <th>sum_resource_type_8</th>\n",
       "      <th>sum_resource_type_9</th>\n",
       "      <th>sum_resource_type_10</th>\n",
       "      <th>sum_event_type</th>\n",
       "    </tr>\n",
       "  </thead>\n",
       "  <tbody>\n",
       "    <tr>\n",
       "      <th>7381</th>\n",
       "      <td>11066</td>\n",
       "      <td>481</td>\n",
       "      <td>NaN</td>\n",
       "      <td>0</td>\n",
       "      <td>4</td>\n",
       "      <td>98</td>\n",
       "      <td>24.5</td>\n",
       "      <td>0</td>\n",
       "      <td>1</td>\n",
       "      <td>0</td>\n",
       "      <td>...</td>\n",
       "      <td>1</td>\n",
       "      <td>0</td>\n",
       "      <td>0</td>\n",
       "      <td>0</td>\n",
       "      <td>0</td>\n",
       "      <td>0</td>\n",
       "      <td>0</td>\n",
       "      <td>0</td>\n",
       "      <td>0</td>\n",
       "      <td>69</td>\n",
       "    </tr>\n",
       "    <tr>\n",
       "      <th>7382</th>\n",
       "      <td>18000</td>\n",
       "      <td>962</td>\n",
       "      <td>NaN</td>\n",
       "      <td>0</td>\n",
       "      <td>2</td>\n",
       "      <td>29</td>\n",
       "      <td>14.5</td>\n",
       "      <td>1</td>\n",
       "      <td>0</td>\n",
       "      <td>0</td>\n",
       "      <td>...</td>\n",
       "      <td>0</td>\n",
       "      <td>0</td>\n",
       "      <td>0</td>\n",
       "      <td>0</td>\n",
       "      <td>0</td>\n",
       "      <td>0</td>\n",
       "      <td>1</td>\n",
       "      <td>0</td>\n",
       "      <td>0</td>\n",
       "      <td>26</td>\n",
       "    </tr>\n",
       "    <tr>\n",
       "      <th>7383</th>\n",
       "      <td>16964</td>\n",
       "      <td>491</td>\n",
       "      <td>NaN</td>\n",
       "      <td>0</td>\n",
       "      <td>2</td>\n",
       "      <td>21</td>\n",
       "      <td>10.5</td>\n",
       "      <td>0</td>\n",
       "      <td>1</td>\n",
       "      <td>0</td>\n",
       "      <td>...</td>\n",
       "      <td>1</td>\n",
       "      <td>0</td>\n",
       "      <td>0</td>\n",
       "      <td>0</td>\n",
       "      <td>0</td>\n",
       "      <td>0</td>\n",
       "      <td>0</td>\n",
       "      <td>0</td>\n",
       "      <td>0</td>\n",
       "      <td>69</td>\n",
       "    </tr>\n",
       "    <tr>\n",
       "      <th>7384</th>\n",
       "      <td>4795</td>\n",
       "      <td>532</td>\n",
       "      <td>NaN</td>\n",
       "      <td>0</td>\n",
       "      <td>3</td>\n",
       "      <td>3</td>\n",
       "      <td>1.0</td>\n",
       "      <td>0</td>\n",
       "      <td>0</td>\n",
       "      <td>0</td>\n",
       "      <td>...</td>\n",
       "      <td>0</td>\n",
       "      <td>1</td>\n",
       "      <td>0</td>\n",
       "      <td>0</td>\n",
       "      <td>0</td>\n",
       "      <td>0</td>\n",
       "      <td>0</td>\n",
       "      <td>1</td>\n",
       "      <td>0</td>\n",
       "      <td>37</td>\n",
       "    </tr>\n",
       "    <tr>\n",
       "      <th>7385</th>\n",
       "      <td>3392</td>\n",
       "      <td>600</td>\n",
       "      <td>NaN</td>\n",
       "      <td>0</td>\n",
       "      <td>2</td>\n",
       "      <td>8</td>\n",
       "      <td>4.0</td>\n",
       "      <td>0</td>\n",
       "      <td>1</td>\n",
       "      <td>0</td>\n",
       "      <td>...</td>\n",
       "      <td>0</td>\n",
       "      <td>0</td>\n",
       "      <td>0</td>\n",
       "      <td>0</td>\n",
       "      <td>0</td>\n",
       "      <td>0</td>\n",
       "      <td>1</td>\n",
       "      <td>0</td>\n",
       "      <td>0</td>\n",
       "      <td>15</td>\n",
       "    </tr>\n",
       "  </tbody>\n",
       "</table>\n",
       "<p>5 rows × 23 columns</p>\n",
       "</div>"
      ],
      "text/plain": [
       "         id  location  fault_severity  istrain  count_log_feature  sum_volume  \\\n",
       "7381  11066       481             NaN        0                  4          98   \n",
       "7382  18000       962             NaN        0                  2          29   \n",
       "7383  16964       491             NaN        0                  2          21   \n",
       "7384   4795       532             NaN        0                  3           3   \n",
       "7385   3392       600             NaN        0                  2           8   \n",
       "\n",
       "      mean_volume  severity_type_1  severity_type_2  severity_type_3  ...  \\\n",
       "7381         24.5                0                1                0  ...   \n",
       "7382         14.5                1                0                0  ...   \n",
       "7383         10.5                0                1                0  ...   \n",
       "7384          1.0                0                0                0  ...   \n",
       "7385          4.0                0                1                0  ...   \n",
       "\n",
       "      sum_resource_type_2  sum_resource_type_3  sum_resource_type_4  \\\n",
       "7381                    1                    0                    0   \n",
       "7382                    0                    0                    0   \n",
       "7383                    1                    0                    0   \n",
       "7384                    0                    1                    0   \n",
       "7385                    0                    0                    0   \n",
       "\n",
       "      sum_resource_type_5  sum_resource_type_6  sum_resource_type_7  \\\n",
       "7381                    0                    0                    0   \n",
       "7382                    0                    0                    0   \n",
       "7383                    0                    0                    0   \n",
       "7384                    0                    0                    0   \n",
       "7385                    0                    0                    0   \n",
       "\n",
       "      sum_resource_type_8  sum_resource_type_9  sum_resource_type_10  \\\n",
       "7381                    0                    0                     0   \n",
       "7382                    1                    0                     0   \n",
       "7383                    0                    0                     0   \n",
       "7384                    0                    1                     0   \n",
       "7385                    1                    0                     0   \n",
       "\n",
       "      sum_event_type  \n",
       "7381              69  \n",
       "7382              26  \n",
       "7383              69  \n",
       "7384              37  \n",
       "7385              15  \n",
       "\n",
       "[5 rows x 23 columns]"
      ]
     },
     "execution_count": 236,
     "metadata": {},
     "output_type": "execute_result"
    }
   ],
   "source": [
    "test = result[result['istrain'] == 0]\n",
    "test.head()"
   ]
  },
  {
   "cell_type": "markdown",
   "metadata": {},
   "source": [
    "# Split the data into training and test sets"
   ]
  },
  {
   "cell_type": "code",
   "execution_count": 237,
   "metadata": {},
   "outputs": [
    {
     "name": "stdout",
     "output_type": "stream",
     "text": [
      "Train Validation Split Complete\n"
     ]
    }
   ],
   "source": [
    "from sklearn.model_selection import train_test_split\n",
    "\n",
    "np.random.seed(0)\n",
    "\n",
    "X = train.drop(columns='fault_severity')\n",
    "\n",
    "# Prediction target - Training data\n",
    "y = train['fault_severity']\n",
    "\n",
    "# Selected features - Test data\n",
    "x = test.drop(columns='fault_severity')\n",
    "\n",
    "# Break off validation set from training data\n",
    "X_train, X_valid, y_train, y_valid = train_test_split(X, y, train_size=0.8, test_size=0.2, random_state=0)\n",
    "\n",
    "print(\"Train Validation Split Complete\")"
   ]
  },
  {
   "cell_type": "markdown",
   "metadata": {},
   "source": [
    "# Scalling"
   ]
  },
  {
   "cell_type": "code",
   "execution_count": 238,
   "metadata": {},
   "outputs": [],
   "source": [
    "from sklearn.preprocessing import MinMaxScaler\n",
    "\n",
    "scaler = MinMaxScaler()\n",
    "\n",
    "X_train = scaler.fit_transform(X_train)\n",
    "X_valid = scaler.fit_transform(X_valid)"
   ]
  },
  {
   "cell_type": "code",
   "execution_count": 239,
   "metadata": {},
   "outputs": [
    {
     "data": {
      "text/plain": [
       "((5904, 22), (1477, 22))"
      ]
     },
     "execution_count": 239,
     "metadata": {},
     "output_type": "execute_result"
    }
   ],
   "source": [
    "X_train.shape , X_valid.shape"
   ]
  },
  {
   "cell_type": "code",
   "execution_count": 240,
   "metadata": {},
   "outputs": [
    {
     "name": "stdout",
     "output_type": "stream",
     "text": [
      "2.1.0\n"
     ]
    }
   ],
   "source": [
    "print(tf.__version__)"
   ]
  },
  {
   "cell_type": "markdown",
   "metadata": {},
   "source": [
    "# Data Modelling"
   ]
  },
  {
   "cell_type": "code",
   "execution_count": 190,
   "metadata": {},
   "outputs": [],
   "source": [
    "from tensorflow.keras.models import Sequential\n",
    "from tensorflow.keras.layers import RNN \n",
    "from tensorflow.keras.layers import LSTM\n",
    "from tensorflow.keras.layers import Dense , Activation\n",
    "from tensorflow.keras.optimizers import Adam\n",
    "\n",
    "model = Sequential()\n",
    "\n",
    "model.add(Dense(16 , activation = 'relu'))\n",
    "model.add(Dense(16 , activation = 'relu'))\n",
    "model.add(Dense(16 , activation = 'relu'))\n",
    "model.add(Dense(16 , activation = 'relu'))\n",
    "\n",
    "model.add(Dense(1))\n"
   ]
  },
  {
   "cell_type": "code",
   "execution_count": 191,
   "metadata": {},
   "outputs": [],
   "source": [
    "model.compile(optimizer = 'adam' , loss = 'mse' , metrics = ['accuracy'])"
   ]
  },
  {
   "cell_type": "markdown",
   "metadata": {},
   "source": [
    "# training the model"
   ]
  },
  {
   "cell_type": "code",
   "execution_count": 98,
   "metadata": {},
   "outputs": [
    {
     "name": "stdout",
     "output_type": "stream",
     "text": [
      "Train on 5904 samples, validate on 1477 samples\n",
      "Epoch 1/200\n",
      "5904/5904 [==============================] - 5s 800us/sample - loss: 0.5000 - accuracy: 0.6369 - val_loss: 0.4360 - val_accuracy: 0.5904\n",
      "Epoch 2/200\n",
      "5904/5904 [==============================] - 0s 72us/sample - loss: 0.4019 - accuracy: 0.5671 - val_loss: 0.4023 - val_accuracy: 0.5443\n",
      "Epoch 3/200\n",
      "5904/5904 [==============================] - 0s 31us/sample - loss: 0.3867 - accuracy: 0.5462 - val_loss: 0.3950 - val_accuracy: 0.5410\n",
      "Epoch 4/200\n",
      "5904/5904 [==============================] - 0s 31us/sample - loss: 0.3823 - accuracy: 0.5473 - val_loss: 0.3928 - val_accuracy: 0.5450\n",
      "Epoch 5/200\n",
      "5904/5904 [==============================] - 0s 32us/sample - loss: 0.3796 - accuracy: 0.5486 - val_loss: 0.3913 - val_accuracy: 0.5437\n",
      "Epoch 6/200\n",
      "5904/5904 [==============================] - 0s 35us/sample - loss: 0.3784 - accuracy: 0.5496 - val_loss: 0.3896 - val_accuracy: 0.5464\n",
      "Epoch 7/200\n",
      "5904/5904 [==============================] - 0s 31us/sample - loss: 0.3761 - accuracy: 0.5528 - val_loss: 0.3873 - val_accuracy: 0.5471\n",
      "Epoch 8/200\n",
      "5904/5904 [==============================] - 0s 31us/sample - loss: 0.3737 - accuracy: 0.5500 - val_loss: 0.3846 - val_accuracy: 0.5471\n",
      "Epoch 9/200\n",
      "5904/5904 [==============================] - 0s 37us/sample - loss: 0.3713 - accuracy: 0.5505 - val_loss: 0.3831 - val_accuracy: 0.5437\n",
      "Epoch 10/200\n",
      "5904/5904 [==============================] - 0s 34us/sample - loss: 0.3700 - accuracy: 0.5500 - val_loss: 0.3803 - val_accuracy: 0.5450\n",
      "Epoch 11/200\n",
      "5904/5904 [==============================] - 0s 31us/sample - loss: 0.3683 - accuracy: 0.5578 - val_loss: 0.3814 - val_accuracy: 0.5559\n",
      "Epoch 12/200\n",
      "5904/5904 [==============================] - 0s 35us/sample - loss: 0.3654 - accuracy: 0.5527 - val_loss: 0.3752 - val_accuracy: 0.5464\n",
      "Epoch 13/200\n",
      "5904/5904 [==============================] - 0s 35us/sample - loss: 0.3620 - accuracy: 0.5571 - val_loss: 0.3740 - val_accuracy: 0.5464\n",
      "Epoch 14/200\n",
      "5904/5904 [==============================] - 0s 34us/sample - loss: 0.3597 - accuracy: 0.5627 - val_loss: 0.3752 - val_accuracy: 0.5653\n",
      "Epoch 15/200\n",
      "5904/5904 [==============================] - 0s 31us/sample - loss: 0.3575 - accuracy: 0.5676 - val_loss: 0.3797 - val_accuracy: 0.5931\n",
      "Epoch 16/200\n",
      "5904/5904 [==============================] - 0s 29us/sample - loss: 0.3559 - accuracy: 0.5757 - val_loss: 0.3691 - val_accuracy: 0.5647\n",
      "Epoch 17/200\n",
      "5904/5904 [==============================] - 0s 34us/sample - loss: 0.3540 - accuracy: 0.5777 - val_loss: 0.3715 - val_accuracy: 0.5809\n",
      "Epoch 18/200\n",
      "5904/5904 [==============================] - 0s 36us/sample - loss: 0.3515 - accuracy: 0.5783 - val_loss: 0.3658 - val_accuracy: 0.5809\n",
      "Epoch 19/200\n",
      "5904/5904 [==============================] - 0s 36us/sample - loss: 0.3498 - accuracy: 0.5884 - val_loss: 0.3620 - val_accuracy: 0.5708\n",
      "Epoch 20/200\n",
      "5904/5904 [==============================] - 0s 34us/sample - loss: 0.3479 - accuracy: 0.5969 - val_loss: 0.3640 - val_accuracy: 0.5856\n",
      "Epoch 21/200\n",
      "5904/5904 [==============================] - 0s 31us/sample - loss: 0.3450 - accuracy: 0.5911 - val_loss: 0.3577 - val_accuracy: 0.5911\n",
      "Epoch 22/200\n",
      "5904/5904 [==============================] - 0s 36us/sample - loss: 0.3418 - accuracy: 0.6016 - val_loss: 0.3578 - val_accuracy: 0.5653\n",
      "Epoch 23/200\n",
      "5904/5904 [==============================] - 0s 33us/sample - loss: 0.3407 - accuracy: 0.6023 - val_loss: 0.3535 - val_accuracy: 0.5816\n",
      "Epoch 24/200\n",
      "5904/5904 [==============================] - 0s 36us/sample - loss: 0.3381 - accuracy: 0.6032 - val_loss: 0.3495 - val_accuracy: 0.5836\n",
      "Epoch 25/200\n",
      "5904/5904 [==============================] - 0s 31us/sample - loss: 0.3359 - accuracy: 0.6098 - val_loss: 0.3497 - val_accuracy: 0.6005\n",
      "Epoch 26/200\n",
      "5904/5904 [==============================] - 0s 33us/sample - loss: 0.3331 - accuracy: 0.6108 - val_loss: 0.3532 - val_accuracy: 0.6195\n",
      "Epoch 27/200\n",
      "5904/5904 [==============================] - 0s 36us/sample - loss: 0.3341 - accuracy: 0.6133 - val_loss: 0.3438 - val_accuracy: 0.5951\n",
      "Epoch 28/200\n",
      "5904/5904 [==============================] - 0s 35us/sample - loss: 0.3297 - accuracy: 0.6137 - val_loss: 0.3484 - val_accuracy: 0.6087\n",
      "Epoch 29/200\n",
      "5904/5904 [==============================] - 0s 38us/sample - loss: 0.3287 - accuracy: 0.6230 - val_loss: 0.3458 - val_accuracy: 0.5951\n",
      "Epoch 30/200\n",
      "5904/5904 [==============================] - 0s 33us/sample - loss: 0.3272 - accuracy: 0.6242 - val_loss: 0.3433 - val_accuracy: 0.6175\n",
      "Epoch 31/200\n",
      "5904/5904 [==============================] - 0s 35us/sample - loss: 0.3254 - accuracy: 0.6208 - val_loss: 0.3404 - val_accuracy: 0.6141\n",
      "Epoch 32/200\n",
      "5904/5904 [==============================] - 0s 36us/sample - loss: 0.3227 - accuracy: 0.6287 - val_loss: 0.3469 - val_accuracy: 0.5911\n",
      "Epoch 33/200\n",
      "5904/5904 [==============================] - 0s 34us/sample - loss: 0.3247 - accuracy: 0.6160 - val_loss: 0.3382 - val_accuracy: 0.6066\n",
      "Epoch 34/200\n",
      "5904/5904 [==============================] - 0s 38us/sample - loss: 0.3248 - accuracy: 0.6211 - val_loss: 0.3386 - val_accuracy: 0.6114\n",
      "Epoch 35/200\n",
      "5904/5904 [==============================] - 0s 36us/sample - loss: 0.3216 - accuracy: 0.6231 - val_loss: 0.3407 - val_accuracy: 0.6039\n",
      "Epoch 36/200\n",
      "5904/5904 [==============================] - 0s 35us/sample - loss: 0.3230 - accuracy: 0.6235 - val_loss: 0.3440 - val_accuracy: 0.6202\n",
      "Epoch 37/200\n",
      "5904/5904 [==============================] - 0s 35us/sample - loss: 0.3267 - accuracy: 0.6250 - val_loss: 0.3370 - val_accuracy: 0.5985\n",
      "Epoch 38/200\n",
      "5904/5904 [==============================] - 0s 35us/sample - loss: 0.3216 - accuracy: 0.6223 - val_loss: 0.3404 - val_accuracy: 0.6181\n",
      "Epoch 39/200\n",
      "5904/5904 [==============================] - 0s 32us/sample - loss: 0.3195 - accuracy: 0.6233 - val_loss: 0.3374 - val_accuracy: 0.6175\n",
      "Epoch 40/200\n",
      "5904/5904 [==============================] - 0s 34us/sample - loss: 0.3198 - accuracy: 0.6267 - val_loss: 0.3431 - val_accuracy: 0.6276\n",
      "Epoch 41/200\n",
      "5904/5904 [==============================] - 0s 31us/sample - loss: 0.3186 - accuracy: 0.6242 - val_loss: 0.3411 - val_accuracy: 0.6290\n",
      "Epoch 42/200\n",
      "5904/5904 [==============================] - 0s 31us/sample - loss: 0.3184 - accuracy: 0.6279 - val_loss: 0.3372 - val_accuracy: 0.6242\n",
      "Epoch 43/200\n",
      "5904/5904 [==============================] - 0s 32us/sample - loss: 0.3196 - accuracy: 0.6197 - val_loss: 0.3417 - val_accuracy: 0.6202\n",
      "Epoch 44/200\n",
      "5904/5904 [==============================] - 0s 30us/sample - loss: 0.3214 - accuracy: 0.6275 - val_loss: 0.3453 - val_accuracy: 0.6222\n",
      "Epoch 45/200\n",
      "5904/5904 [==============================] - 0s 29us/sample - loss: 0.3191 - accuracy: 0.6223 - val_loss: 0.3351 - val_accuracy: 0.6114\n",
      "Epoch 46/200\n",
      "5904/5904 [==============================] - 0s 32us/sample - loss: 0.3197 - accuracy: 0.6267 - val_loss: 0.3402 - val_accuracy: 0.5972\n",
      "Epoch 47/200\n",
      "5904/5904 [==============================] - 0s 33us/sample - loss: 0.3191 - accuracy: 0.6260 - val_loss: 0.3426 - val_accuracy: 0.6269\n",
      "Epoch 48/200\n",
      "5904/5904 [==============================] - 0s 36us/sample - loss: 0.3185 - accuracy: 0.6306 - val_loss: 0.3358 - val_accuracy: 0.6114\n",
      "Epoch 49/200\n",
      "5904/5904 [==============================] - 0s 36us/sample - loss: 0.3170 - accuracy: 0.6245 - val_loss: 0.3359 - val_accuracy: 0.6154\n",
      "Epoch 50/200\n",
      "5904/5904 [==============================] - 0s 36us/sample - loss: 0.3160 - accuracy: 0.6345 - val_loss: 0.3396 - val_accuracy: 0.6202\n",
      "Epoch 51/200\n",
      "5904/5904 [==============================] - 0s 32us/sample - loss: 0.3171 - accuracy: 0.6275 - val_loss: 0.3349 - val_accuracy: 0.6161\n",
      "Epoch 52/200\n",
      "5904/5904 [==============================] - 0s 33us/sample - loss: 0.3180 - accuracy: 0.6228 - val_loss: 0.3350 - val_accuracy: 0.6263\n",
      "Epoch 53/200\n",
      "5904/5904 [==============================] - 0s 35us/sample - loss: 0.3153 - accuracy: 0.6291 - val_loss: 0.3361 - val_accuracy: 0.5958\n",
      "Epoch 54/200\n",
      "5904/5904 [==============================] - 0s 37us/sample - loss: 0.3164 - accuracy: 0.6243 - val_loss: 0.3371 - val_accuracy: 0.6222\n",
      "Epoch 55/200\n",
      "5904/5904 [==============================] - 0s 36us/sample - loss: 0.3154 - accuracy: 0.6279 - val_loss: 0.3344 - val_accuracy: 0.6242\n"
     ]
    },
    {
     "name": "stdout",
     "output_type": "stream",
     "text": [
      "Epoch 56/200\n",
      "5904/5904 [==============================] - 0s 30us/sample - loss: 0.3143 - accuracy: 0.6323 - val_loss: 0.3359 - val_accuracy: 0.6283\n",
      "Epoch 57/200\n",
      "5904/5904 [==============================] - 0s 37us/sample - loss: 0.3159 - accuracy: 0.6260 - val_loss: 0.3324 - val_accuracy: 0.6195\n",
      "Epoch 58/200\n",
      "5904/5904 [==============================] - 0s 38us/sample - loss: 0.3141 - accuracy: 0.6328 - val_loss: 0.3363 - val_accuracy: 0.6107\n",
      "Epoch 59/200\n",
      "5904/5904 [==============================] - 0s 31us/sample - loss: 0.3145 - accuracy: 0.6299 - val_loss: 0.3325 - val_accuracy: 0.6080\n",
      "Epoch 60/200\n",
      "5904/5904 [==============================] - 0s 31us/sample - loss: 0.3122 - accuracy: 0.6279 - val_loss: 0.3354 - val_accuracy: 0.6276\n",
      "Epoch 61/200\n",
      "5904/5904 [==============================] - 0s 29us/sample - loss: 0.3156 - accuracy: 0.6287 - val_loss: 0.3325 - val_accuracy: 0.6080\n",
      "Epoch 62/200\n",
      "5904/5904 [==============================] - 0s 28us/sample - loss: 0.3121 - accuracy: 0.6303 - val_loss: 0.3353 - val_accuracy: 0.6297\n",
      "Epoch 63/200\n",
      "5904/5904 [==============================] - 0s 32us/sample - loss: 0.3114 - accuracy: 0.6311 - val_loss: 0.3329 - val_accuracy: 0.6188\n",
      "Epoch 64/200\n",
      "5904/5904 [==============================] - 0s 39us/sample - loss: 0.3157 - accuracy: 0.6275 - val_loss: 0.3325 - val_accuracy: 0.6242\n",
      "Epoch 65/200\n",
      "5904/5904 [==============================] - 0s 31us/sample - loss: 0.3118 - accuracy: 0.6291 - val_loss: 0.3381 - val_accuracy: 0.6290\n",
      "Epoch 66/200\n",
      "5904/5904 [==============================] - 0s 29us/sample - loss: 0.3136 - accuracy: 0.6348 - val_loss: 0.3362 - val_accuracy: 0.6344\n",
      "Epoch 67/200\n",
      "5904/5904 [==============================] - 0s 33us/sample - loss: 0.3109 - accuracy: 0.6311 - val_loss: 0.3337 - val_accuracy: 0.6100\n",
      "Epoch 68/200\n",
      "5904/5904 [==============================] - 0s 40us/sample - loss: 0.3113 - accuracy: 0.6303 - val_loss: 0.3339 - val_accuracy: 0.6351\n",
      "Epoch 69/200\n",
      "5904/5904 [==============================] - 0s 30us/sample - loss: 0.3099 - accuracy: 0.6326 - val_loss: 0.3309 - val_accuracy: 0.6229\n",
      "Epoch 70/200\n",
      "5904/5904 [==============================] - 0s 35us/sample - loss: 0.3098 - accuracy: 0.6396 - val_loss: 0.3308 - val_accuracy: 0.6175\n",
      "Epoch 71/200\n",
      "5904/5904 [==============================] - 0s 37us/sample - loss: 0.3126 - accuracy: 0.6353 - val_loss: 0.3336 - val_accuracy: 0.6344\n",
      "Epoch 72/200\n",
      "5904/5904 [==============================] - 0s 32us/sample - loss: 0.3122 - accuracy: 0.6404 - val_loss: 0.3315 - val_accuracy: 0.6087\n",
      "Epoch 73/200\n",
      "5904/5904 [==============================] - 0s 32us/sample - loss: 0.3093 - accuracy: 0.6326 - val_loss: 0.3307 - val_accuracy: 0.6073\n",
      "Epoch 74/200\n",
      "5904/5904 [==============================] - 0s 37us/sample - loss: 0.3091 - accuracy: 0.6274 - val_loss: 0.3318 - val_accuracy: 0.6324\n",
      "Epoch 75/200\n",
      "5904/5904 [==============================] - 0s 31us/sample - loss: 0.3090 - accuracy: 0.6367 - val_loss: 0.3318 - val_accuracy: 0.6344\n",
      "Epoch 76/200\n",
      "5904/5904 [==============================] - 0s 31us/sample - loss: 0.3087 - accuracy: 0.6463 - val_loss: 0.3347 - val_accuracy: 0.6107\n",
      "Epoch 77/200\n",
      "5904/5904 [==============================] - 0s 35us/sample - loss: 0.3095 - accuracy: 0.6252 - val_loss: 0.3293 - val_accuracy: 0.6236\n",
      "Epoch 78/200\n",
      "5904/5904 [==============================] - 0s 33us/sample - loss: 0.3085 - accuracy: 0.6299 - val_loss: 0.3294 - val_accuracy: 0.6297\n",
      "Epoch 79/200\n",
      "5904/5904 [==============================] - 0s 32us/sample - loss: 0.3086 - accuracy: 0.6455 - val_loss: 0.3290 - val_accuracy: 0.6134\n",
      "Epoch 80/200\n",
      "5904/5904 [==============================] - 0s 35us/sample - loss: 0.3079 - accuracy: 0.6321 - val_loss: 0.3287 - val_accuracy: 0.6154\n",
      "Epoch 81/200\n",
      "5904/5904 [==============================] - 0s 31us/sample - loss: 0.3073 - accuracy: 0.6408 - val_loss: 0.3285 - val_accuracy: 0.6202\n",
      "Epoch 82/200\n",
      "5904/5904 [==============================] - 0s 36us/sample - loss: 0.3065 - accuracy: 0.6326 - val_loss: 0.3332 - val_accuracy: 0.6337\n",
      "Epoch 83/200\n",
      "5904/5904 [==============================] - 0s 31us/sample - loss: 0.3065 - accuracy: 0.6433 - val_loss: 0.3293 - val_accuracy: 0.6297\n",
      "Epoch 84/200\n",
      "5904/5904 [==============================] - 0s 31us/sample - loss: 0.3056 - accuracy: 0.6455 - val_loss: 0.3285 - val_accuracy: 0.6175\n",
      "Epoch 85/200\n",
      "5904/5904 [==============================] - 0s 32us/sample - loss: 0.3069 - accuracy: 0.6372 - val_loss: 0.3282 - val_accuracy: 0.6215\n",
      "Epoch 86/200\n",
      "5904/5904 [==============================] - 0s 36us/sample - loss: 0.3072 - accuracy: 0.6348 - val_loss: 0.3289 - val_accuracy: 0.6276\n",
      "Epoch 87/200\n",
      "5904/5904 [==============================] - 0s 32us/sample - loss: 0.3072 - accuracy: 0.6433 - val_loss: 0.3283 - val_accuracy: 0.6202\n",
      "Epoch 88/200\n",
      "5904/5904 [==============================] - 0s 29us/sample - loss: 0.3058 - accuracy: 0.6333 - val_loss: 0.3295 - val_accuracy: 0.6290\n",
      "Epoch 89/200\n",
      "5904/5904 [==============================] - 0s 34us/sample - loss: 0.3063 - accuracy: 0.6426 - val_loss: 0.3281 - val_accuracy: 0.6202\n",
      "Epoch 90/200\n",
      "5904/5904 [==============================] - 0s 31us/sample - loss: 0.3061 - accuracy: 0.6370 - val_loss: 0.3289 - val_accuracy: 0.6215\n",
      "Epoch 91/200\n",
      "5904/5904 [==============================] - 0s 34us/sample - loss: 0.3068 - accuracy: 0.6284 - val_loss: 0.3268 - val_accuracy: 0.6290\n",
      "Epoch 92/200\n",
      "5904/5904 [==============================] - 0s 35us/sample - loss: 0.3046 - accuracy: 0.6404 - val_loss: 0.3300 - val_accuracy: 0.6195\n",
      "Epoch 93/200\n",
      "5904/5904 [==============================] - 0s 38us/sample - loss: 0.3041 - accuracy: 0.6341 - val_loss: 0.3286 - val_accuracy: 0.6297\n",
      "Epoch 94/200\n",
      "5904/5904 [==============================] - 0s 31us/sample - loss: 0.3045 - accuracy: 0.6377 - val_loss: 0.3272 - val_accuracy: 0.6175\n",
      "Epoch 95/200\n",
      "5904/5904 [==============================] - 0s 31us/sample - loss: 0.3041 - accuracy: 0.6423 - val_loss: 0.3267 - val_accuracy: 0.6195\n",
      "Epoch 96/200\n",
      "5904/5904 [==============================] - 0s 33us/sample - loss: 0.3040 - accuracy: 0.6468 - val_loss: 0.3265 - val_accuracy: 0.6188\n",
      "Epoch 97/200\n",
      "5904/5904 [==============================] - 0s 35us/sample - loss: 0.3039 - accuracy: 0.6352 - val_loss: 0.3272 - val_accuracy: 0.6242\n",
      "Epoch 98/200\n",
      "5904/5904 [==============================] - 0s 32us/sample - loss: 0.3043 - accuracy: 0.6426 - val_loss: 0.3290 - val_accuracy: 0.6242\n",
      "Epoch 99/200\n",
      "5904/5904 [==============================] - 0s 36us/sample - loss: 0.3031 - accuracy: 0.6441 - val_loss: 0.3317 - val_accuracy: 0.6344\n",
      "Epoch 100/200\n",
      "5904/5904 [==============================] - 0s 32us/sample - loss: 0.3046 - accuracy: 0.6374 - val_loss: 0.3265 - val_accuracy: 0.6236\n",
      "Epoch 101/200\n",
      "5904/5904 [==============================] - 0s 34us/sample - loss: 0.3040 - accuracy: 0.6333 - val_loss: 0.3267 - val_accuracy: 0.6107\n",
      "Epoch 102/200\n",
      "5904/5904 [==============================] - 0s 30us/sample - loss: 0.3038 - accuracy: 0.6441 - val_loss: 0.3330 - val_accuracy: 0.5965\n",
      "Epoch 103/200\n",
      "5904/5904 [==============================] - 0s 32us/sample - loss: 0.3042 - accuracy: 0.6303 - val_loss: 0.3279 - val_accuracy: 0.6114\n",
      "Epoch 104/200\n",
      "5904/5904 [==============================] - 0s 36us/sample - loss: 0.3043 - accuracy: 0.6391 - val_loss: 0.3252 - val_accuracy: 0.6222\n",
      "Epoch 105/200\n",
      "5904/5904 [==============================] - 0s 32us/sample - loss: 0.3030 - accuracy: 0.6465 - val_loss: 0.3267 - val_accuracy: 0.6290\n",
      "Epoch 106/200\n",
      "5904/5904 [==============================] - 0s 33us/sample - loss: 0.3015 - accuracy: 0.6453 - val_loss: 0.3255 - val_accuracy: 0.6222\n",
      "Epoch 107/200\n",
      "5904/5904 [==============================] - 0s 33us/sample - loss: 0.3019 - accuracy: 0.6465 - val_loss: 0.3264 - val_accuracy: 0.6060\n",
      "Epoch 108/200\n",
      "5904/5904 [==============================] - 0s 34us/sample - loss: 0.3034 - accuracy: 0.6314 - val_loss: 0.3258 - val_accuracy: 0.6148\n",
      "Epoch 109/200\n",
      "5904/5904 [==============================] - 0s 32us/sample - loss: 0.3016 - accuracy: 0.6452 - val_loss: 0.3257 - val_accuracy: 0.6236\n",
      "Epoch 110/200\n",
      "5904/5904 [==============================] - 0s 33us/sample - loss: 0.3027 - accuracy: 0.6325 - val_loss: 0.3246 - val_accuracy: 0.6249\n"
     ]
    },
    {
     "name": "stdout",
     "output_type": "stream",
     "text": [
      "Epoch 111/200\n",
      "5904/5904 [==============================] - 0s 34us/sample - loss: 0.3016 - accuracy: 0.6506 - val_loss: 0.3234 - val_accuracy: 0.6249\n",
      "Epoch 112/200\n",
      "5904/5904 [==============================] - 0s 29us/sample - loss: 0.3015 - accuracy: 0.6419 - val_loss: 0.3253 - val_accuracy: 0.6263\n",
      "Epoch 113/200\n",
      "5904/5904 [==============================] - 0s 36us/sample - loss: 0.3016 - accuracy: 0.6430 - val_loss: 0.3243 - val_accuracy: 0.6263\n",
      "Epoch 114/200\n",
      "5904/5904 [==============================] - 0s 35us/sample - loss: 0.3010 - accuracy: 0.6477 - val_loss: 0.3223 - val_accuracy: 0.6249\n",
      "Epoch 115/200\n",
      "5904/5904 [==============================] - 0s 29us/sample - loss: 0.2999 - accuracy: 0.6389 - val_loss: 0.3242 - val_accuracy: 0.6242\n",
      "Epoch 116/200\n",
      "5904/5904 [==============================] - 0s 26us/sample - loss: 0.3020 - accuracy: 0.6475 - val_loss: 0.3261 - val_accuracy: 0.6121\n",
      "Epoch 117/200\n",
      "5904/5904 [==============================] - 0s 28us/sample - loss: 0.3023 - accuracy: 0.6416 - val_loss: 0.3220 - val_accuracy: 0.6215\n",
      "Epoch 118/200\n",
      "5904/5904 [==============================] - 0s 29us/sample - loss: 0.3004 - accuracy: 0.6409 - val_loss: 0.3236 - val_accuracy: 0.6297\n",
      "Epoch 119/200\n",
      "5904/5904 [==============================] - 0s 37us/sample - loss: 0.3005 - accuracy: 0.6335 - val_loss: 0.3232 - val_accuracy: 0.6256\n",
      "Epoch 120/200\n",
      "5904/5904 [==============================] - 0s 31us/sample - loss: 0.3016 - accuracy: 0.6496 - val_loss: 0.3224 - val_accuracy: 0.6215\n",
      "Epoch 121/200\n",
      "5904/5904 [==============================] - ETA: 0s - loss: 0.2936 - accuracy: 0.63 - 0s 29us/sample - loss: 0.2995 - accuracy: 0.6352 - val_loss: 0.3232 - val_accuracy: 0.6154\n",
      "Epoch 122/200\n",
      "5904/5904 [==============================] - 0s 32us/sample - loss: 0.2996 - accuracy: 0.6507 - val_loss: 0.3231 - val_accuracy: 0.6324\n",
      "Epoch 123/200\n",
      "5904/5904 [==============================] - 0s 36us/sample - loss: 0.2986 - accuracy: 0.6301 - val_loss: 0.3245 - val_accuracy: 0.6317\n",
      "Epoch 124/200\n",
      "5904/5904 [==============================] - 0s 32us/sample - loss: 0.2998 - accuracy: 0.6452 - val_loss: 0.3257 - val_accuracy: 0.6229\n",
      "Epoch 125/200\n",
      "5904/5904 [==============================] - 0s 32us/sample - loss: 0.2996 - accuracy: 0.6460 - val_loss: 0.3220 - val_accuracy: 0.6236\n",
      "Epoch 126/200\n",
      "5904/5904 [==============================] - 0s 33us/sample - loss: 0.3012 - accuracy: 0.6460 - val_loss: 0.3307 - val_accuracy: 0.6364\n",
      "Epoch 127/200\n",
      "5904/5904 [==============================] - 0s 32us/sample - loss: 0.2997 - accuracy: 0.6468 - val_loss: 0.3231 - val_accuracy: 0.6195\n",
      "Epoch 128/200\n",
      "5904/5904 [==============================] - 0s 29us/sample - loss: 0.2988 - accuracy: 0.6518 - val_loss: 0.3220 - val_accuracy: 0.6283\n",
      "Epoch 129/200\n",
      "5904/5904 [==============================] - 0s 30us/sample - loss: 0.2990 - accuracy: 0.6435 - val_loss: 0.3229 - val_accuracy: 0.6161\n",
      "Epoch 130/200\n",
      "5904/5904 [==============================] - 0s 28us/sample - loss: 0.2984 - accuracy: 0.6416 - val_loss: 0.3287 - val_accuracy: 0.6303\n",
      "Epoch 131/200\n",
      "5904/5904 [==============================] - 0s 27us/sample - loss: 0.2986 - accuracy: 0.6541 - val_loss: 0.3211 - val_accuracy: 0.6364\n",
      "Epoch 132/200\n",
      "5904/5904 [==============================] - 0s 27us/sample - loss: 0.2983 - accuracy: 0.6487 - val_loss: 0.3225 - val_accuracy: 0.6168\n",
      "Epoch 133/200\n",
      "5904/5904 [==============================] - 0s 26us/sample - loss: 0.2977 - accuracy: 0.6458 - val_loss: 0.3244 - val_accuracy: 0.6276\n",
      "Epoch 134/200\n",
      "5904/5904 [==============================] - 0s 29us/sample - loss: 0.2984 - accuracy: 0.6468 - val_loss: 0.3226 - val_accuracy: 0.6154\n",
      "Epoch 135/200\n",
      "5904/5904 [==============================] - 0s 28us/sample - loss: 0.2988 - accuracy: 0.6516 - val_loss: 0.3193 - val_accuracy: 0.6242\n",
      "Epoch 136/200\n",
      "5904/5904 [==============================] - 0s 29us/sample - loss: 0.2964 - accuracy: 0.6526 - val_loss: 0.3246 - val_accuracy: 0.6303\n",
      "Epoch 137/200\n",
      "5904/5904 [==============================] - 0s 29us/sample - loss: 0.2966 - accuracy: 0.6467 - val_loss: 0.3215 - val_accuracy: 0.6405\n",
      "Epoch 138/200\n",
      "5904/5904 [==============================] - 0s 29us/sample - loss: 0.2979 - accuracy: 0.6453 - val_loss: 0.3194 - val_accuracy: 0.6317\n",
      "Epoch 139/200\n",
      "5904/5904 [==============================] - 0s 28us/sample - loss: 0.2997 - accuracy: 0.6455 - val_loss: 0.3219 - val_accuracy: 0.6385\n",
      "Epoch 140/200\n",
      "5904/5904 [==============================] - 0s 28us/sample - loss: 0.2965 - accuracy: 0.6460 - val_loss: 0.3214 - val_accuracy: 0.6087\n",
      "Epoch 141/200\n",
      "5904/5904 [==============================] - 0s 30us/sample - loss: 0.2971 - accuracy: 0.6399 - val_loss: 0.3197 - val_accuracy: 0.6222\n",
      "Epoch 142/200\n",
      "5904/5904 [==============================] - 0s 31us/sample - loss: 0.2960 - accuracy: 0.6479 - val_loss: 0.3201 - val_accuracy: 0.6391\n",
      "Epoch 143/200\n",
      "5904/5904 [==============================] - 0s 29us/sample - loss: 0.2954 - accuracy: 0.6596 - val_loss: 0.3216 - val_accuracy: 0.6398\n",
      "Epoch 144/200\n",
      "5904/5904 [==============================] - 0s 31us/sample - loss: 0.2954 - accuracy: 0.6389 - val_loss: 0.3241 - val_accuracy: 0.6344\n",
      "Epoch 145/200\n",
      "5904/5904 [==============================] - 0s 37us/sample - loss: 0.2972 - accuracy: 0.6458 - val_loss: 0.3233 - val_accuracy: 0.6357\n",
      "Epoch 146/200\n",
      "5904/5904 [==============================] - 0s 36us/sample - loss: 0.2958 - accuracy: 0.6482 - val_loss: 0.3200 - val_accuracy: 0.6330\n",
      "Epoch 147/200\n",
      "5904/5904 [==============================] - 0s 36us/sample - loss: 0.2962 - accuracy: 0.6511 - val_loss: 0.3236 - val_accuracy: 0.6324\n",
      "Epoch 148/200\n",
      "5904/5904 [==============================] - 0s 36us/sample - loss: 0.2949 - accuracy: 0.6497 - val_loss: 0.3220 - val_accuracy: 0.6087\n",
      "Epoch 149/200\n",
      "5904/5904 [==============================] - 0s 32us/sample - loss: 0.2949 - accuracy: 0.6499 - val_loss: 0.3179 - val_accuracy: 0.6141\n",
      "Epoch 150/200\n",
      "5904/5904 [==============================] - 0s 29us/sample - loss: 0.2940 - accuracy: 0.6452 - val_loss: 0.3211 - val_accuracy: 0.6391\n",
      "Epoch 151/200\n",
      "5904/5904 [==============================] - 0s 30us/sample - loss: 0.2971 - accuracy: 0.6548 - val_loss: 0.3199 - val_accuracy: 0.6310\n",
      "Epoch 152/200\n",
      "5904/5904 [==============================] - 0s 35us/sample - loss: 0.2978 - accuracy: 0.6440 - val_loss: 0.3186 - val_accuracy: 0.6127\n",
      "Epoch 153/200\n",
      "5904/5904 [==============================] - 0s 37us/sample - loss: 0.2952 - accuracy: 0.6470 - val_loss: 0.3190 - val_accuracy: 0.6385\n",
      "Epoch 154/200\n",
      "5904/5904 [==============================] - 0s 35us/sample - loss: 0.2948 - accuracy: 0.6523 - val_loss: 0.3181 - val_accuracy: 0.6229\n",
      "Epoch 155/200\n",
      "5904/5904 [==============================] - 0s 34us/sample - loss: 0.2935 - accuracy: 0.6487 - val_loss: 0.3195 - val_accuracy: 0.6127\n",
      "Epoch 156/200\n",
      "5904/5904 [==============================] - 0s 37us/sample - loss: 0.2945 - accuracy: 0.6496 - val_loss: 0.3179 - val_accuracy: 0.6181\n",
      "Epoch 157/200\n",
      "5904/5904 [==============================] - 0s 37us/sample - loss: 0.2938 - accuracy: 0.6507 - val_loss: 0.3168 - val_accuracy: 0.6290\n",
      "Epoch 158/200\n",
      "5904/5904 [==============================] - 0s 32us/sample - loss: 0.2928 - accuracy: 0.6543 - val_loss: 0.3190 - val_accuracy: 0.6175\n",
      "Epoch 159/200\n",
      "5904/5904 [==============================] - 0s 31us/sample - loss: 0.2941 - accuracy: 0.6523 - val_loss: 0.3209 - val_accuracy: 0.6114\n",
      "Epoch 160/200\n",
      "5904/5904 [==============================] - 0s 35us/sample - loss: 0.2942 - accuracy: 0.6374 - val_loss: 0.3191 - val_accuracy: 0.6432\n",
      "Epoch 161/200\n",
      "5904/5904 [==============================] - 0s 40us/sample - loss: 0.2933 - accuracy: 0.6580 - val_loss: 0.3161 - val_accuracy: 0.6236\n",
      "Epoch 162/200\n",
      "5904/5904 [==============================] - 0s 36us/sample - loss: 0.2930 - accuracy: 0.6533 - val_loss: 0.3213 - val_accuracy: 0.6263\n",
      "Epoch 163/200\n",
      "5904/5904 [==============================] - 0s 36us/sample - loss: 0.2941 - accuracy: 0.6514 - val_loss: 0.3258 - val_accuracy: 0.5938\n",
      "Epoch 164/200\n",
      "5904/5904 [==============================] - 0s 37us/sample - loss: 0.2970 - accuracy: 0.6474 - val_loss: 0.3186 - val_accuracy: 0.6168\n",
      "Epoch 165/200\n"
     ]
    },
    {
     "name": "stdout",
     "output_type": "stream",
     "text": [
      "5904/5904 [==============================] - 0s 36us/sample - loss: 0.2927 - accuracy: 0.6467 - val_loss: 0.3160 - val_accuracy: 0.6351\n",
      "Epoch 166/200\n",
      "5904/5904 [==============================] - 0s 38us/sample - loss: 0.2925 - accuracy: 0.6514 - val_loss: 0.3218 - val_accuracy: 0.6385\n",
      "Epoch 167/200\n",
      "5904/5904 [==============================] - 0s 37us/sample - loss: 0.2946 - accuracy: 0.6596 - val_loss: 0.3235 - val_accuracy: 0.6026\n",
      "Epoch 168/200\n",
      "5904/5904 [==============================] - 0s 32us/sample - loss: 0.2937 - accuracy: 0.6419 - val_loss: 0.3153 - val_accuracy: 0.6209\n",
      "Epoch 169/200\n",
      "5904/5904 [==============================] - 0s 36us/sample - loss: 0.2918 - accuracy: 0.6494 - val_loss: 0.3176 - val_accuracy: 0.6290\n",
      "Epoch 170/200\n",
      "5904/5904 [==============================] - 0s 29us/sample - loss: 0.2916 - accuracy: 0.6506 - val_loss: 0.3194 - val_accuracy: 0.6391\n",
      "Epoch 171/200\n",
      "5904/5904 [==============================] - 0s 37us/sample - loss: 0.2934 - accuracy: 0.6528 - val_loss: 0.3188 - val_accuracy: 0.6351\n",
      "Epoch 172/200\n",
      "5904/5904 [==============================] - 0s 35us/sample - loss: 0.2945 - accuracy: 0.6467 - val_loss: 0.3194 - val_accuracy: 0.6357\n",
      "Epoch 173/200\n",
      "5904/5904 [==============================] - 0s 31us/sample - loss: 0.2910 - accuracy: 0.6521 - val_loss: 0.3167 - val_accuracy: 0.6378\n",
      "Epoch 174/200\n",
      "5904/5904 [==============================] - 0s 29us/sample - loss: 0.2918 - accuracy: 0.6521 - val_loss: 0.3190 - val_accuracy: 0.6276\n",
      "Epoch 175/200\n",
      "5904/5904 [==============================] - 0s 29us/sample - loss: 0.2921 - accuracy: 0.6524 - val_loss: 0.3169 - val_accuracy: 0.6425\n",
      "Epoch 176/200\n",
      "5904/5904 [==============================] - 0s 32us/sample - loss: 0.2910 - accuracy: 0.6616 - val_loss: 0.3175 - val_accuracy: 0.6344\n",
      "Epoch 177/200\n",
      "5904/5904 [==============================] - 0s 30us/sample - loss: 0.2903 - accuracy: 0.6455 - val_loss: 0.3183 - val_accuracy: 0.6344\n",
      "Epoch 178/200\n",
      "5904/5904 [==============================] - 0s 30us/sample - loss: 0.2927 - accuracy: 0.6550 - val_loss: 0.3169 - val_accuracy: 0.6222\n",
      "Epoch 179/200\n",
      "5904/5904 [==============================] - 0s 29us/sample - loss: 0.2907 - accuracy: 0.6548 - val_loss: 0.3184 - val_accuracy: 0.6181\n",
      "Epoch 180/200\n",
      "5904/5904 [==============================] - 0s 31us/sample - loss: 0.2898 - accuracy: 0.6538 - val_loss: 0.3244 - val_accuracy: 0.6405\n",
      "Epoch 181/200\n",
      "5904/5904 [==============================] - 0s 37us/sample - loss: 0.2959 - accuracy: 0.6612 - val_loss: 0.3176 - val_accuracy: 0.6283\n",
      "Epoch 182/200\n",
      "5904/5904 [==============================] - 0s 36us/sample - loss: 0.2946 - accuracy: 0.6443 - val_loss: 0.3201 - val_accuracy: 0.6452\n",
      "Epoch 183/200\n",
      "5904/5904 [==============================] - 0s 30us/sample - loss: 0.2905 - accuracy: 0.6519 - val_loss: 0.3166 - val_accuracy: 0.6418\n",
      "Epoch 184/200\n",
      "5904/5904 [==============================] - 0s 37us/sample - loss: 0.2893 - accuracy: 0.6487 - val_loss: 0.3186 - val_accuracy: 0.6202\n",
      "Epoch 185/200\n",
      "5904/5904 [==============================] - 0s 32us/sample - loss: 0.2898 - accuracy: 0.6502 - val_loss: 0.3184 - val_accuracy: 0.6337\n",
      "Epoch 186/200\n",
      "5904/5904 [==============================] - 0s 35us/sample - loss: 0.2915 - accuracy: 0.6511 - val_loss: 0.3163 - val_accuracy: 0.6371\n",
      "Epoch 187/200\n",
      "5904/5904 [==============================] - 0s 37us/sample - loss: 0.2906 - accuracy: 0.6519 - val_loss: 0.3176 - val_accuracy: 0.6229\n",
      "Epoch 188/200\n",
      "5904/5904 [==============================] - 0s 34us/sample - loss: 0.2894 - accuracy: 0.6524 - val_loss: 0.3155 - val_accuracy: 0.6303\n",
      "Epoch 189/200\n",
      "5904/5904 [==============================] - 0s 33us/sample - loss: 0.2888 - accuracy: 0.6535 - val_loss: 0.3175 - val_accuracy: 0.6269\n",
      "Epoch 190/200\n",
      "5904/5904 [==============================] - 0s 38us/sample - loss: 0.2905 - accuracy: 0.6565 - val_loss: 0.3144 - val_accuracy: 0.6242\n",
      "Epoch 191/200\n",
      "5904/5904 [==============================] - 0s 37us/sample - loss: 0.2889 - accuracy: 0.6602 - val_loss: 0.3182 - val_accuracy: 0.6060\n",
      "Epoch 192/200\n",
      "5904/5904 [==============================] - 0s 30us/sample - loss: 0.2921 - accuracy: 0.6484 - val_loss: 0.3194 - val_accuracy: 0.6222\n",
      "Epoch 193/200\n",
      "5904/5904 [==============================] - 0s 38us/sample - loss: 0.2902 - accuracy: 0.6543 - val_loss: 0.3165 - val_accuracy: 0.6398\n",
      "Epoch 194/200\n",
      "5904/5904 [==============================] - 0s 35us/sample - loss: 0.2903 - accuracy: 0.6480 - val_loss: 0.3163 - val_accuracy: 0.6330\n",
      "Epoch 195/200\n",
      "5904/5904 [==============================] - 0s 31us/sample - loss: 0.2897 - accuracy: 0.6479 - val_loss: 0.3157 - val_accuracy: 0.6263\n",
      "Epoch 196/200\n",
      "5904/5904 [==============================] - 0s 31us/sample - loss: 0.2901 - accuracy: 0.6536 - val_loss: 0.3161 - val_accuracy: 0.6310\n",
      "Epoch 197/200\n",
      "5904/5904 [==============================] - 0s 33us/sample - loss: 0.2899 - accuracy: 0.6540 - val_loss: 0.3154 - val_accuracy: 0.6303\n",
      "Epoch 198/200\n",
      "5904/5904 [==============================] - 0s 31us/sample - loss: 0.2901 - accuracy: 0.6524 - val_loss: 0.3183 - val_accuracy: 0.6317\n",
      "Epoch 199/200\n",
      "5904/5904 [==============================] - 0s 30us/sample - loss: 0.2884 - accuracy: 0.6555 - val_loss: 0.3158 - val_accuracy: 0.6229\n",
      "Epoch 200/200\n",
      "5904/5904 [==============================] - 0s 37us/sample - loss: 0.2895 - accuracy: 0.6494 - val_loss: 0.3147 - val_accuracy: 0.6283\n"
     ]
    },
    {
     "data": {
      "text/plain": [
       "<tensorflow.python.keras.callbacks.History at 0xa1a5c8b648>"
      ]
     },
     "execution_count": 98,
     "metadata": {},
     "output_type": "execute_result"
    }
   ],
   "source": [
    "model.fit(x = X_train , y = y_train.values , validation_data = (X_valid , y_valid.values) , batch_size = 128 , epochs = 200)"
   ]
  },
  {
   "cell_type": "code",
   "execution_count": 99,
   "metadata": {},
   "outputs": [
    {
     "name": "stdout",
     "output_type": "stream",
     "text": [
      "Model: \"sequential_7\"\n",
      "_________________________________________________________________\n",
      "Layer (type)                 Output Shape              Param #   \n",
      "=================================================================\n",
      "dense_30 (Dense)             multiple                  368       \n",
      "_________________________________________________________________\n",
      "dense_31 (Dense)             multiple                  272       \n",
      "_________________________________________________________________\n",
      "dense_32 (Dense)             multiple                  272       \n",
      "_________________________________________________________________\n",
      "dense_33 (Dense)             multiple                  272       \n",
      "_________________________________________________________________\n",
      "dense_34 (Dense)             multiple                  17        \n",
      "=================================================================\n",
      "Total params: 1,201\n",
      "Trainable params: 1,201\n",
      "Non-trainable params: 0\n",
      "_________________________________________________________________\n"
     ]
    }
   ],
   "source": [
    "model.summary()"
   ]
  },
  {
   "cell_type": "code",
   "execution_count": 101,
   "metadata": {},
   "outputs": [
    {
     "data": {
      "text/plain": [
       "{'loss': [0.5000445915431511,\n",
       "  0.40185714187983895,\n",
       "  0.3866503875106977,\n",
       "  0.3822721925369769,\n",
       "  0.37960640290565284,\n",
       "  0.3783649981910297,\n",
       "  0.37611011712531733,\n",
       "  0.37365892109509086,\n",
       "  0.37130347903827987,\n",
       "  0.36998384011793267,\n",
       "  0.3682868173774988,\n",
       "  0.36537591164028094,\n",
       "  0.36202946394116575,\n",
       "  0.35974386560561533,\n",
       "  0.35747673469507274,\n",
       "  0.35592512346218597,\n",
       "  0.35403740922933025,\n",
       "  0.351518245731912,\n",
       "  0.34983464162847216,\n",
       "  0.34785275787195863,\n",
       "  0.34501792672203807,\n",
       "  0.34178395129154693,\n",
       "  0.3407169697568992,\n",
       "  0.3380737722243074,\n",
       "  0.33586484613780404,\n",
       "  0.3331431237662711,\n",
       "  0.3341376532707111,\n",
       "  0.3296824791405582,\n",
       "  0.3287283729731552,\n",
       "  0.3272346249683116,\n",
       "  0.32539503716517915,\n",
       "  0.32273127603013985,\n",
       "  0.3247113466908938,\n",
       "  0.32481899639455286,\n",
       "  0.32160548980885406,\n",
       "  0.32298403639134354,\n",
       "  0.3267383453080325,\n",
       "  0.32163177442744495,\n",
       "  0.3194719998817134,\n",
       "  0.319760916598121,\n",
       "  0.31863031978529643,\n",
       "  0.31839827470340054,\n",
       "  0.3196432260963006,\n",
       "  0.3213632111626912,\n",
       "  0.31907701734604876,\n",
       "  0.31974176565806073,\n",
       "  0.3190751161355636,\n",
       "  0.3184714974749702,\n",
       "  0.31696559767412946,\n",
       "  0.3160447445988332,\n",
       "  0.3170788185544776,\n",
       "  0.31799192682191285,\n",
       "  0.315315196992259,\n",
       "  0.31643318378828406,\n",
       "  0.3153520315320188,\n",
       "  0.3143404293351057,\n",
       "  0.315851121817824,\n",
       "  0.31409725248005976,\n",
       "  0.31445016197072784,\n",
       "  0.3122417879944571,\n",
       "  0.3155767250917145,\n",
       "  0.3121416652751809,\n",
       "  0.31136339789806666,\n",
       "  0.3157125437647347,\n",
       "  0.31176333294974434,\n",
       "  0.31356152560975814,\n",
       "  0.3109296936652848,\n",
       "  0.31128514273379876,\n",
       "  0.3098992904027303,\n",
       "  0.3097965878442051,\n",
       "  0.3126460680470557,\n",
       "  0.3122169149277333,\n",
       "  0.3092887576437255,\n",
       "  0.30908001252629247,\n",
       "  0.3089932339382042,\n",
       "  0.3086521215232084,\n",
       "  0.3094820354366044,\n",
       "  0.30854924075648715,\n",
       "  0.30860124427451674,\n",
       "  0.3079298070775784,\n",
       "  0.30730290072881755,\n",
       "  0.3065442681151031,\n",
       "  0.3065252852472186,\n",
       "  0.3056010901927948,\n",
       "  0.30691241378060524,\n",
       "  0.3071670683257302,\n",
       "  0.3072256764906855,\n",
       "  0.30577712592878314,\n",
       "  0.3062587013735681,\n",
       "  0.30605972346251575,\n",
       "  0.30679123414564263,\n",
       "  0.30463018399590075,\n",
       "  0.30411605928648455,\n",
       "  0.30453201837655974,\n",
       "  0.3040511528166329,\n",
       "  0.30398164441188175,\n",
       "  0.3039130851182188,\n",
       "  0.3042969311155924,\n",
       "  0.3030798833786957,\n",
       "  0.3046045881622852,\n",
       "  0.30402019805701447,\n",
       "  0.3038166561908515,\n",
       "  0.3042378562898817,\n",
       "  0.3042678513985662,\n",
       "  0.30298953230788067,\n",
       "  0.30145140036657897,\n",
       "  0.3018639212862909,\n",
       "  0.3033515361104877,\n",
       "  0.30159745516815806,\n",
       "  0.3027065573992122,\n",
       "  0.3015846971896929,\n",
       "  0.3015399742417219,\n",
       "  0.3015985070528377,\n",
       "  0.3009987598673761,\n",
       "  0.299857510783808,\n",
       "  0.3019764618821906,\n",
       "  0.3023217141143675,\n",
       "  0.30038842292335943,\n",
       "  0.30052766627897093,\n",
       "  0.3015948194798415,\n",
       "  0.2994889573353093,\n",
       "  0.29962254438781477,\n",
       "  0.29859673318662616,\n",
       "  0.2997594868668373,\n",
       "  0.29963723430788614,\n",
       "  0.30118163103656714,\n",
       "  0.2997072412554165,\n",
       "  0.29882441327823855,\n",
       "  0.29903985555902085,\n",
       "  0.2983750608878407,\n",
       "  0.298641555273759,\n",
       "  0.2982763758681331,\n",
       "  0.2976809426697935,\n",
       "  0.2983520164237759,\n",
       "  0.2988058247863439,\n",
       "  0.2963599473803347,\n",
       "  0.29655366667564,\n",
       "  0.2978791416822087,\n",
       "  0.2996832490532702,\n",
       "  0.29649498162230825,\n",
       "  0.29706630886085633,\n",
       "  0.29595033981935764,\n",
       "  0.2954034944213826,\n",
       "  0.2954452942380414,\n",
       "  0.2972496305377826,\n",
       "  0.29583925727583205,\n",
       "  0.29622346429320856,\n",
       "  0.2949197906142651,\n",
       "  0.29494732295271503,\n",
       "  0.2940054983304445,\n",
       "  0.2970579106633256,\n",
       "  0.29781028151835204,\n",
       "  0.2952429098165455,\n",
       "  0.2948245357691757,\n",
       "  0.29350710803577246,\n",
       "  0.29448107248399313,\n",
       "  0.293827980635612,\n",
       "  0.29280367630930126,\n",
       "  0.29407848789278407,\n",
       "  0.294249772460157,\n",
       "  0.29325678661909854,\n",
       "  0.29299366623567047,\n",
       "  0.2941287906996926,\n",
       "  0.297048105618495,\n",
       "  0.29272470645465176,\n",
       "  0.29251512053213147,\n",
       "  0.2945696345674313,\n",
       "  0.2937143385248779,\n",
       "  0.2917754459510328,\n",
       "  0.29155306142520127,\n",
       "  0.2933759393730784,\n",
       "  0.29449906416217164,\n",
       "  0.290983779401314,\n",
       "  0.29178624141830095,\n",
       "  0.29206642754840334,\n",
       "  0.2910326786319092,\n",
       "  0.29030721983935454,\n",
       "  0.29272104981468944,\n",
       "  0.2907095939970921,\n",
       "  0.2898347243707031,\n",
       "  0.29585112312298806,\n",
       "  0.29460720948087493,\n",
       "  0.2905378180144602,\n",
       "  0.2892580226184876,\n",
       "  0.2897695411188493,\n",
       "  0.291533946344846,\n",
       "  0.29060379583338086,\n",
       "  0.28942611013970726,\n",
       "  0.2888385983017402,\n",
       "  0.2904664694374493,\n",
       "  0.2889189212948972,\n",
       "  0.2920665639606595,\n",
       "  0.2901547467159385,\n",
       "  0.2903223532809798,\n",
       "  0.2896664166838173,\n",
       "  0.2900644731392382,\n",
       "  0.2898950676930952,\n",
       "  0.2900774995809002,\n",
       "  0.28837728871885676,\n",
       "  0.28954221756477666],\n",
       " 'accuracy': [0.6368564,\n",
       "  0.56707317,\n",
       "  0.54623985,\n",
       "  0.5472561,\n",
       "  0.5486111,\n",
       "  0.54962736,\n",
       "  0.55284554,\n",
       "  0.5499661,\n",
       "  0.5504742,\n",
       "  0.5499661,\n",
       "  0.55775744,\n",
       "  0.55267614,\n",
       "  0.55708,\n",
       "  0.5626694,\n",
       "  0.5675813,\n",
       "  0.57571137,\n",
       "  0.5777439,\n",
       "  0.578252,\n",
       "  0.5884146,\n",
       "  0.5968835,\n",
       "  0.59112465,\n",
       "  0.60162604,\n",
       "  0.6023035,\n",
       "  0.6031504,\n",
       "  0.6097561,\n",
       "  0.6107724,\n",
       "  0.613313,\n",
       "  0.61365175,\n",
       "  0.6229675,\n",
       "  0.62415314,\n",
       "  0.62076557,\n",
       "  0.6287263,\n",
       "  0.61602306,\n",
       "  0.62110436,\n",
       "  0.6231369,\n",
       "  0.6234756,\n",
       "  0.625,\n",
       "  0.62228996,\n",
       "  0.6233062,\n",
       "  0.6266938,\n",
       "  0.62415314,\n",
       "  0.6278794,\n",
       "  0.6197493,\n",
       "  0.62754065,\n",
       "  0.62228996,\n",
       "  0.6266938,\n",
       "  0.62601626,\n",
       "  0.6305894,\n",
       "  0.6244919,\n",
       "  0.63448507,\n",
       "  0.62754065,\n",
       "  0.6227981,\n",
       "  0.62906504,\n",
       "  0.6243225,\n",
       "  0.6278794,\n",
       "  0.6322832,\n",
       "  0.62601626,\n",
       "  0.63279134,\n",
       "  0.6299119,\n",
       "  0.6278794,\n",
       "  0.6287263,\n",
       "  0.6302507,\n",
       "  0.63109756,\n",
       "  0.62754065,\n",
       "  0.62906504,\n",
       "  0.63482386,\n",
       "  0.63109756,\n",
       "  0.6302507,\n",
       "  0.63262194,\n",
       "  0.6395664,\n",
       "  0.635332,\n",
       "  0.6404133,\n",
       "  0.63262194,\n",
       "  0.62737125,\n",
       "  0.636687,\n",
       "  0.64634144,\n",
       "  0.6251694,\n",
       "  0.6299119,\n",
       "  0.6454946,\n",
       "  0.6321138,\n",
       "  0.640752,\n",
       "  0.63262194,\n",
       "  0.64329267,\n",
       "  0.6454946,\n",
       "  0.6371951,\n",
       "  0.63482386,\n",
       "  0.64329267,\n",
       "  0.63329947,\n",
       "  0.6426152,\n",
       "  0.6370258,\n",
       "  0.6283875,\n",
       "  0.6404133,\n",
       "  0.63414633,\n",
       "  0.63770324,\n",
       "  0.6422764,\n",
       "  0.6468496,\n",
       "  0.6351626,\n",
       "  0.6426152,\n",
       "  0.6441396,\n",
       "  0.6373645,\n",
       "  0.63329947,\n",
       "  0.6441396,\n",
       "  0.6302507,\n",
       "  0.6390583,\n",
       "  0.64651084,\n",
       "  0.6453252,\n",
       "  0.64651084,\n",
       "  0.6314363,\n",
       "  0.64515585,\n",
       "  0.63245255,\n",
       "  0.6505759,\n",
       "  0.6419377,\n",
       "  0.64295393,\n",
       "  0.6476965,\n",
       "  0.6388889,\n",
       "  0.6475271,\n",
       "  0.64159894,\n",
       "  0.6409214,\n",
       "  0.6334688,\n",
       "  0.6495596,\n",
       "  0.6351626,\n",
       "  0.6507453,\n",
       "  0.6300813,\n",
       "  0.64515585,\n",
       "  0.6460027,\n",
       "  0.6460027,\n",
       "  0.6468496,\n",
       "  0.65176153,\n",
       "  0.64346206,\n",
       "  0.64159894,\n",
       "  0.6541328,\n",
       "  0.64871275,\n",
       "  0.6458333,\n",
       "  0.6468496,\n",
       "  0.65159214,\n",
       "  0.6526084,\n",
       "  0.64668024,\n",
       "  0.6453252,\n",
       "  0.6454946,\n",
       "  0.6460027,\n",
       "  0.63990515,\n",
       "  0.64786583,\n",
       "  0.6595529,\n",
       "  0.6388889,\n",
       "  0.6458333,\n",
       "  0.6482046,\n",
       "  0.651084,\n",
       "  0.649729,\n",
       "  0.64989835,\n",
       "  0.64515585,\n",
       "  0.6548103,\n",
       "  0.6439702,\n",
       "  0.64701897,\n",
       "  0.65226966,\n",
       "  0.64871275,\n",
       "  0.6495596,\n",
       "  0.6507453,\n",
       "  0.6543022,\n",
       "  0.65226966,\n",
       "  0.6373645,\n",
       "  0.6580285,\n",
       "  0.6532859,\n",
       "  0.65142274,\n",
       "  0.6473577,\n",
       "  0.64668024,\n",
       "  0.65142274,\n",
       "  0.6595529,\n",
       "  0.6419377,\n",
       "  0.6493902,\n",
       "  0.6505759,\n",
       "  0.6527778,\n",
       "  0.64668024,\n",
       "  0.65210027,\n",
       "  0.65210027,\n",
       "  0.652439,\n",
       "  0.6615854,\n",
       "  0.6454946,\n",
       "  0.65497965,\n",
       "  0.6548103,\n",
       "  0.65379405,\n",
       "  0.6612466,\n",
       "  0.6443089,\n",
       "  0.65193087,\n",
       "  0.64871275,\n",
       "  0.65023714,\n",
       "  0.651084,\n",
       "  0.65193087,\n",
       "  0.652439,\n",
       "  0.65345526,\n",
       "  0.6565041,\n",
       "  0.66023034,\n",
       "  0.64837396,\n",
       "  0.6543022,\n",
       "  0.6480352,\n",
       "  0.64786583,\n",
       "  0.65362465,\n",
       "  0.6539634,\n",
       "  0.652439,\n",
       "  0.6554878,\n",
       "  0.6493902],\n",
       " 'val_loss': [0.43599297008404636,\n",
       "  0.4022544067133579,\n",
       "  0.39498344017350356,\n",
       "  0.3927720435059547,\n",
       "  0.3913265987877597,\n",
       "  0.3895635372614166,\n",
       "  0.3872612470013109,\n",
       "  0.3845656576920137,\n",
       "  0.3830968488207038,\n",
       "  0.380262836238865,\n",
       "  0.38143334809637747,\n",
       "  0.37522856478523225,\n",
       "  0.3740138026936763,\n",
       "  0.3751793550775111,\n",
       "  0.37973722702519025,\n",
       "  0.3691099096409921,\n",
       "  0.3714998055932969,\n",
       "  0.3657675039429235,\n",
       "  0.36200236838333655,\n",
       "  0.36402200736463597,\n",
       "  0.35768875911498926,\n",
       "  0.3578159984052383,\n",
       "  0.35348760702356585,\n",
       "  0.34953658364476103,\n",
       "  0.34970646079682627,\n",
       "  0.3531608817620946,\n",
       "  0.34378989869142274,\n",
       "  0.34840059314697436,\n",
       "  0.3457963053003387,\n",
       "  0.3433350390813281,\n",
       "  0.3404397053055127,\n",
       "  0.34685190743341104,\n",
       "  0.33823088868776524,\n",
       "  0.33859584439664414,\n",
       "  0.3407400037359368,\n",
       "  0.344019136924395,\n",
       "  0.3370110192005103,\n",
       "  0.3403926417282004,\n",
       "  0.3374020738341797,\n",
       "  0.34314323147568415,\n",
       "  0.34105700623690477,\n",
       "  0.3372133920623712,\n",
       "  0.34169359193432547,\n",
       "  0.3453007869891565,\n",
       "  0.33512510029383424,\n",
       "  0.3401565226494822,\n",
       "  0.3425960826284593,\n",
       "  0.3357963645547003,\n",
       "  0.335932278015683,\n",
       "  0.33958880561949356,\n",
       "  0.3349026981123251,\n",
       "  0.3350228088565509,\n",
       "  0.33612539670155833,\n",
       "  0.3370729328694986,\n",
       "  0.3344130428481441,\n",
       "  0.33594719342226587,\n",
       "  0.33237307085406564,\n",
       "  0.33633186424513,\n",
       "  0.33245828202954,\n",
       "  0.3353623501457067,\n",
       "  0.332539127396827,\n",
       "  0.33528925816433286,\n",
       "  0.3328806637870192,\n",
       "  0.33253441009476287,\n",
       "  0.3380864548699309,\n",
       "  0.3362166901335332,\n",
       "  0.3337425391619159,\n",
       "  0.3339138186978745,\n",
       "  0.3309472578154598,\n",
       "  0.330834493373969,\n",
       "  0.3335692469905822,\n",
       "  0.33145762171871207,\n",
       "  0.3306611666182206,\n",
       "  0.33177903052432034,\n",
       "  0.33180712580115873,\n",
       "  0.33473563672484136,\n",
       "  0.3293063395234807,\n",
       "  0.3294491922948194,\n",
       "  0.32903408540126516,\n",
       "  0.32871419538415275,\n",
       "  0.3284873226525094,\n",
       "  0.3331791549598194,\n",
       "  0.3293204197991758,\n",
       "  0.3284580819132204,\n",
       "  0.32824001272102427,\n",
       "  0.32893777432357774,\n",
       "  0.32831909959995836,\n",
       "  0.3295493177771972,\n",
       "  0.3280994467785331,\n",
       "  0.32885433178579154,\n",
       "  0.32680097658164453,\n",
       "  0.3300227315928699,\n",
       "  0.32859596272094393,\n",
       "  0.3271600980974971,\n",
       "  0.3266998816359745,\n",
       "  0.32651889701509446,\n",
       "  0.3272411753861744,\n",
       "  0.328991610231477,\n",
       "  0.33167608951949235,\n",
       "  0.3264975174504837,\n",
       "  0.32665849934579877,\n",
       "  0.33296143980387827,\n",
       "  0.32794668354452183,\n",
       "  0.3251740975039346,\n",
       "  0.3266838890883111,\n",
       "  0.32553967636787334,\n",
       "  0.3264191853047709,\n",
       "  0.3257583829504296,\n",
       "  0.32567436835736785,\n",
       "  0.3245742141030169,\n",
       "  0.32342747380463915,\n",
       "  0.32528474381144334,\n",
       "  0.3243266259122718,\n",
       "  0.32233825244246583,\n",
       "  0.32416144010378206,\n",
       "  0.3261314784160884,\n",
       "  0.32203871076302343,\n",
       "  0.3235798216826543,\n",
       "  0.32320028526321326,\n",
       "  0.32244862950001524,\n",
       "  0.32323741456827926,\n",
       "  0.3230560204529972,\n",
       "  0.32447029143753453,\n",
       "  0.32569294451618,\n",
       "  0.32204322160783455,\n",
       "  0.33074025616059854,\n",
       "  0.32314335985125603,\n",
       "  0.3220325735023721,\n",
       "  0.3229196586557232,\n",
       "  0.3287229261833345,\n",
       "  0.3211149386885042,\n",
       "  0.3224829951289867,\n",
       "  0.3244157442892413,\n",
       "  0.3225589189161379,\n",
       "  0.31927568246039817,\n",
       "  0.32456814959271985,\n",
       "  0.3215000677548636,\n",
       "  0.3194065004002023,\n",
       "  0.3218913698164127,\n",
       "  0.3213828534150172,\n",
       "  0.31967546133552766,\n",
       "  0.32014951378248313,\n",
       "  0.3216315434442312,\n",
       "  0.3240844272808522,\n",
       "  0.3232564685529523,\n",
       "  0.32001844562020104,\n",
       "  0.3236033942805163,\n",
       "  0.32197649807201983,\n",
       "  0.3179178991649469,\n",
       "  0.3210802668240237,\n",
       "  0.31989857534258126,\n",
       "  0.31859526112826997,\n",
       "  0.3189771170743672,\n",
       "  0.31810763491394556,\n",
       "  0.31951787841828516,\n",
       "  0.31790285734566953,\n",
       "  0.31683634763322494,\n",
       "  0.31903730516467615,\n",
       "  0.3208679568146077,\n",
       "  0.31907052294015076,\n",
       "  0.31605829740385794,\n",
       "  0.3212945445231998,\n",
       "  0.32583011032038633,\n",
       "  0.3186254079832608,\n",
       "  0.31602490200492767,\n",
       "  0.321842788903392,\n",
       "  0.32347330446976136,\n",
       "  0.31533217913368383,\n",
       "  0.31761237332243003,\n",
       "  0.3193697879947192,\n",
       "  0.3187829184124578,\n",
       "  0.31938205105514245,\n",
       "  0.3166878545251987,\n",
       "  0.31898489270608976,\n",
       "  0.31690157675509045,\n",
       "  0.31749734780880434,\n",
       "  0.31830142334497047,\n",
       "  0.31690825773157133,\n",
       "  0.3183578138587115,\n",
       "  0.324419390110043,\n",
       "  0.3176431042282825,\n",
       "  0.3200941156638823,\n",
       "  0.316610902971566,\n",
       "  0.3186411434884159,\n",
       "  0.3183751707252168,\n",
       "  0.31626976446356414,\n",
       "  0.3175754974884364,\n",
       "  0.31554506351879985,\n",
       "  0.31751719085889324,\n",
       "  0.31444502915977707,\n",
       "  0.3182118598399488,\n",
       "  0.31937861852171295,\n",
       "  0.3165385993998359,\n",
       "  0.31632470956466935,\n",
       "  0.315670229247396,\n",
       "  0.31609760556740785,\n",
       "  0.3154340987582423,\n",
       "  0.31827773969966006,\n",
       "  0.31584984937792465,\n",
       "  0.31469770840236116],\n",
       " 'val_accuracy': [0.5903859,\n",
       "  0.54434663,\n",
       "  0.5409614,\n",
       "  0.5450237,\n",
       "  0.5436696,\n",
       "  0.5463778,\n",
       "  0.5470548,\n",
       "  0.5470548,\n",
       "  0.5436696,\n",
       "  0.5450237,\n",
       "  0.55585647,\n",
       "  0.5463778,\n",
       "  0.5463778,\n",
       "  0.56533515,\n",
       "  0.5930941,\n",
       "  0.5646581,\n",
       "  0.5809072,\n",
       "  0.5809072,\n",
       "  0.57075155,\n",
       "  0.58564657,\n",
       "  0.59106296,\n",
       "  0.56533515,\n",
       "  0.5815843,\n",
       "  0.5836154,\n",
       "  0.60054165,\n",
       "  0.61949897,\n",
       "  0.59512526,\n",
       "  0.60866624,\n",
       "  0.59512526,\n",
       "  0.6174678,\n",
       "  0.6140826,\n",
       "  0.59106296,\n",
       "  0.6066351,\n",
       "  0.6113744,\n",
       "  0.6039269,\n",
       "  0.620176,\n",
       "  0.5985105,\n",
       "  0.61814487,\n",
       "  0.6174678,\n",
       "  0.62762356,\n",
       "  0.62897766,\n",
       "  0.6242383,\n",
       "  0.620176,\n",
       "  0.62220716,\n",
       "  0.6113744,\n",
       "  0.5971564,\n",
       "  0.6269465,\n",
       "  0.6113744,\n",
       "  0.6154367,\n",
       "  0.620176,\n",
       "  0.6161137,\n",
       "  0.62626946,\n",
       "  0.5958023,\n",
       "  0.62220716,\n",
       "  0.6242383,\n",
       "  0.6283006,\n",
       "  0.61949897,\n",
       "  0.6106974,\n",
       "  0.6079892,\n",
       "  0.62762356,\n",
       "  0.6079892,\n",
       "  0.6296547,\n",
       "  0.6188219,\n",
       "  0.6242383,\n",
       "  0.62897766,\n",
       "  0.63439405,\n",
       "  0.61002034,\n",
       "  0.6350711,\n",
       "  0.6228842,\n",
       "  0.6174678,\n",
       "  0.63439405,\n",
       "  0.60866624,\n",
       "  0.60731214,\n",
       "  0.6323629,\n",
       "  0.63439405,\n",
       "  0.6106974,\n",
       "  0.62356126,\n",
       "  0.6296547,\n",
       "  0.6134055,\n",
       "  0.6154367,\n",
       "  0.620176,\n",
       "  0.633717,\n",
       "  0.6296547,\n",
       "  0.6174678,\n",
       "  0.6215301,\n",
       "  0.62762356,\n",
       "  0.620176,\n",
       "  0.62897766,\n",
       "  0.620176,\n",
       "  0.6215301,\n",
       "  0.62897766,\n",
       "  0.61949897,\n",
       "  0.6296547,\n",
       "  0.6174678,\n",
       "  0.61949897,\n",
       "  0.6188219,\n",
       "  0.6242383,\n",
       "  0.6242383,\n",
       "  0.63439405,\n",
       "  0.62356126,\n",
       "  0.6106974,\n",
       "  0.59647936,\n",
       "  0.6113744,\n",
       "  0.62220716,\n",
       "  0.62897766,\n",
       "  0.62220716,\n",
       "  0.60595804,\n",
       "  0.6147596,\n",
       "  0.62356126,\n",
       "  0.62491536,\n",
       "  0.62491536,\n",
       "  0.62626946,\n",
       "  0.62626946,\n",
       "  0.62491536,\n",
       "  0.6242383,\n",
       "  0.6120514,\n",
       "  0.6215301,\n",
       "  0.6296547,\n",
       "  0.6255924,\n",
       "  0.6215301,\n",
       "  0.6154367,\n",
       "  0.6323629,\n",
       "  0.63168585,\n",
       "  0.6228842,\n",
       "  0.62356126,\n",
       "  0.6364252,\n",
       "  0.61949897,\n",
       "  0.6283006,\n",
       "  0.6161137,\n",
       "  0.63033175,\n",
       "  0.6364252,\n",
       "  0.6167908,\n",
       "  0.62762356,\n",
       "  0.6154367,\n",
       "  0.6242383,\n",
       "  0.63033175,\n",
       "  0.6404875,\n",
       "  0.63168585,\n",
       "  0.63845634,\n",
       "  0.60866624,\n",
       "  0.62220716,\n",
       "  0.6391334,\n",
       "  0.63981044,\n",
       "  0.63439405,\n",
       "  0.63574815,\n",
       "  0.63303995,\n",
       "  0.6323629,\n",
       "  0.60866624,\n",
       "  0.6140826,\n",
       "  0.6391334,\n",
       "  0.6310088,\n",
       "  0.6127285,\n",
       "  0.63845634,\n",
       "  0.6228842,\n",
       "  0.6127285,\n",
       "  0.61814487,\n",
       "  0.62897766,\n",
       "  0.6174678,\n",
       "  0.6113744,\n",
       "  0.6431957,\n",
       "  0.62356126,\n",
       "  0.62626946,\n",
       "  0.59377116,\n",
       "  0.6167908,\n",
       "  0.6350711,\n",
       "  0.63845634,\n",
       "  0.6025728,\n",
       "  0.62085307,\n",
       "  0.62897766,\n",
       "  0.6391334,\n",
       "  0.6350711,\n",
       "  0.63574815,\n",
       "  0.6377793,\n",
       "  0.62762356,\n",
       "  0.64251864,\n",
       "  0.63439405,\n",
       "  0.63439405,\n",
       "  0.62220716,\n",
       "  0.61814487,\n",
       "  0.6404875,\n",
       "  0.6283006,\n",
       "  0.64522684,\n",
       "  0.6418416,\n",
       "  0.620176,\n",
       "  0.633717,\n",
       "  0.63710225,\n",
       "  0.6228842,\n",
       "  0.63033175,\n",
       "  0.6269465,\n",
       "  0.6242383,\n",
       "  0.60595804,\n",
       "  0.62220716,\n",
       "  0.63981044,\n",
       "  0.63303995,\n",
       "  0.62626946,\n",
       "  0.6310088,\n",
       "  0.63033175,\n",
       "  0.63168585,\n",
       "  0.6228842,\n",
       "  0.6283006]}"
      ]
     },
     "execution_count": 101,
     "metadata": {},
     "output_type": "execute_result"
    }
   ],
   "source": [
    "model.history.history"
   ]
  },
  {
   "cell_type": "code",
   "execution_count": 103,
   "metadata": {},
   "outputs": [],
   "source": [
    "losses = pd.DataFrame(model.history.history)"
   ]
  },
  {
   "cell_type": "code",
   "execution_count": 113,
   "metadata": {},
   "outputs": [
    {
     "data": {
      "text/plain": [
       "<matplotlib.axes._subplots.AxesSubplot at 0xa1aa32f548>"
      ]
     },
     "execution_count": 113,
     "metadata": {},
     "output_type": "execute_result"
    },
    {
     "data": {
      "text/plain": [
       "<Figure size 864x1080 with 0 Axes>"
      ]
     },
     "metadata": {},
     "output_type": "display_data"
    },
    {
     "data": {
      "image/png": "[encoded data removed]",
      "text/plain": [
       "<Figure size 864x504 with 1 Axes>"
      ]
     },
     "metadata": {},
     "output_type": "display_data"
    }
   ],
   "source": [
    "plt.style.use('seaborn')\n",
    "plt.figure(figsize=(12,15))\n",
    "losses.plot(kind = 'line' , figsize=(12,7))"
   ]
  },
  {
   "cell_type": "markdown",
   "metadata": {},
   "source": [
    "# Evaluation on Test data"
   ]
  },
  {
   "cell_type": "code",
   "execution_count": 114,
   "metadata": {},
   "outputs": [],
   "source": [
    "from sklearn.metrics import mean_absolute_error , mean_squared_error , r2_score , explained_variance_score"
   ]
  },
  {
   "cell_type": "code",
   "execution_count": 115,
   "metadata": {},
   "outputs": [],
   "source": [
    "y_preds = model.predict(X_valid)"
   ]
  },
  {
   "cell_type": "code",
   "execution_count": 116,
   "metadata": {},
   "outputs": [
    {
     "data": {
      "text/plain": [
       "0.41949333719399706"
      ]
     },
     "execution_count": 116,
     "metadata": {},
     "output_type": "execute_result"
    }
   ],
   "source": [
    "mean_absolute_error(y_valid , y_preds)"
   ]
  },
  {
   "cell_type": "code",
   "execution_count": 117,
   "metadata": {},
   "outputs": [
    {
     "data": {
      "text/plain": [
       "0.3146977096036329"
      ]
     },
     "execution_count": 117,
     "metadata": {},
     "output_type": "execute_result"
    }
   ],
   "source": [
    "mean_squared_error(y_valid  , y_preds)"
   ]
  },
  {
   "cell_type": "code",
   "execution_count": 118,
   "metadata": {},
   "outputs": [
    {
     "data": {
      "text/plain": [
       "0.31078047332196423"
      ]
     },
     "execution_count": 118,
     "metadata": {},
     "output_type": "execute_result"
    }
   ],
   "source": [
    "explained_variance_score(y_valid , y_preds)"
   ]
  },
  {
   "cell_type": "code",
   "execution_count": 119,
   "metadata": {},
   "outputs": [
    {
     "data": {
      "text/plain": [
       "0.560979241686921"
      ]
     },
     "execution_count": 119,
     "metadata": {},
     "output_type": "execute_result"
    }
   ],
   "source": [
    "np.sqrt(mean_squared_error(y_valid , y_preds))"
   ]
  },
  {
   "cell_type": "code",
   "execution_count": 125,
   "metadata": {},
   "outputs": [
    {
     "data": {
      "text/plain": [
       "[<matplotlib.lines.Line2D at 0xa1ae0cf148>]"
      ]
     },
     "execution_count": 125,
     "metadata": {},
     "output_type": "execute_result"
    },
    {
     "data": {
      "image/png": "[encoded data removed]",
      "text/plain": [
       "<Figure size 576x396 with 1 Axes>"
      ]
     },
     "metadata": {},
     "output_type": "display_data"
    }
   ],
   "source": [
    "# our prediction\n",
    "\n",
    "plt.scatter(y_valid , y_preds);\n",
    "\n",
    "plt.plot(y_valid , y_valid , 'r')"
   ]
  },
  {
   "cell_type": "code",
   "execution_count": 122,
   "metadata": {},
   "outputs": [
    {
     "data": {
      "text/plain": [
       "(1477,)"
      ]
     },
     "execution_count": 122,
     "metadata": {},
     "output_type": "execute_result"
    }
   ],
   "source": [
    "y_valid.shape"
   ]
  },
  {
   "cell_type": "code",
   "execution_count": 123,
   "metadata": {},
   "outputs": [],
   "source": [
    "errors = y_valid.values.reshape(1477 , 1) - y_preds"
   ]
  },
  {
   "cell_type": "code",
   "execution_count": 127,
   "metadata": {},
   "outputs": [
    {
     "data": {
      "text/plain": [
       "<matplotlib.axes._subplots.AxesSubplot at 0xa1ad78ff88>"
      ]
     },
     "execution_count": 127,
     "metadata": {},
     "output_type": "execute_result"
    },
    {
     "data": {
      "image/png": "[encoded data removed]",
      "text/plain": [
       "<Figure size 576x396 with 1 Axes>"
      ]
     },
     "metadata": {},
     "output_type": "display_data"
    }
   ],
   "source": [
    "sns.distplot(errors , bins = 30)"
   ]
  },
  {
   "cell_type": "markdown",
   "metadata": {},
   "source": [
    "# Training the model using LSTM ( Long Short Term Memory ) Neural network"
   ]
  },
  {
   "cell_type": "code",
   "execution_count": 248,
   "metadata": {},
   "outputs": [],
   "source": [
    "from tensorflow.keras.models import Sequential\n",
    "from tensorflow.keras.layers import Dense , LSTM ,Embedding\n",
    "from tensorflow.keras.optimizers import Adam\n",
    "\n",
    "#model = Sequential()\n",
    "\n",
    "#model.add(LSTM(22 , input_shape = (22 , 1)))\n",
    "#model.add(LSTM(22))\n",
    "#model.add(LSTM(22))\n",
    "#model.add(LSTM(22))\n",
    "\n",
    "#model.add(LSTM(1 , input_shape = ()))\n",
    "#model.add(Activation('softmax'))"
   ]
  },
  {
   "cell_type": "code",
   "execution_count": 255,
   "metadata": {},
   "outputs": [
    {
     "name": "stdout",
     "output_type": "stream",
     "text": [
      "Model: \"sequential_10\"\n",
      "_________________________________________________________________\n",
      "Layer (type)                 Output Shape              Param #   \n",
      "=================================================================\n",
      "embedding_10 (Embedding)     (None, None, 64)          64000     \n",
      "_________________________________________________________________\n",
      "lstm_11 (LSTM)               (None, 22)                7656      \n",
      "_________________________________________________________________\n",
      "dense_9 (Dense)              (None, 10)                230       \n",
      "=================================================================\n",
      "Total params: 71,886\n",
      "Trainable params: 71,886\n",
      "Non-trainable params: 0\n",
      "_________________________________________________________________\n"
     ]
    }
   ],
   "source": [
    "model = tf.keras.Sequential()\n",
    "# Add an Embedding layer expecting input vocab of size 1000, and\n",
    "# output embedding dimension of size 64.\n",
    "model.add(Embedding(input_dim=1000, output_dim=64))\n",
    "\n",
    "# Add a LSTM layer with 22 internal units.\n",
    "model.add(LSTM(22))\n",
    "\n",
    "# Add a Dense layer with 10 units.\n",
    "model.add(Dense(10))\n",
    "\n",
    "model.summary()"
   ]
  },
  {
   "cell_type": "code",
   "execution_count": 256,
   "metadata": {},
   "outputs": [],
   "source": [
    "model.compile(optimizer = 'adam' , loss = 'sparse_categorical_crossentropy' , metrics = ['categorical_accuracy'] )"
   ]
  },
  {
   "cell_type": "code",
   "execution_count": 257,
   "metadata": {},
   "outputs": [
    {
     "name": "stdout",
     "output_type": "stream",
     "text": [
      "Train on 5904 samples, validate on 1477 samples\n",
      "Epoch 1/50\n",
      "5904/5904 [==============================] - 5s 908us/sample - loss: 1.0582 - categorical_accuracy: 0.6531 - val_loss: 0.8575 - val_categorical_accuracy: 1.0000\n",
      "Epoch 2/50\n",
      "5904/5904 [==============================] - 1s 194us/sample - loss: 0.8461 - categorical_accuracy: 1.0000 - val_loss: 0.8460 - val_categorical_accuracy: 1.0000\n",
      "Epoch 3/50\n",
      "5904/5904 [==============================] - 1s 196us/sample - loss: 0.8364 - categorical_accuracy: 1.0000 - val_loss: 0.8340 - val_categorical_accuracy: 1.0000\n",
      "Epoch 4/50\n",
      "5904/5904 [==============================] - 1s 198us/sample - loss: 0.8293 - categorical_accuracy: 0.9992 - val_loss: 0.8652 - val_categorical_accuracy: 0.9926\n",
      "Epoch 5/50\n",
      "5904/5904 [==============================] - 1s 196us/sample - loss: 0.8409 - categorical_accuracy: 0.9985 - val_loss: 0.8535 - val_categorical_accuracy: 0.9885\n",
      "Epoch 6/50\n",
      "5904/5904 [==============================] - 1s 198us/sample - loss: 0.8429 - categorical_accuracy: 0.9954 - val_loss: 0.8778 - val_categorical_accuracy: 0.9905\n",
      "Epoch 7/50\n",
      "5904/5904 [==============================] - 1s 201us/sample - loss: 0.8415 - categorical_accuracy: 0.9920 - val_loss: 0.8565 - val_categorical_accuracy: 0.9763\n",
      "Epoch 8/50\n",
      "5904/5904 [==============================] - 1s 198us/sample - loss: 0.9406 - categorical_accuracy: 0.8669 - val_loss: 1.0307 - val_categorical_accuracy: 0.9370\n",
      "Epoch 9/50\n",
      "5904/5904 [==============================] - 1s 195us/sample - loss: 0.9361 - categorical_accuracy: 0.9963 - val_loss: 0.8648 - val_categorical_accuracy: 1.0000\n",
      "Epoch 10/50\n",
      "5904/5904 [==============================] - 1s 193us/sample - loss: 0.8464 - categorical_accuracy: 0.9998 - val_loss: 0.8411 - val_categorical_accuracy: 1.0000\n",
      "Epoch 11/50\n",
      "5904/5904 [==============================] - 1s 193us/sample - loss: 0.8347 - categorical_accuracy: 0.9998 - val_loss: 0.8359 - val_categorical_accuracy: 0.9993\n",
      "Epoch 12/50\n",
      "5904/5904 [==============================] - 1s 195us/sample - loss: 0.8289 - categorical_accuracy: 0.9992 - val_loss: 0.8278 - val_categorical_accuracy: 0.9926\n",
      "Epoch 13/50\n",
      "5904/5904 [==============================] - 1s 197us/sample - loss: 0.8207 - categorical_accuracy: 0.9966 - val_loss: 0.8179 - val_categorical_accuracy: 0.9885\n",
      "Epoch 14/50\n",
      "5904/5904 [==============================] - 1s 202us/sample - loss: 0.8107 - categorical_accuracy: 0.9887 - val_loss: 0.8079 - val_categorical_accuracy: 0.9770\n",
      "Epoch 15/50\n",
      "5904/5904 [==============================] - 1s 203us/sample - loss: 0.8053 - categorical_accuracy: 0.9792 - val_loss: 0.8016 - val_categorical_accuracy: 0.9729\n",
      "Epoch 16/50\n",
      "5904/5904 [==============================] - 1s 195us/sample - loss: 0.8023 - categorical_accuracy: 0.9736 - val_loss: 0.8008 - val_categorical_accuracy: 0.9560\n",
      "Epoch 17/50\n",
      "5904/5904 [==============================] - 1s 195us/sample - loss: 0.8046 - categorical_accuracy: 0.9717 - val_loss: 0.8006 - val_categorical_accuracy: 0.9763\n",
      "Epoch 18/50\n",
      "5904/5904 [==============================] - 1s 199us/sample - loss: 0.8010 - categorical_accuracy: 0.9785 - val_loss: 0.8002 - val_categorical_accuracy: 0.9553\n",
      "Epoch 19/50\n",
      "5904/5904 [==============================] - 1s 198us/sample - loss: 0.7995 - categorical_accuracy: 0.9759 - val_loss: 0.7987 - val_categorical_accuracy: 0.9560\n",
      "Epoch 20/50\n",
      "5904/5904 [==============================] - 1s 197us/sample - loss: 0.7983 - categorical_accuracy: 0.9778 - val_loss: 0.7969 - val_categorical_accuracy: 0.9770\n",
      "Epoch 21/50\n",
      "5904/5904 [==============================] - 1s 195us/sample - loss: 0.8042 - categorical_accuracy: 0.9802 - val_loss: 0.8000 - val_categorical_accuracy: 0.9770\n",
      "Epoch 22/50\n",
      "5904/5904 [==============================] - 1s 198us/sample - loss: 0.8014 - categorical_accuracy: 0.9783 - val_loss: 0.7965 - val_categorical_accuracy: 0.9770\n",
      "Epoch 23/50\n",
      "5904/5904 [==============================] - 1s 192us/sample - loss: 0.7976 - categorical_accuracy: 0.9809 - val_loss: 0.7988 - val_categorical_accuracy: 0.9560\n",
      "Epoch 24/50\n",
      "5904/5904 [==============================] - 1s 193us/sample - loss: 0.7977 - categorical_accuracy: 0.9810 - val_loss: 0.7951 - val_categorical_accuracy: 0.9763\n",
      "Epoch 25/50\n",
      "5904/5904 [==============================] - 1s 194us/sample - loss: 0.7968 - categorical_accuracy: 0.9815 - val_loss: 0.7950 - val_categorical_accuracy: 0.9756\n",
      "Epoch 26/50\n",
      "5904/5904 [==============================] - 1s 200us/sample - loss: 0.7968 - categorical_accuracy: 0.9829 - val_loss: 0.7946 - val_categorical_accuracy: 0.9770\n",
      "Epoch 27/50\n",
      "5904/5904 [==============================] - 1s 196us/sample - loss: 0.7953 - categorical_accuracy: 0.9836 - val_loss: 0.7948 - val_categorical_accuracy: 0.9770\n",
      "Epoch 28/50\n",
      "5904/5904 [==============================] - 1s 190us/sample - loss: 0.7967 - categorical_accuracy: 0.9837 - val_loss: 0.7941 - val_categorical_accuracy: 0.9790\n",
      "Epoch 29/50\n",
      "5904/5904 [==============================] - 1s 190us/sample - loss: 0.8509 - categorical_accuracy: 0.9831 - val_loss: 0.8612 - val_categorical_accuracy: 0.9756\n",
      "Epoch 30/50\n",
      "5904/5904 [==============================] - 1s 191us/sample - loss: 0.8286 - categorical_accuracy: 0.9822 - val_loss: 0.8629 - val_categorical_accuracy: 0.9810\n",
      "Epoch 31/50\n",
      "5904/5904 [==============================] - 1s 194us/sample - loss: 0.8698 - categorical_accuracy: 0.9861 - val_loss: 0.8834 - val_categorical_accuracy: 0.9919\n",
      "Epoch 32/50\n",
      "5904/5904 [==============================] - 1s 197us/sample - loss: 0.8312 - categorical_accuracy: 0.9981 - val_loss: 0.8099 - val_categorical_accuracy: 0.9926\n",
      "Epoch 33/50\n",
      "5904/5904 [==============================] - 1s 204us/sample - loss: 0.8007 - categorical_accuracy: 0.9931 - val_loss: 0.8118 - val_categorical_accuracy: 0.9810\n",
      "Epoch 34/50\n",
      "5904/5904 [==============================] - 1s 199us/sample - loss: 0.8296 - categorical_accuracy: 0.9851 - val_loss: 0.8061 - val_categorical_accuracy: 0.9810\n",
      "Epoch 35/50\n",
      "5904/5904 [==============================] - 1s 199us/sample - loss: 0.7979 - categorical_accuracy: 0.9880 - val_loss: 0.7942 - val_categorical_accuracy: 0.9810\n",
      "Epoch 36/50\n",
      "5904/5904 [==============================] - 1s 187us/sample - loss: 0.8626 - categorical_accuracy: 0.9871 - val_loss: 0.9131 - val_categorical_accuracy: 0.9851\n",
      "Epoch 37/50\n",
      "5904/5904 [==============================] - 1s 183us/sample - loss: 0.8745 - categorical_accuracy: 0.9992 - val_loss: 0.8330 - val_categorical_accuracy: 1.0000\n",
      "Epoch 38/50\n",
      "5904/5904 [==============================] - 1s 196us/sample - loss: 0.8209 - categorical_accuracy: 1.0000 - val_loss: 0.8135 - val_categorical_accuracy: 0.9932\n",
      "Epoch 39/50\n",
      "5904/5904 [==============================] - 1s 197us/sample - loss: 0.8055 - categorical_accuracy: 0.9956 - val_loss: 0.7993 - val_categorical_accuracy: 0.9858\n",
      "Epoch 40/50\n",
      "5904/5904 [==============================] - 1s 206us/sample - loss: 0.7967 - categorical_accuracy: 0.9907 - val_loss: 0.7947 - val_categorical_accuracy: 0.9810\n",
      "Epoch 41/50\n",
      "5904/5904 [==============================] - 1s 204us/sample - loss: 0.7950 - categorical_accuracy: 0.9880 - val_loss: 0.7932 - val_categorical_accuracy: 0.9810\n",
      "Epoch 42/50\n",
      "5904/5904 [==============================] - 1s 198us/sample - loss: 0.7962 - categorical_accuracy: 0.9881 - val_loss: 0.7940 - val_categorical_accuracy: 0.9824\n",
      "Epoch 43/50\n",
      "5904/5904 [==============================] - 1s 194us/sample - loss: 0.8460 - categorical_accuracy: 0.9897 - val_loss: 0.8648 - val_categorical_accuracy: 0.9810\n",
      "Epoch 44/50\n",
      "5904/5904 [==============================] - 1s 198us/sample - loss: 0.8473 - categorical_accuracy: 0.9900 - val_loss: 0.8208 - val_categorical_accuracy: 1.0000\n",
      "Epoch 45/50\n",
      "5904/5904 [==============================] - 1s 200us/sample - loss: 0.8072 - categorical_accuracy: 0.9981 - val_loss: 0.7991 - val_categorical_accuracy: 0.9932\n",
      "Epoch 46/50\n",
      "5904/5904 [==============================] - 1s 199us/sample - loss: 0.7956 - categorical_accuracy: 0.9934 - val_loss: 0.7961 - val_categorical_accuracy: 0.9865\n",
      "Epoch 47/50\n",
      "5904/5904 [==============================] - 1s 204us/sample - loss: 0.7944 - categorical_accuracy: 0.9920 - val_loss: 0.7931 - val_categorical_accuracy: 0.9851\n",
      "Epoch 48/50\n"
     ]
    },
    {
     "name": "stdout",
     "output_type": "stream",
     "text": [
      "5904/5904 [==============================] - 1s 192us/sample - loss: 0.7940 - categorical_accuracy: 0.9929 - val_loss: 0.7924 - val_categorical_accuracy: 0.9871\n",
      "Epoch 49/50\n",
      "5904/5904 [==============================] - 1s 196us/sample - loss: 0.7941 - categorical_accuracy: 0.9920 - val_loss: 0.7915 - val_categorical_accuracy: 0.9865\n",
      "Epoch 50/50\n",
      "5904/5904 [==============================] - 1s 200us/sample - loss: 0.7938 - categorical_accuracy: 0.9920 - val_loss: 0.7916 - val_categorical_accuracy: 0.9932\n"
     ]
    },
    {
     "data": {
      "text/plain": [
       "<tensorflow.python.keras.callbacks.History at 0x167cae24c8>"
      ]
     },
     "execution_count": 257,
     "metadata": {},
     "output_type": "execute_result"
    }
   ],
   "source": [
    "model.fit(x = X_train , y = y_train.values , validation_data = (X_valid , y_valid.values) , batch_size = 128 , epochs = 50)"
   ]
  },
  {
   "cell_type": "code",
   "execution_count": 258,
   "metadata": {},
   "outputs": [
    {
     "data": {
      "text/plain": [
       "{'loss': [1.0581517855972455,\n",
       "  0.8460866577903107,\n",
       "  0.8363941242378256,\n",
       "  0.8293195337784,\n",
       "  0.8408632462586814,\n",
       "  0.8429402802694781,\n",
       "  0.8415135796154095,\n",
       "  0.9406354046126368,\n",
       "  0.9360767567383887,\n",
       "  0.8464459268058219,\n",
       "  0.8347486606458339,\n",
       "  0.828861907245667,\n",
       "  0.8207245674236681,\n",
       "  0.8107022838540839,\n",
       "  0.8053381622322207,\n",
       "  0.802287608304321,\n",
       "  0.804611418466904,\n",
       "  0.8009831472464047,\n",
       "  0.7995049953460693,\n",
       "  0.7983438264386764,\n",
       "  0.8041813431716547,\n",
       "  0.8014480016095852,\n",
       "  0.7975578673163727,\n",
       "  0.7977393487604653,\n",
       "  0.7967855167905813,\n",
       "  0.7968010763488811,\n",
       "  0.7953437061167667,\n",
       "  0.7966771883370107,\n",
       "  0.8509334125492954,\n",
       "  0.8285803113203385,\n",
       "  0.8697750343862911,\n",
       "  0.8311526510450575,\n",
       "  0.8006750918662322,\n",
       "  0.8296168042715326,\n",
       "  0.7979146959335823,\n",
       "  0.8625512711077847,\n",
       "  0.8745328388239956,\n",
       "  0.8208602637779422,\n",
       "  0.805515245047365,\n",
       "  0.7966719629964855,\n",
       "  0.794970723025521,\n",
       "  0.7961833191111805,\n",
       "  0.8460272130604359,\n",
       "  0.8473256225508403,\n",
       "  0.8072188546664023,\n",
       "  0.7955906539751585,\n",
       "  0.794376055561107,\n",
       "  0.7940139789891437,\n",
       "  0.7940819851428189,\n",
       "  0.7938190764851041],\n",
       " 'categorical_accuracy': [0.6531165,\n",
       "  1.0,\n",
       "  1.0,\n",
       "  0.99915314,\n",
       "  0.9984756,\n",
       "  0.99542683,\n",
       "  0.9920393,\n",
       "  0.8668699,\n",
       "  0.9962737,\n",
       "  0.9998306,\n",
       "  0.9998306,\n",
       "  0.99915314,\n",
       "  0.9966125,\n",
       "  0.98865175,\n",
       "  0.9791667,\n",
       "  0.97357726,\n",
       "  0.9717141,\n",
       "  0.97848916,\n",
       "  0.9759485,\n",
       "  0.97781163,\n",
       "  0.98018295,\n",
       "  0.97831976,\n",
       "  0.9808604,\n",
       "  0.9810298,\n",
       "  0.98153794,\n",
       "  0.98289293,\n",
       "  0.98357046,\n",
       "  0.98373985,\n",
       "  0.9830623,\n",
       "  0.98221546,\n",
       "  0.9861111,\n",
       "  0.9981369,\n",
       "  0.9930556,\n",
       "  0.98509485,\n",
       "  0.9879742,\n",
       "  0.98712736,\n",
       "  0.99915314,\n",
       "  1.0,\n",
       "  0.99559623,\n",
       "  0.9906843,\n",
       "  0.9879742,\n",
       "  0.9881436,\n",
       "  0.989668,\n",
       "  0.9900068,\n",
       "  0.9981369,\n",
       "  0.9933943,\n",
       "  0.9920393,\n",
       "  0.9928862,\n",
       "  0.9920393,\n",
       "  0.9920393],\n",
       " 'val_loss': [0.8574570331447579,\n",
       "  0.8460340581395454,\n",
       "  0.8339959805126358,\n",
       "  0.8652316075204269,\n",
       "  0.8534614715369553,\n",
       "  0.877804888569994,\n",
       "  0.8565195489752995,\n",
       "  1.03068365506732,\n",
       "  0.8648231703038949,\n",
       "  0.8410730303826974,\n",
       "  0.8359231439569792,\n",
       "  0.8277746689182403,\n",
       "  0.8178740180902733,\n",
       "  0.8078952700848021,\n",
       "  0.8016361594603686,\n",
       "  0.8008225288597732,\n",
       "  0.8005977868226709,\n",
       "  0.8001803415565775,\n",
       "  0.7987112674910068,\n",
       "  0.7969405987654978,\n",
       "  0.8000121718737913,\n",
       "  0.7964887229187229,\n",
       "  0.7987740189946819,\n",
       "  0.7951399984598644,\n",
       "  0.7949560483565747,\n",
       "  0.7945767935256984,\n",
       "  0.7947914043066868,\n",
       "  0.7940925082485661,\n",
       "  0.861179888692351,\n",
       "  0.8629073322666765,\n",
       "  0.8833698868428684,\n",
       "  0.809878771984666,\n",
       "  0.811776065067738,\n",
       "  0.8061406665261565,\n",
       "  0.7941799246950091,\n",
       "  0.9130555125774366,\n",
       "  0.8330119006441667,\n",
       "  0.813454036585124,\n",
       "  0.7992523140655471,\n",
       "  0.7947386180781478,\n",
       "  0.7931791822815071,\n",
       "  0.7940469339802689,\n",
       "  0.8648447733354795,\n",
       "  0.8208233960674031,\n",
       "  0.7990595217322528,\n",
       "  0.7960904915347322,\n",
       "  0.7930678091665821,\n",
       "  0.792407679695008,\n",
       "  0.7914764962651557,\n",
       "  0.7916428155001548],\n",
       " 'val_categorical_accuracy': [1.0,\n",
       "  1.0,\n",
       "  1.0,\n",
       "  0.99255246,\n",
       "  0.98849016,\n",
       "  0.9905213,\n",
       "  0.97630334,\n",
       "  0.93703455,\n",
       "  1.0,\n",
       "  1.0,\n",
       "  0.99932295,\n",
       "  0.99255246,\n",
       "  0.98849016,\n",
       "  0.9769804,\n",
       "  0.9729181,\n",
       "  0.95599186,\n",
       "  0.97630334,\n",
       "  0.9553148,\n",
       "  0.95599186,\n",
       "  0.9769804,\n",
       "  0.9769804,\n",
       "  0.9769804,\n",
       "  0.95599186,\n",
       "  0.97630334,\n",
       "  0.9756263,\n",
       "  0.9769804,\n",
       "  0.9769804,\n",
       "  0.97901154,\n",
       "  0.9756263,\n",
       "  0.9810427,\n",
       "  0.9918754,\n",
       "  0.99255246,\n",
       "  0.9810427,\n",
       "  0.9810427,\n",
       "  0.9810427,\n",
       "  0.9851049,\n",
       "  1.0,\n",
       "  0.9932295,\n",
       "  0.98578197,\n",
       "  0.9810427,\n",
       "  0.9810427,\n",
       "  0.9823967,\n",
       "  0.9810427,\n",
       "  1.0,\n",
       "  0.9932295,\n",
       "  0.986459,\n",
       "  0.9851049,\n",
       "  0.98713607,\n",
       "  0.986459,\n",
       "  0.9932295]}"
      ]
     },
     "execution_count": 258,
     "metadata": {},
     "output_type": "execute_result"
    }
   ],
   "source": [
    "model.history.history"
   ]
  },
  {
   "cell_type": "code",
   "execution_count": 259,
   "metadata": {},
   "outputs": [],
   "source": [
    "losses_ls = pd.DataFrame(model.history.history)\n"
   ]
  },
  {
   "cell_type": "code",
   "execution_count": 262,
   "metadata": {},
   "outputs": [
    {
     "data": {
      "text/plain": [
       "<matplotlib.axes._subplots.AxesSubplot at 0x16012deac8>"
      ]
     },
     "execution_count": 262,
     "metadata": {},
     "output_type": "execute_result"
    },
    {
     "data": {
      "image/png": "[encoded data removed]",
      "text/plain": [
       "<Figure size 864x504 with 1 Axes>"
      ]
     },
     "metadata": {},
     "output_type": "display_data"
    }
   ],
   "source": [
    "plt.style.use('seaborn')\n",
    "#plt.figure(figsize=(12,15))\n",
    "losses_ls.plot(kind = 'line' , figsize=(12,7))"
   ]
  },
  {
   "cell_type": "markdown",
   "metadata": {},
   "source": [
    "* The curve above shows that at initial epochs there was a fluctuation in val_loss , loss and categorical_accuracy then there is a perfect categorical accuracy with respect to epochs\n",
    "\n",
    "* After increasing the number of epochs there will be no change in the categorical_accuracy or val_loss or we can say the model gets overfitted thats why we use 50 epochs for training. "
   ]
  },
  {
   "cell_type": "markdown",
   "metadata": {},
   "source": [
    "# Thank You"
   ]
  }
 ],
 "metadata": {
  "kernelspec": {
   "display_name": "Python 3",
   "language": "python",
   "name": "python3"
  },
  "language_info": {
   "codemirror_mode": {
    "name": "ipython",
    "version": 3
   },
   "file_extension": ".py",
   "mimetype": "text/x-python",
   "name": "python",
   "nbconvert_exporter": "python",
   "pygments_lexer": "ipython3",
   "version": "3.7.6"
  }
 },
 "nbformat": 4,
 "nbformat_minor": 4
}
